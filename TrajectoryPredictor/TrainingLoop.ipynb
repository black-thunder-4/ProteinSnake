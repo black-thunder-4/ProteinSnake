{
 "cells": [
  {
   "cell_type": "code",
   "execution_count": 24,
   "id": "165ace2f-b481-4e59-934c-34e144688659",
   "metadata": {},
   "outputs": [
    {
     "name": "stdout",
     "output_type": "stream",
     "text": [
      "Using device cuda:0, device_ids=[0]\n",
      "The autoreload extension is already loaded. To reload it, use:\n",
      "  %reload_ext autoreload\n"
     ]
    }
   ],
   "source": [
    "from ProteinTrajectoryDataset import *\n",
    "import numpy as np\n",
    "import torch\n",
    "import torch.optim as optim\n",
    "from torch.nn.utils.rnn import pad_sequence\n",
    "import tqdm\n",
    "import optuna\n",
    "from Models import *\n",
    "\n",
    "device_ids = [0]\n",
    "device = torch.device('cuda:0' if torch.cuda.is_available() else 'cpu')\n",
    "\n",
    "print(f\"Using device {device}, device_ids={device_ids}\")\n",
    "\n",
    "%load_ext autoreload\n",
    "%autoreload 2\n",
    "\n",
    "MAX_PROTEIN_LENGTH = 50\n",
    "\n",
    "train_dataset = ProteinTrajectoryDataset('trajectories', n_steps=1)\n",
    "val_dataset = ProteinTrajectoryDataset('val_trajectories', n_steps=1)\n",
    "\n",
    "overfitting_set = torch.utils.data.Subset(train_dataset, list(range(1000)))\n",
    "dataloader = DataLoader(train_dataset, batch_size=256, shuffle=True, collate_fn=collate_fn)\n",
    "\n",
    "def collate_fn(batch):\n",
    "    coords = [item['coords'] for item in batch]\n",
    "    residues = [item['residues'] for item in batch]\n",
    "    deltas = [item['delta'] for item in batch]\n",
    "    lengths = torch.tensor([c.shape[0] for c in coords])\n",
    "    # Pad sequences to the maximum length in the batch (batch_first=True gives shape [batch, max_length, features])\n",
    "    coords = pad_sequence(coords, batch_first=True)\n",
    "    residues = pad_sequence(residues, batch_first=True)\n",
    "    deltas = pad_sequence(deltas, batch_first=True)\n",
    "    return coords, residues, deltas, lengths\n",
    "\n",
    "def masked_mse_loss(pred, target, lengths):\n",
    "    batch_size, max_length, _ = pred.shape\n",
    "    # Create a mask with shape (batch_size, max_length) where each element is True if it is a valid timestep.\n",
    "    mask = torch.arange(max_length, device=pred.device).expand(batch_size, max_length) < lengths.unsqueeze(1)\n",
    "    # Expand mask to match the last dimension (3) of our tensors.\n",
    "    mask = mask.unsqueeze(2).float()  # shape becomes (batch_size, max_length, 1)\n",
    "    \n",
    "    # Compute squared differences\n",
    "    mse = (pred - target) ** 2\n",
    "    # Zero-out padded elements using the mask and compute average loss only over valid elements.\n",
    "    loss = (mse * mask).sum() / mask.sum()\n",
    "    return loss\n",
    "\n",
    "def train_model(model, dataloader, optimizer, num_epochs=10):\n",
    "    \n",
    "    for epoch in range(num_epochs):\n",
    "        model.train()\n",
    "        running_loss = 0.0\n",
    "        total_samples = 0\n",
    "        \n",
    "        pbar = tqdm(dataloader, desc=f\"Epoch {epoch+1}/{num_epochs}\")\n",
    "        for coords, residues, deltas, lengths in pbar:\n",
    "            \n",
    "            # Move data to device\n",
    "            coords = coords.to(device)\n",
    "            residues = residues.to(device)\n",
    "            deltas = deltas.to(device)\n",
    "            lengths = lengths.to(device)\n",
    "            \n",
    "            optimizer.zero_grad()\n",
    "            \n",
    "            # Forward pass: predict deltas using currents.\n",
    "            pred_deltas = model(coords, residues, lengths)\n",
    "            \n",
    "            # Compute the masked MSE loss.\n",
    "            loss = masked_mse_loss(pred_deltas, deltas, lengths)\n",
    "            \n",
    "            # Backward pass and optimization.\n",
    "            loss.backward()\n",
    "            optimizer.step()\n",
    "            \n",
    "            # Update running loss.\n",
    "            batch_size = coords.size(0)\n",
    "            running_loss += loss.item() * batch_size\n",
    "            total_samples += batch_size\n",
    "            \n",
    "            avg_loss = running_loss / total_samples\n",
    "            pbar.set_postfix(avg_loss=avg_loss, current_loss=loss.item())\n",
    "        \n",
    "        # Print epoch loss summary.\n",
    "        epoch_loss = running_loss / total_samples\n",
    "        print(f\"Epoch {epoch+1}/{num_epochs} - Average Loss: {epoch_loss:.5f}\")\n",
    "\n",
    "def eval_model(model, dataloader):\n",
    "    \n",
    "    model.eval()\n",
    "    running_loss = 0.0\n",
    "    total_samples = 0\n",
    "    \n",
    "    pbar = tqdm(dataloader, desc=f\"Evaluating\")\n",
    "    for coords, residues, deltas, lengths in pbar:\n",
    "        \n",
    "        # Move data to device\n",
    "        coords = coords.to(device)\n",
    "        residues = residues.to(device)\n",
    "        deltas = deltas.to(device)\n",
    "        lengths = lengths.to(device)\n",
    "        \n",
    "        # Forward pass: predict deltas using currents.\n",
    "        pred_deltas = model(coords, residues, lengths)\n",
    "        \n",
    "        # Compute the masked MSE loss.\n",
    "        loss = masked_mse_loss(pred_deltas, deltas, lengths)\n",
    "        \n",
    "        # Update running loss.\n",
    "        batch_size = coords.size(0)\n",
    "        running_loss += loss.item() * batch_size\n",
    "        total_samples += batch_size\n",
    "        \n",
    "        avg_loss = running_loss / total_samples\n",
    "        pbar.set_postfix(avg_loss=avg_loss, current_loss=loss.item())\n",
    "    \n",
    "    # Print epoch loss summary.\n",
    "    epoch_loss = running_loss / total_samples\n",
    "    print(f\"Evaluating - Average Loss: {epoch_loss:.5f}\")\n",
    "\n",
    "def cnn_objective(trial):\n",
    "    # Sample hyperparameters\n",
    "    lr = trial.suggest_float('lr', 1e-5, 1e-2, log=True)\n",
    "    weight_decay = trial.suggest_float('weight_decay', 1e-6, 1e-2, log=True)\n",
    "    optimizer_name = trial.suggest_categorical('optimizer', ['Adam', 'SGD'])\n",
    "    batch_size = trial.suggest_categorical('batch_size', [16, 32, 64, 128, 256, 512, 1024])\n",
    "\n",
    "    # Prepare data\n",
    "    train_loader = DataLoader(train_dataset, batch_size=batch_size, shuffle=True, collate_fn=collate_fn)\n",
    "    val_loader = DataLoader(val_dataset, batch_size=batch_size, shuffle=True, collate_fn=collate_fn)\n",
    "\n",
    "    # Build model\n",
    "    model = CNN_Model(\n",
    "        channels_1=trial.suggest_categorical('channels_1', [4, 8, 16, 32, 64, 128]),\n",
    "        channels_2=trial.suggest_categorical('channels_2', [4, 8, 16, 32, 64, 128]),\n",
    "        kernel_size_1=trial.suggest_categorical('kernel_size_1', [1, 3, 5, 7]),\n",
    "        kernel_size_2=trial.suggest_categorical('kernel_size_2', [1, 3, 5, 7]),\n",
    "        kernel_size_3=trial.suggest_categorical('kernel_size_3', [1, 3, 5, 7]),\n",
    "    )\n",
    "    \n",
    "    # Wrap with DataParallel if multiple GPUs are specified\n",
    "    if len(device_ids) > 1:\n",
    "        model = torch.nn.DataParallel(model, device_ids=device_ids)\n",
    "    model = model.to(device)\n",
    "\n",
    "    # Choose optimizer\n",
    "    params = model.parameters()\n",
    "    if optimizer_name == 'Adam':\n",
    "        optimizer = torch.optim.Adam(params, lr=lr, weight_decay=weight_decay)\n",
    "    else:\n",
    "        optimizer = torch.optim.SGD(params, lr=lr, weight_decay=weight_decay, momentum=0.9)\n",
    "\n",
    "    coordinate_factor = trial.suggest_float('coordinate_factor', 0.1, 10, log=True)\n",
    "\n",
    "    # Training loop\n",
    "    max_epochs = 100  # Set a reasonable upper limit to avoid infinite loops\n",
    "    epoch = 0\n",
    "    while epoch < max_epochs:\n",
    "        model.train()\n",
    "        for coords, residues, deltas, lengths in tqdm.tqdm(train_loader):\n",
    "            coords = coords.to(device) * coordinate_factor\n",
    "            residues = residues.to(device)\n",
    "            deltas = deltas.to(device) * coordinate_factor\n",
    "            lengths = lengths.to(device)\n",
    "\n",
    "            optimizer.zero_grad()\n",
    "            pred_deltas = model(coords, residues, lengths)\n",
    "            loss = masked_mse_loss(pred_deltas, deltas, lengths)\n",
    "            loss.backward()\n",
    "            optimizer.step()\n",
    "\n",
    "        # Intermediate evaluation\n",
    "        running_loss = 0\n",
    "        total_samples = 0\n",
    "        model.eval()\n",
    "        for coords, residues, deltas, lengths in tqdm.tqdm(val_loader):\n",
    "            coords = coords.to(device) * coordinate_factor\n",
    "            residues = residues.to(device)\n",
    "            deltas = deltas.to(device) * coordinate_factor\n",
    "            lengths = lengths.to(device)\n",
    "\n",
    "            pred_deltas = model(coords, residues, lengths)\n",
    "            loss = masked_mse_loss(pred_deltas, deltas, lengths)\n",
    "\n",
    "            batch_size = coords.size(0)\n",
    "            running_loss += loss.item() * batch_size\n",
    "            total_samples += batch_size\n",
    "        \n",
    "        val_loss = running_loss / total_samples / (coordinate_factor ** 2)\n",
    "        trial.report(val_loss, epoch)\n",
    "\n",
    "        # Optuna pruning\n",
    "        if trial.should_prune():\n",
    "            raise optuna.TrialPruned()\n",
    "\n",
    "        epoch += 1\n",
    "\n",
    "    return val_loss"
   ]
  },
  {
   "cell_type": "code",
   "execution_count": 74,
   "id": "283a3346-80d2-4f44-aabe-5793ade7a99e",
   "metadata": {},
   "outputs": [],
   "source": [
    "from Models import *\n",
    "\n",
    "#model = CNN_Model().to(device)\n",
    "model = EGNN_Model(MAX_PROTEIN_LENGTH, depth=1, emb_dim=8).to(device)\n",
    "\n",
    "optimizer = optim.Adam(model.parameters(), lr=0.01)"
   ]
  },
  {
   "cell_type": "code",
   "execution_count": 75,
   "id": "ca593214-81e8-480a-a9ac-c350db5c7984",
   "metadata": {},
   "outputs": [
    {
     "name": "stderr",
     "output_type": "stream",
     "text": [
      "Epoch 1/1000: 100%|████████████████████████████████████| 4/4 [00:00<00:00,  4.05it/s, avg_loss=1.68, current_loss=1.29]\n"
     ]
    },
    {
     "name": "stdout",
     "output_type": "stream",
     "text": [
      "Epoch 1/1000 - Average Loss: 1.67787\n"
     ]
    },
    {
     "name": "stderr",
     "output_type": "stream",
     "text": [
      "Epoch 2/1000: 100%|██████████████████████████████████| 4/4 [00:00<00:00,  4.36it/s, avg_loss=0.894, current_loss=0.691]\n"
     ]
    },
    {
     "name": "stdout",
     "output_type": "stream",
     "text": [
      "Epoch 2/1000 - Average Loss: 0.89425\n"
     ]
    },
    {
     "name": "stderr",
     "output_type": "stream",
     "text": [
      "Epoch 3/1000: 100%|███████████████████████████████████| 4/4 [00:00<00:00,  4.26it/s, avg_loss=0.536, current_loss=0.47]\n"
     ]
    },
    {
     "name": "stdout",
     "output_type": "stream",
     "text": [
      "Epoch 3/1000 - Average Loss: 0.53614\n"
     ]
    },
    {
     "name": "stderr",
     "output_type": "stream",
     "text": [
      "Epoch 4/1000: 100%|██████████████████████████████████| 4/4 [00:00<00:00,  4.39it/s, avg_loss=0.406, current_loss=0.366]\n"
     ]
    },
    {
     "name": "stdout",
     "output_type": "stream",
     "text": [
      "Epoch 4/1000 - Average Loss: 0.40555\n"
     ]
    },
    {
     "name": "stderr",
     "output_type": "stream",
     "text": [
      "Epoch 5/1000: 100%|███████████████████████████████████| 4/4 [00:00<00:00,  4.56it/s, avg_loss=0.35, current_loss=0.354]\n"
     ]
    },
    {
     "name": "stdout",
     "output_type": "stream",
     "text": [
      "Epoch 5/1000 - Average Loss: 0.34960\n"
     ]
    },
    {
     "name": "stderr",
     "output_type": "stream",
     "text": [
      "Epoch 6/1000: 100%|██████████████████████████████████| 4/4 [00:00<00:00,  4.13it/s, avg_loss=0.317, current_loss=0.298]\n"
     ]
    },
    {
     "name": "stdout",
     "output_type": "stream",
     "text": [
      "Epoch 6/1000 - Average Loss: 0.31713\n"
     ]
    },
    {
     "name": "stderr",
     "output_type": "stream",
     "text": [
      "Epoch 7/1000: 100%|██████████████████████████████████| 4/4 [00:00<00:00,  4.58it/s, avg_loss=0.289, current_loss=0.295]\n"
     ]
    },
    {
     "name": "stdout",
     "output_type": "stream",
     "text": [
      "Epoch 7/1000 - Average Loss: 0.28880\n"
     ]
    },
    {
     "name": "stderr",
     "output_type": "stream",
     "text": [
      "Epoch 8/1000: 100%|██████████████████████████████████| 4/4 [00:00<00:00,  4.16it/s, avg_loss=0.272, current_loss=0.284]\n"
     ]
    },
    {
     "name": "stdout",
     "output_type": "stream",
     "text": [
      "Epoch 8/1000 - Average Loss: 0.27213\n"
     ]
    },
    {
     "name": "stderr",
     "output_type": "stream",
     "text": [
      "Epoch 9/1000: 100%|██████████████████████████████████| 4/4 [00:00<00:00,  4.40it/s, avg_loss=0.265, current_loss=0.261]\n"
     ]
    },
    {
     "name": "stdout",
     "output_type": "stream",
     "text": [
      "Epoch 9/1000 - Average Loss: 0.26476\n"
     ]
    },
    {
     "name": "stderr",
     "output_type": "stream",
     "text": [
      "Epoch 10/1000: 100%|██████████████████████████████████| 4/4 [00:00<00:00,  4.45it/s, avg_loss=0.26, current_loss=0.269]\n"
     ]
    },
    {
     "name": "stdout",
     "output_type": "stream",
     "text": [
      "Epoch 10/1000 - Average Loss: 0.26021\n"
     ]
    },
    {
     "name": "stderr",
     "output_type": "stream",
     "text": [
      "Epoch 11/1000: 100%|█████████████████████████████████| 4/4 [00:00<00:00,  4.04it/s, avg_loss=0.256, current_loss=0.247]\n"
     ]
    },
    {
     "name": "stdout",
     "output_type": "stream",
     "text": [
      "Epoch 11/1000 - Average Loss: 0.25617\n"
     ]
    },
    {
     "name": "stderr",
     "output_type": "stream",
     "text": [
      "Epoch 12/1000: 100%|█████████████████████████████████| 4/4 [00:00<00:00,  4.09it/s, avg_loss=0.253, current_loss=0.246]\n"
     ]
    },
    {
     "name": "stdout",
     "output_type": "stream",
     "text": [
      "Epoch 12/1000 - Average Loss: 0.25320\n"
     ]
    },
    {
     "name": "stderr",
     "output_type": "stream",
     "text": [
      "Epoch 13/1000: 100%|█████████████████████████████████| 4/4 [00:00<00:00,  4.39it/s, avg_loss=0.251, current_loss=0.237]\n"
     ]
    },
    {
     "name": "stdout",
     "output_type": "stream",
     "text": [
      "Epoch 13/1000 - Average Loss: 0.25070\n"
     ]
    },
    {
     "name": "stderr",
     "output_type": "stream",
     "text": [
      "Epoch 14/1000: 100%|█████████████████████████████████| 4/4 [00:00<00:00,  4.48it/s, avg_loss=0.249, current_loss=0.254]\n"
     ]
    },
    {
     "name": "stdout",
     "output_type": "stream",
     "text": [
      "Epoch 14/1000 - Average Loss: 0.24928\n"
     ]
    },
    {
     "name": "stderr",
     "output_type": "stream",
     "text": [
      "Epoch 15/1000: 100%|█████████████████████████████████| 4/4 [00:00<00:00,  4.36it/s, avg_loss=0.249, current_loss=0.242]\n"
     ]
    },
    {
     "name": "stdout",
     "output_type": "stream",
     "text": [
      "Epoch 15/1000 - Average Loss: 0.24866\n"
     ]
    },
    {
     "name": "stderr",
     "output_type": "stream",
     "text": [
      "Epoch 16/1000: 100%|██████████████████████████████████| 4/4 [00:00<00:00,  4.59it/s, avg_loss=0.248, current_loss=0.23]\n"
     ]
    },
    {
     "name": "stdout",
     "output_type": "stream",
     "text": [
      "Epoch 16/1000 - Average Loss: 0.24801\n"
     ]
    },
    {
     "name": "stderr",
     "output_type": "stream",
     "text": [
      "Epoch 17/1000: 100%|██████████████████████████████████| 4/4 [00:00<00:00,  4.53it/s, avg_loss=0.248, current_loss=0.26]\n"
     ]
    },
    {
     "name": "stdout",
     "output_type": "stream",
     "text": [
      "Epoch 17/1000 - Average Loss: 0.24755\n"
     ]
    },
    {
     "name": "stderr",
     "output_type": "stream",
     "text": [
      "Epoch 18/1000: 100%|█████████████████████████████████| 4/4 [00:00<00:00,  4.51it/s, avg_loss=0.247, current_loss=0.272]\n"
     ]
    },
    {
     "name": "stdout",
     "output_type": "stream",
     "text": [
      "Epoch 18/1000 - Average Loss: 0.24725\n"
     ]
    },
    {
     "name": "stderr",
     "output_type": "stream",
     "text": [
      "Epoch 19/1000: 100%|█████████████████████████████████| 4/4 [00:00<00:00,  4.29it/s, avg_loss=0.247, current_loss=0.245]\n"
     ]
    },
    {
     "name": "stdout",
     "output_type": "stream",
     "text": [
      "Epoch 19/1000 - Average Loss: 0.24708\n"
     ]
    },
    {
     "name": "stderr",
     "output_type": "stream",
     "text": [
      "Epoch 20/1000: 100%|█████████████████████████████████| 4/4 [00:00<00:00,  4.25it/s, avg_loss=0.247, current_loss=0.275]\n"
     ]
    },
    {
     "name": "stdout",
     "output_type": "stream",
     "text": [
      "Epoch 20/1000 - Average Loss: 0.24699\n"
     ]
    },
    {
     "name": "stderr",
     "output_type": "stream",
     "text": [
      "Epoch 21/1000: 100%|█████████████████████████████████| 4/4 [00:00<00:00,  4.12it/s, avg_loss=0.247, current_loss=0.255]\n"
     ]
    },
    {
     "name": "stdout",
     "output_type": "stream",
     "text": [
      "Epoch 21/1000 - Average Loss: 0.24680\n"
     ]
    },
    {
     "name": "stderr",
     "output_type": "stream",
     "text": [
      "Epoch 22/1000: 100%|█████████████████████████████████| 4/4 [00:00<00:00,  4.22it/s, avg_loss=0.247, current_loss=0.253]\n"
     ]
    },
    {
     "name": "stdout",
     "output_type": "stream",
     "text": [
      "Epoch 22/1000 - Average Loss: 0.24670\n"
     ]
    },
    {
     "name": "stderr",
     "output_type": "stream",
     "text": [
      "Epoch 23/1000: 100%|█████████████████████████████████| 4/4 [00:01<00:00,  3.78it/s, avg_loss=0.247, current_loss=0.251]\n"
     ]
    },
    {
     "name": "stdout",
     "output_type": "stream",
     "text": [
      "Epoch 23/1000 - Average Loss: 0.24668\n"
     ]
    },
    {
     "name": "stderr",
     "output_type": "stream",
     "text": [
      "Epoch 24/1000: 100%|█████████████████████████████████| 4/4 [00:00<00:00,  4.30it/s, avg_loss=0.247, current_loss=0.244]\n"
     ]
    },
    {
     "name": "stdout",
     "output_type": "stream",
     "text": [
      "Epoch 24/1000 - Average Loss: 0.24671\n"
     ]
    },
    {
     "name": "stderr",
     "output_type": "stream",
     "text": [
      "Epoch 25/1000: 100%|██████████████████████████████████| 4/4 [00:00<00:00,  4.52it/s, avg_loss=0.247, current_loss=0.23]\n"
     ]
    },
    {
     "name": "stdout",
     "output_type": "stream",
     "text": [
      "Epoch 25/1000 - Average Loss: 0.24673\n"
     ]
    },
    {
     "name": "stderr",
     "output_type": "stream",
     "text": [
      "Epoch 26/1000: 100%|█████████████████████████████████| 4/4 [00:00<00:00,  4.69it/s, avg_loss=0.247, current_loss=0.254]\n"
     ]
    },
    {
     "name": "stdout",
     "output_type": "stream",
     "text": [
      "Epoch 26/1000 - Average Loss: 0.24677\n"
     ]
    },
    {
     "name": "stderr",
     "output_type": "stream",
     "text": [
      "Epoch 27/1000: 100%|█████████████████████████████████| 4/4 [00:00<00:00,  4.59it/s, avg_loss=0.247, current_loss=0.233]\n"
     ]
    },
    {
     "name": "stdout",
     "output_type": "stream",
     "text": [
      "Epoch 27/1000 - Average Loss: 0.24680\n"
     ]
    },
    {
     "name": "stderr",
     "output_type": "stream",
     "text": [
      "Epoch 28/1000: 100%|██████████████████████████████████| 4/4 [00:00<00:00,  4.61it/s, avg_loss=0.247, current_loss=0.25]\n"
     ]
    },
    {
     "name": "stdout",
     "output_type": "stream",
     "text": [
      "Epoch 28/1000 - Average Loss: 0.24671\n"
     ]
    },
    {
     "name": "stderr",
     "output_type": "stream",
     "text": [
      "Epoch 29/1000: 100%|█████████████████████████████████| 4/4 [00:00<00:00,  4.69it/s, avg_loss=0.247, current_loss=0.233]\n"
     ]
    },
    {
     "name": "stdout",
     "output_type": "stream",
     "text": [
      "Epoch 29/1000 - Average Loss: 0.24663\n"
     ]
    },
    {
     "name": "stderr",
     "output_type": "stream",
     "text": [
      "Epoch 30/1000: 100%|█████████████████████████████████| 4/4 [00:00<00:00,  4.73it/s, avg_loss=0.247, current_loss=0.237]\n"
     ]
    },
    {
     "name": "stdout",
     "output_type": "stream",
     "text": [
      "Epoch 30/1000 - Average Loss: 0.24652\n"
     ]
    },
    {
     "name": "stderr",
     "output_type": "stream",
     "text": [
      "Epoch 31/1000: 100%|█████████████████████████████████| 4/4 [00:00<00:00,  4.67it/s, avg_loss=0.247, current_loss=0.253]\n"
     ]
    },
    {
     "name": "stdout",
     "output_type": "stream",
     "text": [
      "Epoch 31/1000 - Average Loss: 0.24667\n"
     ]
    },
    {
     "name": "stderr",
     "output_type": "stream",
     "text": [
      "Epoch 32/1000: 100%|█████████████████████████████████| 4/4 [00:00<00:00,  4.12it/s, avg_loss=0.247, current_loss=0.255]\n"
     ]
    },
    {
     "name": "stdout",
     "output_type": "stream",
     "text": [
      "Epoch 32/1000 - Average Loss: 0.24656\n"
     ]
    },
    {
     "name": "stderr",
     "output_type": "stream",
     "text": [
      "Epoch 33/1000: 100%|█████████████████████████████████| 4/4 [00:00<00:00,  4.36it/s, avg_loss=0.246, current_loss=0.251]\n"
     ]
    },
    {
     "name": "stdout",
     "output_type": "stream",
     "text": [
      "Epoch 33/1000 - Average Loss: 0.24650\n"
     ]
    },
    {
     "name": "stderr",
     "output_type": "stream",
     "text": [
      "Epoch 34/1000: 100%|█████████████████████████████████| 4/4 [00:00<00:00,  4.66it/s, avg_loss=0.247, current_loss=0.241]\n"
     ]
    },
    {
     "name": "stdout",
     "output_type": "stream",
     "text": [
      "Epoch 34/1000 - Average Loss: 0.24652\n"
     ]
    },
    {
     "name": "stderr",
     "output_type": "stream",
     "text": [
      "Epoch 35/1000: 100%|█████████████████████████████████| 4/4 [00:00<00:00,  4.24it/s, avg_loss=0.247, current_loss=0.238]\n"
     ]
    },
    {
     "name": "stdout",
     "output_type": "stream",
     "text": [
      "Epoch 35/1000 - Average Loss: 0.24667\n"
     ]
    },
    {
     "name": "stderr",
     "output_type": "stream",
     "text": [
      "Epoch 36/1000: 100%|█████████████████████████████████| 4/4 [00:00<00:00,  4.94it/s, avg_loss=0.247, current_loss=0.254]\n"
     ]
    },
    {
     "name": "stdout",
     "output_type": "stream",
     "text": [
      "Epoch 36/1000 - Average Loss: 0.24664\n"
     ]
    },
    {
     "name": "stderr",
     "output_type": "stream",
     "text": [
      "Epoch 37/1000: 100%|█████████████████████████████████| 4/4 [00:00<00:00,  4.36it/s, avg_loss=0.246, current_loss=0.234]\n"
     ]
    },
    {
     "name": "stdout",
     "output_type": "stream",
     "text": [
      "Epoch 37/1000 - Average Loss: 0.24645\n"
     ]
    },
    {
     "name": "stderr",
     "output_type": "stream",
     "text": [
      "Epoch 38/1000: 100%|█████████████████████████████████| 4/4 [00:00<00:00,  4.80it/s, avg_loss=0.246, current_loss=0.251]\n"
     ]
    },
    {
     "name": "stdout",
     "output_type": "stream",
     "text": [
      "Epoch 38/1000 - Average Loss: 0.24638\n"
     ]
    },
    {
     "name": "stderr",
     "output_type": "stream",
     "text": [
      "Epoch 39/1000: 100%|█████████████████████████████████| 4/4 [00:00<00:00,  4.52it/s, avg_loss=0.246, current_loss=0.255]\n"
     ]
    },
    {
     "name": "stdout",
     "output_type": "stream",
     "text": [
      "Epoch 39/1000 - Average Loss: 0.24644\n"
     ]
    },
    {
     "name": "stderr",
     "output_type": "stream",
     "text": [
      "Epoch 40/1000: 100%|█████████████████████████████████| 4/4 [00:00<00:00,  4.66it/s, avg_loss=0.246, current_loss=0.229]\n"
     ]
    },
    {
     "name": "stdout",
     "output_type": "stream",
     "text": [
      "Epoch 40/1000 - Average Loss: 0.24639\n"
     ]
    },
    {
     "name": "stderr",
     "output_type": "stream",
     "text": [
      "Epoch 41/1000: 100%|██████████████████████████████████| 4/4 [00:00<00:00,  4.63it/s, avg_loss=0.247, current_loss=0.25]\n"
     ]
    },
    {
     "name": "stdout",
     "output_type": "stream",
     "text": [
      "Epoch 41/1000 - Average Loss: 0.24654\n"
     ]
    },
    {
     "name": "stderr",
     "output_type": "stream",
     "text": [
      "Epoch 42/1000: 100%|█████████████████████████████████| 4/4 [00:00<00:00,  4.40it/s, avg_loss=0.246, current_loss=0.264]\n"
     ]
    },
    {
     "name": "stdout",
     "output_type": "stream",
     "text": [
      "Epoch 42/1000 - Average Loss: 0.24644\n"
     ]
    },
    {
     "name": "stderr",
     "output_type": "stream",
     "text": [
      "Epoch 43/1000: 100%|█████████████████████████████████| 4/4 [00:00<00:00,  4.66it/s, avg_loss=0.246, current_loss=0.259]\n"
     ]
    },
    {
     "name": "stdout",
     "output_type": "stream",
     "text": [
      "Epoch 43/1000 - Average Loss: 0.24645\n"
     ]
    },
    {
     "name": "stderr",
     "output_type": "stream",
     "text": [
      "Epoch 44/1000: 100%|█████████████████████████████████| 4/4 [00:00<00:00,  4.30it/s, avg_loss=0.246, current_loss=0.241]\n"
     ]
    },
    {
     "name": "stdout",
     "output_type": "stream",
     "text": [
      "Epoch 44/1000 - Average Loss: 0.24639\n"
     ]
    },
    {
     "name": "stderr",
     "output_type": "stream",
     "text": [
      "Epoch 45/1000: 100%|█████████████████████████████████| 4/4 [00:01<00:00,  3.94it/s, avg_loss=0.246, current_loss=0.244]\n"
     ]
    },
    {
     "name": "stdout",
     "output_type": "stream",
     "text": [
      "Epoch 45/1000 - Average Loss: 0.24630\n"
     ]
    },
    {
     "name": "stderr",
     "output_type": "stream",
     "text": [
      "Epoch 46/1000: 100%|█████████████████████████████████| 4/4 [00:00<00:00,  4.32it/s, avg_loss=0.246, current_loss=0.228]\n"
     ]
    },
    {
     "name": "stdout",
     "output_type": "stream",
     "text": [
      "Epoch 46/1000 - Average Loss: 0.24629\n"
     ]
    },
    {
     "name": "stderr",
     "output_type": "stream",
     "text": [
      "Epoch 47/1000: 100%|█████████████████████████████████| 4/4 [00:00<00:00,  4.41it/s, avg_loss=0.246, current_loss=0.258]\n"
     ]
    },
    {
     "name": "stdout",
     "output_type": "stream",
     "text": [
      "Epoch 47/1000 - Average Loss: 0.24635\n"
     ]
    },
    {
     "name": "stderr",
     "output_type": "stream",
     "text": [
      "Epoch 48/1000: 100%|█████████████████████████████████| 4/4 [00:00<00:00,  4.70it/s, avg_loss=0.246, current_loss=0.252]\n"
     ]
    },
    {
     "name": "stdout",
     "output_type": "stream",
     "text": [
      "Epoch 48/1000 - Average Loss: 0.24631\n"
     ]
    },
    {
     "name": "stderr",
     "output_type": "stream",
     "text": [
      "Epoch 49/1000: 100%|█████████████████████████████████| 4/4 [00:00<00:00,  4.39it/s, avg_loss=0.246, current_loss=0.238]\n"
     ]
    },
    {
     "name": "stdout",
     "output_type": "stream",
     "text": [
      "Epoch 49/1000 - Average Loss: 0.24633\n"
     ]
    },
    {
     "name": "stderr",
     "output_type": "stream",
     "text": [
      "Epoch 50/1000: 100%|█████████████████████████████████| 4/4 [00:00<00:00,  4.61it/s, avg_loss=0.246, current_loss=0.241]\n"
     ]
    },
    {
     "name": "stdout",
     "output_type": "stream",
     "text": [
      "Epoch 50/1000 - Average Loss: 0.24637\n"
     ]
    },
    {
     "name": "stderr",
     "output_type": "stream",
     "text": [
      "Epoch 51/1000: 100%|█████████████████████████████████| 4/4 [00:00<00:00,  4.10it/s, avg_loss=0.246, current_loss=0.241]\n"
     ]
    },
    {
     "name": "stdout",
     "output_type": "stream",
     "text": [
      "Epoch 51/1000 - Average Loss: 0.24627\n"
     ]
    },
    {
     "name": "stderr",
     "output_type": "stream",
     "text": [
      "Epoch 52/1000: 100%|█████████████████████████████████| 4/4 [00:00<00:00,  4.54it/s, avg_loss=0.246, current_loss=0.261]\n"
     ]
    },
    {
     "name": "stdout",
     "output_type": "stream",
     "text": [
      "Epoch 52/1000 - Average Loss: 0.24622\n"
     ]
    },
    {
     "name": "stderr",
     "output_type": "stream",
     "text": [
      "Epoch 53/1000: 100%|█████████████████████████████████| 4/4 [00:00<00:00,  4.47it/s, avg_loss=0.246, current_loss=0.257]\n"
     ]
    },
    {
     "name": "stdout",
     "output_type": "stream",
     "text": [
      "Epoch 53/1000 - Average Loss: 0.24614\n"
     ]
    },
    {
     "name": "stderr",
     "output_type": "stream",
     "text": [
      "Epoch 54/1000: 100%|█████████████████████████████████| 4/4 [00:00<00:00,  4.35it/s, avg_loss=0.246, current_loss=0.259]\n"
     ]
    },
    {
     "name": "stdout",
     "output_type": "stream",
     "text": [
      "Epoch 54/1000 - Average Loss: 0.24619\n"
     ]
    },
    {
     "name": "stderr",
     "output_type": "stream",
     "text": [
      "Epoch 55/1000: 100%|██████████████████████████████████| 4/4 [00:00<00:00,  4.35it/s, avg_loss=0.246, current_loss=0.24]\n"
     ]
    },
    {
     "name": "stdout",
     "output_type": "stream",
     "text": [
      "Epoch 55/1000 - Average Loss: 0.24624\n"
     ]
    },
    {
     "name": "stderr",
     "output_type": "stream",
     "text": [
      "Epoch 56/1000: 100%|█████████████████████████████████| 4/4 [00:00<00:00,  4.58it/s, avg_loss=0.246, current_loss=0.244]\n"
     ]
    },
    {
     "name": "stdout",
     "output_type": "stream",
     "text": [
      "Epoch 56/1000 - Average Loss: 0.24628\n"
     ]
    },
    {
     "name": "stderr",
     "output_type": "stream",
     "text": [
      "Epoch 57/1000: 100%|█████████████████████████████████| 4/4 [00:00<00:00,  4.15it/s, avg_loss=0.246, current_loss=0.241]\n"
     ]
    },
    {
     "name": "stdout",
     "output_type": "stream",
     "text": [
      "Epoch 57/1000 - Average Loss: 0.24633\n"
     ]
    },
    {
     "name": "stderr",
     "output_type": "stream",
     "text": [
      "Epoch 58/1000: 100%|█████████████████████████████████| 4/4 [00:01<00:00,  3.94it/s, avg_loss=0.246, current_loss=0.259]\n"
     ]
    },
    {
     "name": "stdout",
     "output_type": "stream",
     "text": [
      "Epoch 58/1000 - Average Loss: 0.24616\n"
     ]
    },
    {
     "name": "stderr",
     "output_type": "stream",
     "text": [
      "Epoch 59/1000: 100%|█████████████████████████████████| 4/4 [00:00<00:00,  4.32it/s, avg_loss=0.246, current_loss=0.255]\n"
     ]
    },
    {
     "name": "stdout",
     "output_type": "stream",
     "text": [
      "Epoch 59/1000 - Average Loss: 0.24609\n"
     ]
    },
    {
     "name": "stderr",
     "output_type": "stream",
     "text": [
      "Epoch 60/1000: 100%|█████████████████████████████████| 4/4 [00:00<00:00,  4.25it/s, avg_loss=0.246, current_loss=0.256]\n"
     ]
    },
    {
     "name": "stdout",
     "output_type": "stream",
     "text": [
      "Epoch 60/1000 - Average Loss: 0.24608\n"
     ]
    },
    {
     "name": "stderr",
     "output_type": "stream",
     "text": [
      "Epoch 61/1000: 100%|█████████████████████████████████| 4/4 [00:00<00:00,  4.70it/s, avg_loss=0.246, current_loss=0.242]\n"
     ]
    },
    {
     "name": "stdout",
     "output_type": "stream",
     "text": [
      "Epoch 61/1000 - Average Loss: 0.24602\n"
     ]
    },
    {
     "name": "stderr",
     "output_type": "stream",
     "text": [
      "Epoch 62/1000: 100%|█████████████████████████████████| 4/4 [00:00<00:00,  4.28it/s, avg_loss=0.246, current_loss=0.241]\n"
     ]
    },
    {
     "name": "stdout",
     "output_type": "stream",
     "text": [
      "Epoch 62/1000 - Average Loss: 0.24600\n"
     ]
    },
    {
     "name": "stderr",
     "output_type": "stream",
     "text": [
      "Epoch 63/1000: 100%|█████████████████████████████████| 4/4 [00:00<00:00,  4.34it/s, avg_loss=0.246, current_loss=0.253]\n"
     ]
    },
    {
     "name": "stdout",
     "output_type": "stream",
     "text": [
      "Epoch 63/1000 - Average Loss: 0.24637\n"
     ]
    },
    {
     "name": "stderr",
     "output_type": "stream",
     "text": [
      "Epoch 64/1000: 100%|█████████████████████████████████| 4/4 [00:00<00:00,  4.56it/s, avg_loss=0.247, current_loss=0.263]\n"
     ]
    },
    {
     "name": "stdout",
     "output_type": "stream",
     "text": [
      "Epoch 64/1000 - Average Loss: 0.24658\n"
     ]
    },
    {
     "name": "stderr",
     "output_type": "stream",
     "text": [
      "Epoch 65/1000: 100%|█████████████████████████████████| 4/4 [00:00<00:00,  4.75it/s, avg_loss=0.246, current_loss=0.246]\n"
     ]
    },
    {
     "name": "stdout",
     "output_type": "stream",
     "text": [
      "Epoch 65/1000 - Average Loss: 0.24637\n"
     ]
    },
    {
     "name": "stderr",
     "output_type": "stream",
     "text": [
      "Epoch 66/1000: 100%|██████████████████████████████████| 4/4 [00:00<00:00,  4.54it/s, avg_loss=0.246, current_loss=0.24]\n"
     ]
    },
    {
     "name": "stdout",
     "output_type": "stream",
     "text": [
      "Epoch 66/1000 - Average Loss: 0.24599\n"
     ]
    },
    {
     "name": "stderr",
     "output_type": "stream",
     "text": [
      "Epoch 67/1000: 100%|█████████████████████████████████| 4/4 [00:00<00:00,  4.64it/s, avg_loss=0.246, current_loss=0.245]\n"
     ]
    },
    {
     "name": "stdout",
     "output_type": "stream",
     "text": [
      "Epoch 67/1000 - Average Loss: 0.24603\n"
     ]
    },
    {
     "name": "stderr",
     "output_type": "stream",
     "text": [
      "Epoch 68/1000: 100%|█████████████████████████████████| 4/4 [00:00<00:00,  4.21it/s, avg_loss=0.246, current_loss=0.234]\n"
     ]
    },
    {
     "name": "stdout",
     "output_type": "stream",
     "text": [
      "Epoch 68/1000 - Average Loss: 0.24609\n"
     ]
    },
    {
     "name": "stderr",
     "output_type": "stream",
     "text": [
      "Epoch 69/1000: 100%|█████████████████████████████████| 4/4 [00:00<00:00,  4.31it/s, avg_loss=0.246, current_loss=0.269]\n"
     ]
    },
    {
     "name": "stdout",
     "output_type": "stream",
     "text": [
      "Epoch 69/1000 - Average Loss: 0.24591\n"
     ]
    },
    {
     "name": "stderr",
     "output_type": "stream",
     "text": [
      "Epoch 70/1000: 100%|█████████████████████████████████| 4/4 [00:00<00:00,  4.16it/s, avg_loss=0.246, current_loss=0.259]\n"
     ]
    },
    {
     "name": "stdout",
     "output_type": "stream",
     "text": [
      "Epoch 70/1000 - Average Loss: 0.24595\n"
     ]
    },
    {
     "name": "stderr",
     "output_type": "stream",
     "text": [
      "Epoch 71/1000: 100%|█████████████████████████████████| 4/4 [00:00<00:00,  4.14it/s, avg_loss=0.246, current_loss=0.245]\n"
     ]
    },
    {
     "name": "stdout",
     "output_type": "stream",
     "text": [
      "Epoch 71/1000 - Average Loss: 0.24595\n"
     ]
    },
    {
     "name": "stderr",
     "output_type": "stream",
     "text": [
      "Epoch 72/1000: 100%|█████████████████████████████████| 4/4 [00:00<00:00,  4.37it/s, avg_loss=0.246, current_loss=0.239]\n"
     ]
    },
    {
     "name": "stdout",
     "output_type": "stream",
     "text": [
      "Epoch 72/1000 - Average Loss: 0.24603\n"
     ]
    },
    {
     "name": "stderr",
     "output_type": "stream",
     "text": [
      "Epoch 73/1000: 100%|█████████████████████████████████| 4/4 [00:00<00:00,  4.80it/s, avg_loss=0.246, current_loss=0.255]\n"
     ]
    },
    {
     "name": "stdout",
     "output_type": "stream",
     "text": [
      "Epoch 73/1000 - Average Loss: 0.24591\n"
     ]
    },
    {
     "name": "stderr",
     "output_type": "stream",
     "text": [
      "Epoch 74/1000: 100%|█████████████████████████████████| 4/4 [00:00<00:00,  4.48it/s, avg_loss=0.246, current_loss=0.249]\n"
     ]
    },
    {
     "name": "stdout",
     "output_type": "stream",
     "text": [
      "Epoch 74/1000 - Average Loss: 0.24606\n"
     ]
    },
    {
     "name": "stderr",
     "output_type": "stream",
     "text": [
      "Epoch 75/1000: 100%|█████████████████████████████████| 4/4 [00:00<00:00,  4.65it/s, avg_loss=0.246, current_loss=0.243]\n"
     ]
    },
    {
     "name": "stdout",
     "output_type": "stream",
     "text": [
      "Epoch 75/1000 - Average Loss: 0.24597\n"
     ]
    },
    {
     "name": "stderr",
     "output_type": "stream",
     "text": [
      "Epoch 76/1000: 100%|█████████████████████████████████| 4/4 [00:00<00:00,  4.36it/s, avg_loss=0.246, current_loss=0.243]\n"
     ]
    },
    {
     "name": "stdout",
     "output_type": "stream",
     "text": [
      "Epoch 76/1000 - Average Loss: 0.24590\n"
     ]
    },
    {
     "name": "stderr",
     "output_type": "stream",
     "text": [
      "Epoch 77/1000: 100%|█████████████████████████████████| 4/4 [00:00<00:00,  4.21it/s, avg_loss=0.246, current_loss=0.252]\n"
     ]
    },
    {
     "name": "stdout",
     "output_type": "stream",
     "text": [
      "Epoch 77/1000 - Average Loss: 0.24582\n"
     ]
    },
    {
     "name": "stderr",
     "output_type": "stream",
     "text": [
      "Epoch 78/1000: 100%|█████████████████████████████████| 4/4 [00:01<00:00,  3.96it/s, avg_loss=0.246, current_loss=0.253]\n"
     ]
    },
    {
     "name": "stdout",
     "output_type": "stream",
     "text": [
      "Epoch 78/1000 - Average Loss: 0.24623\n"
     ]
    },
    {
     "name": "stderr",
     "output_type": "stream",
     "text": [
      "Epoch 79/1000: 100%|█████████████████████████████████| 4/4 [00:00<00:00,  4.60it/s, avg_loss=0.246, current_loss=0.257]\n"
     ]
    },
    {
     "name": "stdout",
     "output_type": "stream",
     "text": [
      "Epoch 79/1000 - Average Loss: 0.24643\n"
     ]
    },
    {
     "name": "stderr",
     "output_type": "stream",
     "text": [
      "Epoch 80/1000: 100%|█████████████████████████████████| 4/4 [00:00<00:00,  4.57it/s, avg_loss=0.246, current_loss=0.265]\n"
     ]
    },
    {
     "name": "stdout",
     "output_type": "stream",
     "text": [
      "Epoch 80/1000 - Average Loss: 0.24608\n"
     ]
    },
    {
     "name": "stderr",
     "output_type": "stream",
     "text": [
      "Epoch 81/1000: 100%|█████████████████████████████████| 4/4 [00:00<00:00,  4.19it/s, avg_loss=0.246, current_loss=0.239]\n"
     ]
    },
    {
     "name": "stdout",
     "output_type": "stream",
     "text": [
      "Epoch 81/1000 - Average Loss: 0.24604\n"
     ]
    },
    {
     "name": "stderr",
     "output_type": "stream",
     "text": [
      "Epoch 82/1000: 100%|█████████████████████████████████| 4/4 [00:00<00:00,  4.19it/s, avg_loss=0.246, current_loss=0.249]\n"
     ]
    },
    {
     "name": "stdout",
     "output_type": "stream",
     "text": [
      "Epoch 82/1000 - Average Loss: 0.24585\n"
     ]
    },
    {
     "name": "stderr",
     "output_type": "stream",
     "text": [
      "Epoch 83/1000: 100%|██████████████████████████████████| 4/4 [00:00<00:00,  4.41it/s, avg_loss=0.246, current_loss=0.24]\n"
     ]
    },
    {
     "name": "stdout",
     "output_type": "stream",
     "text": [
      "Epoch 83/1000 - Average Loss: 0.24579\n"
     ]
    },
    {
     "name": "stderr",
     "output_type": "stream",
     "text": [
      "Epoch 84/1000: 100%|█████████████████████████████████| 4/4 [00:00<00:00,  4.70it/s, avg_loss=0.246, current_loss=0.254]\n"
     ]
    },
    {
     "name": "stdout",
     "output_type": "stream",
     "text": [
      "Epoch 84/1000 - Average Loss: 0.24577\n"
     ]
    },
    {
     "name": "stderr",
     "output_type": "stream",
     "text": [
      "Epoch 85/1000: 100%|█████████████████████████████████| 4/4 [00:01<00:00,  3.73it/s, avg_loss=0.246, current_loss=0.253]\n"
     ]
    },
    {
     "name": "stdout",
     "output_type": "stream",
     "text": [
      "Epoch 85/1000 - Average Loss: 0.24584\n"
     ]
    },
    {
     "name": "stderr",
     "output_type": "stream",
     "text": [
      "Epoch 86/1000: 100%|█████████████████████████████████| 4/4 [00:00<00:00,  4.71it/s, avg_loss=0.246, current_loss=0.259]\n"
     ]
    },
    {
     "name": "stdout",
     "output_type": "stream",
     "text": [
      "Epoch 86/1000 - Average Loss: 0.24560\n"
     ]
    },
    {
     "name": "stderr",
     "output_type": "stream",
     "text": [
      "Epoch 87/1000: 100%|█████████████████████████████████| 4/4 [00:00<00:00,  4.67it/s, avg_loss=0.246, current_loss=0.254]\n"
     ]
    },
    {
     "name": "stdout",
     "output_type": "stream",
     "text": [
      "Epoch 87/1000 - Average Loss: 0.24568\n"
     ]
    },
    {
     "name": "stderr",
     "output_type": "stream",
     "text": [
      "Epoch 88/1000: 100%|█████████████████████████████████| 4/4 [00:00<00:00,  4.26it/s, avg_loss=0.246, current_loss=0.243]\n"
     ]
    },
    {
     "name": "stdout",
     "output_type": "stream",
     "text": [
      "Epoch 88/1000 - Average Loss: 0.24550\n"
     ]
    },
    {
     "name": "stderr",
     "output_type": "stream",
     "text": [
      "Epoch 89/1000: 100%|██████████████████████████████████| 4/4 [00:01<00:00,  3.49it/s, avg_loss=0.246, current_loss=0.25]\n"
     ]
    },
    {
     "name": "stdout",
     "output_type": "stream",
     "text": [
      "Epoch 89/1000 - Average Loss: 0.24552\n"
     ]
    },
    {
     "name": "stderr",
     "output_type": "stream",
     "text": [
      "Epoch 90/1000: 100%|█████████████████████████████████| 4/4 [00:01<00:00,  3.79it/s, avg_loss=0.245, current_loss=0.238]\n"
     ]
    },
    {
     "name": "stdout",
     "output_type": "stream",
     "text": [
      "Epoch 90/1000 - Average Loss: 0.24549\n"
     ]
    },
    {
     "name": "stderr",
     "output_type": "stream",
     "text": [
      "Epoch 91/1000: 100%|█████████████████████████████████| 4/4 [00:00<00:00,  4.30it/s, avg_loss=0.246, current_loss=0.262]\n"
     ]
    },
    {
     "name": "stdout",
     "output_type": "stream",
     "text": [
      "Epoch 91/1000 - Average Loss: 0.24575\n"
     ]
    },
    {
     "name": "stderr",
     "output_type": "stream",
     "text": [
      "Epoch 92/1000: 100%|█████████████████████████████████| 4/4 [00:00<00:00,  4.49it/s, avg_loss=0.246, current_loss=0.222]\n"
     ]
    },
    {
     "name": "stdout",
     "output_type": "stream",
     "text": [
      "Epoch 92/1000 - Average Loss: 0.24562\n"
     ]
    },
    {
     "name": "stderr",
     "output_type": "stream",
     "text": [
      "Epoch 93/1000: 100%|█████████████████████████████████| 4/4 [00:01<00:00,  3.97it/s, avg_loss=0.246, current_loss=0.233]\n"
     ]
    },
    {
     "name": "stdout",
     "output_type": "stream",
     "text": [
      "Epoch 93/1000 - Average Loss: 0.24555\n"
     ]
    },
    {
     "name": "stderr",
     "output_type": "stream",
     "text": [
      "Epoch 94/1000: 100%|██████████████████████████████████| 4/4 [00:00<00:00,  4.65it/s, avg_loss=0.245, current_loss=0.25]\n"
     ]
    },
    {
     "name": "stdout",
     "output_type": "stream",
     "text": [
      "Epoch 94/1000 - Average Loss: 0.24540\n"
     ]
    },
    {
     "name": "stderr",
     "output_type": "stream",
     "text": [
      "Epoch 95/1000: 100%|██████████████████████████████████| 4/4 [00:00<00:00,  4.46it/s, avg_loss=0.245, current_loss=0.25]\n"
     ]
    },
    {
     "name": "stdout",
     "output_type": "stream",
     "text": [
      "Epoch 95/1000 - Average Loss: 0.24545\n"
     ]
    },
    {
     "name": "stderr",
     "output_type": "stream",
     "text": [
      "Epoch 96/1000: 100%|█████████████████████████████████| 4/4 [00:00<00:00,  4.60it/s, avg_loss=0.245, current_loss=0.254]\n"
     ]
    },
    {
     "name": "stdout",
     "output_type": "stream",
     "text": [
      "Epoch 96/1000 - Average Loss: 0.24550\n"
     ]
    },
    {
     "name": "stderr",
     "output_type": "stream",
     "text": [
      "Epoch 97/1000: 100%|█████████████████████████████████| 4/4 [00:00<00:00,  4.44it/s, avg_loss=0.245, current_loss=0.228]\n"
     ]
    },
    {
     "name": "stdout",
     "output_type": "stream",
     "text": [
      "Epoch 97/1000 - Average Loss: 0.24510\n"
     ]
    },
    {
     "name": "stderr",
     "output_type": "stream",
     "text": [
      "Epoch 98/1000: 100%|█████████████████████████████████| 4/4 [00:00<00:00,  4.48it/s, avg_loss=0.245, current_loss=0.257]\n"
     ]
    },
    {
     "name": "stdout",
     "output_type": "stream",
     "text": [
      "Epoch 98/1000 - Average Loss: 0.24503\n"
     ]
    },
    {
     "name": "stderr",
     "output_type": "stream",
     "text": [
      "Epoch 99/1000: 100%|█████████████████████████████████| 4/4 [00:00<00:00,  4.21it/s, avg_loss=0.245, current_loss=0.242]\n"
     ]
    },
    {
     "name": "stdout",
     "output_type": "stream",
     "text": [
      "Epoch 99/1000 - Average Loss: 0.24500\n"
     ]
    },
    {
     "name": "stderr",
     "output_type": "stream",
     "text": [
      "Epoch 100/1000: 100%|████████████████████████████████| 4/4 [00:00<00:00,  4.37it/s, avg_loss=0.245, current_loss=0.246]\n"
     ]
    },
    {
     "name": "stdout",
     "output_type": "stream",
     "text": [
      "Epoch 100/1000 - Average Loss: 0.24511\n"
     ]
    },
    {
     "name": "stderr",
     "output_type": "stream",
     "text": [
      "Epoch 101/1000: 100%|████████████████████████████████| 4/4 [00:00<00:00,  4.48it/s, avg_loss=0.245, current_loss=0.228]\n"
     ]
    },
    {
     "name": "stdout",
     "output_type": "stream",
     "text": [
      "Epoch 101/1000 - Average Loss: 0.24508\n"
     ]
    },
    {
     "name": "stderr",
     "output_type": "stream",
     "text": [
      "Epoch 102/1000: 100%|████████████████████████████████| 4/4 [00:00<00:00,  4.36it/s, avg_loss=0.245, current_loss=0.239]\n"
     ]
    },
    {
     "name": "stdout",
     "output_type": "stream",
     "text": [
      "Epoch 102/1000 - Average Loss: 0.24527\n"
     ]
    },
    {
     "name": "stderr",
     "output_type": "stream",
     "text": [
      "Epoch 103/1000: 100%|████████████████████████████████| 4/4 [00:00<00:00,  4.14it/s, avg_loss=0.245, current_loss=0.243]\n"
     ]
    },
    {
     "name": "stdout",
     "output_type": "stream",
     "text": [
      "Epoch 103/1000 - Average Loss: 0.24528\n"
     ]
    },
    {
     "name": "stderr",
     "output_type": "stream",
     "text": [
      "Epoch 104/1000: 100%|████████████████████████████████| 4/4 [00:00<00:00,  4.36it/s, avg_loss=0.245, current_loss=0.255]\n"
     ]
    },
    {
     "name": "stdout",
     "output_type": "stream",
     "text": [
      "Epoch 104/1000 - Average Loss: 0.24522\n"
     ]
    },
    {
     "name": "stderr",
     "output_type": "stream",
     "text": [
      "Epoch 105/1000: 100%|█████████████████████████████████| 4/4 [00:00<00:00,  4.80it/s, avg_loss=0.245, current_loss=0.25]\n"
     ]
    },
    {
     "name": "stdout",
     "output_type": "stream",
     "text": [
      "Epoch 105/1000 - Average Loss: 0.24522\n"
     ]
    },
    {
     "name": "stderr",
     "output_type": "stream",
     "text": [
      "Epoch 106/1000: 100%|████████████████████████████████| 4/4 [00:00<00:00,  4.61it/s, avg_loss=0.245, current_loss=0.248]\n"
     ]
    },
    {
     "name": "stdout",
     "output_type": "stream",
     "text": [
      "Epoch 106/1000 - Average Loss: 0.24510\n"
     ]
    },
    {
     "name": "stderr",
     "output_type": "stream",
     "text": [
      "Epoch 107/1000: 100%|████████████████████████████████| 4/4 [00:00<00:00,  4.60it/s, avg_loss=0.245, current_loss=0.241]\n"
     ]
    },
    {
     "name": "stdout",
     "output_type": "stream",
     "text": [
      "Epoch 107/1000 - Average Loss: 0.24485\n"
     ]
    },
    {
     "name": "stderr",
     "output_type": "stream",
     "text": [
      "Epoch 108/1000: 100%|████████████████████████████████| 4/4 [00:00<00:00,  4.40it/s, avg_loss=0.245, current_loss=0.254]\n"
     ]
    },
    {
     "name": "stdout",
     "output_type": "stream",
     "text": [
      "Epoch 108/1000 - Average Loss: 0.24480\n"
     ]
    },
    {
     "name": "stderr",
     "output_type": "stream",
     "text": [
      "Epoch 109/1000: 100%|████████████████████████████████| 4/4 [00:00<00:00,  4.52it/s, avg_loss=0.245, current_loss=0.238]\n"
     ]
    },
    {
     "name": "stdout",
     "output_type": "stream",
     "text": [
      "Epoch 109/1000 - Average Loss: 0.24493\n"
     ]
    },
    {
     "name": "stderr",
     "output_type": "stream",
     "text": [
      "Epoch 110/1000: 100%|████████████████████████████████| 4/4 [00:00<00:00,  4.72it/s, avg_loss=0.245, current_loss=0.229]\n"
     ]
    },
    {
     "name": "stdout",
     "output_type": "stream",
     "text": [
      "Epoch 110/1000 - Average Loss: 0.24461\n"
     ]
    },
    {
     "name": "stderr",
     "output_type": "stream",
     "text": [
      "Epoch 111/1000: 100%|████████████████████████████████| 4/4 [00:00<00:00,  4.60it/s, avg_loss=0.245, current_loss=0.235]\n"
     ]
    },
    {
     "name": "stdout",
     "output_type": "stream",
     "text": [
      "Epoch 111/1000 - Average Loss: 0.24467\n"
     ]
    },
    {
     "name": "stderr",
     "output_type": "stream",
     "text": [
      "Epoch 112/1000: 100%|████████████████████████████████| 4/4 [00:00<00:00,  4.72it/s, avg_loss=0.245, current_loss=0.251]\n"
     ]
    },
    {
     "name": "stdout",
     "output_type": "stream",
     "text": [
      "Epoch 112/1000 - Average Loss: 0.24473\n"
     ]
    },
    {
     "name": "stderr",
     "output_type": "stream",
     "text": [
      "Epoch 113/1000: 100%|████████████████████████████████| 4/4 [00:00<00:00,  4.65it/s, avg_loss=0.245, current_loss=0.253]\n"
     ]
    },
    {
     "name": "stdout",
     "output_type": "stream",
     "text": [
      "Epoch 113/1000 - Average Loss: 0.24456\n"
     ]
    },
    {
     "name": "stderr",
     "output_type": "stream",
     "text": [
      "Epoch 114/1000: 100%|████████████████████████████████| 4/4 [00:00<00:00,  4.66it/s, avg_loss=0.245, current_loss=0.257]\n"
     ]
    },
    {
     "name": "stdout",
     "output_type": "stream",
     "text": [
      "Epoch 114/1000 - Average Loss: 0.24491\n"
     ]
    },
    {
     "name": "stderr",
     "output_type": "stream",
     "text": [
      "Epoch 115/1000: 100%|████████████████████████████████| 4/4 [00:00<00:00,  4.73it/s, avg_loss=0.244, current_loss=0.247]\n"
     ]
    },
    {
     "name": "stdout",
     "output_type": "stream",
     "text": [
      "Epoch 115/1000 - Average Loss: 0.24443\n"
     ]
    },
    {
     "name": "stderr",
     "output_type": "stream",
     "text": [
      "Epoch 116/1000: 100%|████████████████████████████████| 4/4 [00:00<00:00,  4.34it/s, avg_loss=0.245, current_loss=0.235]\n"
     ]
    },
    {
     "name": "stdout",
     "output_type": "stream",
     "text": [
      "Epoch 116/1000 - Average Loss: 0.24452\n"
     ]
    },
    {
     "name": "stderr",
     "output_type": "stream",
     "text": [
      "Epoch 117/1000: 100%|████████████████████████████████| 4/4 [00:00<00:00,  4.49it/s, avg_loss=0.244, current_loss=0.253]\n"
     ]
    },
    {
     "name": "stdout",
     "output_type": "stream",
     "text": [
      "Epoch 117/1000 - Average Loss: 0.24433\n"
     ]
    },
    {
     "name": "stderr",
     "output_type": "stream",
     "text": [
      "Epoch 118/1000: 100%|████████████████████████████████| 4/4 [00:00<00:00,  4.33it/s, avg_loss=0.244, current_loss=0.266]\n"
     ]
    },
    {
     "name": "stdout",
     "output_type": "stream",
     "text": [
      "Epoch 118/1000 - Average Loss: 0.24426\n"
     ]
    },
    {
     "name": "stderr",
     "output_type": "stream",
     "text": [
      "Epoch 119/1000: 100%|████████████████████████████████| 4/4 [00:00<00:00,  4.65it/s, avg_loss=0.244, current_loss=0.242]\n"
     ]
    },
    {
     "name": "stdout",
     "output_type": "stream",
     "text": [
      "Epoch 119/1000 - Average Loss: 0.24438\n"
     ]
    },
    {
     "name": "stderr",
     "output_type": "stream",
     "text": [
      "Epoch 120/1000: 100%|████████████████████████████████| 4/4 [00:00<00:00,  4.29it/s, avg_loss=0.244, current_loss=0.239]\n"
     ]
    },
    {
     "name": "stdout",
     "output_type": "stream",
     "text": [
      "Epoch 120/1000 - Average Loss: 0.24432\n"
     ]
    },
    {
     "name": "stderr",
     "output_type": "stream",
     "text": [
      "Epoch 121/1000: 100%|████████████████████████████████| 4/4 [00:00<00:00,  4.18it/s, avg_loss=0.244, current_loss=0.245]\n"
     ]
    },
    {
     "name": "stdout",
     "output_type": "stream",
     "text": [
      "Epoch 121/1000 - Average Loss: 0.24429\n"
     ]
    },
    {
     "name": "stderr",
     "output_type": "stream",
     "text": [
      "Epoch 122/1000: 100%|████████████████████████████████| 4/4 [00:00<00:00,  4.44it/s, avg_loss=0.244, current_loss=0.248]\n"
     ]
    },
    {
     "name": "stdout",
     "output_type": "stream",
     "text": [
      "Epoch 122/1000 - Average Loss: 0.24443\n"
     ]
    },
    {
     "name": "stderr",
     "output_type": "stream",
     "text": [
      "Epoch 123/1000: 100%|████████████████████████████████| 4/4 [00:00<00:00,  4.97it/s, avg_loss=0.244, current_loss=0.247]\n"
     ]
    },
    {
     "name": "stdout",
     "output_type": "stream",
     "text": [
      "Epoch 123/1000 - Average Loss: 0.24426\n"
     ]
    },
    {
     "name": "stderr",
     "output_type": "stream",
     "text": [
      "Epoch 124/1000: 100%|████████████████████████████████| 4/4 [00:00<00:00,  4.20it/s, avg_loss=0.244, current_loss=0.232]\n"
     ]
    },
    {
     "name": "stdout",
     "output_type": "stream",
     "text": [
      "Epoch 124/1000 - Average Loss: 0.24431\n"
     ]
    },
    {
     "name": "stderr",
     "output_type": "stream",
     "text": [
      "Epoch 125/1000: 100%|████████████████████████████████| 4/4 [00:00<00:00,  4.59it/s, avg_loss=0.244, current_loss=0.245]\n"
     ]
    },
    {
     "name": "stdout",
     "output_type": "stream",
     "text": [
      "Epoch 125/1000 - Average Loss: 0.24434\n"
     ]
    },
    {
     "name": "stderr",
     "output_type": "stream",
     "text": [
      "Epoch 126/1000: 100%|████████████████████████████████| 4/4 [00:00<00:00,  4.80it/s, avg_loss=0.244, current_loss=0.253]\n"
     ]
    },
    {
     "name": "stdout",
     "output_type": "stream",
     "text": [
      "Epoch 126/1000 - Average Loss: 0.24427\n"
     ]
    },
    {
     "name": "stderr",
     "output_type": "stream",
     "text": [
      "Epoch 127/1000: 100%|████████████████████████████████| 4/4 [00:00<00:00,  4.01it/s, avg_loss=0.244, current_loss=0.257]\n"
     ]
    },
    {
     "name": "stdout",
     "output_type": "stream",
     "text": [
      "Epoch 127/1000 - Average Loss: 0.24442\n"
     ]
    },
    {
     "name": "stderr",
     "output_type": "stream",
     "text": [
      "Epoch 128/1000: 100%|████████████████████████████████| 4/4 [00:00<00:00,  4.62it/s, avg_loss=0.245, current_loss=0.242]\n"
     ]
    },
    {
     "name": "stdout",
     "output_type": "stream",
     "text": [
      "Epoch 128/1000 - Average Loss: 0.24487\n"
     ]
    },
    {
     "name": "stderr",
     "output_type": "stream",
     "text": [
      "Epoch 129/1000: 100%|████████████████████████████████| 4/4 [00:00<00:00,  4.59it/s, avg_loss=0.245, current_loss=0.248]\n"
     ]
    },
    {
     "name": "stdout",
     "output_type": "stream",
     "text": [
      "Epoch 129/1000 - Average Loss: 0.24465\n"
     ]
    },
    {
     "name": "stderr",
     "output_type": "stream",
     "text": [
      "Epoch 130/1000: 100%|████████████████████████████████| 4/4 [00:00<00:00,  4.65it/s, avg_loss=0.245, current_loss=0.222]\n"
     ]
    },
    {
     "name": "stdout",
     "output_type": "stream",
     "text": [
      "Epoch 130/1000 - Average Loss: 0.24461\n"
     ]
    },
    {
     "name": "stderr",
     "output_type": "stream",
     "text": [
      "Epoch 131/1000: 100%|████████████████████████████████| 4/4 [00:00<00:00,  4.13it/s, avg_loss=0.244, current_loss=0.238]\n"
     ]
    },
    {
     "name": "stdout",
     "output_type": "stream",
     "text": [
      "Epoch 131/1000 - Average Loss: 0.24431\n"
     ]
    },
    {
     "name": "stderr",
     "output_type": "stream",
     "text": [
      "Epoch 132/1000: 100%|████████████████████████████████| 4/4 [00:00<00:00,  4.37it/s, avg_loss=0.245, current_loss=0.237]\n"
     ]
    },
    {
     "name": "stdout",
     "output_type": "stream",
     "text": [
      "Epoch 132/1000 - Average Loss: 0.24462\n"
     ]
    },
    {
     "name": "stderr",
     "output_type": "stream",
     "text": [
      "Epoch 133/1000: 100%|████████████████████████████████| 4/4 [00:00<00:00,  4.64it/s, avg_loss=0.244, current_loss=0.235]\n"
     ]
    },
    {
     "name": "stdout",
     "output_type": "stream",
     "text": [
      "Epoch 133/1000 - Average Loss: 0.24445\n"
     ]
    },
    {
     "name": "stderr",
     "output_type": "stream",
     "text": [
      "Epoch 134/1000: 100%|████████████████████████████████| 4/4 [00:00<00:00,  4.55it/s, avg_loss=0.244, current_loss=0.254]\n"
     ]
    },
    {
     "name": "stdout",
     "output_type": "stream",
     "text": [
      "Epoch 134/1000 - Average Loss: 0.24432\n"
     ]
    },
    {
     "name": "stderr",
     "output_type": "stream",
     "text": [
      "Epoch 135/1000: 100%|████████████████████████████████| 4/4 [00:00<00:00,  4.57it/s, avg_loss=0.244, current_loss=0.241]\n"
     ]
    },
    {
     "name": "stdout",
     "output_type": "stream",
     "text": [
      "Epoch 135/1000 - Average Loss: 0.24417\n"
     ]
    },
    {
     "name": "stderr",
     "output_type": "stream",
     "text": [
      "Epoch 136/1000: 100%|████████████████████████████████| 4/4 [00:00<00:00,  4.40it/s, avg_loss=0.245, current_loss=0.256]\n"
     ]
    },
    {
     "name": "stdout",
     "output_type": "stream",
     "text": [
      "Epoch 136/1000 - Average Loss: 0.24460\n"
     ]
    },
    {
     "name": "stderr",
     "output_type": "stream",
     "text": [
      "Epoch 137/1000: 100%|████████████████████████████████| 4/4 [00:00<00:00,  4.78it/s, avg_loss=0.245, current_loss=0.267]\n"
     ]
    },
    {
     "name": "stdout",
     "output_type": "stream",
     "text": [
      "Epoch 137/1000 - Average Loss: 0.24451\n"
     ]
    },
    {
     "name": "stderr",
     "output_type": "stream",
     "text": [
      "Epoch 138/1000: 100%|█████████████████████████████████| 4/4 [00:00<00:00,  4.44it/s, avg_loss=0.244, current_loss=0.25]\n"
     ]
    },
    {
     "name": "stdout",
     "output_type": "stream",
     "text": [
      "Epoch 138/1000 - Average Loss: 0.24427\n"
     ]
    },
    {
     "name": "stderr",
     "output_type": "stream",
     "text": [
      "Epoch 139/1000: 100%|████████████████████████████████| 4/4 [00:00<00:00,  4.30it/s, avg_loss=0.244, current_loss=0.229]\n"
     ]
    },
    {
     "name": "stdout",
     "output_type": "stream",
     "text": [
      "Epoch 139/1000 - Average Loss: 0.24426\n"
     ]
    },
    {
     "name": "stderr",
     "output_type": "stream",
     "text": [
      "Epoch 140/1000: 100%|████████████████████████████████| 4/4 [00:00<00:00,  4.80it/s, avg_loss=0.244, current_loss=0.245]\n"
     ]
    },
    {
     "name": "stdout",
     "output_type": "stream",
     "text": [
      "Epoch 140/1000 - Average Loss: 0.24425\n"
     ]
    },
    {
     "name": "stderr",
     "output_type": "stream",
     "text": [
      "Epoch 141/1000: 100%|████████████████████████████████| 4/4 [00:00<00:00,  4.40it/s, avg_loss=0.244, current_loss=0.255]\n"
     ]
    },
    {
     "name": "stdout",
     "output_type": "stream",
     "text": [
      "Epoch 141/1000 - Average Loss: 0.24423\n"
     ]
    },
    {
     "name": "stderr",
     "output_type": "stream",
     "text": [
      "Epoch 142/1000: 100%|█████████████████████████████████| 4/4 [00:00<00:00,  4.58it/s, avg_loss=0.244, current_loss=0.24]\n"
     ]
    },
    {
     "name": "stdout",
     "output_type": "stream",
     "text": [
      "Epoch 142/1000 - Average Loss: 0.24423\n"
     ]
    },
    {
     "name": "stderr",
     "output_type": "stream",
     "text": [
      "Epoch 143/1000: 100%|████████████████████████████████| 4/4 [00:00<00:00,  4.53it/s, avg_loss=0.244, current_loss=0.231]\n"
     ]
    },
    {
     "name": "stdout",
     "output_type": "stream",
     "text": [
      "Epoch 143/1000 - Average Loss: 0.24417\n"
     ]
    },
    {
     "name": "stderr",
     "output_type": "stream",
     "text": [
      "Epoch 144/1000: 100%|████████████████████████████████| 4/4 [00:00<00:00,  4.52it/s, avg_loss=0.244, current_loss=0.233]\n"
     ]
    },
    {
     "name": "stdout",
     "output_type": "stream",
     "text": [
      "Epoch 144/1000 - Average Loss: 0.24430\n"
     ]
    },
    {
     "name": "stderr",
     "output_type": "stream",
     "text": [
      "Epoch 145/1000: 100%|████████████████████████████████| 4/4 [00:00<00:00,  4.45it/s, avg_loss=0.245, current_loss=0.234]\n"
     ]
    },
    {
     "name": "stdout",
     "output_type": "stream",
     "text": [
      "Epoch 145/1000 - Average Loss: 0.24465\n"
     ]
    },
    {
     "name": "stderr",
     "output_type": "stream",
     "text": [
      "Epoch 146/1000: 100%|████████████████████████████████| 4/4 [00:00<00:00,  4.43it/s, avg_loss=0.245, current_loss=0.238]\n"
     ]
    },
    {
     "name": "stdout",
     "output_type": "stream",
     "text": [
      "Epoch 146/1000 - Average Loss: 0.24454\n"
     ]
    },
    {
     "name": "stderr",
     "output_type": "stream",
     "text": [
      "Epoch 147/1000: 100%|████████████████████████████████| 4/4 [00:00<00:00,  4.52it/s, avg_loss=0.244, current_loss=0.248]\n"
     ]
    },
    {
     "name": "stdout",
     "output_type": "stream",
     "text": [
      "Epoch 147/1000 - Average Loss: 0.24431\n"
     ]
    },
    {
     "name": "stderr",
     "output_type": "stream",
     "text": [
      "Epoch 148/1000: 100%|█████████████████████████████████| 4/4 [00:00<00:00,  4.32it/s, avg_loss=0.244, current_loss=0.24]\n"
     ]
    },
    {
     "name": "stdout",
     "output_type": "stream",
     "text": [
      "Epoch 148/1000 - Average Loss: 0.24414\n"
     ]
    },
    {
     "name": "stderr",
     "output_type": "stream",
     "text": [
      "Epoch 149/1000: 100%|████████████████████████████████| 4/4 [00:00<00:00,  4.38it/s, avg_loss=0.244, current_loss=0.247]\n"
     ]
    },
    {
     "name": "stdout",
     "output_type": "stream",
     "text": [
      "Epoch 149/1000 - Average Loss: 0.24394\n"
     ]
    },
    {
     "name": "stderr",
     "output_type": "stream",
     "text": [
      "Epoch 150/1000: 100%|████████████████████████████████| 4/4 [00:00<00:00,  4.61it/s, avg_loss=0.244, current_loss=0.246]\n"
     ]
    },
    {
     "name": "stdout",
     "output_type": "stream",
     "text": [
      "Epoch 150/1000 - Average Loss: 0.24397\n"
     ]
    },
    {
     "name": "stderr",
     "output_type": "stream",
     "text": [
      "Epoch 151/1000: 100%|████████████████████████████████| 4/4 [00:00<00:00,  4.29it/s, avg_loss=0.244, current_loss=0.252]\n"
     ]
    },
    {
     "name": "stdout",
     "output_type": "stream",
     "text": [
      "Epoch 151/1000 - Average Loss: 0.24412\n"
     ]
    },
    {
     "name": "stderr",
     "output_type": "stream",
     "text": [
      "Epoch 152/1000: 100%|████████████████████████████████| 4/4 [00:00<00:00,  4.58it/s, avg_loss=0.244, current_loss=0.239]\n"
     ]
    },
    {
     "name": "stdout",
     "output_type": "stream",
     "text": [
      "Epoch 152/1000 - Average Loss: 0.24438\n"
     ]
    },
    {
     "name": "stderr",
     "output_type": "stream",
     "text": [
      "Epoch 153/1000: 100%|████████████████████████████████| 4/4 [00:00<00:00,  4.65it/s, avg_loss=0.244, current_loss=0.232]\n"
     ]
    },
    {
     "name": "stdout",
     "output_type": "stream",
     "text": [
      "Epoch 153/1000 - Average Loss: 0.24423\n"
     ]
    },
    {
     "name": "stderr",
     "output_type": "stream",
     "text": [
      "Epoch 154/1000: 100%|████████████████████████████████| 4/4 [00:00<00:00,  4.37it/s, avg_loss=0.244, current_loss=0.255]\n"
     ]
    },
    {
     "name": "stdout",
     "output_type": "stream",
     "text": [
      "Epoch 154/1000 - Average Loss: 0.24424\n"
     ]
    },
    {
     "name": "stderr",
     "output_type": "stream",
     "text": [
      "Epoch 155/1000: 100%|████████████████████████████████| 4/4 [00:00<00:00,  4.14it/s, avg_loss=0.244, current_loss=0.247]\n"
     ]
    },
    {
     "name": "stdout",
     "output_type": "stream",
     "text": [
      "Epoch 155/1000 - Average Loss: 0.24400\n"
     ]
    },
    {
     "name": "stderr",
     "output_type": "stream",
     "text": [
      "Epoch 156/1000: 100%|████████████████████████████████| 4/4 [00:00<00:00,  4.23it/s, avg_loss=0.244, current_loss=0.252]\n"
     ]
    },
    {
     "name": "stdout",
     "output_type": "stream",
     "text": [
      "Epoch 156/1000 - Average Loss: 0.24402\n"
     ]
    },
    {
     "name": "stderr",
     "output_type": "stream",
     "text": [
      "Epoch 157/1000: 100%|█████████████████████████████████| 4/4 [00:00<00:00,  4.25it/s, avg_loss=0.244, current_loss=0.25]\n"
     ]
    },
    {
     "name": "stdout",
     "output_type": "stream",
     "text": [
      "Epoch 157/1000 - Average Loss: 0.24398\n"
     ]
    },
    {
     "name": "stderr",
     "output_type": "stream",
     "text": [
      "Epoch 158/1000: 100%|████████████████████████████████| 4/4 [00:00<00:00,  4.24it/s, avg_loss=0.244, current_loss=0.233]\n"
     ]
    },
    {
     "name": "stdout",
     "output_type": "stream",
     "text": [
      "Epoch 158/1000 - Average Loss: 0.24391\n"
     ]
    },
    {
     "name": "stderr",
     "output_type": "stream",
     "text": [
      "Epoch 159/1000: 100%|████████████████████████████████| 4/4 [00:00<00:00,  4.20it/s, avg_loss=0.244, current_loss=0.234]\n"
     ]
    },
    {
     "name": "stdout",
     "output_type": "stream",
     "text": [
      "Epoch 159/1000 - Average Loss: 0.24400\n"
     ]
    },
    {
     "name": "stderr",
     "output_type": "stream",
     "text": [
      "Epoch 160/1000: 100%|████████████████████████████████| 4/4 [00:00<00:00,  4.11it/s, avg_loss=0.244, current_loss=0.259]\n"
     ]
    },
    {
     "name": "stdout",
     "output_type": "stream",
     "text": [
      "Epoch 160/1000 - Average Loss: 0.24426\n"
     ]
    },
    {
     "name": "stderr",
     "output_type": "stream",
     "text": [
      "Epoch 161/1000: 100%|████████████████████████████████| 4/4 [00:00<00:00,  4.46it/s, avg_loss=0.244, current_loss=0.252]\n"
     ]
    },
    {
     "name": "stdout",
     "output_type": "stream",
     "text": [
      "Epoch 161/1000 - Average Loss: 0.24393\n"
     ]
    },
    {
     "name": "stderr",
     "output_type": "stream",
     "text": [
      "Epoch 162/1000: 100%|████████████████████████████████| 4/4 [00:00<00:00,  4.28it/s, avg_loss=0.244, current_loss=0.254]\n"
     ]
    },
    {
     "name": "stdout",
     "output_type": "stream",
     "text": [
      "Epoch 162/1000 - Average Loss: 0.24396\n"
     ]
    },
    {
     "name": "stderr",
     "output_type": "stream",
     "text": [
      "Epoch 163/1000: 100%|████████████████████████████████| 4/4 [00:00<00:00,  4.21it/s, avg_loss=0.244, current_loss=0.255]\n"
     ]
    },
    {
     "name": "stdout",
     "output_type": "stream",
     "text": [
      "Epoch 163/1000 - Average Loss: 0.24388\n"
     ]
    },
    {
     "name": "stderr",
     "output_type": "stream",
     "text": [
      "Epoch 164/1000: 100%|████████████████████████████████| 4/4 [00:00<00:00,  4.62it/s, avg_loss=0.244, current_loss=0.249]\n"
     ]
    },
    {
     "name": "stdout",
     "output_type": "stream",
     "text": [
      "Epoch 164/1000 - Average Loss: 0.24378\n"
     ]
    },
    {
     "name": "stderr",
     "output_type": "stream",
     "text": [
      "Epoch 165/1000: 100%|████████████████████████████████| 4/4 [00:00<00:00,  4.34it/s, avg_loss=0.244, current_loss=0.233]\n"
     ]
    },
    {
     "name": "stdout",
     "output_type": "stream",
     "text": [
      "Epoch 165/1000 - Average Loss: 0.24366\n"
     ]
    },
    {
     "name": "stderr",
     "output_type": "stream",
     "text": [
      "Epoch 166/1000: 100%|████████████████████████████████| 4/4 [00:00<00:00,  4.43it/s, avg_loss=0.244, current_loss=0.245]\n"
     ]
    },
    {
     "name": "stdout",
     "output_type": "stream",
     "text": [
      "Epoch 166/1000 - Average Loss: 0.24369\n"
     ]
    },
    {
     "name": "stderr",
     "output_type": "stream",
     "text": [
      "Epoch 167/1000: 100%|████████████████████████████████| 4/4 [00:00<00:00,  4.55it/s, avg_loss=0.244, current_loss=0.252]\n"
     ]
    },
    {
     "name": "stdout",
     "output_type": "stream",
     "text": [
      "Epoch 167/1000 - Average Loss: 0.24377\n"
     ]
    },
    {
     "name": "stderr",
     "output_type": "stream",
     "text": [
      "Epoch 168/1000: 100%|████████████████████████████████| 4/4 [00:00<00:00,  4.56it/s, avg_loss=0.244, current_loss=0.235]\n"
     ]
    },
    {
     "name": "stdout",
     "output_type": "stream",
     "text": [
      "Epoch 168/1000 - Average Loss: 0.24395\n"
     ]
    },
    {
     "name": "stderr",
     "output_type": "stream",
     "text": [
      "Epoch 169/1000: 100%|████████████████████████████████| 4/4 [00:00<00:00,  4.50it/s, avg_loss=0.244, current_loss=0.253]\n"
     ]
    },
    {
     "name": "stdout",
     "output_type": "stream",
     "text": [
      "Epoch 169/1000 - Average Loss: 0.24372\n"
     ]
    },
    {
     "name": "stderr",
     "output_type": "stream",
     "text": [
      "Epoch 170/1000: 100%|████████████████████████████████| 4/4 [00:00<00:00,  4.38it/s, avg_loss=0.244, current_loss=0.247]\n"
     ]
    },
    {
     "name": "stdout",
     "output_type": "stream",
     "text": [
      "Epoch 170/1000 - Average Loss: 0.24367\n"
     ]
    },
    {
     "name": "stderr",
     "output_type": "stream",
     "text": [
      "Epoch 171/1000: 100%|████████████████████████████████| 4/4 [00:00<00:00,  4.51it/s, avg_loss=0.244, current_loss=0.239]\n"
     ]
    },
    {
     "name": "stdout",
     "output_type": "stream",
     "text": [
      "Epoch 171/1000 - Average Loss: 0.24365\n"
     ]
    },
    {
     "name": "stderr",
     "output_type": "stream",
     "text": [
      "Epoch 172/1000: 100%|████████████████████████████████| 4/4 [00:00<00:00,  4.07it/s, avg_loss=0.244, current_loss=0.245]\n"
     ]
    },
    {
     "name": "stdout",
     "output_type": "stream",
     "text": [
      "Epoch 172/1000 - Average Loss: 0.24358\n"
     ]
    },
    {
     "name": "stderr",
     "output_type": "stream",
     "text": [
      "Epoch 173/1000: 100%|████████████████████████████████| 4/4 [00:00<00:00,  4.74it/s, avg_loss=0.244, current_loss=0.252]\n"
     ]
    },
    {
     "name": "stdout",
     "output_type": "stream",
     "text": [
      "Epoch 173/1000 - Average Loss: 0.24354\n"
     ]
    },
    {
     "name": "stderr",
     "output_type": "stream",
     "text": [
      "Epoch 174/1000: 100%|████████████████████████████████| 4/4 [00:00<00:00,  4.33it/s, avg_loss=0.244, current_loss=0.254]\n"
     ]
    },
    {
     "name": "stdout",
     "output_type": "stream",
     "text": [
      "Epoch 174/1000 - Average Loss: 0.24367\n"
     ]
    },
    {
     "name": "stderr",
     "output_type": "stream",
     "text": [
      "Epoch 175/1000: 100%|████████████████████████████████| 4/4 [00:00<00:00,  4.61it/s, avg_loss=0.244, current_loss=0.254]\n"
     ]
    },
    {
     "name": "stdout",
     "output_type": "stream",
     "text": [
      "Epoch 175/1000 - Average Loss: 0.24371\n"
     ]
    },
    {
     "name": "stderr",
     "output_type": "stream",
     "text": [
      "Epoch 176/1000: 100%|████████████████████████████████| 4/4 [00:00<00:00,  4.42it/s, avg_loss=0.244, current_loss=0.247]\n"
     ]
    },
    {
     "name": "stdout",
     "output_type": "stream",
     "text": [
      "Epoch 176/1000 - Average Loss: 0.24358\n"
     ]
    },
    {
     "name": "stderr",
     "output_type": "stream",
     "text": [
      "Epoch 177/1000: 100%|████████████████████████████████| 4/4 [00:00<00:00,  4.60it/s, avg_loss=0.244, current_loss=0.242]\n"
     ]
    },
    {
     "name": "stdout",
     "output_type": "stream",
     "text": [
      "Epoch 177/1000 - Average Loss: 0.24372\n"
     ]
    },
    {
     "name": "stderr",
     "output_type": "stream",
     "text": [
      "Epoch 178/1000: 100%|████████████████████████████████| 4/4 [00:00<00:00,  4.48it/s, avg_loss=0.244, current_loss=0.243]\n"
     ]
    },
    {
     "name": "stdout",
     "output_type": "stream",
     "text": [
      "Epoch 178/1000 - Average Loss: 0.24366\n"
     ]
    },
    {
     "name": "stderr",
     "output_type": "stream",
     "text": [
      "Epoch 179/1000: 100%|████████████████████████████████| 4/4 [00:00<00:00,  4.51it/s, avg_loss=0.243, current_loss=0.234]\n"
     ]
    },
    {
     "name": "stdout",
     "output_type": "stream",
     "text": [
      "Epoch 179/1000 - Average Loss: 0.24340\n"
     ]
    },
    {
     "name": "stderr",
     "output_type": "stream",
     "text": [
      "Epoch 180/1000: 100%|████████████████████████████████| 4/4 [00:00<00:00,  4.35it/s, avg_loss=0.243, current_loss=0.236]\n"
     ]
    },
    {
     "name": "stdout",
     "output_type": "stream",
     "text": [
      "Epoch 180/1000 - Average Loss: 0.24336\n"
     ]
    },
    {
     "name": "stderr",
     "output_type": "stream",
     "text": [
      "Epoch 181/1000: 100%|█████████████████████████████████| 4/4 [00:00<00:00,  4.13it/s, avg_loss=0.243, current_loss=0.24]\n"
     ]
    },
    {
     "name": "stdout",
     "output_type": "stream",
     "text": [
      "Epoch 181/1000 - Average Loss: 0.24336\n"
     ]
    },
    {
     "name": "stderr",
     "output_type": "stream",
     "text": [
      "Epoch 182/1000: 100%|████████████████████████████████| 4/4 [00:00<00:00,  4.37it/s, avg_loss=0.243, current_loss=0.256]\n"
     ]
    },
    {
     "name": "stdout",
     "output_type": "stream",
     "text": [
      "Epoch 182/1000 - Average Loss: 0.24337\n"
     ]
    },
    {
     "name": "stderr",
     "output_type": "stream",
     "text": [
      "Epoch 183/1000: 100%|████████████████████████████████| 4/4 [00:00<00:00,  4.49it/s, avg_loss=0.243, current_loss=0.238]\n"
     ]
    },
    {
     "name": "stdout",
     "output_type": "stream",
     "text": [
      "Epoch 183/1000 - Average Loss: 0.24346\n"
     ]
    },
    {
     "name": "stderr",
     "output_type": "stream",
     "text": [
      "Epoch 184/1000: 100%|████████████████████████████████| 4/4 [00:00<00:00,  4.29it/s, avg_loss=0.243, current_loss=0.263]\n"
     ]
    },
    {
     "name": "stdout",
     "output_type": "stream",
     "text": [
      "Epoch 184/1000 - Average Loss: 0.24344\n"
     ]
    },
    {
     "name": "stderr",
     "output_type": "stream",
     "text": [
      "Epoch 185/1000: 100%|████████████████████████████████| 4/4 [00:00<00:00,  4.31it/s, avg_loss=0.244, current_loss=0.243]\n"
     ]
    },
    {
     "name": "stdout",
     "output_type": "stream",
     "text": [
      "Epoch 185/1000 - Average Loss: 0.24370\n"
     ]
    },
    {
     "name": "stderr",
     "output_type": "stream",
     "text": [
      "Epoch 186/1000: 100%|█████████████████████████████████| 4/4 [00:00<00:00,  4.43it/s, avg_loss=0.244, current_loss=0.24]\n"
     ]
    },
    {
     "name": "stdout",
     "output_type": "stream",
     "text": [
      "Epoch 186/1000 - Average Loss: 0.24351\n"
     ]
    },
    {
     "name": "stderr",
     "output_type": "stream",
     "text": [
      "Epoch 187/1000: 100%|████████████████████████████████| 4/4 [00:00<00:00,  4.25it/s, avg_loss=0.244, current_loss=0.226]\n"
     ]
    },
    {
     "name": "stdout",
     "output_type": "stream",
     "text": [
      "Epoch 187/1000 - Average Loss: 0.24374\n"
     ]
    },
    {
     "name": "stderr",
     "output_type": "stream",
     "text": [
      "Epoch 188/1000: 100%|████████████████████████████████| 4/4 [00:00<00:00,  4.28it/s, avg_loss=0.244, current_loss=0.247]\n"
     ]
    },
    {
     "name": "stdout",
     "output_type": "stream",
     "text": [
      "Epoch 188/1000 - Average Loss: 0.24355\n"
     ]
    },
    {
     "name": "stderr",
     "output_type": "stream",
     "text": [
      "Epoch 189/1000: 100%|████████████████████████████████| 4/4 [00:00<00:00,  4.20it/s, avg_loss=0.243, current_loss=0.247]\n"
     ]
    },
    {
     "name": "stdout",
     "output_type": "stream",
     "text": [
      "Epoch 189/1000 - Average Loss: 0.24342\n"
     ]
    },
    {
     "name": "stderr",
     "output_type": "stream",
     "text": [
      "Epoch 190/1000: 100%|████████████████████████████████| 4/4 [00:00<00:00,  4.02it/s, avg_loss=0.243, current_loss=0.245]\n"
     ]
    },
    {
     "name": "stdout",
     "output_type": "stream",
     "text": [
      "Epoch 190/1000 - Average Loss: 0.24319\n"
     ]
    },
    {
     "name": "stderr",
     "output_type": "stream",
     "text": [
      "Epoch 191/1000: 100%|████████████████████████████████| 4/4 [00:00<00:00,  4.43it/s, avg_loss=0.243, current_loss=0.239]\n"
     ]
    },
    {
     "name": "stdout",
     "output_type": "stream",
     "text": [
      "Epoch 191/1000 - Average Loss: 0.24315\n"
     ]
    },
    {
     "name": "stderr",
     "output_type": "stream",
     "text": [
      "Epoch 192/1000: 100%|████████████████████████████████| 4/4 [00:00<00:00,  4.16it/s, avg_loss=0.243, current_loss=0.244]\n"
     ]
    },
    {
     "name": "stdout",
     "output_type": "stream",
     "text": [
      "Epoch 192/1000 - Average Loss: 0.24310\n"
     ]
    },
    {
     "name": "stderr",
     "output_type": "stream",
     "text": [
      "Epoch 193/1000: 100%|████████████████████████████████| 4/4 [00:00<00:00,  4.56it/s, avg_loss=0.243, current_loss=0.237]\n"
     ]
    },
    {
     "name": "stdout",
     "output_type": "stream",
     "text": [
      "Epoch 193/1000 - Average Loss: 0.24318\n"
     ]
    },
    {
     "name": "stderr",
     "output_type": "stream",
     "text": [
      "Epoch 194/1000: 100%|████████████████████████████████| 4/4 [00:00<00:00,  4.15it/s, avg_loss=0.243, current_loss=0.251]\n"
     ]
    },
    {
     "name": "stdout",
     "output_type": "stream",
     "text": [
      "Epoch 194/1000 - Average Loss: 0.24324\n"
     ]
    },
    {
     "name": "stderr",
     "output_type": "stream",
     "text": [
      "Epoch 195/1000: 100%|████████████████████████████████| 4/4 [00:00<00:00,  4.15it/s, avg_loss=0.243, current_loss=0.246]\n"
     ]
    },
    {
     "name": "stdout",
     "output_type": "stream",
     "text": [
      "Epoch 195/1000 - Average Loss: 0.24332\n"
     ]
    },
    {
     "name": "stderr",
     "output_type": "stream",
     "text": [
      "Epoch 196/1000: 100%|████████████████████████████████| 4/4 [00:00<00:00,  4.41it/s, avg_loss=0.243, current_loss=0.233]\n"
     ]
    },
    {
     "name": "stdout",
     "output_type": "stream",
     "text": [
      "Epoch 196/1000 - Average Loss: 0.24349\n"
     ]
    },
    {
     "name": "stderr",
     "output_type": "stream",
     "text": [
      "Epoch 197/1000: 100%|████████████████████████████████| 4/4 [00:00<00:00,  4.43it/s, avg_loss=0.244, current_loss=0.244]\n"
     ]
    },
    {
     "name": "stdout",
     "output_type": "stream",
     "text": [
      "Epoch 197/1000 - Average Loss: 0.24367\n"
     ]
    },
    {
     "name": "stderr",
     "output_type": "stream",
     "text": [
      "Epoch 198/1000: 100%|████████████████████████████████| 4/4 [00:00<00:00,  4.35it/s, avg_loss=0.243, current_loss=0.253]\n"
     ]
    },
    {
     "name": "stdout",
     "output_type": "stream",
     "text": [
      "Epoch 198/1000 - Average Loss: 0.24327\n"
     ]
    },
    {
     "name": "stderr",
     "output_type": "stream",
     "text": [
      "Epoch 199/1000: 100%|████████████████████████████████| 4/4 [00:00<00:00,  4.54it/s, avg_loss=0.243, current_loss=0.242]\n"
     ]
    },
    {
     "name": "stdout",
     "output_type": "stream",
     "text": [
      "Epoch 199/1000 - Average Loss: 0.24310\n"
     ]
    },
    {
     "name": "stderr",
     "output_type": "stream",
     "text": [
      "Epoch 200/1000: 100%|████████████████████████████████| 4/4 [00:00<00:00,  4.27it/s, avg_loss=0.243, current_loss=0.258]\n"
     ]
    },
    {
     "name": "stdout",
     "output_type": "stream",
     "text": [
      "Epoch 200/1000 - Average Loss: 0.24329\n"
     ]
    },
    {
     "name": "stderr",
     "output_type": "stream",
     "text": [
      "Epoch 201/1000: 100%|████████████████████████████████| 4/4 [00:00<00:00,  4.41it/s, avg_loss=0.243, current_loss=0.252]\n"
     ]
    },
    {
     "name": "stdout",
     "output_type": "stream",
     "text": [
      "Epoch 201/1000 - Average Loss: 0.24331\n"
     ]
    },
    {
     "name": "stderr",
     "output_type": "stream",
     "text": [
      "Epoch 202/1000: 100%|████████████████████████████████| 4/4 [00:00<00:00,  4.38it/s, avg_loss=0.243, current_loss=0.234]\n"
     ]
    },
    {
     "name": "stdout",
     "output_type": "stream",
     "text": [
      "Epoch 202/1000 - Average Loss: 0.24311\n"
     ]
    },
    {
     "name": "stderr",
     "output_type": "stream",
     "text": [
      "Epoch 203/1000: 100%|████████████████████████████████| 4/4 [00:00<00:00,  4.39it/s, avg_loss=0.243, current_loss=0.251]\n"
     ]
    },
    {
     "name": "stdout",
     "output_type": "stream",
     "text": [
      "Epoch 203/1000 - Average Loss: 0.24306\n"
     ]
    },
    {
     "name": "stderr",
     "output_type": "stream",
     "text": [
      "Epoch 204/1000: 100%|█████████████████████████████████| 4/4 [00:00<00:00,  4.01it/s, avg_loss=0.243, current_loss=0.25]\n"
     ]
    },
    {
     "name": "stdout",
     "output_type": "stream",
     "text": [
      "Epoch 204/1000 - Average Loss: 0.24297\n"
     ]
    },
    {
     "name": "stderr",
     "output_type": "stream",
     "text": [
      "Epoch 205/1000: 100%|████████████████████████████████| 4/4 [00:00<00:00,  4.11it/s, avg_loss=0.243, current_loss=0.232]\n"
     ]
    },
    {
     "name": "stdout",
     "output_type": "stream",
     "text": [
      "Epoch 205/1000 - Average Loss: 0.24302\n"
     ]
    },
    {
     "name": "stderr",
     "output_type": "stream",
     "text": [
      "Epoch 206/1000: 100%|████████████████████████████████| 4/4 [00:00<00:00,  4.23it/s, avg_loss=0.243, current_loss=0.246]\n"
     ]
    },
    {
     "name": "stdout",
     "output_type": "stream",
     "text": [
      "Epoch 206/1000 - Average Loss: 0.24287\n"
     ]
    },
    {
     "name": "stderr",
     "output_type": "stream",
     "text": [
      "Epoch 207/1000: 100%|████████████████████████████████| 4/4 [00:00<00:00,  4.21it/s, avg_loss=0.243, current_loss=0.258]\n"
     ]
    },
    {
     "name": "stdout",
     "output_type": "stream",
     "text": [
      "Epoch 207/1000 - Average Loss: 0.24301\n"
     ]
    },
    {
     "name": "stderr",
     "output_type": "stream",
     "text": [
      "Epoch 208/1000: 100%|████████████████████████████████| 4/4 [00:00<00:00,  4.08it/s, avg_loss=0.243, current_loss=0.226]\n"
     ]
    },
    {
     "name": "stdout",
     "output_type": "stream",
     "text": [
      "Epoch 208/1000 - Average Loss: 0.24303\n"
     ]
    },
    {
     "name": "stderr",
     "output_type": "stream",
     "text": [
      "Epoch 209/1000: 100%|████████████████████████████████| 4/4 [00:00<00:00,  4.17it/s, avg_loss=0.243, current_loss=0.256]\n"
     ]
    },
    {
     "name": "stdout",
     "output_type": "stream",
     "text": [
      "Epoch 209/1000 - Average Loss: 0.24312\n"
     ]
    },
    {
     "name": "stderr",
     "output_type": "stream",
     "text": [
      "Epoch 210/1000: 100%|████████████████████████████████| 4/4 [00:00<00:00,  4.39it/s, avg_loss=0.243, current_loss=0.233]\n"
     ]
    },
    {
     "name": "stdout",
     "output_type": "stream",
     "text": [
      "Epoch 210/1000 - Average Loss: 0.24305\n"
     ]
    },
    {
     "name": "stderr",
     "output_type": "stream",
     "text": [
      "Epoch 211/1000: 100%|████████████████████████████████| 4/4 [00:00<00:00,  4.16it/s, avg_loss=0.243, current_loss=0.254]\n"
     ]
    },
    {
     "name": "stdout",
     "output_type": "stream",
     "text": [
      "Epoch 211/1000 - Average Loss: 0.24282\n"
     ]
    },
    {
     "name": "stderr",
     "output_type": "stream",
     "text": [
      "Epoch 212/1000: 100%|████████████████████████████████| 4/4 [00:00<00:00,  4.27it/s, avg_loss=0.243, current_loss=0.249]\n"
     ]
    },
    {
     "name": "stdout",
     "output_type": "stream",
     "text": [
      "Epoch 212/1000 - Average Loss: 0.24314\n"
     ]
    },
    {
     "name": "stderr",
     "output_type": "stream",
     "text": [
      "Epoch 213/1000: 100%|████████████████████████████████| 4/4 [00:00<00:00,  4.35it/s, avg_loss=0.243, current_loss=0.245]\n"
     ]
    },
    {
     "name": "stdout",
     "output_type": "stream",
     "text": [
      "Epoch 213/1000 - Average Loss: 0.24275\n"
     ]
    },
    {
     "name": "stderr",
     "output_type": "stream",
     "text": [
      "Epoch 214/1000: 100%|████████████████████████████████| 4/4 [00:00<00:00,  4.42it/s, avg_loss=0.243, current_loss=0.236]\n"
     ]
    },
    {
     "name": "stdout",
     "output_type": "stream",
     "text": [
      "Epoch 214/1000 - Average Loss: 0.24277\n"
     ]
    },
    {
     "name": "stderr",
     "output_type": "stream",
     "text": [
      "Epoch 215/1000: 100%|████████████████████████████████| 4/4 [00:00<00:00,  4.50it/s, avg_loss=0.243, current_loss=0.251]\n"
     ]
    },
    {
     "name": "stdout",
     "output_type": "stream",
     "text": [
      "Epoch 215/1000 - Average Loss: 0.24275\n"
     ]
    },
    {
     "name": "stderr",
     "output_type": "stream",
     "text": [
      "Epoch 216/1000: 100%|████████████████████████████████| 4/4 [00:00<00:00,  4.36it/s, avg_loss=0.243, current_loss=0.254]\n"
     ]
    },
    {
     "name": "stdout",
     "output_type": "stream",
     "text": [
      "Epoch 216/1000 - Average Loss: 0.24262\n"
     ]
    },
    {
     "name": "stderr",
     "output_type": "stream",
     "text": [
      "Epoch 217/1000: 100%|████████████████████████████████| 4/4 [00:00<00:00,  4.40it/s, avg_loss=0.243, current_loss=0.249]\n"
     ]
    },
    {
     "name": "stdout",
     "output_type": "stream",
     "text": [
      "Epoch 217/1000 - Average Loss: 0.24267\n"
     ]
    },
    {
     "name": "stderr",
     "output_type": "stream",
     "text": [
      "Epoch 218/1000: 100%|█████████████████████████████████| 4/4 [00:00<00:00,  4.62it/s, avg_loss=0.243, current_loss=0.26]\n"
     ]
    },
    {
     "name": "stdout",
     "output_type": "stream",
     "text": [
      "Epoch 218/1000 - Average Loss: 0.24295\n"
     ]
    },
    {
     "name": "stderr",
     "output_type": "stream",
     "text": [
      "Epoch 219/1000: 100%|█████████████████████████████████| 4/4 [00:00<00:00,  4.37it/s, avg_loss=0.243, current_loss=0.24]\n"
     ]
    },
    {
     "name": "stdout",
     "output_type": "stream",
     "text": [
      "Epoch 219/1000 - Average Loss: 0.24257\n"
     ]
    },
    {
     "name": "stderr",
     "output_type": "stream",
     "text": [
      "Epoch 220/1000: 100%|████████████████████████████████| 4/4 [00:00<00:00,  4.08it/s, avg_loss=0.243, current_loss=0.231]\n"
     ]
    },
    {
     "name": "stdout",
     "output_type": "stream",
     "text": [
      "Epoch 220/1000 - Average Loss: 0.24260\n"
     ]
    },
    {
     "name": "stderr",
     "output_type": "stream",
     "text": [
      "Epoch 221/1000: 100%|████████████████████████████████| 4/4 [00:00<00:00,  4.24it/s, avg_loss=0.243, current_loss=0.247]\n"
     ]
    },
    {
     "name": "stdout",
     "output_type": "stream",
     "text": [
      "Epoch 221/1000 - Average Loss: 0.24283\n"
     ]
    },
    {
     "name": "stderr",
     "output_type": "stream",
     "text": [
      "Epoch 222/1000: 100%|████████████████████████████████| 4/4 [00:00<00:00,  4.80it/s, avg_loss=0.243, current_loss=0.245]\n"
     ]
    },
    {
     "name": "stdout",
     "output_type": "stream",
     "text": [
      "Epoch 222/1000 - Average Loss: 0.24272\n"
     ]
    },
    {
     "name": "stderr",
     "output_type": "stream",
     "text": [
      "Epoch 223/1000: 100%|████████████████████████████████| 4/4 [00:00<00:00,  4.36it/s, avg_loss=0.243, current_loss=0.247]\n"
     ]
    },
    {
     "name": "stdout",
     "output_type": "stream",
     "text": [
      "Epoch 223/1000 - Average Loss: 0.24260\n"
     ]
    },
    {
     "name": "stderr",
     "output_type": "stream",
     "text": [
      "Epoch 224/1000: 100%|████████████████████████████████| 4/4 [00:00<00:00,  4.61it/s, avg_loss=0.243, current_loss=0.252]\n"
     ]
    },
    {
     "name": "stdout",
     "output_type": "stream",
     "text": [
      "Epoch 224/1000 - Average Loss: 0.24280\n"
     ]
    },
    {
     "name": "stderr",
     "output_type": "stream",
     "text": [
      "Epoch 225/1000: 100%|████████████████████████████████| 4/4 [00:00<00:00,  4.46it/s, avg_loss=0.243, current_loss=0.242]\n"
     ]
    },
    {
     "name": "stdout",
     "output_type": "stream",
     "text": [
      "Epoch 225/1000 - Average Loss: 0.24268\n"
     ]
    },
    {
     "name": "stderr",
     "output_type": "stream",
     "text": [
      "Epoch 226/1000: 100%|████████████████████████████████| 4/4 [00:00<00:00,  4.60it/s, avg_loss=0.243, current_loss=0.241]\n"
     ]
    },
    {
     "name": "stdout",
     "output_type": "stream",
     "text": [
      "Epoch 226/1000 - Average Loss: 0.24275\n"
     ]
    },
    {
     "name": "stderr",
     "output_type": "stream",
     "text": [
      "Epoch 227/1000: 100%|████████████████████████████████| 4/4 [00:00<00:00,  4.24it/s, avg_loss=0.243, current_loss=0.245]\n"
     ]
    },
    {
     "name": "stdout",
     "output_type": "stream",
     "text": [
      "Epoch 227/1000 - Average Loss: 0.24272\n"
     ]
    },
    {
     "name": "stderr",
     "output_type": "stream",
     "text": [
      "Epoch 228/1000: 100%|████████████████████████████████| 4/4 [00:00<00:00,  4.38it/s, avg_loss=0.243, current_loss=0.247]\n"
     ]
    },
    {
     "name": "stdout",
     "output_type": "stream",
     "text": [
      "Epoch 228/1000 - Average Loss: 0.24261\n"
     ]
    },
    {
     "name": "stderr",
     "output_type": "stream",
     "text": [
      "Epoch 229/1000: 100%|████████████████████████████████| 4/4 [00:00<00:00,  5.15it/s, avg_loss=0.243, current_loss=0.243]\n"
     ]
    },
    {
     "name": "stdout",
     "output_type": "stream",
     "text": [
      "Epoch 229/1000 - Average Loss: 0.24329\n"
     ]
    },
    {
     "name": "stderr",
     "output_type": "stream",
     "text": [
      "Epoch 230/1000: 100%|████████████████████████████████| 4/4 [00:00<00:00,  4.56it/s, avg_loss=0.243, current_loss=0.237]\n"
     ]
    },
    {
     "name": "stdout",
     "output_type": "stream",
     "text": [
      "Epoch 230/1000 - Average Loss: 0.24316\n"
     ]
    },
    {
     "name": "stderr",
     "output_type": "stream",
     "text": [
      "Epoch 231/1000: 100%|████████████████████████████████| 4/4 [00:00<00:00,  4.70it/s, avg_loss=0.243, current_loss=0.243]\n"
     ]
    },
    {
     "name": "stdout",
     "output_type": "stream",
     "text": [
      "Epoch 231/1000 - Average Loss: 0.24276\n"
     ]
    },
    {
     "name": "stderr",
     "output_type": "stream",
     "text": [
      "Epoch 232/1000: 100%|████████████████████████████████| 4/4 [00:00<00:00,  4.66it/s, avg_loss=0.242, current_loss=0.229]\n"
     ]
    },
    {
     "name": "stdout",
     "output_type": "stream",
     "text": [
      "Epoch 232/1000 - Average Loss: 0.24246\n"
     ]
    },
    {
     "name": "stderr",
     "output_type": "stream",
     "text": [
      "Epoch 233/1000: 100%|████████████████████████████████| 4/4 [00:00<00:00,  4.57it/s, avg_loss=0.242, current_loss=0.236]\n"
     ]
    },
    {
     "name": "stdout",
     "output_type": "stream",
     "text": [
      "Epoch 233/1000 - Average Loss: 0.24247\n"
     ]
    },
    {
     "name": "stderr",
     "output_type": "stream",
     "text": [
      "Epoch 234/1000: 100%|████████████████████████████████| 4/4 [00:00<00:00,  4.26it/s, avg_loss=0.242, current_loss=0.236]\n"
     ]
    },
    {
     "name": "stdout",
     "output_type": "stream",
     "text": [
      "Epoch 234/1000 - Average Loss: 0.24213\n"
     ]
    },
    {
     "name": "stderr",
     "output_type": "stream",
     "text": [
      "Epoch 235/1000: 100%|████████████████████████████████| 4/4 [00:00<00:00,  4.50it/s, avg_loss=0.242, current_loss=0.253]\n"
     ]
    },
    {
     "name": "stdout",
     "output_type": "stream",
     "text": [
      "Epoch 235/1000 - Average Loss: 0.24198\n"
     ]
    },
    {
     "name": "stderr",
     "output_type": "stream",
     "text": [
      "Epoch 236/1000: 100%|████████████████████████████████| 4/4 [00:00<00:00,  4.62it/s, avg_loss=0.242, current_loss=0.252]\n"
     ]
    },
    {
     "name": "stdout",
     "output_type": "stream",
     "text": [
      "Epoch 236/1000 - Average Loss: 0.24210\n"
     ]
    },
    {
     "name": "stderr",
     "output_type": "stream",
     "text": [
      "Epoch 237/1000: 100%|████████████████████████████████| 4/4 [00:00<00:00,  4.64it/s, avg_loss=0.242, current_loss=0.253]\n"
     ]
    },
    {
     "name": "stdout",
     "output_type": "stream",
     "text": [
      "Epoch 237/1000 - Average Loss: 0.24221\n"
     ]
    },
    {
     "name": "stderr",
     "output_type": "stream",
     "text": [
      "Epoch 238/1000: 100%|█████████████████████████████████| 4/4 [00:00<00:00,  4.50it/s, avg_loss=0.242, current_loss=0.23]\n"
     ]
    },
    {
     "name": "stdout",
     "output_type": "stream",
     "text": [
      "Epoch 238/1000 - Average Loss: 0.24221\n"
     ]
    },
    {
     "name": "stderr",
     "output_type": "stream",
     "text": [
      "Epoch 239/1000: 100%|████████████████████████████████| 4/4 [00:00<00:00,  4.44it/s, avg_loss=0.242, current_loss=0.257]\n"
     ]
    },
    {
     "name": "stdout",
     "output_type": "stream",
     "text": [
      "Epoch 239/1000 - Average Loss: 0.24222\n"
     ]
    },
    {
     "name": "stderr",
     "output_type": "stream",
     "text": [
      "Epoch 240/1000: 100%|████████████████████████████████| 4/4 [00:00<00:00,  4.58it/s, avg_loss=0.243, current_loss=0.246]\n"
     ]
    },
    {
     "name": "stdout",
     "output_type": "stream",
     "text": [
      "Epoch 240/1000 - Average Loss: 0.24256\n"
     ]
    },
    {
     "name": "stderr",
     "output_type": "stream",
     "text": [
      "Epoch 241/1000: 100%|████████████████████████████████| 4/4 [00:00<00:00,  4.54it/s, avg_loss=0.242, current_loss=0.243]\n"
     ]
    },
    {
     "name": "stdout",
     "output_type": "stream",
     "text": [
      "Epoch 241/1000 - Average Loss: 0.24203\n"
     ]
    },
    {
     "name": "stderr",
     "output_type": "stream",
     "text": [
      "Epoch 242/1000: 100%|████████████████████████████████| 4/4 [00:00<00:00,  4.35it/s, avg_loss=0.242, current_loss=0.242]\n"
     ]
    },
    {
     "name": "stdout",
     "output_type": "stream",
     "text": [
      "Epoch 242/1000 - Average Loss: 0.24212\n"
     ]
    },
    {
     "name": "stderr",
     "output_type": "stream",
     "text": [
      "Epoch 243/1000: 100%|████████████████████████████████| 4/4 [00:00<00:00,  4.87it/s, avg_loss=0.242, current_loss=0.242]\n"
     ]
    },
    {
     "name": "stdout",
     "output_type": "stream",
     "text": [
      "Epoch 243/1000 - Average Loss: 0.24193\n"
     ]
    },
    {
     "name": "stderr",
     "output_type": "stream",
     "text": [
      "Epoch 244/1000: 100%|████████████████████████████████| 4/4 [00:00<00:00,  4.73it/s, avg_loss=0.242, current_loss=0.247]\n"
     ]
    },
    {
     "name": "stdout",
     "output_type": "stream",
     "text": [
      "Epoch 244/1000 - Average Loss: 0.24193\n"
     ]
    },
    {
     "name": "stderr",
     "output_type": "stream",
     "text": [
      "Epoch 245/1000: 100%|████████████████████████████████| 4/4 [00:00<00:00,  4.63it/s, avg_loss=0.242, current_loss=0.236]\n"
     ]
    },
    {
     "name": "stdout",
     "output_type": "stream",
     "text": [
      "Epoch 245/1000 - Average Loss: 0.24187\n"
     ]
    },
    {
     "name": "stderr",
     "output_type": "stream",
     "text": [
      "Epoch 246/1000: 100%|████████████████████████████████| 4/4 [00:00<00:00,  4.57it/s, avg_loss=0.242, current_loss=0.247]\n"
     ]
    },
    {
     "name": "stdout",
     "output_type": "stream",
     "text": [
      "Epoch 246/1000 - Average Loss: 0.24208\n"
     ]
    },
    {
     "name": "stderr",
     "output_type": "stream",
     "text": [
      "Epoch 247/1000: 100%|████████████████████████████████| 4/4 [00:00<00:00,  4.60it/s, avg_loss=0.242, current_loss=0.233]\n"
     ]
    },
    {
     "name": "stdout",
     "output_type": "stream",
     "text": [
      "Epoch 247/1000 - Average Loss: 0.24198\n"
     ]
    },
    {
     "name": "stderr",
     "output_type": "stream",
     "text": [
      "Epoch 248/1000: 100%|████████████████████████████████| 4/4 [00:00<00:00,  4.52it/s, avg_loss=0.242, current_loss=0.237]\n"
     ]
    },
    {
     "name": "stdout",
     "output_type": "stream",
     "text": [
      "Epoch 248/1000 - Average Loss: 0.24195\n"
     ]
    },
    {
     "name": "stderr",
     "output_type": "stream",
     "text": [
      "Epoch 249/1000: 100%|████████████████████████████████| 4/4 [00:00<00:00,  4.44it/s, avg_loss=0.242, current_loss=0.249]\n"
     ]
    },
    {
     "name": "stdout",
     "output_type": "stream",
     "text": [
      "Epoch 249/1000 - Average Loss: 0.24187\n"
     ]
    },
    {
     "name": "stderr",
     "output_type": "stream",
     "text": [
      "Epoch 250/1000: 100%|████████████████████████████████| 4/4 [00:00<00:00,  4.68it/s, avg_loss=0.242, current_loss=0.241]\n"
     ]
    },
    {
     "name": "stdout",
     "output_type": "stream",
     "text": [
      "Epoch 250/1000 - Average Loss: 0.24165\n"
     ]
    },
    {
     "name": "stderr",
     "output_type": "stream",
     "text": [
      "Epoch 251/1000: 100%|████████████████████████████████| 4/4 [00:00<00:00,  4.50it/s, avg_loss=0.242, current_loss=0.241]\n"
     ]
    },
    {
     "name": "stdout",
     "output_type": "stream",
     "text": [
      "Epoch 251/1000 - Average Loss: 0.24188\n"
     ]
    },
    {
     "name": "stderr",
     "output_type": "stream",
     "text": [
      "Epoch 252/1000: 100%|████████████████████████████████| 4/4 [00:00<00:00,  4.49it/s, avg_loss=0.242, current_loss=0.229]\n"
     ]
    },
    {
     "name": "stdout",
     "output_type": "stream",
     "text": [
      "Epoch 252/1000 - Average Loss: 0.24201\n"
     ]
    },
    {
     "name": "stderr",
     "output_type": "stream",
     "text": [
      "Epoch 253/1000: 100%|████████████████████████████████| 4/4 [00:00<00:00,  4.72it/s, avg_loss=0.242, current_loss=0.236]\n"
     ]
    },
    {
     "name": "stdout",
     "output_type": "stream",
     "text": [
      "Epoch 253/1000 - Average Loss: 0.24223\n"
     ]
    },
    {
     "name": "stderr",
     "output_type": "stream",
     "text": [
      "Epoch 254/1000: 100%|████████████████████████████████| 4/4 [00:00<00:00,  4.50it/s, avg_loss=0.242, current_loss=0.254]\n"
     ]
    },
    {
     "name": "stdout",
     "output_type": "stream",
     "text": [
      "Epoch 254/1000 - Average Loss: 0.24202\n"
     ]
    },
    {
     "name": "stderr",
     "output_type": "stream",
     "text": [
      "Epoch 255/1000: 100%|████████████████████████████████| 4/4 [00:00<00:00,  4.33it/s, avg_loss=0.242, current_loss=0.232]\n"
     ]
    },
    {
     "name": "stdout",
     "output_type": "stream",
     "text": [
      "Epoch 255/1000 - Average Loss: 0.24178\n"
     ]
    },
    {
     "name": "stderr",
     "output_type": "stream",
     "text": [
      "Epoch 256/1000: 100%|████████████████████████████████| 4/4 [00:00<00:00,  4.37it/s, avg_loss=0.242, current_loss=0.244]\n"
     ]
    },
    {
     "name": "stdout",
     "output_type": "stream",
     "text": [
      "Epoch 256/1000 - Average Loss: 0.24182\n"
     ]
    },
    {
     "name": "stderr",
     "output_type": "stream",
     "text": [
      "Epoch 257/1000: 100%|████████████████████████████████| 4/4 [00:00<00:00,  4.53it/s, avg_loss=0.242, current_loss=0.227]\n"
     ]
    },
    {
     "name": "stdout",
     "output_type": "stream",
     "text": [
      "Epoch 257/1000 - Average Loss: 0.24174\n"
     ]
    },
    {
     "name": "stderr",
     "output_type": "stream",
     "text": [
      "Epoch 258/1000: 100%|████████████████████████████████| 4/4 [00:00<00:00,  4.49it/s, avg_loss=0.242, current_loss=0.241]\n"
     ]
    },
    {
     "name": "stdout",
     "output_type": "stream",
     "text": [
      "Epoch 258/1000 - Average Loss: 0.24157\n"
     ]
    },
    {
     "name": "stderr",
     "output_type": "stream",
     "text": [
      "Epoch 259/1000: 100%|████████████████████████████████| 4/4 [00:00<00:00,  4.41it/s, avg_loss=0.242, current_loss=0.238]\n"
     ]
    },
    {
     "name": "stdout",
     "output_type": "stream",
     "text": [
      "Epoch 259/1000 - Average Loss: 0.24172\n"
     ]
    },
    {
     "name": "stderr",
     "output_type": "stream",
     "text": [
      "Epoch 260/1000: 100%|████████████████████████████████| 4/4 [00:00<00:00,  4.57it/s, avg_loss=0.242, current_loss=0.251]\n"
     ]
    },
    {
     "name": "stdout",
     "output_type": "stream",
     "text": [
      "Epoch 260/1000 - Average Loss: 0.24150\n"
     ]
    },
    {
     "name": "stderr",
     "output_type": "stream",
     "text": [
      "Epoch 261/1000: 100%|████████████████████████████████| 4/4 [00:00<00:00,  4.71it/s, avg_loss=0.242, current_loss=0.235]\n"
     ]
    },
    {
     "name": "stdout",
     "output_type": "stream",
     "text": [
      "Epoch 261/1000 - Average Loss: 0.24168\n"
     ]
    },
    {
     "name": "stderr",
     "output_type": "stream",
     "text": [
      "Epoch 262/1000: 100%|████████████████████████████████| 4/4 [00:00<00:00,  4.76it/s, avg_loss=0.242, current_loss=0.237]\n"
     ]
    },
    {
     "name": "stdout",
     "output_type": "stream",
     "text": [
      "Epoch 262/1000 - Average Loss: 0.24173\n"
     ]
    },
    {
     "name": "stderr",
     "output_type": "stream",
     "text": [
      "Epoch 263/1000: 100%|████████████████████████████████| 4/4 [00:00<00:00,  4.60it/s, avg_loss=0.242, current_loss=0.239]\n"
     ]
    },
    {
     "name": "stdout",
     "output_type": "stream",
     "text": [
      "Epoch 263/1000 - Average Loss: 0.24152\n"
     ]
    },
    {
     "name": "stderr",
     "output_type": "stream",
     "text": [
      "Epoch 264/1000: 100%|████████████████████████████████| 4/4 [00:00<00:00,  4.56it/s, avg_loss=0.242, current_loss=0.227]\n"
     ]
    },
    {
     "name": "stdout",
     "output_type": "stream",
     "text": [
      "Epoch 264/1000 - Average Loss: 0.24175\n"
     ]
    },
    {
     "name": "stderr",
     "output_type": "stream",
     "text": [
      "Epoch 265/1000: 100%|████████████████████████████████| 4/4 [00:00<00:00,  4.54it/s, avg_loss=0.242, current_loss=0.253]\n"
     ]
    },
    {
     "name": "stdout",
     "output_type": "stream",
     "text": [
      "Epoch 265/1000 - Average Loss: 0.24155\n"
     ]
    },
    {
     "name": "stderr",
     "output_type": "stream",
     "text": [
      "Epoch 266/1000: 100%|█████████████████████████████████| 4/4 [00:00<00:00,  4.46it/s, avg_loss=0.242, current_loss=0.25]\n"
     ]
    },
    {
     "name": "stdout",
     "output_type": "stream",
     "text": [
      "Epoch 266/1000 - Average Loss: 0.24170\n"
     ]
    },
    {
     "name": "stderr",
     "output_type": "stream",
     "text": [
      "Epoch 267/1000: 100%|████████████████████████████████| 4/4 [00:00<00:00,  4.50it/s, avg_loss=0.242, current_loss=0.244]\n"
     ]
    },
    {
     "name": "stdout",
     "output_type": "stream",
     "text": [
      "Epoch 267/1000 - Average Loss: 0.24189\n"
     ]
    },
    {
     "name": "stderr",
     "output_type": "stream",
     "text": [
      "Epoch 268/1000: 100%|████████████████████████████████| 4/4 [00:00<00:00,  4.24it/s, avg_loss=0.242, current_loss=0.239]\n"
     ]
    },
    {
     "name": "stdout",
     "output_type": "stream",
     "text": [
      "Epoch 268/1000 - Average Loss: 0.24207\n"
     ]
    },
    {
     "name": "stderr",
     "output_type": "stream",
     "text": [
      "Epoch 269/1000: 100%|████████████████████████████████| 4/4 [00:00<00:00,  4.46it/s, avg_loss=0.242, current_loss=0.246]\n"
     ]
    },
    {
     "name": "stdout",
     "output_type": "stream",
     "text": [
      "Epoch 269/1000 - Average Loss: 0.24174\n"
     ]
    },
    {
     "name": "stderr",
     "output_type": "stream",
     "text": [
      "Epoch 270/1000: 100%|████████████████████████████████| 4/4 [00:00<00:00,  4.58it/s, avg_loss=0.242, current_loss=0.236]\n"
     ]
    },
    {
     "name": "stdout",
     "output_type": "stream",
     "text": [
      "Epoch 270/1000 - Average Loss: 0.24164\n"
     ]
    },
    {
     "name": "stderr",
     "output_type": "stream",
     "text": [
      "Epoch 271/1000: 100%|████████████████████████████████| 4/4 [00:00<00:00,  5.00it/s, avg_loss=0.242, current_loss=0.245]\n"
     ]
    },
    {
     "name": "stdout",
     "output_type": "stream",
     "text": [
      "Epoch 271/1000 - Average Loss: 0.24178\n"
     ]
    },
    {
     "name": "stderr",
     "output_type": "stream",
     "text": [
      "Epoch 272/1000: 100%|████████████████████████████████| 4/4 [00:00<00:00,  4.66it/s, avg_loss=0.242, current_loss=0.235]\n"
     ]
    },
    {
     "name": "stdout",
     "output_type": "stream",
     "text": [
      "Epoch 272/1000 - Average Loss: 0.24184\n"
     ]
    },
    {
     "name": "stderr",
     "output_type": "stream",
     "text": [
      "Epoch 273/1000: 100%|████████████████████████████████| 4/4 [00:00<00:00,  4.51it/s, avg_loss=0.241, current_loss=0.234]\n"
     ]
    },
    {
     "name": "stdout",
     "output_type": "stream",
     "text": [
      "Epoch 273/1000 - Average Loss: 0.24133\n"
     ]
    },
    {
     "name": "stderr",
     "output_type": "stream",
     "text": [
      "Epoch 274/1000: 100%|████████████████████████████████| 4/4 [00:00<00:00,  4.56it/s, avg_loss=0.241, current_loss=0.254]\n"
     ]
    },
    {
     "name": "stdout",
     "output_type": "stream",
     "text": [
      "Epoch 274/1000 - Average Loss: 0.24121\n"
     ]
    },
    {
     "name": "stderr",
     "output_type": "stream",
     "text": [
      "Epoch 275/1000: 100%|█████████████████████████████████| 4/4 [00:00<00:00,  4.55it/s, avg_loss=0.242, current_loss=0.24]\n"
     ]
    },
    {
     "name": "stdout",
     "output_type": "stream",
     "text": [
      "Epoch 275/1000 - Average Loss: 0.24157\n"
     ]
    },
    {
     "name": "stderr",
     "output_type": "stream",
     "text": [
      "Epoch 276/1000: 100%|████████████████████████████████| 4/4 [00:00<00:00,  4.30it/s, avg_loss=0.242, current_loss=0.247]\n"
     ]
    },
    {
     "name": "stdout",
     "output_type": "stream",
     "text": [
      "Epoch 276/1000 - Average Loss: 0.24154\n"
     ]
    },
    {
     "name": "stderr",
     "output_type": "stream",
     "text": [
      "Epoch 277/1000: 100%|████████████████████████████████| 4/4 [00:00<00:00,  4.31it/s, avg_loss=0.242, current_loss=0.232]\n"
     ]
    },
    {
     "name": "stdout",
     "output_type": "stream",
     "text": [
      "Epoch 277/1000 - Average Loss: 0.24173\n"
     ]
    },
    {
     "name": "stderr",
     "output_type": "stream",
     "text": [
      "Epoch 278/1000: 100%|████████████████████████████████| 4/4 [00:00<00:00,  4.39it/s, avg_loss=0.242, current_loss=0.243]\n"
     ]
    },
    {
     "name": "stdout",
     "output_type": "stream",
     "text": [
      "Epoch 278/1000 - Average Loss: 0.24170\n"
     ]
    },
    {
     "name": "stderr",
     "output_type": "stream",
     "text": [
      "Epoch 279/1000: 100%|█████████████████████████████████| 4/4 [00:00<00:00,  4.76it/s, avg_loss=0.242, current_loss=0.26]\n"
     ]
    },
    {
     "name": "stdout",
     "output_type": "stream",
     "text": [
      "Epoch 279/1000 - Average Loss: 0.24168\n"
     ]
    },
    {
     "name": "stderr",
     "output_type": "stream",
     "text": [
      "Epoch 280/1000: 100%|█████████████████████████████████| 4/4 [00:00<00:00,  4.53it/s, avg_loss=0.242, current_loss=0.26]\n"
     ]
    },
    {
     "name": "stdout",
     "output_type": "stream",
     "text": [
      "Epoch 280/1000 - Average Loss: 0.24166\n"
     ]
    },
    {
     "name": "stderr",
     "output_type": "stream",
     "text": [
      "Epoch 281/1000: 100%|████████████████████████████████| 4/4 [00:00<00:00,  4.65it/s, avg_loss=0.241, current_loss=0.234]\n"
     ]
    },
    {
     "name": "stdout",
     "output_type": "stream",
     "text": [
      "Epoch 281/1000 - Average Loss: 0.24130\n"
     ]
    },
    {
     "name": "stderr",
     "output_type": "stream",
     "text": [
      "Epoch 282/1000: 100%|████████████████████████████████| 4/4 [00:00<00:00,  4.74it/s, avg_loss=0.242, current_loss=0.259]\n"
     ]
    },
    {
     "name": "stdout",
     "output_type": "stream",
     "text": [
      "Epoch 282/1000 - Average Loss: 0.24152\n"
     ]
    },
    {
     "name": "stderr",
     "output_type": "stream",
     "text": [
      "Epoch 283/1000: 100%|████████████████████████████████| 4/4 [00:00<00:00,  4.58it/s, avg_loss=0.241, current_loss=0.251]\n"
     ]
    },
    {
     "name": "stdout",
     "output_type": "stream",
     "text": [
      "Epoch 283/1000 - Average Loss: 0.24101\n"
     ]
    },
    {
     "name": "stderr",
     "output_type": "stream",
     "text": [
      "Epoch 284/1000: 100%|████████████████████████████████| 4/4 [00:00<00:00,  4.48it/s, avg_loss=0.241, current_loss=0.259]\n"
     ]
    },
    {
     "name": "stdout",
     "output_type": "stream",
     "text": [
      "Epoch 284/1000 - Average Loss: 0.24097\n"
     ]
    },
    {
     "name": "stderr",
     "output_type": "stream",
     "text": [
      "Epoch 285/1000: 100%|█████████████████████████████████| 4/4 [00:00<00:00,  4.35it/s, avg_loss=0.241, current_loss=0.25]\n"
     ]
    },
    {
     "name": "stdout",
     "output_type": "stream",
     "text": [
      "Epoch 285/1000 - Average Loss: 0.24075\n"
     ]
    },
    {
     "name": "stderr",
     "output_type": "stream",
     "text": [
      "Epoch 286/1000: 100%|████████████████████████████████| 4/4 [00:00<00:00,  4.71it/s, avg_loss=0.241, current_loss=0.242]\n"
     ]
    },
    {
     "name": "stdout",
     "output_type": "stream",
     "text": [
      "Epoch 286/1000 - Average Loss: 0.24095\n"
     ]
    },
    {
     "name": "stderr",
     "output_type": "stream",
     "text": [
      "Epoch 287/1000: 100%|████████████████████████████████| 4/4 [00:00<00:00,  4.45it/s, avg_loss=0.241, current_loss=0.242]\n"
     ]
    },
    {
     "name": "stdout",
     "output_type": "stream",
     "text": [
      "Epoch 287/1000 - Average Loss: 0.24128\n"
     ]
    },
    {
     "name": "stderr",
     "output_type": "stream",
     "text": [
      "Epoch 288/1000: 100%|████████████████████████████████| 4/4 [00:00<00:00,  4.93it/s, avg_loss=0.242, current_loss=0.253]\n"
     ]
    },
    {
     "name": "stdout",
     "output_type": "stream",
     "text": [
      "Epoch 288/1000 - Average Loss: 0.24182\n"
     ]
    },
    {
     "name": "stderr",
     "output_type": "stream",
     "text": [
      "Epoch 289/1000: 100%|████████████████████████████████| 4/4 [00:00<00:00,  4.19it/s, avg_loss=0.242, current_loss=0.245]\n"
     ]
    },
    {
     "name": "stdout",
     "output_type": "stream",
     "text": [
      "Epoch 289/1000 - Average Loss: 0.24182\n"
     ]
    },
    {
     "name": "stderr",
     "output_type": "stream",
     "text": [
      "Epoch 290/1000: 100%|████████████████████████████████| 4/4 [00:00<00:00,  4.35it/s, avg_loss=0.242, current_loss=0.243]\n"
     ]
    },
    {
     "name": "stdout",
     "output_type": "stream",
     "text": [
      "Epoch 290/1000 - Average Loss: 0.24177\n"
     ]
    },
    {
     "name": "stderr",
     "output_type": "stream",
     "text": [
      "Epoch 291/1000: 100%|████████████████████████████████| 4/4 [00:01<00:00,  3.90it/s, avg_loss=0.241, current_loss=0.226]\n"
     ]
    },
    {
     "name": "stdout",
     "output_type": "stream",
     "text": [
      "Epoch 291/1000 - Average Loss: 0.24118\n"
     ]
    },
    {
     "name": "stderr",
     "output_type": "stream",
     "text": [
      "Epoch 292/1000: 100%|████████████████████████████████| 4/4 [00:00<00:00,  4.21it/s, avg_loss=0.241, current_loss=0.241]\n"
     ]
    },
    {
     "name": "stdout",
     "output_type": "stream",
     "text": [
      "Epoch 292/1000 - Average Loss: 0.24115\n"
     ]
    },
    {
     "name": "stderr",
     "output_type": "stream",
     "text": [
      "Epoch 293/1000: 100%|█████████████████████████████████| 4/4 [00:00<00:00,  4.39it/s, avg_loss=0.241, current_loss=0.24]\n"
     ]
    },
    {
     "name": "stdout",
     "output_type": "stream",
     "text": [
      "Epoch 293/1000 - Average Loss: 0.24097\n"
     ]
    },
    {
     "name": "stderr",
     "output_type": "stream",
     "text": [
      "Epoch 294/1000: 100%|████████████████████████████████| 4/4 [00:00<00:00,  4.67it/s, avg_loss=0.241, current_loss=0.247]\n"
     ]
    },
    {
     "name": "stdout",
     "output_type": "stream",
     "text": [
      "Epoch 294/1000 - Average Loss: 0.24086\n"
     ]
    },
    {
     "name": "stderr",
     "output_type": "stream",
     "text": [
      "Epoch 295/1000: 100%|████████████████████████████████| 4/4 [00:00<00:00,  4.53it/s, avg_loss=0.241, current_loss=0.253]\n"
     ]
    },
    {
     "name": "stdout",
     "output_type": "stream",
     "text": [
      "Epoch 295/1000 - Average Loss: 0.24084\n"
     ]
    },
    {
     "name": "stderr",
     "output_type": "stream",
     "text": [
      "Epoch 296/1000: 100%|████████████████████████████████| 4/4 [00:00<00:00,  4.45it/s, avg_loss=0.241, current_loss=0.236]\n"
     ]
    },
    {
     "name": "stdout",
     "output_type": "stream",
     "text": [
      "Epoch 296/1000 - Average Loss: 0.24140\n"
     ]
    },
    {
     "name": "stderr",
     "output_type": "stream",
     "text": [
      "Epoch 297/1000: 100%|████████████████████████████████| 4/4 [00:00<00:00,  4.33it/s, avg_loss=0.242, current_loss=0.245]\n"
     ]
    },
    {
     "name": "stdout",
     "output_type": "stream",
     "text": [
      "Epoch 297/1000 - Average Loss: 0.24164\n"
     ]
    },
    {
     "name": "stderr",
     "output_type": "stream",
     "text": [
      "Epoch 298/1000: 100%|████████████████████████████████| 4/4 [00:00<00:00,  4.36it/s, avg_loss=0.241, current_loss=0.243]\n"
     ]
    },
    {
     "name": "stdout",
     "output_type": "stream",
     "text": [
      "Epoch 298/1000 - Average Loss: 0.24106\n"
     ]
    },
    {
     "name": "stderr",
     "output_type": "stream",
     "text": [
      "Epoch 299/1000: 100%|████████████████████████████████| 4/4 [00:00<00:00,  4.09it/s, avg_loss=0.241, current_loss=0.237]\n"
     ]
    },
    {
     "name": "stdout",
     "output_type": "stream",
     "text": [
      "Epoch 299/1000 - Average Loss: 0.24078\n"
     ]
    },
    {
     "name": "stderr",
     "output_type": "stream",
     "text": [
      "Epoch 300/1000: 100%|████████████████████████████████| 4/4 [00:00<00:00,  4.34it/s, avg_loss=0.241, current_loss=0.225]\n"
     ]
    },
    {
     "name": "stdout",
     "output_type": "stream",
     "text": [
      "Epoch 300/1000 - Average Loss: 0.24070\n"
     ]
    },
    {
     "name": "stderr",
     "output_type": "stream",
     "text": [
      "Epoch 301/1000: 100%|████████████████████████████████| 4/4 [00:00<00:00,  4.58it/s, avg_loss=0.241, current_loss=0.232]\n"
     ]
    },
    {
     "name": "stdout",
     "output_type": "stream",
     "text": [
      "Epoch 301/1000 - Average Loss: 0.24107\n"
     ]
    },
    {
     "name": "stderr",
     "output_type": "stream",
     "text": [
      "Epoch 302/1000: 100%|████████████████████████████████| 4/4 [00:00<00:00,  4.62it/s, avg_loss=0.241, current_loss=0.248]\n"
     ]
    },
    {
     "name": "stdout",
     "output_type": "stream",
     "text": [
      "Epoch 302/1000 - Average Loss: 0.24106\n"
     ]
    },
    {
     "name": "stderr",
     "output_type": "stream",
     "text": [
      "Epoch 303/1000: 100%|████████████████████████████████| 4/4 [00:00<00:00,  4.56it/s, avg_loss=0.241, current_loss=0.253]\n"
     ]
    },
    {
     "name": "stdout",
     "output_type": "stream",
     "text": [
      "Epoch 303/1000 - Average Loss: 0.24121\n"
     ]
    },
    {
     "name": "stderr",
     "output_type": "stream",
     "text": [
      "Epoch 304/1000: 100%|█████████████████████████████████| 4/4 [00:00<00:00,  4.35it/s, avg_loss=0.241, current_loss=0.26]\n"
     ]
    },
    {
     "name": "stdout",
     "output_type": "stream",
     "text": [
      "Epoch 304/1000 - Average Loss: 0.24101\n"
     ]
    },
    {
     "name": "stderr",
     "output_type": "stream",
     "text": [
      "Epoch 305/1000: 100%|█████████████████████████████████| 4/4 [00:00<00:00,  4.18it/s, avg_loss=0.24, current_loss=0.232]\n"
     ]
    },
    {
     "name": "stdout",
     "output_type": "stream",
     "text": [
      "Epoch 305/1000 - Average Loss: 0.24049\n"
     ]
    },
    {
     "name": "stderr",
     "output_type": "stream",
     "text": [
      "Epoch 306/1000: 100%|█████████████████████████████████| 4/4 [00:00<00:00,  4.38it/s, avg_loss=0.241, current_loss=0.24]\n"
     ]
    },
    {
     "name": "stdout",
     "output_type": "stream",
     "text": [
      "Epoch 306/1000 - Average Loss: 0.24054\n"
     ]
    },
    {
     "name": "stderr",
     "output_type": "stream",
     "text": [
      "Epoch 307/1000: 100%|████████████████████████████████| 4/4 [00:00<00:00,  4.44it/s, avg_loss=0.241, current_loss=0.232]\n"
     ]
    },
    {
     "name": "stdout",
     "output_type": "stream",
     "text": [
      "Epoch 307/1000 - Average Loss: 0.24059\n"
     ]
    },
    {
     "name": "stderr",
     "output_type": "stream",
     "text": [
      "Epoch 308/1000: 100%|████████████████████████████████| 4/4 [00:00<00:00,  4.53it/s, avg_loss=0.241, current_loss=0.235]\n"
     ]
    },
    {
     "name": "stdout",
     "output_type": "stream",
     "text": [
      "Epoch 308/1000 - Average Loss: 0.24052\n"
     ]
    },
    {
     "name": "stderr",
     "output_type": "stream",
     "text": [
      "Epoch 309/1000: 100%|█████████████████████████████████| 4/4 [00:00<00:00,  4.57it/s, avg_loss=0.24, current_loss=0.236]\n"
     ]
    },
    {
     "name": "stdout",
     "output_type": "stream",
     "text": [
      "Epoch 309/1000 - Average Loss: 0.24047\n"
     ]
    },
    {
     "name": "stderr",
     "output_type": "stream",
     "text": [
      "Epoch 310/1000: 100%|█████████████████████████████████| 4/4 [00:00<00:00,  4.40it/s, avg_loss=0.24, current_loss=0.242]\n"
     ]
    },
    {
     "name": "stdout",
     "output_type": "stream",
     "text": [
      "Epoch 310/1000 - Average Loss: 0.24045\n"
     ]
    },
    {
     "name": "stderr",
     "output_type": "stream",
     "text": [
      "Epoch 311/1000: 100%|████████████████████████████████| 4/4 [00:00<00:00,  4.24it/s, avg_loss=0.241, current_loss=0.236]\n"
     ]
    },
    {
     "name": "stdout",
     "output_type": "stream",
     "text": [
      "Epoch 311/1000 - Average Loss: 0.24109\n"
     ]
    },
    {
     "name": "stderr",
     "output_type": "stream",
     "text": [
      "Epoch 312/1000: 100%|████████████████████████████████| 4/4 [00:00<00:00,  4.27it/s, avg_loss=0.241, current_loss=0.241]\n"
     ]
    },
    {
     "name": "stdout",
     "output_type": "stream",
     "text": [
      "Epoch 312/1000 - Average Loss: 0.24075\n"
     ]
    },
    {
     "name": "stderr",
     "output_type": "stream",
     "text": [
      "Epoch 313/1000: 100%|████████████████████████████████| 4/4 [00:00<00:00,  4.41it/s, avg_loss=0.241, current_loss=0.236]\n"
     ]
    },
    {
     "name": "stdout",
     "output_type": "stream",
     "text": [
      "Epoch 313/1000 - Average Loss: 0.24052\n"
     ]
    },
    {
     "name": "stderr",
     "output_type": "stream",
     "text": [
      "Epoch 314/1000: 100%|██████████████████████████████████| 4/4 [00:00<00:00,  4.42it/s, avg_loss=0.24, current_loss=0.23]\n"
     ]
    },
    {
     "name": "stdout",
     "output_type": "stream",
     "text": [
      "Epoch 314/1000 - Average Loss: 0.24049\n"
     ]
    },
    {
     "name": "stderr",
     "output_type": "stream",
     "text": [
      "Epoch 315/1000: 100%|█████████████████████████████████| 4/4 [00:00<00:00,  4.29it/s, avg_loss=0.24, current_loss=0.256]\n"
     ]
    },
    {
     "name": "stdout",
     "output_type": "stream",
     "text": [
      "Epoch 315/1000 - Average Loss: 0.24035\n"
     ]
    },
    {
     "name": "stderr",
     "output_type": "stream",
     "text": [
      "Epoch 316/1000: 100%|█████████████████████████████████| 4/4 [00:00<00:00,  4.16it/s, avg_loss=0.24, current_loss=0.223]\n"
     ]
    },
    {
     "name": "stdout",
     "output_type": "stream",
     "text": [
      "Epoch 316/1000 - Average Loss: 0.24004\n"
     ]
    },
    {
     "name": "stderr",
     "output_type": "stream",
     "text": [
      "Epoch 317/1000: 100%|█████████████████████████████████| 4/4 [00:00<00:00,  4.24it/s, avg_loss=0.24, current_loss=0.246]\n"
     ]
    },
    {
     "name": "stdout",
     "output_type": "stream",
     "text": [
      "Epoch 317/1000 - Average Loss: 0.23996\n"
     ]
    },
    {
     "name": "stderr",
     "output_type": "stream",
     "text": [
      "Epoch 318/1000: 100%|█████████████████████████████████| 4/4 [00:00<00:00,  4.43it/s, avg_loss=0.24, current_loss=0.252]\n"
     ]
    },
    {
     "name": "stdout",
     "output_type": "stream",
     "text": [
      "Epoch 318/1000 - Average Loss: 0.23997\n"
     ]
    },
    {
     "name": "stderr",
     "output_type": "stream",
     "text": [
      "Epoch 319/1000: 100%|█████████████████████████████████| 4/4 [00:00<00:00,  4.33it/s, avg_loss=0.24, current_loss=0.238]\n"
     ]
    },
    {
     "name": "stdout",
     "output_type": "stream",
     "text": [
      "Epoch 319/1000 - Average Loss: 0.23972\n"
     ]
    },
    {
     "name": "stderr",
     "output_type": "stream",
     "text": [
      "Epoch 320/1000: 100%|█████████████████████████████████| 4/4 [00:00<00:00,  4.34it/s, avg_loss=0.24, current_loss=0.234]\n"
     ]
    },
    {
     "name": "stdout",
     "output_type": "stream",
     "text": [
      "Epoch 320/1000 - Average Loss: 0.24002\n"
     ]
    },
    {
     "name": "stderr",
     "output_type": "stream",
     "text": [
      "Epoch 321/1000: 100%|█████████████████████████████████| 4/4 [00:00<00:00,  4.03it/s, avg_loss=0.24, current_loss=0.241]\n"
     ]
    },
    {
     "name": "stdout",
     "output_type": "stream",
     "text": [
      "Epoch 321/1000 - Average Loss: 0.23961\n"
     ]
    },
    {
     "name": "stderr",
     "output_type": "stream",
     "text": [
      "Epoch 322/1000: 100%|██████████████████████████████████| 4/4 [00:00<00:00,  4.52it/s, avg_loss=0.24, current_loss=0.25]\n"
     ]
    },
    {
     "name": "stdout",
     "output_type": "stream",
     "text": [
      "Epoch 322/1000 - Average Loss: 0.23960\n"
     ]
    },
    {
     "name": "stderr",
     "output_type": "stream",
     "text": [
      "Epoch 323/1000: 100%|██████████████████████████████████| 4/4 [00:00<00:00,  4.76it/s, avg_loss=0.24, current_loss=0.25]\n"
     ]
    },
    {
     "name": "stdout",
     "output_type": "stream",
     "text": [
      "Epoch 323/1000 - Average Loss: 0.23982\n"
     ]
    },
    {
     "name": "stderr",
     "output_type": "stream",
     "text": [
      "Epoch 324/1000: 100%|█████████████████████████████████| 4/4 [00:00<00:00,  4.63it/s, avg_loss=0.24, current_loss=0.245]\n"
     ]
    },
    {
     "name": "stdout",
     "output_type": "stream",
     "text": [
      "Epoch 324/1000 - Average Loss: 0.23990\n"
     ]
    },
    {
     "name": "stderr",
     "output_type": "stream",
     "text": [
      "Epoch 325/1000: 100%|█████████████████████████████████| 4/4 [00:00<00:00,  4.37it/s, avg_loss=0.24, current_loss=0.237]\n"
     ]
    },
    {
     "name": "stdout",
     "output_type": "stream",
     "text": [
      "Epoch 325/1000 - Average Loss: 0.24000\n"
     ]
    },
    {
     "name": "stderr",
     "output_type": "stream",
     "text": [
      "Epoch 326/1000: 100%|████████████████████████████████| 4/4 [00:00<00:00,  4.69it/s, avg_loss=0.241, current_loss=0.244]\n"
     ]
    },
    {
     "name": "stdout",
     "output_type": "stream",
     "text": [
      "Epoch 326/1000 - Average Loss: 0.24067\n"
     ]
    },
    {
     "name": "stderr",
     "output_type": "stream",
     "text": [
      "Epoch 327/1000: 100%|██████████████████████████████████| 4/4 [00:00<00:00,  4.81it/s, avg_loss=0.24, current_loss=0.23]\n"
     ]
    },
    {
     "name": "stdout",
     "output_type": "stream",
     "text": [
      "Epoch 327/1000 - Average Loss: 0.24006\n"
     ]
    },
    {
     "name": "stderr",
     "output_type": "stream",
     "text": [
      "Epoch 328/1000: 100%|█████████████████████████████████| 4/4 [00:00<00:00,  4.58it/s, avg_loss=0.24, current_loss=0.234]\n"
     ]
    },
    {
     "name": "stdout",
     "output_type": "stream",
     "text": [
      "Epoch 328/1000 - Average Loss: 0.23956\n"
     ]
    },
    {
     "name": "stderr",
     "output_type": "stream",
     "text": [
      "Epoch 329/1000: 100%|█████████████████████████████████| 4/4 [00:00<00:00,  4.41it/s, avg_loss=0.24, current_loss=0.234]\n"
     ]
    },
    {
     "name": "stdout",
     "output_type": "stream",
     "text": [
      "Epoch 329/1000 - Average Loss: 0.23974\n"
     ]
    },
    {
     "name": "stderr",
     "output_type": "stream",
     "text": [
      "Epoch 330/1000: 100%|█████████████████████████████████| 4/4 [00:00<00:00,  4.38it/s, avg_loss=0.24, current_loss=0.242]\n"
     ]
    },
    {
     "name": "stdout",
     "output_type": "stream",
     "text": [
      "Epoch 330/1000 - Average Loss: 0.23978\n"
     ]
    },
    {
     "name": "stderr",
     "output_type": "stream",
     "text": [
      "Epoch 331/1000: 100%|█████████████████████████████████| 4/4 [00:00<00:00,  4.75it/s, avg_loss=0.24, current_loss=0.239]\n"
     ]
    },
    {
     "name": "stdout",
     "output_type": "stream",
     "text": [
      "Epoch 331/1000 - Average Loss: 0.23961\n"
     ]
    },
    {
     "name": "stderr",
     "output_type": "stream",
     "text": [
      "Epoch 332/1000: 100%|█████████████████████████████████| 4/4 [00:00<00:00,  4.61it/s, avg_loss=0.24, current_loss=0.245]\n"
     ]
    },
    {
     "name": "stdout",
     "output_type": "stream",
     "text": [
      "Epoch 332/1000 - Average Loss: 0.23954\n"
     ]
    },
    {
     "name": "stderr",
     "output_type": "stream",
     "text": [
      "Epoch 333/1000: 100%|██████████████████████████████████| 4/4 [00:00<00:00,  4.33it/s, avg_loss=0.24, current_loss=0.24]\n"
     ]
    },
    {
     "name": "stdout",
     "output_type": "stream",
     "text": [
      "Epoch 333/1000 - Average Loss: 0.23975\n"
     ]
    },
    {
     "name": "stderr",
     "output_type": "stream",
     "text": [
      "Epoch 334/1000: 100%|████████████████████████████████| 4/4 [00:00<00:00,  4.78it/s, avg_loss=0.239, current_loss=0.229]\n"
     ]
    },
    {
     "name": "stdout",
     "output_type": "stream",
     "text": [
      "Epoch 334/1000 - Average Loss: 0.23932\n"
     ]
    },
    {
     "name": "stderr",
     "output_type": "stream",
     "text": [
      "Epoch 335/1000: 100%|█████████████████████████████████| 4/4 [00:00<00:00,  4.77it/s, avg_loss=0.24, current_loss=0.221]\n"
     ]
    },
    {
     "name": "stdout",
     "output_type": "stream",
     "text": [
      "Epoch 335/1000 - Average Loss: 0.23958\n"
     ]
    },
    {
     "name": "stderr",
     "output_type": "stream",
     "text": [
      "Epoch 336/1000: 100%|█████████████████████████████████| 4/4 [00:01<00:00,  3.87it/s, avg_loss=0.24, current_loss=0.234]\n"
     ]
    },
    {
     "name": "stdout",
     "output_type": "stream",
     "text": [
      "Epoch 336/1000 - Average Loss: 0.23996\n"
     ]
    },
    {
     "name": "stderr",
     "output_type": "stream",
     "text": [
      "Epoch 337/1000: 100%|██████████████████████████████████| 4/4 [00:00<00:00,  4.55it/s, avg_loss=0.24, current_loss=0.23]\n"
     ]
    },
    {
     "name": "stdout",
     "output_type": "stream",
     "text": [
      "Epoch 337/1000 - Average Loss: 0.23967\n"
     ]
    },
    {
     "name": "stderr",
     "output_type": "stream",
     "text": [
      "Epoch 338/1000: 100%|████████████████████████████████| 4/4 [00:00<00:00,  4.49it/s, avg_loss=0.239, current_loss=0.242]\n"
     ]
    },
    {
     "name": "stdout",
     "output_type": "stream",
     "text": [
      "Epoch 338/1000 - Average Loss: 0.23909\n"
     ]
    },
    {
     "name": "stderr",
     "output_type": "stream",
     "text": [
      "Epoch 339/1000: 100%|████████████████████████████████| 4/4 [00:00<00:00,  4.31it/s, avg_loss=0.239, current_loss=0.241]\n"
     ]
    },
    {
     "name": "stdout",
     "output_type": "stream",
     "text": [
      "Epoch 339/1000 - Average Loss: 0.23896\n"
     ]
    },
    {
     "name": "stderr",
     "output_type": "stream",
     "text": [
      "Epoch 340/1000: 100%|████████████████████████████████| 4/4 [00:00<00:00,  4.80it/s, avg_loss=0.239, current_loss=0.243]\n"
     ]
    },
    {
     "name": "stdout",
     "output_type": "stream",
     "text": [
      "Epoch 340/1000 - Average Loss: 0.23910\n"
     ]
    },
    {
     "name": "stderr",
     "output_type": "stream",
     "text": [
      "Epoch 341/1000: 100%|█████████████████████████████████| 4/4 [00:00<00:00,  4.95it/s, avg_loss=0.24, current_loss=0.244]\n"
     ]
    },
    {
     "name": "stdout",
     "output_type": "stream",
     "text": [
      "Epoch 341/1000 - Average Loss: 0.23957\n"
     ]
    },
    {
     "name": "stderr",
     "output_type": "stream",
     "text": [
      "Epoch 342/1000: 100%|████████████████████████████████| 4/4 [00:00<00:00,  4.16it/s, avg_loss=0.239, current_loss=0.246]\n"
     ]
    },
    {
     "name": "stdout",
     "output_type": "stream",
     "text": [
      "Epoch 342/1000 - Average Loss: 0.23908\n"
     ]
    },
    {
     "name": "stderr",
     "output_type": "stream",
     "text": [
      "Epoch 343/1000: 100%|████████████████████████████████| 4/4 [00:00<00:00,  4.34it/s, avg_loss=0.239, current_loss=0.232]\n"
     ]
    },
    {
     "name": "stdout",
     "output_type": "stream",
     "text": [
      "Epoch 343/1000 - Average Loss: 0.23890\n"
     ]
    },
    {
     "name": "stderr",
     "output_type": "stream",
     "text": [
      "Epoch 344/1000: 100%|████████████████████████████████| 4/4 [00:00<00:00,  4.67it/s, avg_loss=0.239, current_loss=0.235]\n"
     ]
    },
    {
     "name": "stdout",
     "output_type": "stream",
     "text": [
      "Epoch 344/1000 - Average Loss: 0.23873\n"
     ]
    },
    {
     "name": "stderr",
     "output_type": "stream",
     "text": [
      "Epoch 345/1000: 100%|████████████████████████████████| 4/4 [00:00<00:00,  4.45it/s, avg_loss=0.239, current_loss=0.242]\n"
     ]
    },
    {
     "name": "stdout",
     "output_type": "stream",
     "text": [
      "Epoch 345/1000 - Average Loss: 0.23886\n"
     ]
    },
    {
     "name": "stderr",
     "output_type": "stream",
     "text": [
      "Epoch 346/1000: 100%|████████████████████████████████| 4/4 [00:00<00:00,  4.19it/s, avg_loss=0.239, current_loss=0.231]\n"
     ]
    },
    {
     "name": "stdout",
     "output_type": "stream",
     "text": [
      "Epoch 346/1000 - Average Loss: 0.23886\n"
     ]
    },
    {
     "name": "stderr",
     "output_type": "stream",
     "text": [
      "Epoch 347/1000: 100%|█████████████████████████████████| 4/4 [00:00<00:00,  4.42it/s, avg_loss=0.239, current_loss=0.24]\n"
     ]
    },
    {
     "name": "stdout",
     "output_type": "stream",
     "text": [
      "Epoch 347/1000 - Average Loss: 0.23852\n"
     ]
    },
    {
     "name": "stderr",
     "output_type": "stream",
     "text": [
      "Epoch 348/1000: 100%|████████████████████████████████| 4/4 [00:00<00:00,  4.33it/s, avg_loss=0.238, current_loss=0.242]\n"
     ]
    },
    {
     "name": "stdout",
     "output_type": "stream",
     "text": [
      "Epoch 348/1000 - Average Loss: 0.23841\n"
     ]
    },
    {
     "name": "stderr",
     "output_type": "stream",
     "text": [
      "Epoch 349/1000: 100%|█████████████████████████████████| 4/4 [00:00<00:00,  4.88it/s, avg_loss=0.238, current_loss=0.24]\n"
     ]
    },
    {
     "name": "stdout",
     "output_type": "stream",
     "text": [
      "Epoch 349/1000 - Average Loss: 0.23833\n"
     ]
    },
    {
     "name": "stderr",
     "output_type": "stream",
     "text": [
      "Epoch 350/1000: 100%|████████████████████████████████| 4/4 [00:00<00:00,  4.52it/s, avg_loss=0.239, current_loss=0.242]\n"
     ]
    },
    {
     "name": "stdout",
     "output_type": "stream",
     "text": [
      "Epoch 350/1000 - Average Loss: 0.23875\n"
     ]
    },
    {
     "name": "stderr",
     "output_type": "stream",
     "text": [
      "Epoch 351/1000: 100%|████████████████████████████████| 4/4 [00:00<00:00,  4.86it/s, avg_loss=0.239, current_loss=0.245]\n"
     ]
    },
    {
     "name": "stdout",
     "output_type": "stream",
     "text": [
      "Epoch 351/1000 - Average Loss: 0.23865\n"
     ]
    },
    {
     "name": "stderr",
     "output_type": "stream",
     "text": [
      "Epoch 352/1000: 100%|████████████████████████████████| 4/4 [00:00<00:00,  4.40it/s, avg_loss=0.239, current_loss=0.244]\n"
     ]
    },
    {
     "name": "stdout",
     "output_type": "stream",
     "text": [
      "Epoch 352/1000 - Average Loss: 0.23872\n"
     ]
    },
    {
     "name": "stderr",
     "output_type": "stream",
     "text": [
      "Epoch 353/1000: 100%|█████████████████████████████████| 4/4 [00:00<00:00,  4.49it/s, avg_loss=0.24, current_loss=0.244]\n"
     ]
    },
    {
     "name": "stdout",
     "output_type": "stream",
     "text": [
      "Epoch 353/1000 - Average Loss: 0.24039\n"
     ]
    },
    {
     "name": "stderr",
     "output_type": "stream",
     "text": [
      "Epoch 354/1000: 100%|████████████████████████████████| 4/4 [00:00<00:00,  4.46it/s, avg_loss=0.239, current_loss=0.242]\n"
     ]
    },
    {
     "name": "stdout",
     "output_type": "stream",
     "text": [
      "Epoch 354/1000 - Average Loss: 0.23947\n"
     ]
    },
    {
     "name": "stderr",
     "output_type": "stream",
     "text": [
      "Epoch 355/1000: 100%|████████████████████████████████| 4/4 [00:00<00:00,  4.55it/s, avg_loss=0.239, current_loss=0.243]\n"
     ]
    },
    {
     "name": "stdout",
     "output_type": "stream",
     "text": [
      "Epoch 355/1000 - Average Loss: 0.23859\n"
     ]
    },
    {
     "name": "stderr",
     "output_type": "stream",
     "text": [
      "Epoch 356/1000: 100%|████████████████████████████████| 4/4 [00:00<00:00,  4.47it/s, avg_loss=0.239, current_loss=0.246]\n"
     ]
    },
    {
     "name": "stdout",
     "output_type": "stream",
     "text": [
      "Epoch 356/1000 - Average Loss: 0.23865\n"
     ]
    },
    {
     "name": "stderr",
     "output_type": "stream",
     "text": [
      "Epoch 357/1000: 100%|████████████████████████████████| 4/4 [00:00<00:00,  4.27it/s, avg_loss=0.239, current_loss=0.262]\n"
     ]
    },
    {
     "name": "stdout",
     "output_type": "stream",
     "text": [
      "Epoch 357/1000 - Average Loss: 0.23879\n"
     ]
    },
    {
     "name": "stderr",
     "output_type": "stream",
     "text": [
      "Epoch 358/1000: 100%|█████████████████████████████████| 4/4 [00:00<00:00,  4.42it/s, avg_loss=0.239, current_loss=0.25]\n"
     ]
    },
    {
     "name": "stdout",
     "output_type": "stream",
     "text": [
      "Epoch 358/1000 - Average Loss: 0.23857\n"
     ]
    },
    {
     "name": "stderr",
     "output_type": "stream",
     "text": [
      "Epoch 359/1000: 100%|████████████████████████████████| 4/4 [00:00<00:00,  4.64it/s, avg_loss=0.238, current_loss=0.237]\n"
     ]
    },
    {
     "name": "stdout",
     "output_type": "stream",
     "text": [
      "Epoch 359/1000 - Average Loss: 0.23812\n"
     ]
    },
    {
     "name": "stderr",
     "output_type": "stream",
     "text": [
      "Epoch 360/1000: 100%|████████████████████████████████| 4/4 [00:00<00:00,  4.35it/s, avg_loss=0.238, current_loss=0.237]\n"
     ]
    },
    {
     "name": "stdout",
     "output_type": "stream",
     "text": [
      "Epoch 360/1000 - Average Loss: 0.23823\n"
     ]
    },
    {
     "name": "stderr",
     "output_type": "stream",
     "text": [
      "Epoch 361/1000: 100%|████████████████████████████████| 4/4 [00:00<00:00,  4.56it/s, avg_loss=0.238, current_loss=0.245]\n"
     ]
    },
    {
     "name": "stdout",
     "output_type": "stream",
     "text": [
      "Epoch 361/1000 - Average Loss: 0.23794\n"
     ]
    },
    {
     "name": "stderr",
     "output_type": "stream",
     "text": [
      "Epoch 362/1000: 100%|████████████████████████████████| 4/4 [00:00<00:00,  4.60it/s, avg_loss=0.238, current_loss=0.256]\n"
     ]
    },
    {
     "name": "stdout",
     "output_type": "stream",
     "text": [
      "Epoch 362/1000 - Average Loss: 0.23831\n"
     ]
    },
    {
     "name": "stderr",
     "output_type": "stream",
     "text": [
      "Epoch 363/1000: 100%|████████████████████████████████| 4/4 [00:00<00:00,  4.16it/s, avg_loss=0.238, current_loss=0.235]\n"
     ]
    },
    {
     "name": "stdout",
     "output_type": "stream",
     "text": [
      "Epoch 363/1000 - Average Loss: 0.23799\n"
     ]
    },
    {
     "name": "stderr",
     "output_type": "stream",
     "text": [
      "Epoch 364/1000: 100%|████████████████████████████████| 4/4 [00:00<00:00,  4.41it/s, avg_loss=0.238, current_loss=0.241]\n"
     ]
    },
    {
     "name": "stdout",
     "output_type": "stream",
     "text": [
      "Epoch 364/1000 - Average Loss: 0.23832\n"
     ]
    },
    {
     "name": "stderr",
     "output_type": "stream",
     "text": [
      "Epoch 365/1000: 100%|████████████████████████████████| 4/4 [00:00<00:00,  4.67it/s, avg_loss=0.238, current_loss=0.233]\n"
     ]
    },
    {
     "name": "stdout",
     "output_type": "stream",
     "text": [
      "Epoch 365/1000 - Average Loss: 0.23794\n"
     ]
    },
    {
     "name": "stderr",
     "output_type": "stream",
     "text": [
      "Epoch 366/1000: 100%|████████████████████████████████| 4/4 [00:00<00:00,  4.74it/s, avg_loss=0.238, current_loss=0.225]\n"
     ]
    },
    {
     "name": "stdout",
     "output_type": "stream",
     "text": [
      "Epoch 366/1000 - Average Loss: 0.23767\n"
     ]
    },
    {
     "name": "stderr",
     "output_type": "stream",
     "text": [
      "Epoch 367/1000: 100%|████████████████████████████████| 4/4 [00:00<00:00,  4.48it/s, avg_loss=0.238, current_loss=0.241]\n"
     ]
    },
    {
     "name": "stdout",
     "output_type": "stream",
     "text": [
      "Epoch 367/1000 - Average Loss: 0.23772\n"
     ]
    },
    {
     "name": "stderr",
     "output_type": "stream",
     "text": [
      "Epoch 368/1000: 100%|████████████████████████████████| 4/4 [00:00<00:00,  4.20it/s, avg_loss=0.239, current_loss=0.233]\n"
     ]
    },
    {
     "name": "stdout",
     "output_type": "stream",
     "text": [
      "Epoch 368/1000 - Average Loss: 0.23883\n"
     ]
    },
    {
     "name": "stderr",
     "output_type": "stream",
     "text": [
      "Epoch 369/1000: 100%|████████████████████████████████| 4/4 [00:00<00:00,  4.24it/s, avg_loss=0.239, current_loss=0.242]\n"
     ]
    },
    {
     "name": "stdout",
     "output_type": "stream",
     "text": [
      "Epoch 369/1000 - Average Loss: 0.23922\n"
     ]
    },
    {
     "name": "stderr",
     "output_type": "stream",
     "text": [
      "Epoch 370/1000: 100%|████████████████████████████████| 4/4 [00:00<00:00,  4.52it/s, avg_loss=0.239, current_loss=0.231]\n"
     ]
    },
    {
     "name": "stdout",
     "output_type": "stream",
     "text": [
      "Epoch 370/1000 - Average Loss: 0.23924\n"
     ]
    },
    {
     "name": "stderr",
     "output_type": "stream",
     "text": [
      "Epoch 371/1000: 100%|████████████████████████████████| 4/4 [00:00<00:00,  4.63it/s, avg_loss=0.239, current_loss=0.233]\n"
     ]
    },
    {
     "name": "stdout",
     "output_type": "stream",
     "text": [
      "Epoch 371/1000 - Average Loss: 0.23855\n"
     ]
    },
    {
     "name": "stderr",
     "output_type": "stream",
     "text": [
      "Epoch 372/1000: 100%|█████████████████████████████████| 4/4 [00:00<00:00,  4.14it/s, avg_loss=0.238, current_loss=0.23]\n"
     ]
    },
    {
     "name": "stdout",
     "output_type": "stream",
     "text": [
      "Epoch 372/1000 - Average Loss: 0.23797\n"
     ]
    },
    {
     "name": "stderr",
     "output_type": "stream",
     "text": [
      "Epoch 373/1000: 100%|████████████████████████████████| 4/4 [00:00<00:00,  4.39it/s, avg_loss=0.238, current_loss=0.241]\n"
     ]
    },
    {
     "name": "stdout",
     "output_type": "stream",
     "text": [
      "Epoch 373/1000 - Average Loss: 0.23787\n"
     ]
    },
    {
     "name": "stderr",
     "output_type": "stream",
     "text": [
      "Epoch 374/1000: 100%|████████████████████████████████| 4/4 [00:00<00:00,  4.66it/s, avg_loss=0.238, current_loss=0.234]\n"
     ]
    },
    {
     "name": "stdout",
     "output_type": "stream",
     "text": [
      "Epoch 374/1000 - Average Loss: 0.23790\n"
     ]
    },
    {
     "name": "stderr",
     "output_type": "stream",
     "text": [
      "Epoch 375/1000: 100%|████████████████████████████████| 4/4 [00:00<00:00,  4.44it/s, avg_loss=0.238, current_loss=0.232]\n"
     ]
    },
    {
     "name": "stdout",
     "output_type": "stream",
     "text": [
      "Epoch 375/1000 - Average Loss: 0.23751\n"
     ]
    },
    {
     "name": "stderr",
     "output_type": "stream",
     "text": [
      "Epoch 376/1000: 100%|█████████████████████████████████| 4/4 [00:00<00:00,  4.04it/s, avg_loss=0.237, current_loss=0.25]\n"
     ]
    },
    {
     "name": "stdout",
     "output_type": "stream",
     "text": [
      "Epoch 376/1000 - Average Loss: 0.23748\n"
     ]
    },
    {
     "name": "stderr",
     "output_type": "stream",
     "text": [
      "Epoch 377/1000: 100%|████████████████████████████████| 4/4 [00:00<00:00,  4.45it/s, avg_loss=0.238, current_loss=0.236]\n"
     ]
    },
    {
     "name": "stdout",
     "output_type": "stream",
     "text": [
      "Epoch 377/1000 - Average Loss: 0.23752\n"
     ]
    },
    {
     "name": "stderr",
     "output_type": "stream",
     "text": [
      "Epoch 378/1000: 100%|████████████████████████████████| 4/4 [00:00<00:00,  4.60it/s, avg_loss=0.238, current_loss=0.248]\n"
     ]
    },
    {
     "name": "stdout",
     "output_type": "stream",
     "text": [
      "Epoch 378/1000 - Average Loss: 0.23776\n"
     ]
    },
    {
     "name": "stderr",
     "output_type": "stream",
     "text": [
      "Epoch 379/1000: 100%|████████████████████████████████| 4/4 [00:00<00:00,  4.22it/s, avg_loss=0.237, current_loss=0.247]\n"
     ]
    },
    {
     "name": "stdout",
     "output_type": "stream",
     "text": [
      "Epoch 379/1000 - Average Loss: 0.23739\n"
     ]
    },
    {
     "name": "stderr",
     "output_type": "stream",
     "text": [
      "Epoch 380/1000: 100%|████████████████████████████████| 4/4 [00:00<00:00,  4.63it/s, avg_loss=0.237, current_loss=0.245]\n"
     ]
    },
    {
     "name": "stdout",
     "output_type": "stream",
     "text": [
      "Epoch 380/1000 - Average Loss: 0.23723\n"
     ]
    },
    {
     "name": "stderr",
     "output_type": "stream",
     "text": [
      "Epoch 381/1000: 100%|████████████████████████████████| 4/4 [00:00<00:00,  4.33it/s, avg_loss=0.237, current_loss=0.251]\n"
     ]
    },
    {
     "name": "stdout",
     "output_type": "stream",
     "text": [
      "Epoch 381/1000 - Average Loss: 0.23732\n"
     ]
    },
    {
     "name": "stderr",
     "output_type": "stream",
     "text": [
      "Epoch 382/1000: 100%|████████████████████████████████| 4/4 [00:00<00:00,  4.52it/s, avg_loss=0.238, current_loss=0.241]\n"
     ]
    },
    {
     "name": "stdout",
     "output_type": "stream",
     "text": [
      "Epoch 382/1000 - Average Loss: 0.23750\n"
     ]
    },
    {
     "name": "stderr",
     "output_type": "stream",
     "text": [
      "Epoch 383/1000: 100%|████████████████████████████████| 4/4 [00:00<00:00,  4.76it/s, avg_loss=0.237, current_loss=0.237]\n"
     ]
    },
    {
     "name": "stdout",
     "output_type": "stream",
     "text": [
      "Epoch 383/1000 - Average Loss: 0.23712\n"
     ]
    },
    {
     "name": "stderr",
     "output_type": "stream",
     "text": [
      "Epoch 384/1000: 100%|████████████████████████████████| 4/4 [00:00<00:00,  4.17it/s, avg_loss=0.237, current_loss=0.247]\n"
     ]
    },
    {
     "name": "stdout",
     "output_type": "stream",
     "text": [
      "Epoch 384/1000 - Average Loss: 0.23691\n"
     ]
    },
    {
     "name": "stderr",
     "output_type": "stream",
     "text": [
      "Epoch 385/1000: 100%|████████████████████████████████| 4/4 [00:00<00:00,  4.39it/s, avg_loss=0.237, current_loss=0.238]\n"
     ]
    },
    {
     "name": "stdout",
     "output_type": "stream",
     "text": [
      "Epoch 385/1000 - Average Loss: 0.23681\n"
     ]
    },
    {
     "name": "stderr",
     "output_type": "stream",
     "text": [
      "Epoch 386/1000: 100%|████████████████████████████████| 4/4 [00:00<00:00,  4.59it/s, avg_loss=0.237, current_loss=0.237]\n"
     ]
    },
    {
     "name": "stdout",
     "output_type": "stream",
     "text": [
      "Epoch 386/1000 - Average Loss: 0.23668\n"
     ]
    },
    {
     "name": "stderr",
     "output_type": "stream",
     "text": [
      "Epoch 387/1000: 100%|█████████████████████████████████| 4/4 [00:00<00:00,  4.43it/s, avg_loss=0.237, current_loss=0.22]\n"
     ]
    },
    {
     "name": "stdout",
     "output_type": "stream",
     "text": [
      "Epoch 387/1000 - Average Loss: 0.23710\n"
     ]
    },
    {
     "name": "stderr",
     "output_type": "stream",
     "text": [
      "Epoch 388/1000: 100%|████████████████████████████████| 4/4 [00:00<00:00,  4.42it/s, avg_loss=0.237, current_loss=0.238]\n"
     ]
    },
    {
     "name": "stdout",
     "output_type": "stream",
     "text": [
      "Epoch 388/1000 - Average Loss: 0.23699\n"
     ]
    },
    {
     "name": "stderr",
     "output_type": "stream",
     "text": [
      "Epoch 389/1000: 100%|████████████████████████████████| 4/4 [00:00<00:00,  4.47it/s, avg_loss=0.237, current_loss=0.248]\n"
     ]
    },
    {
     "name": "stdout",
     "output_type": "stream",
     "text": [
      "Epoch 389/1000 - Average Loss: 0.23723\n"
     ]
    },
    {
     "name": "stderr",
     "output_type": "stream",
     "text": [
      "Epoch 390/1000: 100%|████████████████████████████████| 4/4 [00:00<00:00,  4.33it/s, avg_loss=0.237, current_loss=0.227]\n"
     ]
    },
    {
     "name": "stdout",
     "output_type": "stream",
     "text": [
      "Epoch 390/1000 - Average Loss: 0.23695\n"
     ]
    },
    {
     "name": "stderr",
     "output_type": "stream",
     "text": [
      "Epoch 391/1000: 100%|████████████████████████████████| 4/4 [00:00<00:00,  4.59it/s, avg_loss=0.237, current_loss=0.237]\n"
     ]
    },
    {
     "name": "stdout",
     "output_type": "stream",
     "text": [
      "Epoch 391/1000 - Average Loss: 0.23691\n"
     ]
    },
    {
     "name": "stderr",
     "output_type": "stream",
     "text": [
      "Epoch 392/1000: 100%|█████████████████████████████████| 4/4 [00:00<00:00,  4.07it/s, avg_loss=0.237, current_loss=0.22]\n"
     ]
    },
    {
     "name": "stdout",
     "output_type": "stream",
     "text": [
      "Epoch 392/1000 - Average Loss: 0.23712\n"
     ]
    },
    {
     "name": "stderr",
     "output_type": "stream",
     "text": [
      "Epoch 393/1000: 100%|████████████████████████████████| 4/4 [00:00<00:00,  4.36it/s, avg_loss=0.238, current_loss=0.236]\n"
     ]
    },
    {
     "name": "stdout",
     "output_type": "stream",
     "text": [
      "Epoch 393/1000 - Average Loss: 0.23770\n"
     ]
    },
    {
     "name": "stderr",
     "output_type": "stream",
     "text": [
      "Epoch 394/1000: 100%|████████████████████████████████| 4/4 [00:00<00:00,  4.73it/s, avg_loss=0.237, current_loss=0.248]\n"
     ]
    },
    {
     "name": "stdout",
     "output_type": "stream",
     "text": [
      "Epoch 394/1000 - Average Loss: 0.23728\n"
     ]
    },
    {
     "name": "stderr",
     "output_type": "stream",
     "text": [
      "Epoch 395/1000: 100%|████████████████████████████████| 4/4 [00:00<00:00,  4.45it/s, avg_loss=0.237, current_loss=0.246]\n"
     ]
    },
    {
     "name": "stdout",
     "output_type": "stream",
     "text": [
      "Epoch 395/1000 - Average Loss: 0.23689\n"
     ]
    },
    {
     "name": "stderr",
     "output_type": "stream",
     "text": [
      "Epoch 396/1000: 100%|████████████████████████████████| 4/4 [00:00<00:00,  4.69it/s, avg_loss=0.237, current_loss=0.237]\n"
     ]
    },
    {
     "name": "stdout",
     "output_type": "stream",
     "text": [
      "Epoch 396/1000 - Average Loss: 0.23673\n"
     ]
    },
    {
     "name": "stderr",
     "output_type": "stream",
     "text": [
      "Epoch 397/1000: 100%|████████████████████████████████| 4/4 [00:00<00:00,  4.44it/s, avg_loss=0.237, current_loss=0.246]\n"
     ]
    },
    {
     "name": "stdout",
     "output_type": "stream",
     "text": [
      "Epoch 397/1000 - Average Loss: 0.23667\n"
     ]
    },
    {
     "name": "stderr",
     "output_type": "stream",
     "text": [
      "Epoch 398/1000: 100%|████████████████████████████████| 4/4 [00:00<00:00,  4.57it/s, avg_loss=0.237, current_loss=0.247]\n"
     ]
    },
    {
     "name": "stdout",
     "output_type": "stream",
     "text": [
      "Epoch 398/1000 - Average Loss: 0.23661\n"
     ]
    },
    {
     "name": "stderr",
     "output_type": "stream",
     "text": [
      "Epoch 399/1000: 100%|████████████████████████████████| 4/4 [00:00<00:00,  4.55it/s, avg_loss=0.237, current_loss=0.244]\n"
     ]
    },
    {
     "name": "stdout",
     "output_type": "stream",
     "text": [
      "Epoch 399/1000 - Average Loss: 0.23716\n"
     ]
    },
    {
     "name": "stderr",
     "output_type": "stream",
     "text": [
      "Epoch 400/1000: 100%|████████████████████████████████| 4/4 [00:00<00:00,  4.49it/s, avg_loss=0.237, current_loss=0.246]\n"
     ]
    },
    {
     "name": "stdout",
     "output_type": "stream",
     "text": [
      "Epoch 400/1000 - Average Loss: 0.23692\n"
     ]
    },
    {
     "name": "stderr",
     "output_type": "stream",
     "text": [
      "Epoch 401/1000: 100%|████████████████████████████████| 4/4 [00:00<00:00,  4.46it/s, avg_loss=0.237, current_loss=0.243]\n"
     ]
    },
    {
     "name": "stdout",
     "output_type": "stream",
     "text": [
      "Epoch 401/1000 - Average Loss: 0.23658\n"
     ]
    },
    {
     "name": "stderr",
     "output_type": "stream",
     "text": [
      "Epoch 402/1000: 100%|████████████████████████████████| 4/4 [00:00<00:00,  4.48it/s, avg_loss=0.237, current_loss=0.243]\n"
     ]
    },
    {
     "name": "stdout",
     "output_type": "stream",
     "text": [
      "Epoch 402/1000 - Average Loss: 0.23683\n"
     ]
    },
    {
     "name": "stderr",
     "output_type": "stream",
     "text": [
      "Epoch 403/1000: 100%|████████████████████████████████| 4/4 [00:00<00:00,  4.63it/s, avg_loss=0.236, current_loss=0.252]\n"
     ]
    },
    {
     "name": "stdout",
     "output_type": "stream",
     "text": [
      "Epoch 403/1000 - Average Loss: 0.23623\n"
     ]
    },
    {
     "name": "stderr",
     "output_type": "stream",
     "text": [
      "Epoch 404/1000: 100%|█████████████████████████████████| 4/4 [00:00<00:00,  4.81it/s, avg_loss=0.236, current_loss=0.24]\n"
     ]
    },
    {
     "name": "stdout",
     "output_type": "stream",
     "text": [
      "Epoch 404/1000 - Average Loss: 0.23644\n"
     ]
    },
    {
     "name": "stderr",
     "output_type": "stream",
     "text": [
      "Epoch 405/1000: 100%|█████████████████████████████████| 4/4 [00:00<00:00,  4.58it/s, avg_loss=0.236, current_loss=0.23]\n"
     ]
    },
    {
     "name": "stdout",
     "output_type": "stream",
     "text": [
      "Epoch 405/1000 - Average Loss: 0.23620\n"
     ]
    },
    {
     "name": "stderr",
     "output_type": "stream",
     "text": [
      "Epoch 406/1000: 100%|████████████████████████████████| 4/4 [00:00<00:00,  4.31it/s, avg_loss=0.237, current_loss=0.228]\n"
     ]
    },
    {
     "name": "stdout",
     "output_type": "stream",
     "text": [
      "Epoch 406/1000 - Average Loss: 0.23674\n"
     ]
    },
    {
     "name": "stderr",
     "output_type": "stream",
     "text": [
      "Epoch 407/1000: 100%|████████████████████████████████| 4/4 [00:00<00:00,  4.53it/s, avg_loss=0.237, current_loss=0.253]\n"
     ]
    },
    {
     "name": "stdout",
     "output_type": "stream",
     "text": [
      "Epoch 407/1000 - Average Loss: 0.23694\n"
     ]
    },
    {
     "name": "stderr",
     "output_type": "stream",
     "text": [
      "Epoch 408/1000: 100%|████████████████████████████████| 4/4 [00:00<00:00,  4.15it/s, avg_loss=0.236, current_loss=0.232]\n"
     ]
    },
    {
     "name": "stdout",
     "output_type": "stream",
     "text": [
      "Epoch 408/1000 - Average Loss: 0.23620\n"
     ]
    },
    {
     "name": "stderr",
     "output_type": "stream",
     "text": [
      "Epoch 409/1000: 100%|████████████████████████████████| 4/4 [00:00<00:00,  4.29it/s, avg_loss=0.236, current_loss=0.251]\n"
     ]
    },
    {
     "name": "stdout",
     "output_type": "stream",
     "text": [
      "Epoch 409/1000 - Average Loss: 0.23636\n"
     ]
    },
    {
     "name": "stderr",
     "output_type": "stream",
     "text": [
      "Epoch 410/1000: 100%|████████████████████████████████| 4/4 [00:00<00:00,  4.43it/s, avg_loss=0.236, current_loss=0.254]\n"
     ]
    },
    {
     "name": "stdout",
     "output_type": "stream",
     "text": [
      "Epoch 410/1000 - Average Loss: 0.23618\n"
     ]
    },
    {
     "name": "stderr",
     "output_type": "stream",
     "text": [
      "Epoch 411/1000: 100%|████████████████████████████████| 4/4 [00:00<00:00,  4.38it/s, avg_loss=0.236, current_loss=0.244]\n"
     ]
    },
    {
     "name": "stdout",
     "output_type": "stream",
     "text": [
      "Epoch 411/1000 - Average Loss: 0.23632\n"
     ]
    },
    {
     "name": "stderr",
     "output_type": "stream",
     "text": [
      "Epoch 412/1000: 100%|████████████████████████████████| 4/4 [00:00<00:00,  4.72it/s, avg_loss=0.236, current_loss=0.246]\n"
     ]
    },
    {
     "name": "stdout",
     "output_type": "stream",
     "text": [
      "Epoch 412/1000 - Average Loss: 0.23587\n"
     ]
    },
    {
     "name": "stderr",
     "output_type": "stream",
     "text": [
      "Epoch 413/1000: 100%|████████████████████████████████| 4/4 [00:00<00:00,  4.53it/s, avg_loss=0.236, current_loss=0.253]\n"
     ]
    },
    {
     "name": "stdout",
     "output_type": "stream",
     "text": [
      "Epoch 413/1000 - Average Loss: 0.23601\n"
     ]
    },
    {
     "name": "stderr",
     "output_type": "stream",
     "text": [
      "Epoch 414/1000: 100%|████████████████████████████████| 4/4 [00:00<00:00,  4.90it/s, avg_loss=0.236, current_loss=0.232]\n"
     ]
    },
    {
     "name": "stdout",
     "output_type": "stream",
     "text": [
      "Epoch 414/1000 - Average Loss: 0.23568\n"
     ]
    },
    {
     "name": "stderr",
     "output_type": "stream",
     "text": [
      "Epoch 415/1000: 100%|████████████████████████████████| 4/4 [00:00<00:00,  4.45it/s, avg_loss=0.236, current_loss=0.239]\n"
     ]
    },
    {
     "name": "stdout",
     "output_type": "stream",
     "text": [
      "Epoch 415/1000 - Average Loss: 0.23607\n"
     ]
    },
    {
     "name": "stderr",
     "output_type": "stream",
     "text": [
      "Epoch 416/1000: 100%|████████████████████████████████| 4/4 [00:00<00:00,  4.59it/s, avg_loss=0.236, current_loss=0.241]\n"
     ]
    },
    {
     "name": "stdout",
     "output_type": "stream",
     "text": [
      "Epoch 416/1000 - Average Loss: 0.23601\n"
     ]
    },
    {
     "name": "stderr",
     "output_type": "stream",
     "text": [
      "Epoch 417/1000: 100%|████████████████████████████████| 4/4 [00:00<00:00,  4.63it/s, avg_loss=0.236, current_loss=0.238]\n"
     ]
    },
    {
     "name": "stdout",
     "output_type": "stream",
     "text": [
      "Epoch 417/1000 - Average Loss: 0.23610\n"
     ]
    },
    {
     "name": "stderr",
     "output_type": "stream",
     "text": [
      "Epoch 418/1000: 100%|████████████████████████████████| 4/4 [00:00<00:00,  4.37it/s, avg_loss=0.237, current_loss=0.253]\n"
     ]
    },
    {
     "name": "stdout",
     "output_type": "stream",
     "text": [
      "Epoch 418/1000 - Average Loss: 0.23668\n"
     ]
    },
    {
     "name": "stderr",
     "output_type": "stream",
     "text": [
      "Epoch 419/1000: 100%|████████████████████████████████| 4/4 [00:00<00:00,  4.26it/s, avg_loss=0.236, current_loss=0.229]\n"
     ]
    },
    {
     "name": "stdout",
     "output_type": "stream",
     "text": [
      "Epoch 419/1000 - Average Loss: 0.23583\n"
     ]
    },
    {
     "name": "stderr",
     "output_type": "stream",
     "text": [
      "Epoch 420/1000: 100%|████████████████████████████████| 4/4 [00:00<00:00,  4.25it/s, avg_loss=0.236, current_loss=0.236]\n"
     ]
    },
    {
     "name": "stdout",
     "output_type": "stream",
     "text": [
      "Epoch 420/1000 - Average Loss: 0.23595\n"
     ]
    },
    {
     "name": "stderr",
     "output_type": "stream",
     "text": [
      "Epoch 421/1000: 100%|████████████████████████████████| 4/4 [00:00<00:00,  4.36it/s, avg_loss=0.236, current_loss=0.252]\n"
     ]
    },
    {
     "name": "stdout",
     "output_type": "stream",
     "text": [
      "Epoch 421/1000 - Average Loss: 0.23584\n"
     ]
    },
    {
     "name": "stderr",
     "output_type": "stream",
     "text": [
      "Epoch 422/1000: 100%|████████████████████████████████| 4/4 [00:00<00:00,  4.24it/s, avg_loss=0.236, current_loss=0.222]\n"
     ]
    },
    {
     "name": "stdout",
     "output_type": "stream",
     "text": [
      "Epoch 422/1000 - Average Loss: 0.23573\n"
     ]
    },
    {
     "name": "stderr",
     "output_type": "stream",
     "text": [
      "Epoch 423/1000: 100%|████████████████████████████████| 4/4 [00:00<00:00,  4.58it/s, avg_loss=0.236, current_loss=0.231]\n"
     ]
    },
    {
     "name": "stdout",
     "output_type": "stream",
     "text": [
      "Epoch 423/1000 - Average Loss: 0.23625\n"
     ]
    },
    {
     "name": "stderr",
     "output_type": "stream",
     "text": [
      "Epoch 424/1000: 100%|████████████████████████████████| 4/4 [00:00<00:00,  4.46it/s, avg_loss=0.236, current_loss=0.236]\n"
     ]
    },
    {
     "name": "stdout",
     "output_type": "stream",
     "text": [
      "Epoch 424/1000 - Average Loss: 0.23606\n"
     ]
    },
    {
     "name": "stderr",
     "output_type": "stream",
     "text": [
      "Epoch 425/1000: 100%|████████████████████████████████| 4/4 [00:00<00:00,  4.27it/s, avg_loss=0.236, current_loss=0.236]\n"
     ]
    },
    {
     "name": "stdout",
     "output_type": "stream",
     "text": [
      "Epoch 425/1000 - Average Loss: 0.23623\n"
     ]
    },
    {
     "name": "stderr",
     "output_type": "stream",
     "text": [
      "Epoch 426/1000: 100%|████████████████████████████████| 4/4 [00:00<00:00,  4.46it/s, avg_loss=0.236, current_loss=0.232]\n"
     ]
    },
    {
     "name": "stdout",
     "output_type": "stream",
     "text": [
      "Epoch 426/1000 - Average Loss: 0.23636\n"
     ]
    },
    {
     "name": "stderr",
     "output_type": "stream",
     "text": [
      "Epoch 427/1000: 100%|████████████████████████████████| 4/4 [00:00<00:00,  4.52it/s, avg_loss=0.236, current_loss=0.222]\n"
     ]
    },
    {
     "name": "stdout",
     "output_type": "stream",
     "text": [
      "Epoch 427/1000 - Average Loss: 0.23631\n"
     ]
    },
    {
     "name": "stderr",
     "output_type": "stream",
     "text": [
      "Epoch 428/1000: 100%|█████████████████████████████████| 4/4 [00:00<00:00,  4.18it/s, avg_loss=0.237, current_loss=0.23]\n"
     ]
    },
    {
     "name": "stdout",
     "output_type": "stream",
     "text": [
      "Epoch 428/1000 - Average Loss: 0.23668\n"
     ]
    },
    {
     "name": "stderr",
     "output_type": "stream",
     "text": [
      "Epoch 429/1000: 100%|████████████████████████████████| 4/4 [00:00<00:00,  4.30it/s, avg_loss=0.236, current_loss=0.234]\n"
     ]
    },
    {
     "name": "stdout",
     "output_type": "stream",
     "text": [
      "Epoch 429/1000 - Average Loss: 0.23551\n"
     ]
    },
    {
     "name": "stderr",
     "output_type": "stream",
     "text": [
      "Epoch 430/1000: 100%|████████████████████████████████| 4/4 [00:01<00:00,  3.84it/s, avg_loss=0.235, current_loss=0.231]\n"
     ]
    },
    {
     "name": "stdout",
     "output_type": "stream",
     "text": [
      "Epoch 430/1000 - Average Loss: 0.23540\n"
     ]
    },
    {
     "name": "stderr",
     "output_type": "stream",
     "text": [
      "Epoch 431/1000: 100%|████████████████████████████████| 4/4 [00:00<00:00,  4.54it/s, avg_loss=0.235, current_loss=0.237]\n"
     ]
    },
    {
     "name": "stdout",
     "output_type": "stream",
     "text": [
      "Epoch 431/1000 - Average Loss: 0.23518\n"
     ]
    },
    {
     "name": "stderr",
     "output_type": "stream",
     "text": [
      "Epoch 432/1000: 100%|█████████████████████████████████| 4/4 [00:01<00:00,  3.52it/s, avg_loss=0.235, current_loss=0.22]\n"
     ]
    },
    {
     "name": "stdout",
     "output_type": "stream",
     "text": [
      "Epoch 432/1000 - Average Loss: 0.23525\n"
     ]
    },
    {
     "name": "stderr",
     "output_type": "stream",
     "text": [
      "Epoch 433/1000: 100%|████████████████████████████████| 4/4 [00:00<00:00,  4.53it/s, avg_loss=0.236, current_loss=0.242]\n"
     ]
    },
    {
     "name": "stdout",
     "output_type": "stream",
     "text": [
      "Epoch 433/1000 - Average Loss: 0.23560\n"
     ]
    },
    {
     "name": "stderr",
     "output_type": "stream",
     "text": [
      "Epoch 434/1000: 100%|████████████████████████████████| 4/4 [00:01<00:00,  4.00it/s, avg_loss=0.236, current_loss=0.228]\n"
     ]
    },
    {
     "name": "stdout",
     "output_type": "stream",
     "text": [
      "Epoch 434/1000 - Average Loss: 0.23559\n"
     ]
    },
    {
     "name": "stderr",
     "output_type": "stream",
     "text": [
      "Epoch 435/1000: 100%|████████████████████████████████| 4/4 [00:00<00:00,  4.35it/s, avg_loss=0.235, current_loss=0.227]\n"
     ]
    },
    {
     "name": "stdout",
     "output_type": "stream",
     "text": [
      "Epoch 435/1000 - Average Loss: 0.23532\n"
     ]
    },
    {
     "name": "stderr",
     "output_type": "stream",
     "text": [
      "Epoch 436/1000: 100%|█████████████████████████████████| 4/4 [00:00<00:00,  4.27it/s, avg_loss=0.235, current_loss=0.21]\n"
     ]
    },
    {
     "name": "stdout",
     "output_type": "stream",
     "text": [
      "Epoch 436/1000 - Average Loss: 0.23509\n"
     ]
    },
    {
     "name": "stderr",
     "output_type": "stream",
     "text": [
      "Epoch 437/1000: 100%|████████████████████████████████| 4/4 [00:00<00:00,  4.52it/s, avg_loss=0.235, current_loss=0.237]\n"
     ]
    },
    {
     "name": "stdout",
     "output_type": "stream",
     "text": [
      "Epoch 437/1000 - Average Loss: 0.23521\n"
     ]
    },
    {
     "name": "stderr",
     "output_type": "stream",
     "text": [
      "Epoch 438/1000: 100%|█████████████████████████████████| 4/4 [00:00<00:00,  4.58it/s, avg_loss=0.236, current_loss=0.24]\n"
     ]
    },
    {
     "name": "stdout",
     "output_type": "stream",
     "text": [
      "Epoch 438/1000 - Average Loss: 0.23562\n"
     ]
    },
    {
     "name": "stderr",
     "output_type": "stream",
     "text": [
      "Epoch 439/1000: 100%|████████████████████████████████| 4/4 [00:00<00:00,  4.28it/s, avg_loss=0.236, current_loss=0.242]\n"
     ]
    },
    {
     "name": "stdout",
     "output_type": "stream",
     "text": [
      "Epoch 439/1000 - Average Loss: 0.23567\n"
     ]
    },
    {
     "name": "stderr",
     "output_type": "stream",
     "text": [
      "Epoch 440/1000: 100%|████████████████████████████████| 4/4 [00:00<00:00,  4.31it/s, avg_loss=0.236, current_loss=0.239]\n"
     ]
    },
    {
     "name": "stdout",
     "output_type": "stream",
     "text": [
      "Epoch 440/1000 - Average Loss: 0.23575\n"
     ]
    },
    {
     "name": "stderr",
     "output_type": "stream",
     "text": [
      "Epoch 441/1000: 100%|████████████████████████████████| 4/4 [00:01<00:00,  3.76it/s, avg_loss=0.236, current_loss=0.238]\n"
     ]
    },
    {
     "name": "stdout",
     "output_type": "stream",
     "text": [
      "Epoch 441/1000 - Average Loss: 0.23556\n"
     ]
    },
    {
     "name": "stderr",
     "output_type": "stream",
     "text": [
      "Epoch 442/1000: 100%|████████████████████████████████| 4/4 [00:00<00:00,  4.13it/s, avg_loss=0.235, current_loss=0.232]\n"
     ]
    },
    {
     "name": "stdout",
     "output_type": "stream",
     "text": [
      "Epoch 442/1000 - Average Loss: 0.23487\n"
     ]
    },
    {
     "name": "stderr",
     "output_type": "stream",
     "text": [
      "Epoch 443/1000: 100%|████████████████████████████████| 4/4 [00:00<00:00,  4.52it/s, avg_loss=0.236, current_loss=0.242]\n"
     ]
    },
    {
     "name": "stdout",
     "output_type": "stream",
     "text": [
      "Epoch 443/1000 - Average Loss: 0.23568\n"
     ]
    },
    {
     "name": "stderr",
     "output_type": "stream",
     "text": [
      "Epoch 444/1000: 100%|████████████████████████████████| 4/4 [00:00<00:00,  4.39it/s, avg_loss=0.235, current_loss=0.227]\n"
     ]
    },
    {
     "name": "stdout",
     "output_type": "stream",
     "text": [
      "Epoch 444/1000 - Average Loss: 0.23512\n"
     ]
    },
    {
     "name": "stderr",
     "output_type": "stream",
     "text": [
      "Epoch 445/1000: 100%|████████████████████████████████| 4/4 [00:00<00:00,  4.54it/s, avg_loss=0.235, current_loss=0.246]\n"
     ]
    },
    {
     "name": "stdout",
     "output_type": "stream",
     "text": [
      "Epoch 445/1000 - Average Loss: 0.23464\n"
     ]
    },
    {
     "name": "stderr",
     "output_type": "stream",
     "text": [
      "Epoch 446/1000: 100%|████████████████████████████████| 4/4 [00:00<00:00,  4.51it/s, avg_loss=0.235, current_loss=0.225]\n"
     ]
    },
    {
     "name": "stdout",
     "output_type": "stream",
     "text": [
      "Epoch 446/1000 - Average Loss: 0.23485\n"
     ]
    },
    {
     "name": "stderr",
     "output_type": "stream",
     "text": [
      "Epoch 447/1000: 100%|█████████████████████████████████| 4/4 [00:00<00:00,  4.20it/s, avg_loss=0.235, current_loss=0.24]\n"
     ]
    },
    {
     "name": "stdout",
     "output_type": "stream",
     "text": [
      "Epoch 447/1000 - Average Loss: 0.23483\n"
     ]
    },
    {
     "name": "stderr",
     "output_type": "stream",
     "text": [
      "Epoch 448/1000: 100%|████████████████████████████████| 4/4 [00:00<00:00,  4.31it/s, avg_loss=0.235, current_loss=0.235]\n"
     ]
    },
    {
     "name": "stdout",
     "output_type": "stream",
     "text": [
      "Epoch 448/1000 - Average Loss: 0.23461\n"
     ]
    },
    {
     "name": "stderr",
     "output_type": "stream",
     "text": [
      "Epoch 449/1000: 100%|████████████████████████████████| 4/4 [00:00<00:00,  4.39it/s, avg_loss=0.235, current_loss=0.224]\n"
     ]
    },
    {
     "name": "stdout",
     "output_type": "stream",
     "text": [
      "Epoch 449/1000 - Average Loss: 0.23466\n"
     ]
    },
    {
     "name": "stderr",
     "output_type": "stream",
     "text": [
      "Epoch 450/1000: 100%|████████████████████████████████| 4/4 [00:00<00:00,  4.30it/s, avg_loss=0.235, current_loss=0.234]\n"
     ]
    },
    {
     "name": "stdout",
     "output_type": "stream",
     "text": [
      "Epoch 450/1000 - Average Loss: 0.23526\n"
     ]
    },
    {
     "name": "stderr",
     "output_type": "stream",
     "text": [
      "Epoch 451/1000: 100%|████████████████████████████████| 4/4 [00:00<00:00,  4.54it/s, avg_loss=0.235, current_loss=0.244]\n"
     ]
    },
    {
     "name": "stdout",
     "output_type": "stream",
     "text": [
      "Epoch 451/1000 - Average Loss: 0.23502\n"
     ]
    },
    {
     "name": "stderr",
     "output_type": "stream",
     "text": [
      "Epoch 452/1000: 100%|████████████████████████████████| 4/4 [00:00<00:00,  4.32it/s, avg_loss=0.235, current_loss=0.236]\n"
     ]
    },
    {
     "name": "stdout",
     "output_type": "stream",
     "text": [
      "Epoch 452/1000 - Average Loss: 0.23499\n"
     ]
    },
    {
     "name": "stderr",
     "output_type": "stream",
     "text": [
      "Epoch 453/1000: 100%|████████████████████████████████| 4/4 [00:00<00:00,  4.45it/s, avg_loss=0.235, current_loss=0.212]\n"
     ]
    },
    {
     "name": "stdout",
     "output_type": "stream",
     "text": [
      "Epoch 453/1000 - Average Loss: 0.23457\n"
     ]
    },
    {
     "name": "stderr",
     "output_type": "stream",
     "text": [
      "Epoch 454/1000: 100%|████████████████████████████████| 4/4 [00:00<00:00,  4.57it/s, avg_loss=0.236, current_loss=0.236]\n"
     ]
    },
    {
     "name": "stdout",
     "output_type": "stream",
     "text": [
      "Epoch 454/1000 - Average Loss: 0.23566\n"
     ]
    },
    {
     "name": "stderr",
     "output_type": "stream",
     "text": [
      "Epoch 455/1000: 100%|█████████████████████████████████| 4/4 [00:00<00:00,  4.37it/s, avg_loss=0.235, current_loss=0.23]\n"
     ]
    },
    {
     "name": "stdout",
     "output_type": "stream",
     "text": [
      "Epoch 455/1000 - Average Loss: 0.23504\n"
     ]
    },
    {
     "name": "stderr",
     "output_type": "stream",
     "text": [
      "Epoch 456/1000: 100%|████████████████████████████████| 4/4 [00:00<00:00,  4.32it/s, avg_loss=0.235, current_loss=0.237]\n"
     ]
    },
    {
     "name": "stdout",
     "output_type": "stream",
     "text": [
      "Epoch 456/1000 - Average Loss: 0.23470\n"
     ]
    },
    {
     "name": "stderr",
     "output_type": "stream",
     "text": [
      "Epoch 457/1000: 100%|████████████████████████████████| 4/4 [00:00<00:00,  4.22it/s, avg_loss=0.235, current_loss=0.233]\n"
     ]
    },
    {
     "name": "stdout",
     "output_type": "stream",
     "text": [
      "Epoch 457/1000 - Average Loss: 0.23471\n"
     ]
    },
    {
     "name": "stderr",
     "output_type": "stream",
     "text": [
      "Epoch 458/1000: 100%|████████████████████████████████| 4/4 [00:00<00:00,  4.25it/s, avg_loss=0.235, current_loss=0.237]\n"
     ]
    },
    {
     "name": "stdout",
     "output_type": "stream",
     "text": [
      "Epoch 458/1000 - Average Loss: 0.23466\n"
     ]
    },
    {
     "name": "stderr",
     "output_type": "stream",
     "text": [
      "Epoch 459/1000: 100%|█████████████████████████████████| 4/4 [00:00<00:00,  4.19it/s, avg_loss=0.235, current_loss=0.24]\n"
     ]
    },
    {
     "name": "stdout",
     "output_type": "stream",
     "text": [
      "Epoch 459/1000 - Average Loss: 0.23471\n"
     ]
    },
    {
     "name": "stderr",
     "output_type": "stream",
     "text": [
      "Epoch 460/1000: 100%|████████████████████████████████| 4/4 [00:01<00:00,  3.95it/s, avg_loss=0.234, current_loss=0.246]\n"
     ]
    },
    {
     "name": "stdout",
     "output_type": "stream",
     "text": [
      "Epoch 460/1000 - Average Loss: 0.23432\n"
     ]
    },
    {
     "name": "stderr",
     "output_type": "stream",
     "text": [
      "Epoch 461/1000: 100%|████████████████████████████████| 4/4 [00:00<00:00,  4.15it/s, avg_loss=0.235, current_loss=0.245]\n"
     ]
    },
    {
     "name": "stdout",
     "output_type": "stream",
     "text": [
      "Epoch 461/1000 - Average Loss: 0.23459\n"
     ]
    },
    {
     "name": "stderr",
     "output_type": "stream",
     "text": [
      "Epoch 462/1000: 100%|████████████████████████████████| 4/4 [00:00<00:00,  4.24it/s, avg_loss=0.234, current_loss=0.236]\n"
     ]
    },
    {
     "name": "stdout",
     "output_type": "stream",
     "text": [
      "Epoch 462/1000 - Average Loss: 0.23442\n"
     ]
    },
    {
     "name": "stderr",
     "output_type": "stream",
     "text": [
      "Epoch 463/1000: 100%|████████████████████████████████| 4/4 [00:01<00:00,  3.37it/s, avg_loss=0.234, current_loss=0.235]\n"
     ]
    },
    {
     "name": "stdout",
     "output_type": "stream",
     "text": [
      "Epoch 463/1000 - Average Loss: 0.23400\n"
     ]
    },
    {
     "name": "stderr",
     "output_type": "stream",
     "text": [
      "Epoch 464/1000: 100%|████████████████████████████████| 4/4 [00:01<00:00,  3.89it/s, avg_loss=0.234, current_loss=0.237]\n"
     ]
    },
    {
     "name": "stdout",
     "output_type": "stream",
     "text": [
      "Epoch 464/1000 - Average Loss: 0.23421\n"
     ]
    },
    {
     "name": "stderr",
     "output_type": "stream",
     "text": [
      "Epoch 465/1000: 100%|████████████████████████████████| 4/4 [00:00<00:00,  4.29it/s, avg_loss=0.234, current_loss=0.238]\n"
     ]
    },
    {
     "name": "stdout",
     "output_type": "stream",
     "text": [
      "Epoch 465/1000 - Average Loss: 0.23394\n"
     ]
    },
    {
     "name": "stderr",
     "output_type": "stream",
     "text": [
      "Epoch 466/1000: 100%|████████████████████████████████| 4/4 [00:00<00:00,  4.36it/s, avg_loss=0.234, current_loss=0.244]\n"
     ]
    },
    {
     "name": "stdout",
     "output_type": "stream",
     "text": [
      "Epoch 466/1000 - Average Loss: 0.23389\n"
     ]
    },
    {
     "name": "stderr",
     "output_type": "stream",
     "text": [
      "Epoch 467/1000: 100%|████████████████████████████████| 4/4 [00:00<00:00,  4.02it/s, avg_loss=0.234, current_loss=0.216]\n"
     ]
    },
    {
     "name": "stdout",
     "output_type": "stream",
     "text": [
      "Epoch 467/1000 - Average Loss: 0.23379\n"
     ]
    },
    {
     "name": "stderr",
     "output_type": "stream",
     "text": [
      "Epoch 468/1000: 100%|████████████████████████████████| 4/4 [00:00<00:00,  4.31it/s, avg_loss=0.234, current_loss=0.231]\n"
     ]
    },
    {
     "name": "stdout",
     "output_type": "stream",
     "text": [
      "Epoch 468/1000 - Average Loss: 0.23419\n"
     ]
    },
    {
     "name": "stderr",
     "output_type": "stream",
     "text": [
      "Epoch 469/1000: 100%|████████████████████████████████| 4/4 [00:00<00:00,  4.18it/s, avg_loss=0.234, current_loss=0.249]\n"
     ]
    },
    {
     "name": "stdout",
     "output_type": "stream",
     "text": [
      "Epoch 469/1000 - Average Loss: 0.23397\n"
     ]
    },
    {
     "name": "stderr",
     "output_type": "stream",
     "text": [
      "Epoch 470/1000: 100%|████████████████████████████████| 4/4 [00:00<00:00,  4.25it/s, avg_loss=0.233, current_loss=0.226]\n"
     ]
    },
    {
     "name": "stdout",
     "output_type": "stream",
     "text": [
      "Epoch 470/1000 - Average Loss: 0.23320\n"
     ]
    },
    {
     "name": "stderr",
     "output_type": "stream",
     "text": [
      "Epoch 471/1000: 100%|████████████████████████████████| 4/4 [00:00<00:00,  4.25it/s, avg_loss=0.233, current_loss=0.234]\n"
     ]
    },
    {
     "name": "stdout",
     "output_type": "stream",
     "text": [
      "Epoch 471/1000 - Average Loss: 0.23348\n"
     ]
    },
    {
     "name": "stderr",
     "output_type": "stream",
     "text": [
      "Epoch 472/1000: 100%|████████████████████████████████| 4/4 [00:00<00:00,  4.29it/s, avg_loss=0.233, current_loss=0.226]\n"
     ]
    },
    {
     "name": "stdout",
     "output_type": "stream",
     "text": [
      "Epoch 472/1000 - Average Loss: 0.23342\n"
     ]
    },
    {
     "name": "stderr",
     "output_type": "stream",
     "text": [
      "Epoch 473/1000: 100%|████████████████████████████████| 4/4 [00:01<00:00,  3.96it/s, avg_loss=0.233, current_loss=0.217]\n"
     ]
    },
    {
     "name": "stdout",
     "output_type": "stream",
     "text": [
      "Epoch 473/1000 - Average Loss: 0.23339\n"
     ]
    },
    {
     "name": "stderr",
     "output_type": "stream",
     "text": [
      "Epoch 474/1000: 100%|████████████████████████████████| 4/4 [00:00<00:00,  4.52it/s, avg_loss=0.234, current_loss=0.226]\n"
     ]
    },
    {
     "name": "stdout",
     "output_type": "stream",
     "text": [
      "Epoch 474/1000 - Average Loss: 0.23375\n"
     ]
    },
    {
     "name": "stderr",
     "output_type": "stream",
     "text": [
      "Epoch 475/1000: 100%|████████████████████████████████| 4/4 [00:00<00:00,  4.22it/s, avg_loss=0.235, current_loss=0.232]\n"
     ]
    },
    {
     "name": "stdout",
     "output_type": "stream",
     "text": [
      "Epoch 475/1000 - Average Loss: 0.23471\n"
     ]
    },
    {
     "name": "stderr",
     "output_type": "stream",
     "text": [
      "Epoch 476/1000: 100%|████████████████████████████████| 4/4 [00:00<00:00,  4.41it/s, avg_loss=0.234, current_loss=0.236]\n"
     ]
    },
    {
     "name": "stdout",
     "output_type": "stream",
     "text": [
      "Epoch 476/1000 - Average Loss: 0.23398\n"
     ]
    },
    {
     "name": "stderr",
     "output_type": "stream",
     "text": [
      "Epoch 477/1000: 100%|████████████████████████████████| 4/4 [00:00<00:00,  4.08it/s, avg_loss=0.234, current_loss=0.233]\n"
     ]
    },
    {
     "name": "stdout",
     "output_type": "stream",
     "text": [
      "Epoch 477/1000 - Average Loss: 0.23396\n"
     ]
    },
    {
     "name": "stderr",
     "output_type": "stream",
     "text": [
      "Epoch 478/1000: 100%|████████████████████████████████| 4/4 [00:00<00:00,  4.37it/s, avg_loss=0.234, current_loss=0.234]\n"
     ]
    },
    {
     "name": "stdout",
     "output_type": "stream",
     "text": [
      "Epoch 478/1000 - Average Loss: 0.23351\n"
     ]
    },
    {
     "name": "stderr",
     "output_type": "stream",
     "text": [
      "Epoch 479/1000: 100%|████████████████████████████████| 4/4 [00:00<00:00,  4.25it/s, avg_loss=0.233, current_loss=0.236]\n"
     ]
    },
    {
     "name": "stdout",
     "output_type": "stream",
     "text": [
      "Epoch 479/1000 - Average Loss: 0.23317\n"
     ]
    },
    {
     "name": "stderr",
     "output_type": "stream",
     "text": [
      "Epoch 480/1000: 100%|████████████████████████████████| 4/4 [00:00<00:00,  4.33it/s, avg_loss=0.233, current_loss=0.218]\n"
     ]
    },
    {
     "name": "stdout",
     "output_type": "stream",
     "text": [
      "Epoch 480/1000 - Average Loss: 0.23345\n"
     ]
    },
    {
     "name": "stderr",
     "output_type": "stream",
     "text": [
      "Epoch 481/1000: 100%|████████████████████████████████| 4/4 [00:00<00:00,  4.35it/s, avg_loss=0.233, current_loss=0.238]\n"
     ]
    },
    {
     "name": "stdout",
     "output_type": "stream",
     "text": [
      "Epoch 481/1000 - Average Loss: 0.23304\n"
     ]
    },
    {
     "name": "stderr",
     "output_type": "stream",
     "text": [
      "Epoch 482/1000: 100%|████████████████████████████████| 4/4 [00:00<00:00,  4.16it/s, avg_loss=0.233, current_loss=0.237]\n"
     ]
    },
    {
     "name": "stdout",
     "output_type": "stream",
     "text": [
      "Epoch 482/1000 - Average Loss: 0.23316\n"
     ]
    },
    {
     "name": "stderr",
     "output_type": "stream",
     "text": [
      "Epoch 483/1000: 100%|████████████████████████████████| 4/4 [00:00<00:00,  4.17it/s, avg_loss=0.233, current_loss=0.225]\n"
     ]
    },
    {
     "name": "stdout",
     "output_type": "stream",
     "text": [
      "Epoch 483/1000 - Average Loss: 0.23279\n"
     ]
    },
    {
     "name": "stderr",
     "output_type": "stream",
     "text": [
      "Epoch 484/1000: 100%|████████████████████████████████| 4/4 [00:00<00:00,  4.33it/s, avg_loss=0.233, current_loss=0.239]\n"
     ]
    },
    {
     "name": "stdout",
     "output_type": "stream",
     "text": [
      "Epoch 484/1000 - Average Loss: 0.23262\n"
     ]
    },
    {
     "name": "stderr",
     "output_type": "stream",
     "text": [
      "Epoch 485/1000: 100%|████████████████████████████████| 4/4 [00:00<00:00,  4.27it/s, avg_loss=0.232, current_loss=0.235]\n"
     ]
    },
    {
     "name": "stdout",
     "output_type": "stream",
     "text": [
      "Epoch 485/1000 - Average Loss: 0.23243\n"
     ]
    },
    {
     "name": "stderr",
     "output_type": "stream",
     "text": [
      "Epoch 486/1000: 100%|████████████████████████████████| 4/4 [00:00<00:00,  4.12it/s, avg_loss=0.233, current_loss=0.252]\n"
     ]
    },
    {
     "name": "stdout",
     "output_type": "stream",
     "text": [
      "Epoch 486/1000 - Average Loss: 0.23267\n"
     ]
    },
    {
     "name": "stderr",
     "output_type": "stream",
     "text": [
      "Epoch 487/1000: 100%|█████████████████████████████████| 4/4 [00:00<00:00,  4.36it/s, avg_loss=0.233, current_loss=0.23]\n"
     ]
    },
    {
     "name": "stdout",
     "output_type": "stream",
     "text": [
      "Epoch 487/1000 - Average Loss: 0.23253\n"
     ]
    },
    {
     "name": "stderr",
     "output_type": "stream",
     "text": [
      "Epoch 488/1000: 100%|█████████████████████████████████| 4/4 [00:00<00:00,  4.12it/s, avg_loss=0.232, current_loss=0.23]\n"
     ]
    },
    {
     "name": "stdout",
     "output_type": "stream",
     "text": [
      "Epoch 488/1000 - Average Loss: 0.23229\n"
     ]
    },
    {
     "name": "stderr",
     "output_type": "stream",
     "text": [
      "Epoch 489/1000: 100%|████████████████████████████████| 4/4 [00:00<00:00,  4.41it/s, avg_loss=0.233, current_loss=0.228]\n"
     ]
    },
    {
     "name": "stdout",
     "output_type": "stream",
     "text": [
      "Epoch 489/1000 - Average Loss: 0.23256\n"
     ]
    },
    {
     "name": "stderr",
     "output_type": "stream",
     "text": [
      "Epoch 490/1000: 100%|████████████████████████████████| 4/4 [00:00<00:00,  4.66it/s, avg_loss=0.232, current_loss=0.223]\n"
     ]
    },
    {
     "name": "stdout",
     "output_type": "stream",
     "text": [
      "Epoch 490/1000 - Average Loss: 0.23247\n"
     ]
    },
    {
     "name": "stderr",
     "output_type": "stream",
     "text": [
      "Epoch 491/1000: 100%|█████████████████████████████████| 4/4 [00:00<00:00,  4.89it/s, avg_loss=0.233, current_loss=0.25]\n"
     ]
    },
    {
     "name": "stdout",
     "output_type": "stream",
     "text": [
      "Epoch 491/1000 - Average Loss: 0.23257\n"
     ]
    },
    {
     "name": "stderr",
     "output_type": "stream",
     "text": [
      "Epoch 492/1000: 100%|████████████████████████████████| 4/4 [00:00<00:00,  4.41it/s, avg_loss=0.233, current_loss=0.235]\n"
     ]
    },
    {
     "name": "stdout",
     "output_type": "stream",
     "text": [
      "Epoch 492/1000 - Average Loss: 0.23252\n"
     ]
    },
    {
     "name": "stderr",
     "output_type": "stream",
     "text": [
      "Epoch 493/1000: 100%|████████████████████████████████| 4/4 [00:00<00:00,  4.28it/s, avg_loss=0.232, current_loss=0.237]\n"
     ]
    },
    {
     "name": "stdout",
     "output_type": "stream",
     "text": [
      "Epoch 493/1000 - Average Loss: 0.23210\n"
     ]
    },
    {
     "name": "stderr",
     "output_type": "stream",
     "text": [
      "Epoch 494/1000: 100%|████████████████████████████████| 4/4 [00:00<00:00,  4.39it/s, avg_loss=0.232, current_loss=0.234]\n"
     ]
    },
    {
     "name": "stdout",
     "output_type": "stream",
     "text": [
      "Epoch 494/1000 - Average Loss: 0.23212\n"
     ]
    },
    {
     "name": "stderr",
     "output_type": "stream",
     "text": [
      "Epoch 495/1000: 100%|████████████████████████████████| 4/4 [00:00<00:00,  4.58it/s, avg_loss=0.232, current_loss=0.238]\n"
     ]
    },
    {
     "name": "stdout",
     "output_type": "stream",
     "text": [
      "Epoch 495/1000 - Average Loss: 0.23243\n"
     ]
    },
    {
     "name": "stderr",
     "output_type": "stream",
     "text": [
      "Epoch 496/1000: 100%|████████████████████████████████| 4/4 [00:00<00:00,  4.39it/s, avg_loss=0.232, current_loss=0.246]\n"
     ]
    },
    {
     "name": "stdout",
     "output_type": "stream",
     "text": [
      "Epoch 496/1000 - Average Loss: 0.23197\n"
     ]
    },
    {
     "name": "stderr",
     "output_type": "stream",
     "text": [
      "Epoch 497/1000: 100%|████████████████████████████████| 4/4 [00:00<00:00,  4.43it/s, avg_loss=0.232, current_loss=0.203]\n"
     ]
    },
    {
     "name": "stdout",
     "output_type": "stream",
     "text": [
      "Epoch 497/1000 - Average Loss: 0.23219\n"
     ]
    },
    {
     "name": "stderr",
     "output_type": "stream",
     "text": [
      "Epoch 498/1000: 100%|████████████████████████████████| 4/4 [00:00<00:00,  4.53it/s, avg_loss=0.233, current_loss=0.226]\n"
     ]
    },
    {
     "name": "stdout",
     "output_type": "stream",
     "text": [
      "Epoch 498/1000 - Average Loss: 0.23265\n"
     ]
    },
    {
     "name": "stderr",
     "output_type": "stream",
     "text": [
      "Epoch 499/1000: 100%|████████████████████████████████| 4/4 [00:00<00:00,  4.13it/s, avg_loss=0.232, current_loss=0.235]\n"
     ]
    },
    {
     "name": "stdout",
     "output_type": "stream",
     "text": [
      "Epoch 499/1000 - Average Loss: 0.23236\n"
     ]
    },
    {
     "name": "stderr",
     "output_type": "stream",
     "text": [
      "Epoch 500/1000: 100%|█████████████████████████████████| 4/4 [00:00<00:00,  4.66it/s, avg_loss=0.232, current_loss=0.23]\n"
     ]
    },
    {
     "name": "stdout",
     "output_type": "stream",
     "text": [
      "Epoch 500/1000 - Average Loss: 0.23213\n"
     ]
    },
    {
     "name": "stderr",
     "output_type": "stream",
     "text": [
      "Epoch 501/1000: 100%|████████████████████████████████| 4/4 [00:00<00:00,  4.48it/s, avg_loss=0.232, current_loss=0.229]\n"
     ]
    },
    {
     "name": "stdout",
     "output_type": "stream",
     "text": [
      "Epoch 501/1000 - Average Loss: 0.23227\n"
     ]
    },
    {
     "name": "stderr",
     "output_type": "stream",
     "text": [
      "Epoch 502/1000: 100%|████████████████████████████████| 4/4 [00:00<00:00,  4.75it/s, avg_loss=0.232, current_loss=0.248]\n"
     ]
    },
    {
     "name": "stdout",
     "output_type": "stream",
     "text": [
      "Epoch 502/1000 - Average Loss: 0.23212\n"
     ]
    },
    {
     "name": "stderr",
     "output_type": "stream",
     "text": [
      "Epoch 503/1000: 100%|████████████████████████████████| 4/4 [00:00<00:00,  4.52it/s, avg_loss=0.232, current_loss=0.222]\n"
     ]
    },
    {
     "name": "stdout",
     "output_type": "stream",
     "text": [
      "Epoch 503/1000 - Average Loss: 0.23229\n"
     ]
    },
    {
     "name": "stderr",
     "output_type": "stream",
     "text": [
      "Epoch 504/1000: 100%|████████████████████████████████| 4/4 [00:00<00:00,  4.17it/s, avg_loss=0.232, current_loss=0.243]\n"
     ]
    },
    {
     "name": "stdout",
     "output_type": "stream",
     "text": [
      "Epoch 504/1000 - Average Loss: 0.23207\n"
     ]
    },
    {
     "name": "stderr",
     "output_type": "stream",
     "text": [
      "Epoch 505/1000: 100%|████████████████████████████████| 4/4 [00:00<00:00,  4.48it/s, avg_loss=0.232, current_loss=0.249]\n"
     ]
    },
    {
     "name": "stdout",
     "output_type": "stream",
     "text": [
      "Epoch 505/1000 - Average Loss: 0.23194\n"
     ]
    },
    {
     "name": "stderr",
     "output_type": "stream",
     "text": [
      "Epoch 506/1000: 100%|████████████████████████████████| 4/4 [00:00<00:00,  4.69it/s, avg_loss=0.232, current_loss=0.226]\n"
     ]
    },
    {
     "name": "stdout",
     "output_type": "stream",
     "text": [
      "Epoch 506/1000 - Average Loss: 0.23235\n"
     ]
    },
    {
     "name": "stderr",
     "output_type": "stream",
     "text": [
      "Epoch 507/1000: 100%|████████████████████████████████| 4/4 [00:00<00:00,  4.43it/s, avg_loss=0.232, current_loss=0.224]\n"
     ]
    },
    {
     "name": "stdout",
     "output_type": "stream",
     "text": [
      "Epoch 507/1000 - Average Loss: 0.23200\n"
     ]
    },
    {
     "name": "stderr",
     "output_type": "stream",
     "text": [
      "Epoch 508/1000: 100%|████████████████████████████████| 4/4 [00:00<00:00,  4.43it/s, avg_loss=0.232, current_loss=0.239]\n"
     ]
    },
    {
     "name": "stdout",
     "output_type": "stream",
     "text": [
      "Epoch 508/1000 - Average Loss: 0.23184\n"
     ]
    },
    {
     "name": "stderr",
     "output_type": "stream",
     "text": [
      "Epoch 509/1000: 100%|████████████████████████████████| 4/4 [00:00<00:00,  4.13it/s, avg_loss=0.232, current_loss=0.233]\n"
     ]
    },
    {
     "name": "stdout",
     "output_type": "stream",
     "text": [
      "Epoch 509/1000 - Average Loss: 0.23192\n"
     ]
    },
    {
     "name": "stderr",
     "output_type": "stream",
     "text": [
      "Epoch 510/1000: 100%|█████████████████████████████████| 4/4 [00:00<00:00,  4.48it/s, avg_loss=0.232, current_loss=0.24]\n"
     ]
    },
    {
     "name": "stdout",
     "output_type": "stream",
     "text": [
      "Epoch 510/1000 - Average Loss: 0.23199\n"
     ]
    },
    {
     "name": "stderr",
     "output_type": "stream",
     "text": [
      "Epoch 511/1000: 100%|████████████████████████████████| 4/4 [00:00<00:00,  4.50it/s, avg_loss=0.232, current_loss=0.233]\n"
     ]
    },
    {
     "name": "stdout",
     "output_type": "stream",
     "text": [
      "Epoch 511/1000 - Average Loss: 0.23197\n"
     ]
    },
    {
     "name": "stderr",
     "output_type": "stream",
     "text": [
      "Epoch 512/1000: 100%|████████████████████████████████| 4/4 [00:00<00:00,  4.69it/s, avg_loss=0.232, current_loss=0.238]\n"
     ]
    },
    {
     "name": "stdout",
     "output_type": "stream",
     "text": [
      "Epoch 512/1000 - Average Loss: 0.23200\n"
     ]
    },
    {
     "name": "stderr",
     "output_type": "stream",
     "text": [
      "Epoch 513/1000: 100%|████████████████████████████████| 4/4 [00:00<00:00,  4.58it/s, avg_loss=0.232, current_loss=0.234]\n"
     ]
    },
    {
     "name": "stdout",
     "output_type": "stream",
     "text": [
      "Epoch 513/1000 - Average Loss: 0.23161\n"
     ]
    },
    {
     "name": "stderr",
     "output_type": "stream",
     "text": [
      "Epoch 514/1000: 100%|████████████████████████████████| 4/4 [00:00<00:00,  4.41it/s, avg_loss=0.231, current_loss=0.234]\n"
     ]
    },
    {
     "name": "stdout",
     "output_type": "stream",
     "text": [
      "Epoch 514/1000 - Average Loss: 0.23144\n"
     ]
    },
    {
     "name": "stderr",
     "output_type": "stream",
     "text": [
      "Epoch 515/1000: 100%|████████████████████████████████| 4/4 [00:00<00:00,  4.61it/s, avg_loss=0.232, current_loss=0.235]\n"
     ]
    },
    {
     "name": "stdout",
     "output_type": "stream",
     "text": [
      "Epoch 515/1000 - Average Loss: 0.23155\n"
     ]
    },
    {
     "name": "stderr",
     "output_type": "stream",
     "text": [
      "Epoch 516/1000: 100%|████████████████████████████████| 4/4 [00:00<00:00,  4.41it/s, avg_loss=0.231, current_loss=0.233]\n"
     ]
    },
    {
     "name": "stdout",
     "output_type": "stream",
     "text": [
      "Epoch 516/1000 - Average Loss: 0.23128\n"
     ]
    },
    {
     "name": "stderr",
     "output_type": "stream",
     "text": [
      "Epoch 517/1000: 100%|████████████████████████████████| 4/4 [00:00<00:00,  4.58it/s, avg_loss=0.232, current_loss=0.224]\n"
     ]
    },
    {
     "name": "stdout",
     "output_type": "stream",
     "text": [
      "Epoch 517/1000 - Average Loss: 0.23156\n"
     ]
    },
    {
     "name": "stderr",
     "output_type": "stream",
     "text": [
      "Epoch 518/1000: 100%|████████████████████████████████| 4/4 [00:00<00:00,  4.25it/s, avg_loss=0.232, current_loss=0.237]\n"
     ]
    },
    {
     "name": "stdout",
     "output_type": "stream",
     "text": [
      "Epoch 518/1000 - Average Loss: 0.23187\n"
     ]
    },
    {
     "name": "stderr",
     "output_type": "stream",
     "text": [
      "Epoch 519/1000: 100%|████████████████████████████████| 4/4 [00:00<00:00,  4.49it/s, avg_loss=0.232, current_loss=0.232]\n"
     ]
    },
    {
     "name": "stdout",
     "output_type": "stream",
     "text": [
      "Epoch 519/1000 - Average Loss: 0.23181\n"
     ]
    },
    {
     "name": "stderr",
     "output_type": "stream",
     "text": [
      "Epoch 520/1000: 100%|█████████████████████████████████| 4/4 [00:00<00:00,  4.51it/s, avg_loss=0.232, current_loss=0.21]\n"
     ]
    },
    {
     "name": "stdout",
     "output_type": "stream",
     "text": [
      "Epoch 520/1000 - Average Loss: 0.23154\n"
     ]
    },
    {
     "name": "stderr",
     "output_type": "stream",
     "text": [
      "Epoch 521/1000: 100%|████████████████████████████████| 4/4 [00:00<00:00,  4.35it/s, avg_loss=0.232, current_loss=0.257]\n"
     ]
    },
    {
     "name": "stdout",
     "output_type": "stream",
     "text": [
      "Epoch 521/1000 - Average Loss: 0.23180\n"
     ]
    },
    {
     "name": "stderr",
     "output_type": "stream",
     "text": [
      "Epoch 522/1000: 100%|████████████████████████████████| 4/4 [00:00<00:00,  4.57it/s, avg_loss=0.232, current_loss=0.231]\n"
     ]
    },
    {
     "name": "stdout",
     "output_type": "stream",
     "text": [
      "Epoch 522/1000 - Average Loss: 0.23240\n"
     ]
    },
    {
     "name": "stderr",
     "output_type": "stream",
     "text": [
      "Epoch 523/1000: 100%|████████████████████████████████| 4/4 [00:00<00:00,  4.47it/s, avg_loss=0.233, current_loss=0.234]\n"
     ]
    },
    {
     "name": "stdout",
     "output_type": "stream",
     "text": [
      "Epoch 523/1000 - Average Loss: 0.23251\n"
     ]
    },
    {
     "name": "stderr",
     "output_type": "stream",
     "text": [
      "Epoch 524/1000: 100%|████████████████████████████████| 4/4 [00:00<00:00,  4.61it/s, avg_loss=0.233, current_loss=0.251]\n"
     ]
    },
    {
     "name": "stdout",
     "output_type": "stream",
     "text": [
      "Epoch 524/1000 - Average Loss: 0.23258\n"
     ]
    },
    {
     "name": "stderr",
     "output_type": "stream",
     "text": [
      "Epoch 525/1000: 100%|████████████████████████████████| 4/4 [00:00<00:00,  4.42it/s, avg_loss=0.232, current_loss=0.238]\n"
     ]
    },
    {
     "name": "stdout",
     "output_type": "stream",
     "text": [
      "Epoch 525/1000 - Average Loss: 0.23224\n"
     ]
    },
    {
     "name": "stderr",
     "output_type": "stream",
     "text": [
      "Epoch 526/1000: 100%|████████████████████████████████| 4/4 [00:00<00:00,  4.69it/s, avg_loss=0.232, current_loss=0.225]\n"
     ]
    },
    {
     "name": "stdout",
     "output_type": "stream",
     "text": [
      "Epoch 526/1000 - Average Loss: 0.23203\n"
     ]
    },
    {
     "name": "stderr",
     "output_type": "stream",
     "text": [
      "Epoch 527/1000: 100%|█████████████████████████████████| 4/4 [00:00<00:00,  4.56it/s, avg_loss=0.232, current_loss=0.23]\n"
     ]
    },
    {
     "name": "stdout",
     "output_type": "stream",
     "text": [
      "Epoch 527/1000 - Average Loss: 0.23156\n"
     ]
    },
    {
     "name": "stderr",
     "output_type": "stream",
     "text": [
      "Epoch 528/1000: 100%|████████████████████████████████| 4/4 [00:00<00:00,  4.62it/s, avg_loss=0.231, current_loss=0.224]\n"
     ]
    },
    {
     "name": "stdout",
     "output_type": "stream",
     "text": [
      "Epoch 528/1000 - Average Loss: 0.23141\n"
     ]
    },
    {
     "name": "stderr",
     "output_type": "stream",
     "text": [
      "Epoch 529/1000: 100%|████████████████████████████████| 4/4 [00:00<00:00,  4.75it/s, avg_loss=0.232, current_loss=0.241]\n"
     ]
    },
    {
     "name": "stdout",
     "output_type": "stream",
     "text": [
      "Epoch 529/1000 - Average Loss: 0.23180\n"
     ]
    },
    {
     "name": "stderr",
     "output_type": "stream",
     "text": [
      "Epoch 530/1000: 100%|████████████████████████████████| 4/4 [00:00<00:00,  4.66it/s, avg_loss=0.232, current_loss=0.247]\n"
     ]
    },
    {
     "name": "stdout",
     "output_type": "stream",
     "text": [
      "Epoch 530/1000 - Average Loss: 0.23178\n"
     ]
    },
    {
     "name": "stderr",
     "output_type": "stream",
     "text": [
      "Epoch 531/1000: 100%|█████████████████████████████████| 4/4 [00:00<00:00,  4.74it/s, avg_loss=0.231, current_loss=0.23]\n"
     ]
    },
    {
     "name": "stdout",
     "output_type": "stream",
     "text": [
      "Epoch 531/1000 - Average Loss: 0.23124\n"
     ]
    },
    {
     "name": "stderr",
     "output_type": "stream",
     "text": [
      "Epoch 532/1000: 100%|████████████████████████████████| 4/4 [00:00<00:00,  4.20it/s, avg_loss=0.232, current_loss=0.237]\n"
     ]
    },
    {
     "name": "stdout",
     "output_type": "stream",
     "text": [
      "Epoch 532/1000 - Average Loss: 0.23166\n"
     ]
    },
    {
     "name": "stderr",
     "output_type": "stream",
     "text": [
      "Epoch 533/1000: 100%|████████████████████████████████| 4/4 [00:00<00:00,  4.64it/s, avg_loss=0.232, current_loss=0.217]\n"
     ]
    },
    {
     "name": "stdout",
     "output_type": "stream",
     "text": [
      "Epoch 533/1000 - Average Loss: 0.23199\n"
     ]
    },
    {
     "name": "stderr",
     "output_type": "stream",
     "text": [
      "Epoch 534/1000: 100%|█████████████████████████████████| 4/4 [00:00<00:00,  4.38it/s, avg_loss=0.231, current_loss=0.25]\n"
     ]
    },
    {
     "name": "stdout",
     "output_type": "stream",
     "text": [
      "Epoch 534/1000 - Average Loss: 0.23129\n"
     ]
    },
    {
     "name": "stderr",
     "output_type": "stream",
     "text": [
      "Epoch 535/1000: 100%|█████████████████████████████████| 4/4 [00:00<00:00,  4.94it/s, avg_loss=0.231, current_loss=0.22]\n"
     ]
    },
    {
     "name": "stdout",
     "output_type": "stream",
     "text": [
      "Epoch 535/1000 - Average Loss: 0.23120\n"
     ]
    },
    {
     "name": "stderr",
     "output_type": "stream",
     "text": [
      "Epoch 536/1000: 100%|████████████████████████████████| 4/4 [00:00<00:00,  4.29it/s, avg_loss=0.231, current_loss=0.219]\n"
     ]
    },
    {
     "name": "stdout",
     "output_type": "stream",
     "text": [
      "Epoch 536/1000 - Average Loss: 0.23076\n"
     ]
    },
    {
     "name": "stderr",
     "output_type": "stream",
     "text": [
      "Epoch 537/1000: 100%|████████████████████████████████| 4/4 [00:00<00:00,  4.49it/s, avg_loss=0.231, current_loss=0.227]\n"
     ]
    },
    {
     "name": "stdout",
     "output_type": "stream",
     "text": [
      "Epoch 537/1000 - Average Loss: 0.23106\n"
     ]
    },
    {
     "name": "stderr",
     "output_type": "stream",
     "text": [
      "Epoch 538/1000: 100%|████████████████████████████████| 4/4 [00:00<00:00,  4.69it/s, avg_loss=0.231, current_loss=0.233]\n"
     ]
    },
    {
     "name": "stdout",
     "output_type": "stream",
     "text": [
      "Epoch 538/1000 - Average Loss: 0.23115\n"
     ]
    },
    {
     "name": "stderr",
     "output_type": "stream",
     "text": [
      "Epoch 539/1000: 100%|████████████████████████████████| 4/4 [00:00<00:00,  4.37it/s, avg_loss=0.231, current_loss=0.228]\n"
     ]
    },
    {
     "name": "stdout",
     "output_type": "stream",
     "text": [
      "Epoch 539/1000 - Average Loss: 0.23101\n"
     ]
    },
    {
     "name": "stderr",
     "output_type": "stream",
     "text": [
      "Epoch 540/1000: 100%|████████████████████████████████| 4/4 [00:00<00:00,  4.47it/s, avg_loss=0.231, current_loss=0.224]\n"
     ]
    },
    {
     "name": "stdout",
     "output_type": "stream",
     "text": [
      "Epoch 540/1000 - Average Loss: 0.23075\n"
     ]
    },
    {
     "name": "stderr",
     "output_type": "stream",
     "text": [
      "Epoch 541/1000: 100%|████████████████████████████████| 4/4 [00:00<00:00,  4.57it/s, avg_loss=0.231, current_loss=0.238]\n"
     ]
    },
    {
     "name": "stdout",
     "output_type": "stream",
     "text": [
      "Epoch 541/1000 - Average Loss: 0.23085\n"
     ]
    },
    {
     "name": "stderr",
     "output_type": "stream",
     "text": [
      "Epoch 542/1000: 100%|█████████████████████████████████| 4/4 [00:00<00:00,  4.58it/s, avg_loss=0.231, current_loss=0.23]\n"
     ]
    },
    {
     "name": "stdout",
     "output_type": "stream",
     "text": [
      "Epoch 542/1000 - Average Loss: 0.23080\n"
     ]
    },
    {
     "name": "stderr",
     "output_type": "stream",
     "text": [
      "Epoch 543/1000: 100%|████████████████████████████████| 4/4 [00:00<00:00,  4.74it/s, avg_loss=0.231, current_loss=0.227]\n"
     ]
    },
    {
     "name": "stdout",
     "output_type": "stream",
     "text": [
      "Epoch 543/1000 - Average Loss: 0.23066\n"
     ]
    },
    {
     "name": "stderr",
     "output_type": "stream",
     "text": [
      "Epoch 544/1000: 100%|████████████████████████████████| 4/4 [00:00<00:00,  4.45it/s, avg_loss=0.231, current_loss=0.231]\n"
     ]
    },
    {
     "name": "stdout",
     "output_type": "stream",
     "text": [
      "Epoch 544/1000 - Average Loss: 0.23123\n"
     ]
    },
    {
     "name": "stderr",
     "output_type": "stream",
     "text": [
      "Epoch 545/1000: 100%|████████████████████████████████| 4/4 [00:00<00:00,  4.49it/s, avg_loss=0.231, current_loss=0.223]\n"
     ]
    },
    {
     "name": "stdout",
     "output_type": "stream",
     "text": [
      "Epoch 545/1000 - Average Loss: 0.23087\n"
     ]
    },
    {
     "name": "stderr",
     "output_type": "stream",
     "text": [
      "Epoch 546/1000: 100%|████████████████████████████████| 4/4 [00:00<00:00,  4.34it/s, avg_loss=0.231, current_loss=0.234]\n"
     ]
    },
    {
     "name": "stdout",
     "output_type": "stream",
     "text": [
      "Epoch 546/1000 - Average Loss: 0.23098\n"
     ]
    },
    {
     "name": "stderr",
     "output_type": "stream",
     "text": [
      "Epoch 547/1000: 100%|████████████████████████████████| 4/4 [00:00<00:00,  4.80it/s, avg_loss=0.231, current_loss=0.219]\n"
     ]
    },
    {
     "name": "stdout",
     "output_type": "stream",
     "text": [
      "Epoch 547/1000 - Average Loss: 0.23055\n"
     ]
    },
    {
     "name": "stderr",
     "output_type": "stream",
     "text": [
      "Epoch 548/1000: 100%|█████████████████████████████████| 4/4 [00:00<00:00,  4.52it/s, avg_loss=0.23, current_loss=0.229]\n"
     ]
    },
    {
     "name": "stdout",
     "output_type": "stream",
     "text": [
      "Epoch 548/1000 - Average Loss: 0.23029\n"
     ]
    },
    {
     "name": "stderr",
     "output_type": "stream",
     "text": [
      "Epoch 549/1000: 100%|█████████████████████████████████| 4/4 [00:00<00:00,  4.28it/s, avg_loss=0.23, current_loss=0.219]\n"
     ]
    },
    {
     "name": "stdout",
     "output_type": "stream",
     "text": [
      "Epoch 549/1000 - Average Loss: 0.23030\n"
     ]
    },
    {
     "name": "stderr",
     "output_type": "stream",
     "text": [
      "Epoch 550/1000: 100%|█████████████████████████████████| 4/4 [00:00<00:00,  4.58it/s, avg_loss=0.23, current_loss=0.221]\n"
     ]
    },
    {
     "name": "stdout",
     "output_type": "stream",
     "text": [
      "Epoch 550/1000 - Average Loss: 0.23002\n"
     ]
    },
    {
     "name": "stderr",
     "output_type": "stream",
     "text": [
      "Epoch 551/1000: 100%|█████████████████████████████████| 4/4 [00:00<00:00,  4.31it/s, avg_loss=0.23, current_loss=0.235]\n"
     ]
    },
    {
     "name": "stdout",
     "output_type": "stream",
     "text": [
      "Epoch 551/1000 - Average Loss: 0.23018\n"
     ]
    },
    {
     "name": "stderr",
     "output_type": "stream",
     "text": [
      "Epoch 552/1000: 100%|█████████████████████████████████| 4/4 [00:00<00:00,  4.38it/s, avg_loss=0.23, current_loss=0.224]\n"
     ]
    },
    {
     "name": "stdout",
     "output_type": "stream",
     "text": [
      "Epoch 552/1000 - Average Loss: 0.23037\n"
     ]
    },
    {
     "name": "stderr",
     "output_type": "stream",
     "text": [
      "Epoch 553/1000: 100%|█████████████████████████████████| 4/4 [00:01<00:00,  3.92it/s, avg_loss=0.23, current_loss=0.235]\n"
     ]
    },
    {
     "name": "stdout",
     "output_type": "stream",
     "text": [
      "Epoch 553/1000 - Average Loss: 0.23015\n"
     ]
    },
    {
     "name": "stderr",
     "output_type": "stream",
     "text": [
      "Epoch 554/1000: 100%|█████████████████████████████████| 4/4 [00:01<00:00,  3.84it/s, avg_loss=0.23, current_loss=0.232]\n"
     ]
    },
    {
     "name": "stdout",
     "output_type": "stream",
     "text": [
      "Epoch 554/1000 - Average Loss: 0.23029\n"
     ]
    },
    {
     "name": "stderr",
     "output_type": "stream",
     "text": [
      "Epoch 555/1000: 100%|██████████████████████████████████| 4/4 [00:00<00:00,  4.04it/s, avg_loss=0.23, current_loss=0.23]\n"
     ]
    },
    {
     "name": "stdout",
     "output_type": "stream",
     "text": [
      "Epoch 555/1000 - Average Loss: 0.22969\n"
     ]
    },
    {
     "name": "stderr",
     "output_type": "stream",
     "text": [
      "Epoch 556/1000: 100%|█████████████████████████████████| 4/4 [00:00<00:00,  4.26it/s, avg_loss=0.23, current_loss=0.232]\n"
     ]
    },
    {
     "name": "stdout",
     "output_type": "stream",
     "text": [
      "Epoch 556/1000 - Average Loss: 0.22993\n"
     ]
    },
    {
     "name": "stderr",
     "output_type": "stream",
     "text": [
      "Epoch 557/1000: 100%|█████████████████████████████████| 4/4 [00:00<00:00,  4.06it/s, avg_loss=0.23, current_loss=0.228]\n"
     ]
    },
    {
     "name": "stdout",
     "output_type": "stream",
     "text": [
      "Epoch 557/1000 - Average Loss: 0.22999\n"
     ]
    },
    {
     "name": "stderr",
     "output_type": "stream",
     "text": [
      "Epoch 558/1000: 100%|█████████████████████████████████| 4/4 [00:01<00:00,  3.70it/s, avg_loss=0.23, current_loss=0.223]\n"
     ]
    },
    {
     "name": "stdout",
     "output_type": "stream",
     "text": [
      "Epoch 558/1000 - Average Loss: 0.22955\n"
     ]
    },
    {
     "name": "stderr",
     "output_type": "stream",
     "text": [
      "Epoch 559/1000: 100%|█████████████████████████████████| 4/4 [00:00<00:00,  4.24it/s, avg_loss=0.23, current_loss=0.231]\n"
     ]
    },
    {
     "name": "stdout",
     "output_type": "stream",
     "text": [
      "Epoch 559/1000 - Average Loss: 0.22990\n"
     ]
    },
    {
     "name": "stderr",
     "output_type": "stream",
     "text": [
      "Epoch 560/1000: 100%|█████████████████████████████████| 4/4 [00:00<00:00,  4.13it/s, avg_loss=0.23, current_loss=0.238]\n"
     ]
    },
    {
     "name": "stdout",
     "output_type": "stream",
     "text": [
      "Epoch 560/1000 - Average Loss: 0.22989\n"
     ]
    },
    {
     "name": "stderr",
     "output_type": "stream",
     "text": [
      "Epoch 561/1000: 100%|█████████████████████████████████| 4/4 [00:00<00:00,  4.38it/s, avg_loss=0.23, current_loss=0.237]\n"
     ]
    },
    {
     "name": "stdout",
     "output_type": "stream",
     "text": [
      "Epoch 561/1000 - Average Loss: 0.23027\n"
     ]
    },
    {
     "name": "stderr",
     "output_type": "stream",
     "text": [
      "Epoch 562/1000: 100%|█████████████████████████████████| 4/4 [00:00<00:00,  4.05it/s, avg_loss=0.23, current_loss=0.215]\n"
     ]
    },
    {
     "name": "stdout",
     "output_type": "stream",
     "text": [
      "Epoch 562/1000 - Average Loss: 0.22980\n"
     ]
    },
    {
     "name": "stderr",
     "output_type": "stream",
     "text": [
      "Epoch 563/1000: 100%|█████████████████████████████████| 4/4 [00:00<00:00,  4.31it/s, avg_loss=0.23, current_loss=0.249]\n"
     ]
    },
    {
     "name": "stdout",
     "output_type": "stream",
     "text": [
      "Epoch 563/1000 - Average Loss: 0.22980\n"
     ]
    },
    {
     "name": "stderr",
     "output_type": "stream",
     "text": [
      "Epoch 564/1000: 100%|████████████████████████████████| 4/4 [00:01<00:00,  3.96it/s, avg_loss=0.229, current_loss=0.228]\n"
     ]
    },
    {
     "name": "stdout",
     "output_type": "stream",
     "text": [
      "Epoch 564/1000 - Average Loss: 0.22933\n"
     ]
    },
    {
     "name": "stderr",
     "output_type": "stream",
     "text": [
      "Epoch 565/1000: 100%|█████████████████████████████████| 4/4 [00:00<00:00,  4.24it/s, avg_loss=0.23, current_loss=0.229]\n"
     ]
    },
    {
     "name": "stdout",
     "output_type": "stream",
     "text": [
      "Epoch 565/1000 - Average Loss: 0.22983\n"
     ]
    },
    {
     "name": "stderr",
     "output_type": "stream",
     "text": [
      "Epoch 566/1000: 100%|█████████████████████████████████| 4/4 [00:00<00:00,  4.66it/s, avg_loss=0.23, current_loss=0.238]\n"
     ]
    },
    {
     "name": "stdout",
     "output_type": "stream",
     "text": [
      "Epoch 566/1000 - Average Loss: 0.23012\n"
     ]
    },
    {
     "name": "stderr",
     "output_type": "stream",
     "text": [
      "Epoch 567/1000: 100%|█████████████████████████████████| 4/4 [00:01<00:00,  3.87it/s, avg_loss=0.229, current_loss=0.23]\n"
     ]
    },
    {
     "name": "stdout",
     "output_type": "stream",
     "text": [
      "Epoch 567/1000 - Average Loss: 0.22942\n"
     ]
    },
    {
     "name": "stderr",
     "output_type": "stream",
     "text": [
      "Epoch 568/1000: 100%|████████████████████████████████| 4/4 [00:00<00:00,  4.27it/s, avg_loss=0.229, current_loss=0.228]\n"
     ]
    },
    {
     "name": "stdout",
     "output_type": "stream",
     "text": [
      "Epoch 568/1000 - Average Loss: 0.22927\n"
     ]
    },
    {
     "name": "stderr",
     "output_type": "stream",
     "text": [
      "Epoch 569/1000: 100%|████████████████████████████████| 4/4 [00:00<00:00,  4.11it/s, avg_loss=0.229, current_loss=0.236]\n"
     ]
    },
    {
     "name": "stdout",
     "output_type": "stream",
     "text": [
      "Epoch 569/1000 - Average Loss: 0.22906\n"
     ]
    },
    {
     "name": "stderr",
     "output_type": "stream",
     "text": [
      "Epoch 570/1000: 100%|████████████████████████████████| 4/4 [00:00<00:00,  4.19it/s, avg_loss=0.229, current_loss=0.213]\n"
     ]
    },
    {
     "name": "stdout",
     "output_type": "stream",
     "text": [
      "Epoch 570/1000 - Average Loss: 0.22948\n"
     ]
    },
    {
     "name": "stderr",
     "output_type": "stream",
     "text": [
      "Epoch 571/1000: 100%|█████████████████████████████████| 4/4 [00:00<00:00,  4.10it/s, avg_loss=0.23, current_loss=0.222]\n"
     ]
    },
    {
     "name": "stdout",
     "output_type": "stream",
     "text": [
      "Epoch 571/1000 - Average Loss: 0.22950\n"
     ]
    },
    {
     "name": "stderr",
     "output_type": "stream",
     "text": [
      "Epoch 572/1000: 100%|█████████████████████████████████| 4/4 [00:00<00:00,  4.22it/s, avg_loss=0.23, current_loss=0.243]\n"
     ]
    },
    {
     "name": "stdout",
     "output_type": "stream",
     "text": [
      "Epoch 572/1000 - Average Loss: 0.22955\n"
     ]
    },
    {
     "name": "stderr",
     "output_type": "stream",
     "text": [
      "Epoch 573/1000: 100%|█████████████████████████████████| 4/4 [00:00<00:00,  4.25it/s, avg_loss=0.23, current_loss=0.239]\n"
     ]
    },
    {
     "name": "stdout",
     "output_type": "stream",
     "text": [
      "Epoch 573/1000 - Average Loss: 0.22961\n"
     ]
    },
    {
     "name": "stderr",
     "output_type": "stream",
     "text": [
      "Epoch 574/1000: 100%|█████████████████████████████████| 4/4 [00:00<00:00,  4.51it/s, avg_loss=0.23, current_loss=0.248]\n"
     ]
    },
    {
     "name": "stdout",
     "output_type": "stream",
     "text": [
      "Epoch 574/1000 - Average Loss: 0.22961\n"
     ]
    },
    {
     "name": "stderr",
     "output_type": "stream",
     "text": [
      "Epoch 575/1000: 100%|████████████████████████████████| 4/4 [00:00<00:00,  4.49it/s, avg_loss=0.229, current_loss=0.229]\n"
     ]
    },
    {
     "name": "stdout",
     "output_type": "stream",
     "text": [
      "Epoch 575/1000 - Average Loss: 0.22948\n"
     ]
    },
    {
     "name": "stderr",
     "output_type": "stream",
     "text": [
      "Epoch 576/1000: 100%|████████████████████████████████| 4/4 [00:00<00:00,  4.34it/s, avg_loss=0.229, current_loss=0.219]\n"
     ]
    },
    {
     "name": "stdout",
     "output_type": "stream",
     "text": [
      "Epoch 576/1000 - Average Loss: 0.22935\n"
     ]
    },
    {
     "name": "stderr",
     "output_type": "stream",
     "text": [
      "Epoch 577/1000: 100%|█████████████████████████████████| 4/4 [00:00<00:00,  4.62it/s, avg_loss=0.23, current_loss=0.226]\n"
     ]
    },
    {
     "name": "stdout",
     "output_type": "stream",
     "text": [
      "Epoch 577/1000 - Average Loss: 0.22953\n"
     ]
    },
    {
     "name": "stderr",
     "output_type": "stream",
     "text": [
      "Epoch 578/1000: 100%|████████████████████████████████| 4/4 [00:00<00:00,  4.07it/s, avg_loss=0.229, current_loss=0.217]\n"
     ]
    },
    {
     "name": "stdout",
     "output_type": "stream",
     "text": [
      "Epoch 578/1000 - Average Loss: 0.22942\n"
     ]
    },
    {
     "name": "stderr",
     "output_type": "stream",
     "text": [
      "Epoch 579/1000: 100%|█████████████████████████████████| 4/4 [00:00<00:00,  4.45it/s, avg_loss=0.23, current_loss=0.225]\n"
     ]
    },
    {
     "name": "stdout",
     "output_type": "stream",
     "text": [
      "Epoch 579/1000 - Average Loss: 0.22955\n"
     ]
    },
    {
     "name": "stderr",
     "output_type": "stream",
     "text": [
      "Epoch 580/1000: 100%|█████████████████████████████████| 4/4 [00:00<00:00,  4.19it/s, avg_loss=0.23, current_loss=0.222]\n"
     ]
    },
    {
     "name": "stdout",
     "output_type": "stream",
     "text": [
      "Epoch 580/1000 - Average Loss: 0.23003\n"
     ]
    },
    {
     "name": "stderr",
     "output_type": "stream",
     "text": [
      "Epoch 581/1000: 100%|█████████████████████████████████| 4/4 [00:00<00:00,  4.29it/s, avg_loss=0.23, current_loss=0.241]\n"
     ]
    },
    {
     "name": "stdout",
     "output_type": "stream",
     "text": [
      "Epoch 581/1000 - Average Loss: 0.22984\n"
     ]
    },
    {
     "name": "stderr",
     "output_type": "stream",
     "text": [
      "Epoch 582/1000: 100%|█████████████████████████████████| 4/4 [00:00<00:00,  4.26it/s, avg_loss=0.23, current_loss=0.219]\n"
     ]
    },
    {
     "name": "stdout",
     "output_type": "stream",
     "text": [
      "Epoch 582/1000 - Average Loss: 0.22981\n"
     ]
    },
    {
     "name": "stderr",
     "output_type": "stream",
     "text": [
      "Epoch 583/1000: 100%|████████████████████████████████| 4/4 [00:00<00:00,  4.61it/s, avg_loss=0.229, current_loss=0.214]\n"
     ]
    },
    {
     "name": "stdout",
     "output_type": "stream",
     "text": [
      "Epoch 583/1000 - Average Loss: 0.22914\n"
     ]
    },
    {
     "name": "stderr",
     "output_type": "stream",
     "text": [
      "Epoch 584/1000: 100%|█████████████████████████████████| 4/4 [00:00<00:00,  4.32it/s, avg_loss=0.229, current_loss=0.22]\n"
     ]
    },
    {
     "name": "stdout",
     "output_type": "stream",
     "text": [
      "Epoch 584/1000 - Average Loss: 0.22889\n"
     ]
    },
    {
     "name": "stderr",
     "output_type": "stream",
     "text": [
      "Epoch 585/1000: 100%|████████████████████████████████| 4/4 [00:00<00:00,  4.07it/s, avg_loss=0.229, current_loss=0.218]\n"
     ]
    },
    {
     "name": "stdout",
     "output_type": "stream",
     "text": [
      "Epoch 585/1000 - Average Loss: 0.22892\n"
     ]
    },
    {
     "name": "stderr",
     "output_type": "stream",
     "text": [
      "Epoch 586/1000: 100%|████████████████████████████████| 4/4 [00:00<00:00,  4.68it/s, avg_loss=0.229, current_loss=0.244]\n"
     ]
    },
    {
     "name": "stdout",
     "output_type": "stream",
     "text": [
      "Epoch 586/1000 - Average Loss: 0.22873\n"
     ]
    },
    {
     "name": "stderr",
     "output_type": "stream",
     "text": [
      "Epoch 587/1000: 100%|████████████████████████████████| 4/4 [00:00<00:00,  4.49it/s, avg_loss=0.229, current_loss=0.229]\n"
     ]
    },
    {
     "name": "stdout",
     "output_type": "stream",
     "text": [
      "Epoch 587/1000 - Average Loss: 0.22863\n"
     ]
    },
    {
     "name": "stderr",
     "output_type": "stream",
     "text": [
      "Epoch 588/1000: 100%|████████████████████████████████| 4/4 [00:00<00:00,  4.63it/s, avg_loss=0.229, current_loss=0.214]\n"
     ]
    },
    {
     "name": "stdout",
     "output_type": "stream",
     "text": [
      "Epoch 588/1000 - Average Loss: 0.22868\n"
     ]
    },
    {
     "name": "stderr",
     "output_type": "stream",
     "text": [
      "Epoch 589/1000: 100%|████████████████████████████████| 4/4 [00:00<00:00,  4.29it/s, avg_loss=0.228, current_loss=0.248]\n"
     ]
    },
    {
     "name": "stdout",
     "output_type": "stream",
     "text": [
      "Epoch 589/1000 - Average Loss: 0.22835\n"
     ]
    },
    {
     "name": "stderr",
     "output_type": "stream",
     "text": [
      "Epoch 590/1000: 100%|█████████████████████████████████| 4/4 [00:00<00:00,  4.63it/s, avg_loss=0.228, current_loss=0.24]\n"
     ]
    },
    {
     "name": "stdout",
     "output_type": "stream",
     "text": [
      "Epoch 590/1000 - Average Loss: 0.22836\n"
     ]
    },
    {
     "name": "stderr",
     "output_type": "stream",
     "text": [
      "Epoch 591/1000: 100%|████████████████████████████████| 4/4 [00:00<00:00,  4.64it/s, avg_loss=0.229, current_loss=0.223]\n"
     ]
    },
    {
     "name": "stdout",
     "output_type": "stream",
     "text": [
      "Epoch 591/1000 - Average Loss: 0.22850\n"
     ]
    },
    {
     "name": "stderr",
     "output_type": "stream",
     "text": [
      "Epoch 592/1000: 100%|████████████████████████████████| 4/4 [00:00<00:00,  4.56it/s, avg_loss=0.228, current_loss=0.244]\n"
     ]
    },
    {
     "name": "stdout",
     "output_type": "stream",
     "text": [
      "Epoch 592/1000 - Average Loss: 0.22824\n"
     ]
    },
    {
     "name": "stderr",
     "output_type": "stream",
     "text": [
      "Epoch 593/1000: 100%|████████████████████████████████| 4/4 [00:00<00:00,  4.36it/s, avg_loss=0.228, current_loss=0.219]\n"
     ]
    },
    {
     "name": "stdout",
     "output_type": "stream",
     "text": [
      "Epoch 593/1000 - Average Loss: 0.22843\n"
     ]
    },
    {
     "name": "stderr",
     "output_type": "stream",
     "text": [
      "Epoch 594/1000: 100%|████████████████████████████████| 4/4 [00:00<00:00,  4.41it/s, avg_loss=0.229, current_loss=0.227]\n"
     ]
    },
    {
     "name": "stdout",
     "output_type": "stream",
     "text": [
      "Epoch 594/1000 - Average Loss: 0.22890\n"
     ]
    },
    {
     "name": "stderr",
     "output_type": "stream",
     "text": [
      "Epoch 595/1000: 100%|████████████████████████████████| 4/4 [00:00<00:00,  4.65it/s, avg_loss=0.229, current_loss=0.237]\n"
     ]
    },
    {
     "name": "stdout",
     "output_type": "stream",
     "text": [
      "Epoch 595/1000 - Average Loss: 0.22876\n"
     ]
    },
    {
     "name": "stderr",
     "output_type": "stream",
     "text": [
      "Epoch 596/1000: 100%|████████████████████████████████| 4/4 [00:00<00:00,  4.64it/s, avg_loss=0.228, current_loss=0.222]\n"
     ]
    },
    {
     "name": "stdout",
     "output_type": "stream",
     "text": [
      "Epoch 596/1000 - Average Loss: 0.22828\n"
     ]
    },
    {
     "name": "stderr",
     "output_type": "stream",
     "text": [
      "Epoch 597/1000: 100%|████████████████████████████████| 4/4 [00:00<00:00,  4.44it/s, avg_loss=0.228, current_loss=0.223]\n"
     ]
    },
    {
     "name": "stdout",
     "output_type": "stream",
     "text": [
      "Epoch 597/1000 - Average Loss: 0.22817\n"
     ]
    },
    {
     "name": "stderr",
     "output_type": "stream",
     "text": [
      "Epoch 598/1000: 100%|████████████████████████████████| 4/4 [00:00<00:00,  4.58it/s, avg_loss=0.228, current_loss=0.209]\n"
     ]
    },
    {
     "name": "stdout",
     "output_type": "stream",
     "text": [
      "Epoch 598/1000 - Average Loss: 0.22807\n"
     ]
    },
    {
     "name": "stderr",
     "output_type": "stream",
     "text": [
      "Epoch 599/1000: 100%|█████████████████████████████████| 4/4 [00:00<00:00,  4.61it/s, avg_loss=0.228, current_loss=0.25]\n"
     ]
    },
    {
     "name": "stdout",
     "output_type": "stream",
     "text": [
      "Epoch 599/1000 - Average Loss: 0.22839\n"
     ]
    },
    {
     "name": "stderr",
     "output_type": "stream",
     "text": [
      "Epoch 600/1000: 100%|████████████████████████████████| 4/4 [00:00<00:00,  4.50it/s, avg_loss=0.229, current_loss=0.231]\n"
     ]
    },
    {
     "name": "stdout",
     "output_type": "stream",
     "text": [
      "Epoch 600/1000 - Average Loss: 0.22880\n"
     ]
    },
    {
     "name": "stderr",
     "output_type": "stream",
     "text": [
      "Epoch 601/1000: 100%|████████████████████████████████| 4/4 [00:00<00:00,  4.32it/s, avg_loss=0.229, current_loss=0.215]\n"
     ]
    },
    {
     "name": "stdout",
     "output_type": "stream",
     "text": [
      "Epoch 601/1000 - Average Loss: 0.22939\n"
     ]
    },
    {
     "name": "stderr",
     "output_type": "stream",
     "text": [
      "Epoch 602/1000: 100%|████████████████████████████████| 4/4 [00:00<00:00,  4.69it/s, avg_loss=0.228, current_loss=0.218]\n"
     ]
    },
    {
     "name": "stdout",
     "output_type": "stream",
     "text": [
      "Epoch 602/1000 - Average Loss: 0.22829\n"
     ]
    },
    {
     "name": "stderr",
     "output_type": "stream",
     "text": [
      "Epoch 603/1000: 100%|████████████████████████████████| 4/4 [00:00<00:00,  4.26it/s, avg_loss=0.228, current_loss=0.235]\n"
     ]
    },
    {
     "name": "stdout",
     "output_type": "stream",
     "text": [
      "Epoch 603/1000 - Average Loss: 0.22826\n"
     ]
    },
    {
     "name": "stderr",
     "output_type": "stream",
     "text": [
      "Epoch 604/1000: 100%|████████████████████████████████| 4/4 [00:00<00:00,  4.31it/s, avg_loss=0.228, current_loss=0.221]\n"
     ]
    },
    {
     "name": "stdout",
     "output_type": "stream",
     "text": [
      "Epoch 604/1000 - Average Loss: 0.22779\n"
     ]
    },
    {
     "name": "stderr",
     "output_type": "stream",
     "text": [
      "Epoch 605/1000: 100%|████████████████████████████████| 4/4 [00:00<00:00,  4.33it/s, avg_loss=0.228, current_loss=0.225]\n"
     ]
    },
    {
     "name": "stdout",
     "output_type": "stream",
     "text": [
      "Epoch 605/1000 - Average Loss: 0.22778\n"
     ]
    },
    {
     "name": "stderr",
     "output_type": "stream",
     "text": [
      "Epoch 606/1000: 100%|████████████████████████████████| 4/4 [00:00<00:00,  4.44it/s, avg_loss=0.228, current_loss=0.227]\n"
     ]
    },
    {
     "name": "stdout",
     "output_type": "stream",
     "text": [
      "Epoch 606/1000 - Average Loss: 0.22797\n"
     ]
    },
    {
     "name": "stderr",
     "output_type": "stream",
     "text": [
      "Epoch 607/1000: 100%|████████████████████████████████| 4/4 [00:00<00:00,  4.66it/s, avg_loss=0.228, current_loss=0.235]\n"
     ]
    },
    {
     "name": "stdout",
     "output_type": "stream",
     "text": [
      "Epoch 607/1000 - Average Loss: 0.22760\n"
     ]
    },
    {
     "name": "stderr",
     "output_type": "stream",
     "text": [
      "Epoch 608/1000: 100%|█████████████████████████████████| 4/4 [00:00<00:00,  4.59it/s, avg_loss=0.228, current_loss=0.22]\n"
     ]
    },
    {
     "name": "stdout",
     "output_type": "stream",
     "text": [
      "Epoch 608/1000 - Average Loss: 0.22757\n"
     ]
    },
    {
     "name": "stderr",
     "output_type": "stream",
     "text": [
      "Epoch 609/1000: 100%|████████████████████████████████| 4/4 [00:00<00:00,  4.43it/s, avg_loss=0.228, current_loss=0.227]\n"
     ]
    },
    {
     "name": "stdout",
     "output_type": "stream",
     "text": [
      "Epoch 609/1000 - Average Loss: 0.22771\n"
     ]
    },
    {
     "name": "stderr",
     "output_type": "stream",
     "text": [
      "Epoch 610/1000: 100%|████████████████████████████████| 4/4 [00:00<00:00,  4.50it/s, avg_loss=0.228, current_loss=0.224]\n"
     ]
    },
    {
     "name": "stdout",
     "output_type": "stream",
     "text": [
      "Epoch 610/1000 - Average Loss: 0.22762\n"
     ]
    },
    {
     "name": "stderr",
     "output_type": "stream",
     "text": [
      "Epoch 611/1000: 100%|████████████████████████████████| 4/4 [00:00<00:00,  4.72it/s, avg_loss=0.228, current_loss=0.234]\n"
     ]
    },
    {
     "name": "stdout",
     "output_type": "stream",
     "text": [
      "Epoch 611/1000 - Average Loss: 0.22798\n"
     ]
    },
    {
     "name": "stderr",
     "output_type": "stream",
     "text": [
      "Epoch 612/1000: 100%|████████████████████████████████| 4/4 [00:00<00:00,  4.59it/s, avg_loss=0.228, current_loss=0.225]\n"
     ]
    },
    {
     "name": "stdout",
     "output_type": "stream",
     "text": [
      "Epoch 612/1000 - Average Loss: 0.22779\n"
     ]
    },
    {
     "name": "stderr",
     "output_type": "stream",
     "text": [
      "Epoch 613/1000: 100%|█████████████████████████████████| 4/4 [00:00<00:00,  4.32it/s, avg_loss=0.228, current_loss=0.22]\n"
     ]
    },
    {
     "name": "stdout",
     "output_type": "stream",
     "text": [
      "Epoch 613/1000 - Average Loss: 0.22804\n"
     ]
    },
    {
     "name": "stderr",
     "output_type": "stream",
     "text": [
      "Epoch 614/1000: 100%|████████████████████████████████| 4/4 [00:00<00:00,  4.51it/s, avg_loss=0.229, current_loss=0.223]\n"
     ]
    },
    {
     "name": "stdout",
     "output_type": "stream",
     "text": [
      "Epoch 614/1000 - Average Loss: 0.22851\n"
     ]
    },
    {
     "name": "stderr",
     "output_type": "stream",
     "text": [
      "Epoch 615/1000: 100%|████████████████████████████████| 4/4 [00:00<00:00,  4.66it/s, avg_loss=0.228, current_loss=0.222]\n"
     ]
    },
    {
     "name": "stdout",
     "output_type": "stream",
     "text": [
      "Epoch 615/1000 - Average Loss: 0.22812\n"
     ]
    },
    {
     "name": "stderr",
     "output_type": "stream",
     "text": [
      "Epoch 616/1000: 100%|████████████████████████████████| 4/4 [00:00<00:00,  4.55it/s, avg_loss=0.227, current_loss=0.241]\n"
     ]
    },
    {
     "name": "stdout",
     "output_type": "stream",
     "text": [
      "Epoch 616/1000 - Average Loss: 0.22747\n"
     ]
    },
    {
     "name": "stderr",
     "output_type": "stream",
     "text": [
      "Epoch 617/1000: 100%|████████████████████████████████| 4/4 [00:00<00:00,  4.50it/s, avg_loss=0.227, current_loss=0.221]\n"
     ]
    },
    {
     "name": "stdout",
     "output_type": "stream",
     "text": [
      "Epoch 617/1000 - Average Loss: 0.22746\n"
     ]
    },
    {
     "name": "stderr",
     "output_type": "stream",
     "text": [
      "Epoch 618/1000: 100%|████████████████████████████████| 4/4 [00:00<00:00,  4.54it/s, avg_loss=0.227, current_loss=0.213]\n"
     ]
    },
    {
     "name": "stdout",
     "output_type": "stream",
     "text": [
      "Epoch 618/1000 - Average Loss: 0.22735\n"
     ]
    },
    {
     "name": "stderr",
     "output_type": "stream",
     "text": [
      "Epoch 619/1000: 100%|█████████████████████████████████| 4/4 [00:00<00:00,  4.41it/s, avg_loss=0.227, current_loss=0.22]\n"
     ]
    },
    {
     "name": "stdout",
     "output_type": "stream",
     "text": [
      "Epoch 619/1000 - Average Loss: 0.22712\n"
     ]
    },
    {
     "name": "stderr",
     "output_type": "stream",
     "text": [
      "Epoch 620/1000: 100%|████████████████████████████████| 4/4 [00:00<00:00,  4.22it/s, avg_loss=0.227, current_loss=0.223]\n"
     ]
    },
    {
     "name": "stdout",
     "output_type": "stream",
     "text": [
      "Epoch 620/1000 - Average Loss: 0.22692\n"
     ]
    },
    {
     "name": "stderr",
     "output_type": "stream",
     "text": [
      "Epoch 621/1000: 100%|████████████████████████████████| 4/4 [00:00<00:00,  4.67it/s, avg_loss=0.227, current_loss=0.232]\n"
     ]
    },
    {
     "name": "stdout",
     "output_type": "stream",
     "text": [
      "Epoch 621/1000 - Average Loss: 0.22720\n"
     ]
    },
    {
     "name": "stderr",
     "output_type": "stream",
     "text": [
      "Epoch 622/1000: 100%|████████████████████████████████| 4/4 [00:00<00:00,  4.36it/s, avg_loss=0.228, current_loss=0.219]\n"
     ]
    },
    {
     "name": "stdout",
     "output_type": "stream",
     "text": [
      "Epoch 622/1000 - Average Loss: 0.22754\n"
     ]
    },
    {
     "name": "stderr",
     "output_type": "stream",
     "text": [
      "Epoch 623/1000: 100%|█████████████████████████████████| 4/4 [00:00<00:00,  4.42it/s, avg_loss=0.227, current_loss=0.23]\n"
     ]
    },
    {
     "name": "stdout",
     "output_type": "stream",
     "text": [
      "Epoch 623/1000 - Average Loss: 0.22711\n"
     ]
    },
    {
     "name": "stderr",
     "output_type": "stream",
     "text": [
      "Epoch 624/1000: 100%|████████████████████████████████| 4/4 [00:00<00:00,  4.01it/s, avg_loss=0.227, current_loss=0.214]\n"
     ]
    },
    {
     "name": "stdout",
     "output_type": "stream",
     "text": [
      "Epoch 624/1000 - Average Loss: 0.22667\n"
     ]
    },
    {
     "name": "stderr",
     "output_type": "stream",
     "text": [
      "Epoch 625/1000: 100%|████████████████████████████████| 4/4 [00:00<00:00,  4.30it/s, avg_loss=0.227, current_loss=0.223]\n"
     ]
    },
    {
     "name": "stdout",
     "output_type": "stream",
     "text": [
      "Epoch 625/1000 - Average Loss: 0.22672\n"
     ]
    },
    {
     "name": "stderr",
     "output_type": "stream",
     "text": [
      "Epoch 626/1000: 100%|████████████████████████████████| 4/4 [00:00<00:00,  4.53it/s, avg_loss=0.227, current_loss=0.224]\n"
     ]
    },
    {
     "name": "stdout",
     "output_type": "stream",
     "text": [
      "Epoch 626/1000 - Average Loss: 0.22687\n"
     ]
    },
    {
     "name": "stderr",
     "output_type": "stream",
     "text": [
      "Epoch 627/1000: 100%|████████████████████████████████| 4/4 [00:00<00:00,  4.18it/s, avg_loss=0.227, current_loss=0.224]\n"
     ]
    },
    {
     "name": "stdout",
     "output_type": "stream",
     "text": [
      "Epoch 627/1000 - Average Loss: 0.22687\n"
     ]
    },
    {
     "name": "stderr",
     "output_type": "stream",
     "text": [
      "Epoch 628/1000: 100%|████████████████████████████████| 4/4 [00:00<00:00,  4.50it/s, avg_loss=0.227, current_loss=0.232]\n"
     ]
    },
    {
     "name": "stdout",
     "output_type": "stream",
     "text": [
      "Epoch 628/1000 - Average Loss: 0.22711\n"
     ]
    },
    {
     "name": "stderr",
     "output_type": "stream",
     "text": [
      "Epoch 629/1000: 100%|████████████████████████████████| 4/4 [00:01<00:00,  3.98it/s, avg_loss=0.227, current_loss=0.248]\n"
     ]
    },
    {
     "name": "stdout",
     "output_type": "stream",
     "text": [
      "Epoch 629/1000 - Average Loss: 0.22681\n"
     ]
    },
    {
     "name": "stderr",
     "output_type": "stream",
     "text": [
      "Epoch 630/1000: 100%|████████████████████████████████| 4/4 [00:00<00:00,  4.32it/s, avg_loss=0.227, current_loss=0.232]\n"
     ]
    },
    {
     "name": "stdout",
     "output_type": "stream",
     "text": [
      "Epoch 630/1000 - Average Loss: 0.22737\n"
     ]
    },
    {
     "name": "stderr",
     "output_type": "stream",
     "text": [
      "Epoch 631/1000: 100%|█████████████████████████████████| 4/4 [00:00<00:00,  4.68it/s, avg_loss=0.228, current_loss=0.24]\n"
     ]
    },
    {
     "name": "stdout",
     "output_type": "stream",
     "text": [
      "Epoch 631/1000 - Average Loss: 0.22793\n"
     ]
    },
    {
     "name": "stderr",
     "output_type": "stream",
     "text": [
      "Epoch 632/1000: 100%|████████████████████████████████| 4/4 [00:00<00:00,  4.08it/s, avg_loss=0.227, current_loss=0.228]\n"
     ]
    },
    {
     "name": "stdout",
     "output_type": "stream",
     "text": [
      "Epoch 632/1000 - Average Loss: 0.22719\n"
     ]
    },
    {
     "name": "stderr",
     "output_type": "stream",
     "text": [
      "Epoch 633/1000: 100%|█████████████████████████████████| 4/4 [00:01<00:00,  3.97it/s, avg_loss=0.227, current_loss=0.22]\n"
     ]
    },
    {
     "name": "stdout",
     "output_type": "stream",
     "text": [
      "Epoch 633/1000 - Average Loss: 0.22725\n"
     ]
    },
    {
     "name": "stderr",
     "output_type": "stream",
     "text": [
      "Epoch 634/1000: 100%|████████████████████████████████| 4/4 [00:00<00:00,  4.07it/s, avg_loss=0.228, current_loss=0.228]\n"
     ]
    },
    {
     "name": "stdout",
     "output_type": "stream",
     "text": [
      "Epoch 634/1000 - Average Loss: 0.22765\n"
     ]
    },
    {
     "name": "stderr",
     "output_type": "stream",
     "text": [
      "Epoch 635/1000: 100%|████████████████████████████████| 4/4 [00:01<00:00,  3.97it/s, avg_loss=0.227, current_loss=0.217]\n"
     ]
    },
    {
     "name": "stdout",
     "output_type": "stream",
     "text": [
      "Epoch 635/1000 - Average Loss: 0.22721\n"
     ]
    },
    {
     "name": "stderr",
     "output_type": "stream",
     "text": [
      "Epoch 636/1000: 100%|████████████████████████████████| 4/4 [00:00<00:00,  4.06it/s, avg_loss=0.227, current_loss=0.232]\n"
     ]
    },
    {
     "name": "stdout",
     "output_type": "stream",
     "text": [
      "Epoch 636/1000 - Average Loss: 0.22686\n"
     ]
    },
    {
     "name": "stderr",
     "output_type": "stream",
     "text": [
      "Epoch 637/1000: 100%|████████████████████████████████| 4/4 [00:00<00:00,  4.81it/s, avg_loss=0.226, current_loss=0.224]\n"
     ]
    },
    {
     "name": "stdout",
     "output_type": "stream",
     "text": [
      "Epoch 637/1000 - Average Loss: 0.22620\n"
     ]
    },
    {
     "name": "stderr",
     "output_type": "stream",
     "text": [
      "Epoch 638/1000: 100%|████████████████████████████████| 4/4 [00:00<00:00,  4.41it/s, avg_loss=0.226, current_loss=0.216]\n"
     ]
    },
    {
     "name": "stdout",
     "output_type": "stream",
     "text": [
      "Epoch 638/1000 - Average Loss: 0.22629\n"
     ]
    },
    {
     "name": "stderr",
     "output_type": "stream",
     "text": [
      "Epoch 639/1000: 100%|████████████████████████████████| 4/4 [00:00<00:00,  4.41it/s, avg_loss=0.227, current_loss=0.203]\n"
     ]
    },
    {
     "name": "stdout",
     "output_type": "stream",
     "text": [
      "Epoch 639/1000 - Average Loss: 0.22665\n"
     ]
    },
    {
     "name": "stderr",
     "output_type": "stream",
     "text": [
      "Epoch 640/1000: 100%|████████████████████████████████| 4/4 [00:00<00:00,  4.14it/s, avg_loss=0.226, current_loss=0.225]\n"
     ]
    },
    {
     "name": "stdout",
     "output_type": "stream",
     "text": [
      "Epoch 640/1000 - Average Loss: 0.22626\n"
     ]
    },
    {
     "name": "stderr",
     "output_type": "stream",
     "text": [
      "Epoch 641/1000: 100%|█████████████████████████████████| 4/4 [00:00<00:00,  4.39it/s, avg_loss=0.227, current_loss=0.22]\n"
     ]
    },
    {
     "name": "stdout",
     "output_type": "stream",
     "text": [
      "Epoch 641/1000 - Average Loss: 0.22666\n"
     ]
    },
    {
     "name": "stderr",
     "output_type": "stream",
     "text": [
      "Epoch 642/1000: 100%|████████████████████████████████| 4/4 [00:00<00:00,  4.40it/s, avg_loss=0.227, current_loss=0.223]\n"
     ]
    },
    {
     "name": "stdout",
     "output_type": "stream",
     "text": [
      "Epoch 642/1000 - Average Loss: 0.22661\n"
     ]
    },
    {
     "name": "stderr",
     "output_type": "stream",
     "text": [
      "Epoch 643/1000: 100%|████████████████████████████████| 4/4 [00:00<00:00,  4.27it/s, avg_loss=0.226, current_loss=0.232]\n"
     ]
    },
    {
     "name": "stdout",
     "output_type": "stream",
     "text": [
      "Epoch 643/1000 - Average Loss: 0.22606\n"
     ]
    },
    {
     "name": "stderr",
     "output_type": "stream",
     "text": [
      "Epoch 644/1000: 100%|████████████████████████████████| 4/4 [00:00<00:00,  4.43it/s, avg_loss=0.226, current_loss=0.235]\n"
     ]
    },
    {
     "name": "stdout",
     "output_type": "stream",
     "text": [
      "Epoch 644/1000 - Average Loss: 0.22620\n"
     ]
    },
    {
     "name": "stderr",
     "output_type": "stream",
     "text": [
      "Epoch 645/1000: 100%|████████████████████████████████| 4/4 [00:00<00:00,  4.59it/s, avg_loss=0.226, current_loss=0.208]\n"
     ]
    },
    {
     "name": "stdout",
     "output_type": "stream",
     "text": [
      "Epoch 645/1000 - Average Loss: 0.22627\n"
     ]
    },
    {
     "name": "stderr",
     "output_type": "stream",
     "text": [
      "Epoch 646/1000: 100%|████████████████████████████████| 4/4 [00:00<00:00,  4.28it/s, avg_loss=0.226, current_loss=0.228]\n"
     ]
    },
    {
     "name": "stdout",
     "output_type": "stream",
     "text": [
      "Epoch 646/1000 - Average Loss: 0.22637\n"
     ]
    },
    {
     "name": "stderr",
     "output_type": "stream",
     "text": [
      "Epoch 647/1000: 100%|████████████████████████████████| 4/4 [00:00<00:00,  4.09it/s, avg_loss=0.226, current_loss=0.224]\n"
     ]
    },
    {
     "name": "stdout",
     "output_type": "stream",
     "text": [
      "Epoch 647/1000 - Average Loss: 0.22599\n"
     ]
    },
    {
     "name": "stderr",
     "output_type": "stream",
     "text": [
      "Epoch 648/1000: 100%|████████████████████████████████| 4/4 [00:00<00:00,  4.41it/s, avg_loss=0.226, current_loss=0.228]\n"
     ]
    },
    {
     "name": "stdout",
     "output_type": "stream",
     "text": [
      "Epoch 648/1000 - Average Loss: 0.22575\n"
     ]
    },
    {
     "name": "stderr",
     "output_type": "stream",
     "text": [
      "Epoch 649/1000: 100%|████████████████████████████████| 4/4 [00:00<00:00,  4.10it/s, avg_loss=0.226, current_loss=0.241]\n"
     ]
    },
    {
     "name": "stdout",
     "output_type": "stream",
     "text": [
      "Epoch 649/1000 - Average Loss: 0.22627\n"
     ]
    },
    {
     "name": "stderr",
     "output_type": "stream",
     "text": [
      "Epoch 650/1000: 100%|████████████████████████████████| 4/4 [00:00<00:00,  4.64it/s, avg_loss=0.227, current_loss=0.224]\n"
     ]
    },
    {
     "name": "stdout",
     "output_type": "stream",
     "text": [
      "Epoch 650/1000 - Average Loss: 0.22693\n"
     ]
    },
    {
     "name": "stderr",
     "output_type": "stream",
     "text": [
      "Epoch 651/1000: 100%|████████████████████████████████| 4/4 [00:00<00:00,  4.32it/s, avg_loss=0.226, current_loss=0.232]\n"
     ]
    },
    {
     "name": "stdout",
     "output_type": "stream",
     "text": [
      "Epoch 651/1000 - Average Loss: 0.22634\n"
     ]
    },
    {
     "name": "stderr",
     "output_type": "stream",
     "text": [
      "Epoch 652/1000: 100%|████████████████████████████████| 4/4 [00:00<00:00,  4.19it/s, avg_loss=0.226, current_loss=0.241]\n"
     ]
    },
    {
     "name": "stdout",
     "output_type": "stream",
     "text": [
      "Epoch 652/1000 - Average Loss: 0.22631\n"
     ]
    },
    {
     "name": "stderr",
     "output_type": "stream",
     "text": [
      "Epoch 653/1000: 100%|████████████████████████████████| 4/4 [00:01<00:00,  3.95it/s, avg_loss=0.226, current_loss=0.226]\n"
     ]
    },
    {
     "name": "stdout",
     "output_type": "stream",
     "text": [
      "Epoch 653/1000 - Average Loss: 0.22609\n"
     ]
    },
    {
     "name": "stderr",
     "output_type": "stream",
     "text": [
      "Epoch 654/1000: 100%|████████████████████████████████| 4/4 [00:00<00:00,  4.55it/s, avg_loss=0.226, current_loss=0.211]\n"
     ]
    },
    {
     "name": "stdout",
     "output_type": "stream",
     "text": [
      "Epoch 654/1000 - Average Loss: 0.22579\n"
     ]
    },
    {
     "name": "stderr",
     "output_type": "stream",
     "text": [
      "Epoch 655/1000: 100%|████████████████████████████████| 4/4 [00:00<00:00,  4.40it/s, avg_loss=0.225, current_loss=0.229]\n"
     ]
    },
    {
     "name": "stdout",
     "output_type": "stream",
     "text": [
      "Epoch 655/1000 - Average Loss: 0.22533\n"
     ]
    },
    {
     "name": "stderr",
     "output_type": "stream",
     "text": [
      "Epoch 656/1000: 100%|████████████████████████████████| 4/4 [00:00<00:00,  4.86it/s, avg_loss=0.226, current_loss=0.222]\n"
     ]
    },
    {
     "name": "stdout",
     "output_type": "stream",
     "text": [
      "Epoch 656/1000 - Average Loss: 0.22600\n"
     ]
    },
    {
     "name": "stderr",
     "output_type": "stream",
     "text": [
      "Epoch 657/1000: 100%|████████████████████████████████| 4/4 [00:00<00:00,  4.57it/s, avg_loss=0.226, current_loss=0.227]\n"
     ]
    },
    {
     "name": "stdout",
     "output_type": "stream",
     "text": [
      "Epoch 657/1000 - Average Loss: 0.22627\n"
     ]
    },
    {
     "name": "stderr",
     "output_type": "stream",
     "text": [
      "Epoch 658/1000: 100%|████████████████████████████████| 4/4 [00:01<00:00,  3.50it/s, avg_loss=0.226, current_loss=0.223]\n"
     ]
    },
    {
     "name": "stdout",
     "output_type": "stream",
     "text": [
      "Epoch 658/1000 - Average Loss: 0.22587\n"
     ]
    },
    {
     "name": "stderr",
     "output_type": "stream",
     "text": [
      "Epoch 659/1000: 100%|████████████████████████████████| 4/4 [00:00<00:00,  4.32it/s, avg_loss=0.226, current_loss=0.233]\n"
     ]
    },
    {
     "name": "stdout",
     "output_type": "stream",
     "text": [
      "Epoch 659/1000 - Average Loss: 0.22592\n"
     ]
    },
    {
     "name": "stderr",
     "output_type": "stream",
     "text": [
      "Epoch 660/1000: 100%|████████████████████████████████| 4/4 [00:00<00:00,  4.18it/s, avg_loss=0.226, current_loss=0.238]\n"
     ]
    },
    {
     "name": "stdout",
     "output_type": "stream",
     "text": [
      "Epoch 660/1000 - Average Loss: 0.22582\n"
     ]
    },
    {
     "name": "stderr",
     "output_type": "stream",
     "text": [
      "Epoch 661/1000: 100%|████████████████████████████████| 4/4 [00:00<00:00,  4.66it/s, avg_loss=0.226, current_loss=0.232]\n"
     ]
    },
    {
     "name": "stdout",
     "output_type": "stream",
     "text": [
      "Epoch 661/1000 - Average Loss: 0.22572\n"
     ]
    },
    {
     "name": "stderr",
     "output_type": "stream",
     "text": [
      "Epoch 662/1000: 100%|████████████████████████████████| 4/4 [00:00<00:00,  4.57it/s, avg_loss=0.226, current_loss=0.235]\n"
     ]
    },
    {
     "name": "stdout",
     "output_type": "stream",
     "text": [
      "Epoch 662/1000 - Average Loss: 0.22561\n"
     ]
    },
    {
     "name": "stderr",
     "output_type": "stream",
     "text": [
      "Epoch 663/1000: 100%|████████████████████████████████| 4/4 [00:00<00:00,  4.19it/s, avg_loss=0.225, current_loss=0.234]\n"
     ]
    },
    {
     "name": "stdout",
     "output_type": "stream",
     "text": [
      "Epoch 663/1000 - Average Loss: 0.22531\n"
     ]
    },
    {
     "name": "stderr",
     "output_type": "stream",
     "text": [
      "Epoch 664/1000: 100%|████████████████████████████████| 4/4 [00:00<00:00,  4.47it/s, avg_loss=0.225, current_loss=0.219]\n"
     ]
    },
    {
     "name": "stdout",
     "output_type": "stream",
     "text": [
      "Epoch 664/1000 - Average Loss: 0.22531\n"
     ]
    },
    {
     "name": "stderr",
     "output_type": "stream",
     "text": [
      "Epoch 665/1000: 100%|████████████████████████████████| 4/4 [00:00<00:00,  4.90it/s, avg_loss=0.225, current_loss=0.225]\n"
     ]
    },
    {
     "name": "stdout",
     "output_type": "stream",
     "text": [
      "Epoch 665/1000 - Average Loss: 0.22533\n"
     ]
    },
    {
     "name": "stderr",
     "output_type": "stream",
     "text": [
      "Epoch 666/1000: 100%|████████████████████████████████| 4/4 [00:00<00:00,  4.57it/s, avg_loss=0.225, current_loss=0.221]\n"
     ]
    },
    {
     "name": "stdout",
     "output_type": "stream",
     "text": [
      "Epoch 666/1000 - Average Loss: 0.22533\n"
     ]
    },
    {
     "name": "stderr",
     "output_type": "stream",
     "text": [
      "Epoch 667/1000: 100%|████████████████████████████████| 4/4 [00:00<00:00,  4.47it/s, avg_loss=0.226, current_loss=0.221]\n"
     ]
    },
    {
     "name": "stdout",
     "output_type": "stream",
     "text": [
      "Epoch 667/1000 - Average Loss: 0.22567\n"
     ]
    },
    {
     "name": "stderr",
     "output_type": "stream",
     "text": [
      "Epoch 668/1000: 100%|████████████████████████████████| 4/4 [00:00<00:00,  4.42it/s, avg_loss=0.225, current_loss=0.218]\n"
     ]
    },
    {
     "name": "stdout",
     "output_type": "stream",
     "text": [
      "Epoch 668/1000 - Average Loss: 0.22530\n"
     ]
    },
    {
     "name": "stderr",
     "output_type": "stream",
     "text": [
      "Epoch 669/1000: 100%|████████████████████████████████| 4/4 [00:00<00:00,  4.54it/s, avg_loss=0.226, current_loss=0.221]\n"
     ]
    },
    {
     "name": "stdout",
     "output_type": "stream",
     "text": [
      "Epoch 669/1000 - Average Loss: 0.22556\n"
     ]
    },
    {
     "name": "stderr",
     "output_type": "stream",
     "text": [
      "Epoch 670/1000: 100%|████████████████████████████████| 4/4 [00:01<00:00,  3.55it/s, avg_loss=0.225, current_loss=0.234]\n"
     ]
    },
    {
     "name": "stdout",
     "output_type": "stream",
     "text": [
      "Epoch 670/1000 - Average Loss: 0.22517\n"
     ]
    },
    {
     "name": "stderr",
     "output_type": "stream",
     "text": [
      "Epoch 671/1000: 100%|████████████████████████████████| 4/4 [00:01<00:00,  3.65it/s, avg_loss=0.225, current_loss=0.219]\n"
     ]
    },
    {
     "name": "stdout",
     "output_type": "stream",
     "text": [
      "Epoch 671/1000 - Average Loss: 0.22500\n"
     ]
    },
    {
     "name": "stderr",
     "output_type": "stream",
     "text": [
      "Epoch 672/1000: 100%|████████████████████████████████| 4/4 [00:01<00:00,  3.20it/s, avg_loss=0.225, current_loss=0.217]\n"
     ]
    },
    {
     "name": "stdout",
     "output_type": "stream",
     "text": [
      "Epoch 672/1000 - Average Loss: 0.22523\n"
     ]
    },
    {
     "name": "stderr",
     "output_type": "stream",
     "text": [
      "Epoch 673/1000: 100%|████████████████████████████████| 4/4 [00:01<00:00,  3.77it/s, avg_loss=0.225, current_loss=0.232]\n"
     ]
    },
    {
     "name": "stdout",
     "output_type": "stream",
     "text": [
      "Epoch 673/1000 - Average Loss: 0.22547\n"
     ]
    },
    {
     "name": "stderr",
     "output_type": "stream",
     "text": [
      "Epoch 674/1000: 100%|████████████████████████████████| 4/4 [00:00<00:00,  4.54it/s, avg_loss=0.225, current_loss=0.225]\n"
     ]
    },
    {
     "name": "stdout",
     "output_type": "stream",
     "text": [
      "Epoch 674/1000 - Average Loss: 0.22471\n"
     ]
    },
    {
     "name": "stderr",
     "output_type": "stream",
     "text": [
      "Epoch 675/1000: 100%|████████████████████████████████| 4/4 [00:00<00:00,  4.56it/s, avg_loss=0.225, current_loss=0.228]\n"
     ]
    },
    {
     "name": "stdout",
     "output_type": "stream",
     "text": [
      "Epoch 675/1000 - Average Loss: 0.22479\n"
     ]
    },
    {
     "name": "stderr",
     "output_type": "stream",
     "text": [
      "Epoch 676/1000: 100%|████████████████████████████████| 4/4 [00:00<00:00,  4.91it/s, avg_loss=0.225, current_loss=0.214]\n"
     ]
    },
    {
     "name": "stdout",
     "output_type": "stream",
     "text": [
      "Epoch 676/1000 - Average Loss: 0.22506\n"
     ]
    },
    {
     "name": "stderr",
     "output_type": "stream",
     "text": [
      "Epoch 677/1000: 100%|████████████████████████████████| 4/4 [00:00<00:00,  4.56it/s, avg_loss=0.225, current_loss=0.223]\n"
     ]
    },
    {
     "name": "stdout",
     "output_type": "stream",
     "text": [
      "Epoch 677/1000 - Average Loss: 0.22455\n"
     ]
    },
    {
     "name": "stderr",
     "output_type": "stream",
     "text": [
      "Epoch 678/1000: 100%|████████████████████████████████| 4/4 [00:00<00:00,  4.53it/s, avg_loss=0.224, current_loss=0.217]\n"
     ]
    },
    {
     "name": "stdout",
     "output_type": "stream",
     "text": [
      "Epoch 678/1000 - Average Loss: 0.22427\n"
     ]
    },
    {
     "name": "stderr",
     "output_type": "stream",
     "text": [
      "Epoch 679/1000: 100%|████████████████████████████████| 4/4 [00:00<00:00,  4.75it/s, avg_loss=0.224, current_loss=0.224]\n"
     ]
    },
    {
     "name": "stdout",
     "output_type": "stream",
     "text": [
      "Epoch 679/1000 - Average Loss: 0.22412\n"
     ]
    },
    {
     "name": "stderr",
     "output_type": "stream",
     "text": [
      "Epoch 680/1000: 100%|████████████████████████████████| 4/4 [00:00<00:00,  4.56it/s, avg_loss=0.224, current_loss=0.225]\n"
     ]
    },
    {
     "name": "stdout",
     "output_type": "stream",
     "text": [
      "Epoch 680/1000 - Average Loss: 0.22446\n"
     ]
    },
    {
     "name": "stderr",
     "output_type": "stream",
     "text": [
      "Epoch 681/1000: 100%|████████████████████████████████| 4/4 [00:01<00:00,  3.99it/s, avg_loss=0.225, current_loss=0.231]\n"
     ]
    },
    {
     "name": "stdout",
     "output_type": "stream",
     "text": [
      "Epoch 681/1000 - Average Loss: 0.22488\n"
     ]
    },
    {
     "name": "stderr",
     "output_type": "stream",
     "text": [
      "Epoch 682/1000: 100%|████████████████████████████████| 4/4 [00:00<00:00,  4.28it/s, avg_loss=0.225, current_loss=0.235]\n"
     ]
    },
    {
     "name": "stdout",
     "output_type": "stream",
     "text": [
      "Epoch 682/1000 - Average Loss: 0.22476\n"
     ]
    },
    {
     "name": "stderr",
     "output_type": "stream",
     "text": [
      "Epoch 683/1000: 100%|████████████████████████████████| 4/4 [00:01<00:00,  3.90it/s, avg_loss=0.224, current_loss=0.215]\n"
     ]
    },
    {
     "name": "stdout",
     "output_type": "stream",
     "text": [
      "Epoch 683/1000 - Average Loss: 0.22443\n"
     ]
    },
    {
     "name": "stderr",
     "output_type": "stream",
     "text": [
      "Epoch 684/1000: 100%|████████████████████████████████| 4/4 [00:00<00:00,  4.17it/s, avg_loss=0.224, current_loss=0.226]\n"
     ]
    },
    {
     "name": "stdout",
     "output_type": "stream",
     "text": [
      "Epoch 684/1000 - Average Loss: 0.22422\n"
     ]
    },
    {
     "name": "stderr",
     "output_type": "stream",
     "text": [
      "Epoch 685/1000: 100%|████████████████████████████████| 4/4 [00:00<00:00,  4.27it/s, avg_loss=0.225, current_loss=0.223]\n"
     ]
    },
    {
     "name": "stdout",
     "output_type": "stream",
     "text": [
      "Epoch 685/1000 - Average Loss: 0.22457\n"
     ]
    },
    {
     "name": "stderr",
     "output_type": "stream",
     "text": [
      "Epoch 686/1000: 100%|████████████████████████████████| 4/4 [00:00<00:00,  4.68it/s, avg_loss=0.225, current_loss=0.236]\n"
     ]
    },
    {
     "name": "stdout",
     "output_type": "stream",
     "text": [
      "Epoch 686/1000 - Average Loss: 0.22481\n"
     ]
    },
    {
     "name": "stderr",
     "output_type": "stream",
     "text": [
      "Epoch 687/1000: 100%|████████████████████████████████| 4/4 [00:00<00:00,  4.94it/s, avg_loss=0.225, current_loss=0.228]\n"
     ]
    },
    {
     "name": "stdout",
     "output_type": "stream",
     "text": [
      "Epoch 687/1000 - Average Loss: 0.22486\n"
     ]
    },
    {
     "name": "stderr",
     "output_type": "stream",
     "text": [
      "Epoch 688/1000: 100%|████████████████████████████████| 4/4 [00:00<00:00,  5.00it/s, avg_loss=0.224, current_loss=0.213]\n"
     ]
    },
    {
     "name": "stdout",
     "output_type": "stream",
     "text": [
      "Epoch 688/1000 - Average Loss: 0.22448\n"
     ]
    },
    {
     "name": "stderr",
     "output_type": "stream",
     "text": [
      "Epoch 689/1000: 100%|████████████████████████████████| 4/4 [00:00<00:00,  4.68it/s, avg_loss=0.224, current_loss=0.215]\n"
     ]
    },
    {
     "name": "stdout",
     "output_type": "stream",
     "text": [
      "Epoch 689/1000 - Average Loss: 0.22433\n"
     ]
    },
    {
     "name": "stderr",
     "output_type": "stream",
     "text": [
      "Epoch 690/1000: 100%|████████████████████████████████| 4/4 [00:00<00:00,  4.76it/s, avg_loss=0.225, current_loss=0.218]\n"
     ]
    },
    {
     "name": "stdout",
     "output_type": "stream",
     "text": [
      "Epoch 690/1000 - Average Loss: 0.22500\n"
     ]
    },
    {
     "name": "stderr",
     "output_type": "stream",
     "text": [
      "Epoch 691/1000: 100%|████████████████████████████████| 4/4 [00:00<00:00,  5.00it/s, avg_loss=0.225, current_loss=0.233]\n"
     ]
    },
    {
     "name": "stdout",
     "output_type": "stream",
     "text": [
      "Epoch 691/1000 - Average Loss: 0.22468\n"
     ]
    },
    {
     "name": "stderr",
     "output_type": "stream",
     "text": [
      "Epoch 692/1000: 100%|████████████████████████████████| 4/4 [00:00<00:00,  4.60it/s, avg_loss=0.225, current_loss=0.222]\n"
     ]
    },
    {
     "name": "stdout",
     "output_type": "stream",
     "text": [
      "Epoch 692/1000 - Average Loss: 0.22488\n"
     ]
    },
    {
     "name": "stderr",
     "output_type": "stream",
     "text": [
      "Epoch 693/1000: 100%|████████████████████████████████| 4/4 [00:00<00:00,  4.72it/s, avg_loss=0.224, current_loss=0.229]\n"
     ]
    },
    {
     "name": "stdout",
     "output_type": "stream",
     "text": [
      "Epoch 693/1000 - Average Loss: 0.22426\n"
     ]
    },
    {
     "name": "stderr",
     "output_type": "stream",
     "text": [
      "Epoch 694/1000: 100%|████████████████████████████████| 4/4 [00:00<00:00,  4.78it/s, avg_loss=0.225, current_loss=0.217]\n"
     ]
    },
    {
     "name": "stdout",
     "output_type": "stream",
     "text": [
      "Epoch 694/1000 - Average Loss: 0.22455\n"
     ]
    },
    {
     "name": "stderr",
     "output_type": "stream",
     "text": [
      "Epoch 695/1000: 100%|████████████████████████████████| 4/4 [00:00<00:00,  4.65it/s, avg_loss=0.225, current_loss=0.228]\n"
     ]
    },
    {
     "name": "stdout",
     "output_type": "stream",
     "text": [
      "Epoch 695/1000 - Average Loss: 0.22463\n"
     ]
    },
    {
     "name": "stderr",
     "output_type": "stream",
     "text": [
      "Epoch 696/1000: 100%|████████████████████████████████| 4/4 [00:00<00:00,  4.48it/s, avg_loss=0.225, current_loss=0.218]\n"
     ]
    },
    {
     "name": "stdout",
     "output_type": "stream",
     "text": [
      "Epoch 696/1000 - Average Loss: 0.22465\n"
     ]
    },
    {
     "name": "stderr",
     "output_type": "stream",
     "text": [
      "Epoch 697/1000: 100%|████████████████████████████████| 4/4 [00:00<00:00,  4.89it/s, avg_loss=0.225, current_loss=0.212]\n"
     ]
    },
    {
     "name": "stdout",
     "output_type": "stream",
     "text": [
      "Epoch 697/1000 - Average Loss: 0.22460\n"
     ]
    },
    {
     "name": "stderr",
     "output_type": "stream",
     "text": [
      "Epoch 698/1000: 100%|████████████████████████████████| 4/4 [00:00<00:00,  4.76it/s, avg_loss=0.224, current_loss=0.209]\n"
     ]
    },
    {
     "name": "stdout",
     "output_type": "stream",
     "text": [
      "Epoch 698/1000 - Average Loss: 0.22412\n"
     ]
    },
    {
     "name": "stderr",
     "output_type": "stream",
     "text": [
      "Epoch 699/1000: 100%|████████████████████████████████| 4/4 [00:00<00:00,  4.63it/s, avg_loss=0.224, current_loss=0.216]\n"
     ]
    },
    {
     "name": "stdout",
     "output_type": "stream",
     "text": [
      "Epoch 699/1000 - Average Loss: 0.22428\n"
     ]
    },
    {
     "name": "stderr",
     "output_type": "stream",
     "text": [
      "Epoch 700/1000: 100%|████████████████████████████████| 4/4 [00:00<00:00,  4.75it/s, avg_loss=0.224, current_loss=0.221]\n"
     ]
    },
    {
     "name": "stdout",
     "output_type": "stream",
     "text": [
      "Epoch 700/1000 - Average Loss: 0.22392\n"
     ]
    },
    {
     "name": "stderr",
     "output_type": "stream",
     "text": [
      "Epoch 701/1000: 100%|████████████████████████████████| 4/4 [00:00<00:00,  5.06it/s, avg_loss=0.224, current_loss=0.223]\n"
     ]
    },
    {
     "name": "stdout",
     "output_type": "stream",
     "text": [
      "Epoch 701/1000 - Average Loss: 0.22387\n"
     ]
    },
    {
     "name": "stderr",
     "output_type": "stream",
     "text": [
      "Epoch 702/1000: 100%|████████████████████████████████| 4/4 [00:00<00:00,  4.92it/s, avg_loss=0.224, current_loss=0.216]\n"
     ]
    },
    {
     "name": "stdout",
     "output_type": "stream",
     "text": [
      "Epoch 702/1000 - Average Loss: 0.22408\n"
     ]
    },
    {
     "name": "stderr",
     "output_type": "stream",
     "text": [
      "Epoch 703/1000: 100%|█████████████████████████████████| 4/4 [00:00<00:00,  4.67it/s, avg_loss=0.225, current_loss=0.22]\n"
     ]
    },
    {
     "name": "stdout",
     "output_type": "stream",
     "text": [
      "Epoch 703/1000 - Average Loss: 0.22461\n"
     ]
    },
    {
     "name": "stderr",
     "output_type": "stream",
     "text": [
      "Epoch 704/1000: 100%|████████████████████████████████| 4/4 [00:00<00:00,  4.92it/s, avg_loss=0.224, current_loss=0.219]\n"
     ]
    },
    {
     "name": "stdout",
     "output_type": "stream",
     "text": [
      "Epoch 704/1000 - Average Loss: 0.22380\n"
     ]
    },
    {
     "name": "stderr",
     "output_type": "stream",
     "text": [
      "Epoch 705/1000: 100%|████████████████████████████████| 4/4 [00:00<00:00,  4.62it/s, avg_loss=0.224, current_loss=0.221]\n"
     ]
    },
    {
     "name": "stdout",
     "output_type": "stream",
     "text": [
      "Epoch 705/1000 - Average Loss: 0.22404\n"
     ]
    },
    {
     "name": "stderr",
     "output_type": "stream",
     "text": [
      "Epoch 706/1000: 100%|████████████████████████████████| 4/4 [00:00<00:00,  4.99it/s, avg_loss=0.224, current_loss=0.232]\n"
     ]
    },
    {
     "name": "stdout",
     "output_type": "stream",
     "text": [
      "Epoch 706/1000 - Average Loss: 0.22386\n"
     ]
    },
    {
     "name": "stderr",
     "output_type": "stream",
     "text": [
      "Epoch 707/1000: 100%|████████████████████████████████| 4/4 [00:00<00:00,  4.81it/s, avg_loss=0.223, current_loss=0.223]\n"
     ]
    },
    {
     "name": "stdout",
     "output_type": "stream",
     "text": [
      "Epoch 707/1000 - Average Loss: 0.22344\n"
     ]
    },
    {
     "name": "stderr",
     "output_type": "stream",
     "text": [
      "Epoch 708/1000: 100%|█████████████████████████████████| 4/4 [00:00<00:00,  4.99it/s, avg_loss=0.223, current_loss=0.21]\n"
     ]
    },
    {
     "name": "stdout",
     "output_type": "stream",
     "text": [
      "Epoch 708/1000 - Average Loss: 0.22344\n"
     ]
    },
    {
     "name": "stderr",
     "output_type": "stream",
     "text": [
      "Epoch 709/1000: 100%|████████████████████████████████| 4/4 [00:00<00:00,  4.40it/s, avg_loss=0.224, current_loss=0.235]\n"
     ]
    },
    {
     "name": "stdout",
     "output_type": "stream",
     "text": [
      "Epoch 709/1000 - Average Loss: 0.22360\n"
     ]
    },
    {
     "name": "stderr",
     "output_type": "stream",
     "text": [
      "Epoch 710/1000: 100%|████████████████████████████████| 4/4 [00:00<00:00,  4.45it/s, avg_loss=0.223, current_loss=0.228]\n"
     ]
    },
    {
     "name": "stdout",
     "output_type": "stream",
     "text": [
      "Epoch 710/1000 - Average Loss: 0.22339\n"
     ]
    },
    {
     "name": "stderr",
     "output_type": "stream",
     "text": [
      "Epoch 711/1000: 100%|█████████████████████████████████| 4/4 [00:00<00:00,  4.56it/s, avg_loss=0.223, current_loss=0.22]\n"
     ]
    },
    {
     "name": "stdout",
     "output_type": "stream",
     "text": [
      "Epoch 711/1000 - Average Loss: 0.22320\n"
     ]
    },
    {
     "name": "stderr",
     "output_type": "stream",
     "text": [
      "Epoch 712/1000: 100%|████████████████████████████████| 4/4 [00:00<00:00,  4.53it/s, avg_loss=0.223, current_loss=0.224]\n"
     ]
    },
    {
     "name": "stdout",
     "output_type": "stream",
     "text": [
      "Epoch 712/1000 - Average Loss: 0.22341\n"
     ]
    },
    {
     "name": "stderr",
     "output_type": "stream",
     "text": [
      "Epoch 713/1000: 100%|████████████████████████████████| 4/4 [00:00<00:00,  4.48it/s, avg_loss=0.224, current_loss=0.224]\n"
     ]
    },
    {
     "name": "stdout",
     "output_type": "stream",
     "text": [
      "Epoch 713/1000 - Average Loss: 0.22427\n"
     ]
    },
    {
     "name": "stderr",
     "output_type": "stream",
     "text": [
      "Epoch 714/1000: 100%|████████████████████████████████| 4/4 [00:01<00:00,  3.96it/s, avg_loss=0.223, current_loss=0.228]\n"
     ]
    },
    {
     "name": "stdout",
     "output_type": "stream",
     "text": [
      "Epoch 714/1000 - Average Loss: 0.22333\n"
     ]
    },
    {
     "name": "stderr",
     "output_type": "stream",
     "text": [
      "Epoch 715/1000: 100%|████████████████████████████████| 4/4 [00:00<00:00,  4.30it/s, avg_loss=0.224, current_loss=0.217]\n"
     ]
    },
    {
     "name": "stdout",
     "output_type": "stream",
     "text": [
      "Epoch 715/1000 - Average Loss: 0.22358\n"
     ]
    },
    {
     "name": "stderr",
     "output_type": "stream",
     "text": [
      "Epoch 716/1000: 100%|████████████████████████████████| 4/4 [00:00<00:00,  4.45it/s, avg_loss=0.223, current_loss=0.236]\n"
     ]
    },
    {
     "name": "stdout",
     "output_type": "stream",
     "text": [
      "Epoch 716/1000 - Average Loss: 0.22317\n"
     ]
    },
    {
     "name": "stderr",
     "output_type": "stream",
     "text": [
      "Epoch 717/1000: 100%|████████████████████████████████| 4/4 [00:01<00:00,  3.97it/s, avg_loss=0.223, current_loss=0.231]\n"
     ]
    },
    {
     "name": "stdout",
     "output_type": "stream",
     "text": [
      "Epoch 717/1000 - Average Loss: 0.22319\n"
     ]
    },
    {
     "name": "stderr",
     "output_type": "stream",
     "text": [
      "Epoch 718/1000: 100%|████████████████████████████████| 4/4 [00:00<00:00,  4.07it/s, avg_loss=0.223, current_loss=0.231]\n"
     ]
    },
    {
     "name": "stdout",
     "output_type": "stream",
     "text": [
      "Epoch 718/1000 - Average Loss: 0.22326\n"
     ]
    },
    {
     "name": "stderr",
     "output_type": "stream",
     "text": [
      "Epoch 719/1000: 100%|████████████████████████████████| 4/4 [00:01<00:00,  3.59it/s, avg_loss=0.223, current_loss=0.216]\n"
     ]
    },
    {
     "name": "stdout",
     "output_type": "stream",
     "text": [
      "Epoch 719/1000 - Average Loss: 0.22313\n"
     ]
    },
    {
     "name": "stderr",
     "output_type": "stream",
     "text": [
      "Epoch 720/1000: 100%|████████████████████████████████| 4/4 [00:01<00:00,  3.76it/s, avg_loss=0.223, current_loss=0.226]\n"
     ]
    },
    {
     "name": "stdout",
     "output_type": "stream",
     "text": [
      "Epoch 720/1000 - Average Loss: 0.22299\n"
     ]
    },
    {
     "name": "stderr",
     "output_type": "stream",
     "text": [
      "Epoch 721/1000: 100%|████████████████████████████████| 4/4 [00:01<00:00,  3.93it/s, avg_loss=0.223, current_loss=0.205]\n"
     ]
    },
    {
     "name": "stdout",
     "output_type": "stream",
     "text": [
      "Epoch 721/1000 - Average Loss: 0.22302\n"
     ]
    },
    {
     "name": "stderr",
     "output_type": "stream",
     "text": [
      "Epoch 722/1000: 100%|████████████████████████████████| 4/4 [00:01<00:00,  3.85it/s, avg_loss=0.223, current_loss=0.231]\n"
     ]
    },
    {
     "name": "stdout",
     "output_type": "stream",
     "text": [
      "Epoch 722/1000 - Average Loss: 0.22289\n"
     ]
    },
    {
     "name": "stderr",
     "output_type": "stream",
     "text": [
      "Epoch 723/1000: 100%|████████████████████████████████| 4/4 [00:00<00:00,  4.21it/s, avg_loss=0.223, current_loss=0.224]\n"
     ]
    },
    {
     "name": "stdout",
     "output_type": "stream",
     "text": [
      "Epoch 723/1000 - Average Loss: 0.22281\n"
     ]
    },
    {
     "name": "stderr",
     "output_type": "stream",
     "text": [
      "Epoch 724/1000: 100%|████████████████████████████████| 4/4 [00:00<00:00,  4.39it/s, avg_loss=0.223, current_loss=0.239]\n"
     ]
    },
    {
     "name": "stdout",
     "output_type": "stream",
     "text": [
      "Epoch 724/1000 - Average Loss: 0.22278\n"
     ]
    },
    {
     "name": "stderr",
     "output_type": "stream",
     "text": [
      "Epoch 725/1000: 100%|█████████████████████████████████| 4/4 [00:00<00:00,  4.02it/s, avg_loss=0.223, current_loss=0.24]\n"
     ]
    },
    {
     "name": "stdout",
     "output_type": "stream",
     "text": [
      "Epoch 725/1000 - Average Loss: 0.22319\n"
     ]
    },
    {
     "name": "stderr",
     "output_type": "stream",
     "text": [
      "Epoch 726/1000: 100%|████████████████████████████████| 4/4 [00:01<00:00,  3.79it/s, avg_loss=0.223, current_loss=0.215]\n"
     ]
    },
    {
     "name": "stdout",
     "output_type": "stream",
     "text": [
      "Epoch 726/1000 - Average Loss: 0.22270\n"
     ]
    },
    {
     "name": "stderr",
     "output_type": "stream",
     "text": [
      "Epoch 727/1000: 100%|████████████████████████████████| 4/4 [00:00<00:00,  4.14it/s, avg_loss=0.223, current_loss=0.221]\n"
     ]
    },
    {
     "name": "stdout",
     "output_type": "stream",
     "text": [
      "Epoch 727/1000 - Average Loss: 0.22293\n"
     ]
    },
    {
     "name": "stderr",
     "output_type": "stream",
     "text": [
      "Epoch 728/1000: 100%|████████████████████████████████| 4/4 [00:00<00:00,  4.31it/s, avg_loss=0.223, current_loss=0.226]\n"
     ]
    },
    {
     "name": "stdout",
     "output_type": "stream",
     "text": [
      "Epoch 728/1000 - Average Loss: 0.22287\n"
     ]
    },
    {
     "name": "stderr",
     "output_type": "stream",
     "text": [
      "Epoch 729/1000: 100%|████████████████████████████████| 4/4 [00:00<00:00,  4.31it/s, avg_loss=0.223, current_loss=0.214]\n"
     ]
    },
    {
     "name": "stdout",
     "output_type": "stream",
     "text": [
      "Epoch 729/1000 - Average Loss: 0.22273\n"
     ]
    },
    {
     "name": "stderr",
     "output_type": "stream",
     "text": [
      "Epoch 730/1000: 100%|████████████████████████████████| 4/4 [00:00<00:00,  4.83it/s, avg_loss=0.223, current_loss=0.206]\n"
     ]
    },
    {
     "name": "stdout",
     "output_type": "stream",
     "text": [
      "Epoch 730/1000 - Average Loss: 0.22290\n"
     ]
    },
    {
     "name": "stderr",
     "output_type": "stream",
     "text": [
      "Epoch 731/1000: 100%|████████████████████████████████| 4/4 [00:00<00:00,  4.11it/s, avg_loss=0.223, current_loss=0.235]\n"
     ]
    },
    {
     "name": "stdout",
     "output_type": "stream",
     "text": [
      "Epoch 731/1000 - Average Loss: 0.22256\n"
     ]
    },
    {
     "name": "stderr",
     "output_type": "stream",
     "text": [
      "Epoch 732/1000: 100%|████████████████████████████████| 4/4 [00:00<00:00,  4.52it/s, avg_loss=0.222, current_loss=0.212]\n"
     ]
    },
    {
     "name": "stdout",
     "output_type": "stream",
     "text": [
      "Epoch 732/1000 - Average Loss: 0.22234\n"
     ]
    },
    {
     "name": "stderr",
     "output_type": "stream",
     "text": [
      "Epoch 733/1000: 100%|████████████████████████████████| 4/4 [00:00<00:00,  4.81it/s, avg_loss=0.222, current_loss=0.217]\n"
     ]
    },
    {
     "name": "stdout",
     "output_type": "stream",
     "text": [
      "Epoch 733/1000 - Average Loss: 0.22230\n"
     ]
    },
    {
     "name": "stderr",
     "output_type": "stream",
     "text": [
      "Epoch 734/1000: 100%|████████████████████████████████| 4/4 [00:00<00:00,  4.60it/s, avg_loss=0.223, current_loss=0.212]\n"
     ]
    },
    {
     "name": "stdout",
     "output_type": "stream",
     "text": [
      "Epoch 734/1000 - Average Loss: 0.22256\n"
     ]
    },
    {
     "name": "stderr",
     "output_type": "stream",
     "text": [
      "Epoch 735/1000: 100%|████████████████████████████████| 4/4 [00:00<00:00,  4.35it/s, avg_loss=0.223, current_loss=0.225]\n"
     ]
    },
    {
     "name": "stdout",
     "output_type": "stream",
     "text": [
      "Epoch 735/1000 - Average Loss: 0.22316\n"
     ]
    },
    {
     "name": "stderr",
     "output_type": "stream",
     "text": [
      "Epoch 736/1000: 100%|████████████████████████████████| 4/4 [00:00<00:00,  4.76it/s, avg_loss=0.222, current_loss=0.227]\n"
     ]
    },
    {
     "name": "stdout",
     "output_type": "stream",
     "text": [
      "Epoch 736/1000 - Average Loss: 0.22245\n"
     ]
    },
    {
     "name": "stderr",
     "output_type": "stream",
     "text": [
      "Epoch 737/1000: 100%|████████████████████████████████| 4/4 [00:00<00:00,  4.83it/s, avg_loss=0.223, current_loss=0.224]\n"
     ]
    },
    {
     "name": "stdout",
     "output_type": "stream",
     "text": [
      "Epoch 737/1000 - Average Loss: 0.22265\n"
     ]
    },
    {
     "name": "stderr",
     "output_type": "stream",
     "text": [
      "Epoch 738/1000: 100%|████████████████████████████████| 4/4 [00:00<00:00,  4.91it/s, avg_loss=0.223, current_loss=0.214]\n"
     ]
    },
    {
     "name": "stdout",
     "output_type": "stream",
     "text": [
      "Epoch 738/1000 - Average Loss: 0.22310\n"
     ]
    },
    {
     "name": "stderr",
     "output_type": "stream",
     "text": [
      "Epoch 739/1000: 100%|█████████████████████████████████| 4/4 [00:00<00:00,  4.64it/s, avg_loss=0.223, current_loss=0.23]\n"
     ]
    },
    {
     "name": "stdout",
     "output_type": "stream",
     "text": [
      "Epoch 739/1000 - Average Loss: 0.22322\n"
     ]
    },
    {
     "name": "stderr",
     "output_type": "stream",
     "text": [
      "Epoch 740/1000: 100%|█████████████████████████████████| 4/4 [00:00<00:00,  4.48it/s, avg_loss=0.223, current_loss=0.23]\n"
     ]
    },
    {
     "name": "stdout",
     "output_type": "stream",
     "text": [
      "Epoch 740/1000 - Average Loss: 0.22301\n"
     ]
    },
    {
     "name": "stderr",
     "output_type": "stream",
     "text": [
      "Epoch 741/1000: 100%|█████████████████████████████████| 4/4 [00:00<00:00,  4.45it/s, avg_loss=0.223, current_loss=0.23]\n"
     ]
    },
    {
     "name": "stdout",
     "output_type": "stream",
     "text": [
      "Epoch 741/1000 - Average Loss: 0.22278\n"
     ]
    },
    {
     "name": "stderr",
     "output_type": "stream",
     "text": [
      "Epoch 742/1000: 100%|████████████████████████████████| 4/4 [00:00<00:00,  4.49it/s, avg_loss=0.223, current_loss=0.228]\n"
     ]
    },
    {
     "name": "stdout",
     "output_type": "stream",
     "text": [
      "Epoch 742/1000 - Average Loss: 0.22265\n"
     ]
    },
    {
     "name": "stderr",
     "output_type": "stream",
     "text": [
      "Epoch 743/1000: 100%|████████████████████████████████| 4/4 [00:00<00:00,  4.49it/s, avg_loss=0.223, current_loss=0.227]\n"
     ]
    },
    {
     "name": "stdout",
     "output_type": "stream",
     "text": [
      "Epoch 743/1000 - Average Loss: 0.22267\n"
     ]
    },
    {
     "name": "stderr",
     "output_type": "stream",
     "text": [
      "Epoch 744/1000: 100%|████████████████████████████████| 4/4 [00:00<00:00,  4.52it/s, avg_loss=0.222, current_loss=0.233]\n"
     ]
    },
    {
     "name": "stdout",
     "output_type": "stream",
     "text": [
      "Epoch 744/1000 - Average Loss: 0.22227\n"
     ]
    },
    {
     "name": "stderr",
     "output_type": "stream",
     "text": [
      "Epoch 745/1000: 100%|████████████████████████████████| 4/4 [00:00<00:00,  4.62it/s, avg_loss=0.222, current_loss=0.228]\n"
     ]
    },
    {
     "name": "stdout",
     "output_type": "stream",
     "text": [
      "Epoch 745/1000 - Average Loss: 0.22227\n"
     ]
    },
    {
     "name": "stderr",
     "output_type": "stream",
     "text": [
      "Epoch 746/1000: 100%|████████████████████████████████| 4/4 [00:00<00:00,  4.96it/s, avg_loss=0.222, current_loss=0.216]\n"
     ]
    },
    {
     "name": "stdout",
     "output_type": "stream",
     "text": [
      "Epoch 746/1000 - Average Loss: 0.22209\n"
     ]
    },
    {
     "name": "stderr",
     "output_type": "stream",
     "text": [
      "Epoch 747/1000: 100%|████████████████████████████████| 4/4 [00:00<00:00,  4.72it/s, avg_loss=0.222, current_loss=0.227]\n"
     ]
    },
    {
     "name": "stdout",
     "output_type": "stream",
     "text": [
      "Epoch 747/1000 - Average Loss: 0.22225\n"
     ]
    },
    {
     "name": "stderr",
     "output_type": "stream",
     "text": [
      "Epoch 748/1000: 100%|████████████████████████████████| 4/4 [00:00<00:00,  4.96it/s, avg_loss=0.222, current_loss=0.215]\n"
     ]
    },
    {
     "name": "stdout",
     "output_type": "stream",
     "text": [
      "Epoch 748/1000 - Average Loss: 0.22236\n"
     ]
    },
    {
     "name": "stderr",
     "output_type": "stream",
     "text": [
      "Epoch 749/1000: 100%|████████████████████████████████| 4/4 [00:00<00:00,  4.77it/s, avg_loss=0.222, current_loss=0.229]\n"
     ]
    },
    {
     "name": "stdout",
     "output_type": "stream",
     "text": [
      "Epoch 749/1000 - Average Loss: 0.22201\n"
     ]
    },
    {
     "name": "stderr",
     "output_type": "stream",
     "text": [
      "Epoch 750/1000: 100%|████████████████████████████████| 4/4 [00:00<00:00,  4.58it/s, avg_loss=0.222, current_loss=0.228]\n"
     ]
    },
    {
     "name": "stdout",
     "output_type": "stream",
     "text": [
      "Epoch 750/1000 - Average Loss: 0.22207\n"
     ]
    },
    {
     "name": "stderr",
     "output_type": "stream",
     "text": [
      "Epoch 751/1000: 100%|████████████████████████████████| 4/4 [00:00<00:00,  4.15it/s, avg_loss=0.222, current_loss=0.235]\n"
     ]
    },
    {
     "name": "stdout",
     "output_type": "stream",
     "text": [
      "Epoch 751/1000 - Average Loss: 0.22181\n"
     ]
    },
    {
     "name": "stderr",
     "output_type": "stream",
     "text": [
      "Epoch 752/1000: 100%|████████████████████████████████| 4/4 [00:00<00:00,  4.76it/s, avg_loss=0.222, current_loss=0.229]\n"
     ]
    },
    {
     "name": "stdout",
     "output_type": "stream",
     "text": [
      "Epoch 752/1000 - Average Loss: 0.22225\n"
     ]
    },
    {
     "name": "stderr",
     "output_type": "stream",
     "text": [
      "Epoch 753/1000: 100%|█████████████████████████████████| 4/4 [00:00<00:00,  4.20it/s, avg_loss=0.223, current_loss=0.22]\n"
     ]
    },
    {
     "name": "stdout",
     "output_type": "stream",
     "text": [
      "Epoch 753/1000 - Average Loss: 0.22344\n"
     ]
    },
    {
     "name": "stderr",
     "output_type": "stream",
     "text": [
      "Epoch 754/1000: 100%|█████████████████████████████████| 4/4 [00:00<00:00,  4.44it/s, avg_loss=0.223, current_loss=0.21]\n"
     ]
    },
    {
     "name": "stdout",
     "output_type": "stream",
     "text": [
      "Epoch 754/1000 - Average Loss: 0.22350\n"
     ]
    },
    {
     "name": "stderr",
     "output_type": "stream",
     "text": [
      "Epoch 755/1000: 100%|████████████████████████████████| 4/4 [00:00<00:00,  4.93it/s, avg_loss=0.223, current_loss=0.219]\n"
     ]
    },
    {
     "name": "stdout",
     "output_type": "stream",
     "text": [
      "Epoch 755/1000 - Average Loss: 0.22307\n"
     ]
    },
    {
     "name": "stderr",
     "output_type": "stream",
     "text": [
      "Epoch 756/1000: 100%|████████████████████████████████| 4/4 [00:00<00:00,  4.85it/s, avg_loss=0.223, current_loss=0.224]\n"
     ]
    },
    {
     "name": "stdout",
     "output_type": "stream",
     "text": [
      "Epoch 756/1000 - Average Loss: 0.22323\n"
     ]
    },
    {
     "name": "stderr",
     "output_type": "stream",
     "text": [
      "Epoch 757/1000: 100%|████████████████████████████████| 4/4 [00:00<00:00,  5.03it/s, avg_loss=0.223, current_loss=0.241]\n"
     ]
    },
    {
     "name": "stdout",
     "output_type": "stream",
     "text": [
      "Epoch 757/1000 - Average Loss: 0.22268\n"
     ]
    },
    {
     "name": "stderr",
     "output_type": "stream",
     "text": [
      "Epoch 758/1000: 100%|████████████████████████████████| 4/4 [00:00<00:00,  4.94it/s, avg_loss=0.222, current_loss=0.204]\n"
     ]
    },
    {
     "name": "stdout",
     "output_type": "stream",
     "text": [
      "Epoch 758/1000 - Average Loss: 0.22240\n"
     ]
    },
    {
     "name": "stderr",
     "output_type": "stream",
     "text": [
      "Epoch 759/1000: 100%|████████████████████████████████| 4/4 [00:00<00:00,  4.99it/s, avg_loss=0.222, current_loss=0.218]\n"
     ]
    },
    {
     "name": "stdout",
     "output_type": "stream",
     "text": [
      "Epoch 759/1000 - Average Loss: 0.22203\n"
     ]
    },
    {
     "name": "stderr",
     "output_type": "stream",
     "text": [
      "Epoch 760/1000: 100%|████████████████████████████████| 4/4 [00:00<00:00,  4.89it/s, avg_loss=0.222, current_loss=0.217]\n"
     ]
    },
    {
     "name": "stdout",
     "output_type": "stream",
     "text": [
      "Epoch 760/1000 - Average Loss: 0.22172\n"
     ]
    },
    {
     "name": "stderr",
     "output_type": "stream",
     "text": [
      "Epoch 761/1000: 100%|████████████████████████████████| 4/4 [00:00<00:00,  4.80it/s, avg_loss=0.222, current_loss=0.228]\n"
     ]
    },
    {
     "name": "stdout",
     "output_type": "stream",
     "text": [
      "Epoch 761/1000 - Average Loss: 0.22167\n"
     ]
    },
    {
     "name": "stderr",
     "output_type": "stream",
     "text": [
      "Epoch 762/1000: 100%|████████████████████████████████| 4/4 [00:00<00:00,  4.83it/s, avg_loss=0.222, current_loss=0.223]\n"
     ]
    },
    {
     "name": "stdout",
     "output_type": "stream",
     "text": [
      "Epoch 762/1000 - Average Loss: 0.22204\n"
     ]
    },
    {
     "name": "stderr",
     "output_type": "stream",
     "text": [
      "Epoch 763/1000: 100%|████████████████████████████████| 4/4 [00:00<00:00,  5.03it/s, avg_loss=0.222, current_loss=0.219]\n"
     ]
    },
    {
     "name": "stdout",
     "output_type": "stream",
     "text": [
      "Epoch 763/1000 - Average Loss: 0.22203\n"
     ]
    },
    {
     "name": "stderr",
     "output_type": "stream",
     "text": [
      "Epoch 764/1000: 100%|████████████████████████████████| 4/4 [00:00<00:00,  4.96it/s, avg_loss=0.222, current_loss=0.233]\n"
     ]
    },
    {
     "name": "stdout",
     "output_type": "stream",
     "text": [
      "Epoch 764/1000 - Average Loss: 0.22218\n"
     ]
    },
    {
     "name": "stderr",
     "output_type": "stream",
     "text": [
      "Epoch 765/1000: 100%|████████████████████████████████| 4/4 [00:00<00:00,  4.96it/s, avg_loss=0.222, current_loss=0.204]\n"
     ]
    },
    {
     "name": "stdout",
     "output_type": "stream",
     "text": [
      "Epoch 765/1000 - Average Loss: 0.22241\n"
     ]
    },
    {
     "name": "stderr",
     "output_type": "stream",
     "text": [
      "Epoch 766/1000: 100%|████████████████████████████████| 4/4 [00:00<00:00,  4.51it/s, avg_loss=0.222, current_loss=0.218]\n"
     ]
    },
    {
     "name": "stdout",
     "output_type": "stream",
     "text": [
      "Epoch 766/1000 - Average Loss: 0.22209\n"
     ]
    },
    {
     "name": "stderr",
     "output_type": "stream",
     "text": [
      "Epoch 767/1000: 100%|█████████████████████████████████| 4/4 [00:00<00:00,  4.68it/s, avg_loss=0.222, current_loss=0.22]\n"
     ]
    },
    {
     "name": "stdout",
     "output_type": "stream",
     "text": [
      "Epoch 767/1000 - Average Loss: 0.22209\n"
     ]
    },
    {
     "name": "stderr",
     "output_type": "stream",
     "text": [
      "Epoch 768/1000: 100%|████████████████████████████████| 4/4 [00:00<00:00,  4.87it/s, avg_loss=0.222, current_loss=0.215]\n"
     ]
    },
    {
     "name": "stdout",
     "output_type": "stream",
     "text": [
      "Epoch 768/1000 - Average Loss: 0.22185\n"
     ]
    },
    {
     "name": "stderr",
     "output_type": "stream",
     "text": [
      "Epoch 769/1000: 100%|████████████████████████████████| 4/4 [00:00<00:00,  4.95it/s, avg_loss=0.222, current_loss=0.224]\n"
     ]
    },
    {
     "name": "stdout",
     "output_type": "stream",
     "text": [
      "Epoch 769/1000 - Average Loss: 0.22169\n"
     ]
    },
    {
     "name": "stderr",
     "output_type": "stream",
     "text": [
      "Epoch 770/1000: 100%|█████████████████████████████████| 4/4 [00:00<00:00,  4.76it/s, avg_loss=0.222, current_loss=0.23]\n"
     ]
    },
    {
     "name": "stdout",
     "output_type": "stream",
     "text": [
      "Epoch 770/1000 - Average Loss: 0.22217\n"
     ]
    },
    {
     "name": "stderr",
     "output_type": "stream",
     "text": [
      "Epoch 771/1000: 100%|████████████████████████████████| 4/4 [00:00<00:00,  5.04it/s, avg_loss=0.222, current_loss=0.216]\n"
     ]
    },
    {
     "name": "stdout",
     "output_type": "stream",
     "text": [
      "Epoch 771/1000 - Average Loss: 0.22197\n"
     ]
    },
    {
     "name": "stderr",
     "output_type": "stream",
     "text": [
      "Epoch 772/1000: 100%|████████████████████████████████| 4/4 [00:00<00:00,  4.65it/s, avg_loss=0.222, current_loss=0.226]\n"
     ]
    },
    {
     "name": "stdout",
     "output_type": "stream",
     "text": [
      "Epoch 772/1000 - Average Loss: 0.22230\n"
     ]
    },
    {
     "name": "stderr",
     "output_type": "stream",
     "text": [
      "Epoch 773/1000: 100%|████████████████████████████████| 4/4 [00:00<00:00,  4.81it/s, avg_loss=0.222, current_loss=0.237]\n"
     ]
    },
    {
     "name": "stdout",
     "output_type": "stream",
     "text": [
      "Epoch 773/1000 - Average Loss: 0.22213\n"
     ]
    },
    {
     "name": "stderr",
     "output_type": "stream",
     "text": [
      "Epoch 774/1000: 100%|████████████████████████████████| 4/4 [00:00<00:00,  4.69it/s, avg_loss=0.222, current_loss=0.232]\n"
     ]
    },
    {
     "name": "stdout",
     "output_type": "stream",
     "text": [
      "Epoch 774/1000 - Average Loss: 0.22211\n"
     ]
    },
    {
     "name": "stderr",
     "output_type": "stream",
     "text": [
      "Epoch 775/1000: 100%|████████████████████████████████| 4/4 [00:00<00:00,  4.85it/s, avg_loss=0.222, current_loss=0.226]\n"
     ]
    },
    {
     "name": "stdout",
     "output_type": "stream",
     "text": [
      "Epoch 775/1000 - Average Loss: 0.22224\n"
     ]
    },
    {
     "name": "stderr",
     "output_type": "stream",
     "text": [
      "Epoch 776/1000: 100%|████████████████████████████████| 4/4 [00:00<00:00,  4.67it/s, avg_loss=0.222, current_loss=0.227]\n"
     ]
    },
    {
     "name": "stdout",
     "output_type": "stream",
     "text": [
      "Epoch 776/1000 - Average Loss: 0.22194\n"
     ]
    },
    {
     "name": "stderr",
     "output_type": "stream",
     "text": [
      "Epoch 777/1000: 100%|████████████████████████████████| 4/4 [00:00<00:00,  4.74it/s, avg_loss=0.222, current_loss=0.214]\n"
     ]
    },
    {
     "name": "stdout",
     "output_type": "stream",
     "text": [
      "Epoch 777/1000 - Average Loss: 0.22171\n"
     ]
    },
    {
     "name": "stderr",
     "output_type": "stream",
     "text": [
      "Epoch 778/1000: 100%|████████████████████████████████| 4/4 [00:00<00:00,  4.87it/s, avg_loss=0.222, current_loss=0.229]\n"
     ]
    },
    {
     "name": "stdout",
     "output_type": "stream",
     "text": [
      "Epoch 778/1000 - Average Loss: 0.22225\n"
     ]
    },
    {
     "name": "stderr",
     "output_type": "stream",
     "text": [
      "Epoch 779/1000: 100%|████████████████████████████████| 4/4 [00:00<00:00,  4.52it/s, avg_loss=0.222, current_loss=0.217]\n"
     ]
    },
    {
     "name": "stdout",
     "output_type": "stream",
     "text": [
      "Epoch 779/1000 - Average Loss: 0.22223\n"
     ]
    },
    {
     "name": "stderr",
     "output_type": "stream",
     "text": [
      "Epoch 780/1000: 100%|████████████████████████████████| 4/4 [00:00<00:00,  4.86it/s, avg_loss=0.222, current_loss=0.215]\n"
     ]
    },
    {
     "name": "stdout",
     "output_type": "stream",
     "text": [
      "Epoch 780/1000 - Average Loss: 0.22210\n"
     ]
    },
    {
     "name": "stderr",
     "output_type": "stream",
     "text": [
      "Epoch 781/1000: 100%|████████████████████████████████| 4/4 [00:00<00:00,  4.63it/s, avg_loss=0.222, current_loss=0.215]\n"
     ]
    },
    {
     "name": "stdout",
     "output_type": "stream",
     "text": [
      "Epoch 781/1000 - Average Loss: 0.22195\n"
     ]
    },
    {
     "name": "stderr",
     "output_type": "stream",
     "text": [
      "Epoch 782/1000: 100%|█████████████████████████████████| 4/4 [00:00<00:00,  4.84it/s, avg_loss=0.222, current_loss=0.23]\n"
     ]
    },
    {
     "name": "stdout",
     "output_type": "stream",
     "text": [
      "Epoch 782/1000 - Average Loss: 0.22175\n"
     ]
    },
    {
     "name": "stderr",
     "output_type": "stream",
     "text": [
      "Epoch 783/1000: 100%|█████████████████████████████████| 4/4 [00:00<00:00,  5.26it/s, avg_loss=0.221, current_loss=0.23]\n"
     ]
    },
    {
     "name": "stdout",
     "output_type": "stream",
     "text": [
      "Epoch 783/1000 - Average Loss: 0.22150\n"
     ]
    },
    {
     "name": "stderr",
     "output_type": "stream",
     "text": [
      "Epoch 784/1000: 100%|████████████████████████████████| 4/4 [00:00<00:00,  4.81it/s, avg_loss=0.222, current_loss=0.214]\n"
     ]
    },
    {
     "name": "stdout",
     "output_type": "stream",
     "text": [
      "Epoch 784/1000 - Average Loss: 0.22152\n"
     ]
    },
    {
     "name": "stderr",
     "output_type": "stream",
     "text": [
      "Epoch 785/1000: 100%|████████████████████████████████| 4/4 [00:00<00:00,  4.68it/s, avg_loss=0.221, current_loss=0.218]\n"
     ]
    },
    {
     "name": "stdout",
     "output_type": "stream",
     "text": [
      "Epoch 785/1000 - Average Loss: 0.22127\n"
     ]
    },
    {
     "name": "stderr",
     "output_type": "stream",
     "text": [
      "Epoch 786/1000: 100%|████████████████████████████████| 4/4 [00:00<00:00,  4.61it/s, avg_loss=0.221, current_loss=0.227]\n"
     ]
    },
    {
     "name": "stdout",
     "output_type": "stream",
     "text": [
      "Epoch 786/1000 - Average Loss: 0.22093\n"
     ]
    },
    {
     "name": "stderr",
     "output_type": "stream",
     "text": [
      "Epoch 787/1000: 100%|████████████████████████████████| 4/4 [00:00<00:00,  4.88it/s, avg_loss=0.221, current_loss=0.203]\n"
     ]
    },
    {
     "name": "stdout",
     "output_type": "stream",
     "text": [
      "Epoch 787/1000 - Average Loss: 0.22111\n"
     ]
    },
    {
     "name": "stderr",
     "output_type": "stream",
     "text": [
      "Epoch 788/1000: 100%|████████████████████████████████| 4/4 [00:00<00:00,  4.83it/s, avg_loss=0.222, current_loss=0.226]\n"
     ]
    },
    {
     "name": "stdout",
     "output_type": "stream",
     "text": [
      "Epoch 788/1000 - Average Loss: 0.22195\n"
     ]
    },
    {
     "name": "stderr",
     "output_type": "stream",
     "text": [
      "Epoch 789/1000: 100%|████████████████████████████████| 4/4 [00:00<00:00,  4.33it/s, avg_loss=0.222, current_loss=0.217]\n"
     ]
    },
    {
     "name": "stdout",
     "output_type": "stream",
     "text": [
      "Epoch 789/1000 - Average Loss: 0.22204\n"
     ]
    },
    {
     "name": "stderr",
     "output_type": "stream",
     "text": [
      "Epoch 790/1000: 100%|█████████████████████████████████| 4/4 [00:00<00:00,  4.92it/s, avg_loss=0.221, current_loss=0.22]\n"
     ]
    },
    {
     "name": "stdout",
     "output_type": "stream",
     "text": [
      "Epoch 790/1000 - Average Loss: 0.22145\n"
     ]
    },
    {
     "name": "stderr",
     "output_type": "stream",
     "text": [
      "Epoch 791/1000: 100%|████████████████████████████████| 4/4 [00:00<00:00,  4.85it/s, avg_loss=0.221, current_loss=0.218]\n"
     ]
    },
    {
     "name": "stdout",
     "output_type": "stream",
     "text": [
      "Epoch 791/1000 - Average Loss: 0.22129\n"
     ]
    },
    {
     "name": "stderr",
     "output_type": "stream",
     "text": [
      "Epoch 792/1000: 100%|█████████████████████████████████| 4/4 [00:00<00:00,  4.88it/s, avg_loss=0.221, current_loss=0.23]\n"
     ]
    },
    {
     "name": "stdout",
     "output_type": "stream",
     "text": [
      "Epoch 792/1000 - Average Loss: 0.22096\n"
     ]
    },
    {
     "name": "stderr",
     "output_type": "stream",
     "text": [
      "Epoch 793/1000: 100%|████████████████████████████████| 4/4 [00:00<00:00,  4.68it/s, avg_loss=0.221, current_loss=0.224]\n"
     ]
    },
    {
     "name": "stdout",
     "output_type": "stream",
     "text": [
      "Epoch 793/1000 - Average Loss: 0.22107\n"
     ]
    },
    {
     "name": "stderr",
     "output_type": "stream",
     "text": [
      "Epoch 794/1000: 100%|████████████████████████████████| 4/4 [00:00<00:00,  4.79it/s, avg_loss=0.221, current_loss=0.212]\n"
     ]
    },
    {
     "name": "stdout",
     "output_type": "stream",
     "text": [
      "Epoch 794/1000 - Average Loss: 0.22137\n"
     ]
    },
    {
     "name": "stderr",
     "output_type": "stream",
     "text": [
      "Epoch 795/1000: 100%|████████████████████████████████| 4/4 [00:00<00:00,  5.01it/s, avg_loss=0.221, current_loss=0.223]\n"
     ]
    },
    {
     "name": "stdout",
     "output_type": "stream",
     "text": [
      "Epoch 795/1000 - Average Loss: 0.22113\n"
     ]
    },
    {
     "name": "stderr",
     "output_type": "stream",
     "text": [
      "Epoch 796/1000: 100%|████████████████████████████████| 4/4 [00:00<00:00,  5.00it/s, avg_loss=0.221, current_loss=0.219]\n"
     ]
    },
    {
     "name": "stdout",
     "output_type": "stream",
     "text": [
      "Epoch 796/1000 - Average Loss: 0.22084\n"
     ]
    },
    {
     "name": "stderr",
     "output_type": "stream",
     "text": [
      "Epoch 797/1000: 100%|████████████████████████████████| 4/4 [00:00<00:00,  4.90it/s, avg_loss=0.221, current_loss=0.213]\n"
     ]
    },
    {
     "name": "stdout",
     "output_type": "stream",
     "text": [
      "Epoch 797/1000 - Average Loss: 0.22074\n"
     ]
    },
    {
     "name": "stderr",
     "output_type": "stream",
     "text": [
      "Epoch 798/1000: 100%|████████████████████████████████| 4/4 [00:00<00:00,  4.10it/s, avg_loss=0.221, current_loss=0.213]\n"
     ]
    },
    {
     "name": "stdout",
     "output_type": "stream",
     "text": [
      "Epoch 798/1000 - Average Loss: 0.22088\n"
     ]
    },
    {
     "name": "stderr",
     "output_type": "stream",
     "text": [
      "Epoch 799/1000: 100%|████████████████████████████████| 4/4 [00:01<00:00,  3.91it/s, avg_loss=0.221, current_loss=0.211]\n"
     ]
    },
    {
     "name": "stdout",
     "output_type": "stream",
     "text": [
      "Epoch 799/1000 - Average Loss: 0.22061\n"
     ]
    },
    {
     "name": "stderr",
     "output_type": "stream",
     "text": [
      "Epoch 800/1000: 100%|█████████████████████████████████| 4/4 [00:00<00:00,  4.06it/s, avg_loss=0.221, current_loss=0.21]\n"
     ]
    },
    {
     "name": "stdout",
     "output_type": "stream",
     "text": [
      "Epoch 800/1000 - Average Loss: 0.22114\n"
     ]
    },
    {
     "name": "stderr",
     "output_type": "stream",
     "text": [
      "Epoch 801/1000: 100%|████████████████████████████████| 4/4 [00:00<00:00,  4.02it/s, avg_loss=0.221, current_loss=0.231]\n"
     ]
    },
    {
     "name": "stdout",
     "output_type": "stream",
     "text": [
      "Epoch 801/1000 - Average Loss: 0.22097\n"
     ]
    },
    {
     "name": "stderr",
     "output_type": "stream",
     "text": [
      "Epoch 802/1000: 100%|████████████████████████████████| 4/4 [00:01<00:00,  3.92it/s, avg_loss=0.221, current_loss=0.233]\n"
     ]
    },
    {
     "name": "stdout",
     "output_type": "stream",
     "text": [
      "Epoch 802/1000 - Average Loss: 0.22094\n"
     ]
    },
    {
     "name": "stderr",
     "output_type": "stream",
     "text": [
      "Epoch 803/1000: 100%|████████████████████████████████| 4/4 [00:00<00:00,  4.07it/s, avg_loss=0.221, current_loss=0.222]\n"
     ]
    },
    {
     "name": "stdout",
     "output_type": "stream",
     "text": [
      "Epoch 803/1000 - Average Loss: 0.22113\n"
     ]
    },
    {
     "name": "stderr",
     "output_type": "stream",
     "text": [
      "Epoch 804/1000: 100%|████████████████████████████████| 4/4 [00:00<00:00,  5.09it/s, avg_loss=0.221, current_loss=0.223]\n"
     ]
    },
    {
     "name": "stdout",
     "output_type": "stream",
     "text": [
      "Epoch 804/1000 - Average Loss: 0.22096\n"
     ]
    },
    {
     "name": "stderr",
     "output_type": "stream",
     "text": [
      "Epoch 805/1000: 100%|████████████████████████████████| 4/4 [00:00<00:00,  4.12it/s, avg_loss=0.221, current_loss=0.221]\n"
     ]
    },
    {
     "name": "stdout",
     "output_type": "stream",
     "text": [
      "Epoch 805/1000 - Average Loss: 0.22108\n"
     ]
    },
    {
     "name": "stderr",
     "output_type": "stream",
     "text": [
      "Epoch 806/1000: 100%|████████████████████████████████| 4/4 [00:00<00:00,  4.37it/s, avg_loss=0.221, current_loss=0.213]\n"
     ]
    },
    {
     "name": "stdout",
     "output_type": "stream",
     "text": [
      "Epoch 806/1000 - Average Loss: 0.22106\n"
     ]
    },
    {
     "name": "stderr",
     "output_type": "stream",
     "text": [
      "Epoch 807/1000: 100%|█████████████████████████████████| 4/4 [00:00<00:00,  4.52it/s, avg_loss=0.221, current_loss=0.24]\n"
     ]
    },
    {
     "name": "stdout",
     "output_type": "stream",
     "text": [
      "Epoch 807/1000 - Average Loss: 0.22073\n"
     ]
    },
    {
     "name": "stderr",
     "output_type": "stream",
     "text": [
      "Epoch 808/1000: 100%|████████████████████████████████| 4/4 [00:00<00:00,  4.62it/s, avg_loss=0.221, current_loss=0.235]\n"
     ]
    },
    {
     "name": "stdout",
     "output_type": "stream",
     "text": [
      "Epoch 808/1000 - Average Loss: 0.22068\n"
     ]
    },
    {
     "name": "stderr",
     "output_type": "stream",
     "text": [
      "Epoch 809/1000: 100%|████████████████████████████████| 4/4 [00:00<00:00,  4.61it/s, avg_loss=0.221, current_loss=0.223]\n"
     ]
    },
    {
     "name": "stdout",
     "output_type": "stream",
     "text": [
      "Epoch 809/1000 - Average Loss: 0.22077\n"
     ]
    },
    {
     "name": "stderr",
     "output_type": "stream",
     "text": [
      "Epoch 810/1000: 100%|████████████████████████████████| 4/4 [00:00<00:00,  4.46it/s, avg_loss=0.221, current_loss=0.224]\n"
     ]
    },
    {
     "name": "stdout",
     "output_type": "stream",
     "text": [
      "Epoch 810/1000 - Average Loss: 0.22115\n"
     ]
    },
    {
     "name": "stderr",
     "output_type": "stream",
     "text": [
      "Epoch 811/1000: 100%|████████████████████████████████| 4/4 [00:00<00:00,  4.15it/s, avg_loss=0.221, current_loss=0.209]\n"
     ]
    },
    {
     "name": "stdout",
     "output_type": "stream",
     "text": [
      "Epoch 811/1000 - Average Loss: 0.22084\n"
     ]
    },
    {
     "name": "stderr",
     "output_type": "stream",
     "text": [
      "Epoch 812/1000: 100%|████████████████████████████████| 4/4 [00:00<00:00,  4.50it/s, avg_loss=0.221, current_loss=0.228]\n"
     ]
    },
    {
     "name": "stdout",
     "output_type": "stream",
     "text": [
      "Epoch 812/1000 - Average Loss: 0.22098\n"
     ]
    },
    {
     "name": "stderr",
     "output_type": "stream",
     "text": [
      "Epoch 813/1000: 100%|████████████████████████████████| 4/4 [00:00<00:00,  4.28it/s, avg_loss=0.222, current_loss=0.222]\n"
     ]
    },
    {
     "name": "stdout",
     "output_type": "stream",
     "text": [
      "Epoch 813/1000 - Average Loss: 0.22161\n"
     ]
    },
    {
     "name": "stderr",
     "output_type": "stream",
     "text": [
      "Epoch 814/1000: 100%|████████████████████████████████| 4/4 [00:00<00:00,  4.74it/s, avg_loss=0.221, current_loss=0.222]\n"
     ]
    },
    {
     "name": "stdout",
     "output_type": "stream",
     "text": [
      "Epoch 814/1000 - Average Loss: 0.22121\n"
     ]
    },
    {
     "name": "stderr",
     "output_type": "stream",
     "text": [
      "Epoch 815/1000: 100%|████████████████████████████████| 4/4 [00:01<00:00,  3.95it/s, avg_loss=0.221, current_loss=0.224]\n"
     ]
    },
    {
     "name": "stdout",
     "output_type": "stream",
     "text": [
      "Epoch 815/1000 - Average Loss: 0.22094\n"
     ]
    },
    {
     "name": "stderr",
     "output_type": "stream",
     "text": [
      "Epoch 816/1000: 100%|█████████████████████████████████| 4/4 [00:00<00:00,  4.16it/s, avg_loss=0.221, current_loss=0.22]\n"
     ]
    },
    {
     "name": "stdout",
     "output_type": "stream",
     "text": [
      "Epoch 816/1000 - Average Loss: 0.22061\n"
     ]
    },
    {
     "name": "stderr",
     "output_type": "stream",
     "text": [
      "Epoch 817/1000: 100%|████████████████████████████████| 4/4 [00:00<00:00,  4.50it/s, avg_loss=0.221, current_loss=0.232]\n"
     ]
    },
    {
     "name": "stdout",
     "output_type": "stream",
     "text": [
      "Epoch 817/1000 - Average Loss: 0.22052\n"
     ]
    },
    {
     "name": "stderr",
     "output_type": "stream",
     "text": [
      "Epoch 818/1000: 100%|████████████████████████████████| 4/4 [00:01<00:00,  3.45it/s, avg_loss=0.221, current_loss=0.211]\n"
     ]
    },
    {
     "name": "stdout",
     "output_type": "stream",
     "text": [
      "Epoch 818/1000 - Average Loss: 0.22067\n"
     ]
    },
    {
     "name": "stderr",
     "output_type": "stream",
     "text": [
      "Epoch 819/1000: 100%|████████████████████████████████| 4/4 [00:01<00:00,  3.34it/s, avg_loss=0.221, current_loss=0.229]\n"
     ]
    },
    {
     "name": "stdout",
     "output_type": "stream",
     "text": [
      "Epoch 819/1000 - Average Loss: 0.22133\n"
     ]
    },
    {
     "name": "stderr",
     "output_type": "stream",
     "text": [
      "Epoch 820/1000: 100%|████████████████████████████████| 4/4 [00:01<00:00,  3.27it/s, avg_loss=0.221, current_loss=0.217]\n"
     ]
    },
    {
     "name": "stdout",
     "output_type": "stream",
     "text": [
      "Epoch 820/1000 - Average Loss: 0.22112\n"
     ]
    },
    {
     "name": "stderr",
     "output_type": "stream",
     "text": [
      "Epoch 821/1000: 100%|████████████████████████████████| 4/4 [00:01<00:00,  3.26it/s, avg_loss=0.221, current_loss=0.219]\n"
     ]
    },
    {
     "name": "stdout",
     "output_type": "stream",
     "text": [
      "Epoch 821/1000 - Average Loss: 0.22084\n"
     ]
    },
    {
     "name": "stderr",
     "output_type": "stream",
     "text": [
      "Epoch 822/1000: 100%|█████████████████████████████████| 4/4 [00:01<00:00,  3.29it/s, avg_loss=0.221, current_loss=0.21]\n"
     ]
    },
    {
     "name": "stdout",
     "output_type": "stream",
     "text": [
      "Epoch 822/1000 - Average Loss: 0.22074\n"
     ]
    },
    {
     "name": "stderr",
     "output_type": "stream",
     "text": [
      "Epoch 823/1000: 100%|█████████████████████████████████| 4/4 [00:00<00:00,  4.06it/s, avg_loss=0.221, current_loss=0.21]\n"
     ]
    },
    {
     "name": "stdout",
     "output_type": "stream",
     "text": [
      "Epoch 823/1000 - Average Loss: 0.22053\n"
     ]
    },
    {
     "name": "stderr",
     "output_type": "stream",
     "text": [
      "Epoch 824/1000: 100%|█████████████████████████████████| 4/4 [00:00<00:00,  4.22it/s, avg_loss=0.22, current_loss=0.232]\n"
     ]
    },
    {
     "name": "stdout",
     "output_type": "stream",
     "text": [
      "Epoch 824/1000 - Average Loss: 0.22021\n"
     ]
    },
    {
     "name": "stderr",
     "output_type": "stream",
     "text": [
      "Epoch 825/1000: 100%|████████████████████████████████| 4/4 [00:01<00:00,  3.94it/s, avg_loss=0.221, current_loss=0.233]\n"
     ]
    },
    {
     "name": "stdout",
     "output_type": "stream",
     "text": [
      "Epoch 825/1000 - Average Loss: 0.22067\n"
     ]
    },
    {
     "name": "stderr",
     "output_type": "stream",
     "text": [
      "Epoch 826/1000: 100%|████████████████████████████████| 4/4 [00:00<00:00,  4.06it/s, avg_loss=0.221, current_loss=0.225]\n"
     ]
    },
    {
     "name": "stdout",
     "output_type": "stream",
     "text": [
      "Epoch 826/1000 - Average Loss: 0.22121\n"
     ]
    },
    {
     "name": "stderr",
     "output_type": "stream",
     "text": [
      "Epoch 827/1000: 100%|████████████████████████████████| 4/4 [00:01<00:00,  3.90it/s, avg_loss=0.221, current_loss=0.227]\n"
     ]
    },
    {
     "name": "stdout",
     "output_type": "stream",
     "text": [
      "Epoch 827/1000 - Average Loss: 0.22111\n"
     ]
    },
    {
     "name": "stderr",
     "output_type": "stream",
     "text": [
      "Epoch 828/1000: 100%|████████████████████████████████| 4/4 [00:00<00:00,  4.03it/s, avg_loss=0.221, current_loss=0.231]\n"
     ]
    },
    {
     "name": "stdout",
     "output_type": "stream",
     "text": [
      "Epoch 828/1000 - Average Loss: 0.22118\n"
     ]
    },
    {
     "name": "stderr",
     "output_type": "stream",
     "text": [
      "Epoch 829/1000: 100%|████████████████████████████████| 4/4 [00:00<00:00,  4.12it/s, avg_loss=0.221, current_loss=0.211]\n"
     ]
    },
    {
     "name": "stdout",
     "output_type": "stream",
     "text": [
      "Epoch 829/1000 - Average Loss: 0.22073\n"
     ]
    },
    {
     "name": "stderr",
     "output_type": "stream",
     "text": [
      "Epoch 830/1000: 100%|████████████████████████████████| 4/4 [00:00<00:00,  4.05it/s, avg_loss=0.221, current_loss=0.212]\n"
     ]
    },
    {
     "name": "stdout",
     "output_type": "stream",
     "text": [
      "Epoch 830/1000 - Average Loss: 0.22108\n"
     ]
    },
    {
     "name": "stderr",
     "output_type": "stream",
     "text": [
      "Epoch 831/1000: 100%|█████████████████████████████████| 4/4 [00:01<00:00,  3.96it/s, avg_loss=0.221, current_loss=0.23]\n"
     ]
    },
    {
     "name": "stdout",
     "output_type": "stream",
     "text": [
      "Epoch 831/1000 - Average Loss: 0.22072\n"
     ]
    },
    {
     "name": "stderr",
     "output_type": "stream",
     "text": [
      "Epoch 832/1000: 100%|████████████████████████████████| 4/4 [00:00<00:00,  4.01it/s, avg_loss=0.221, current_loss=0.221]\n"
     ]
    },
    {
     "name": "stdout",
     "output_type": "stream",
     "text": [
      "Epoch 832/1000 - Average Loss: 0.22060\n"
     ]
    },
    {
     "name": "stderr",
     "output_type": "stream",
     "text": [
      "Epoch 833/1000: 100%|█████████████████████████████████| 4/4 [00:00<00:00,  4.05it/s, avg_loss=0.22, current_loss=0.224]\n"
     ]
    },
    {
     "name": "stdout",
     "output_type": "stream",
     "text": [
      "Epoch 833/1000 - Average Loss: 0.22020\n"
     ]
    },
    {
     "name": "stderr",
     "output_type": "stream",
     "text": [
      "Epoch 834/1000: 100%|████████████████████████████████| 4/4 [00:00<00:00,  4.16it/s, avg_loss=0.221, current_loss=0.222]\n"
     ]
    },
    {
     "name": "stdout",
     "output_type": "stream",
     "text": [
      "Epoch 834/1000 - Average Loss: 0.22051\n"
     ]
    },
    {
     "name": "stderr",
     "output_type": "stream",
     "text": [
      "Epoch 835/1000: 100%|█████████████████████████████████| 4/4 [00:00<00:00,  4.36it/s, avg_loss=0.22, current_loss=0.215]\n"
     ]
    },
    {
     "name": "stdout",
     "output_type": "stream",
     "text": [
      "Epoch 835/1000 - Average Loss: 0.21991\n"
     ]
    },
    {
     "name": "stderr",
     "output_type": "stream",
     "text": [
      "Epoch 836/1000: 100%|████████████████████████████████| 4/4 [00:00<00:00,  4.28it/s, avg_loss=0.221, current_loss=0.218]\n"
     ]
    },
    {
     "name": "stdout",
     "output_type": "stream",
     "text": [
      "Epoch 836/1000 - Average Loss: 0.22055\n"
     ]
    },
    {
     "name": "stderr",
     "output_type": "stream",
     "text": [
      "Epoch 837/1000: 100%|█████████████████████████████████| 4/4 [00:00<00:00,  4.25it/s, avg_loss=0.221, current_loss=0.22]\n"
     ]
    },
    {
     "name": "stdout",
     "output_type": "stream",
     "text": [
      "Epoch 837/1000 - Average Loss: 0.22064\n"
     ]
    },
    {
     "name": "stderr",
     "output_type": "stream",
     "text": [
      "Epoch 838/1000: 100%|█████████████████████████████████| 4/4 [00:00<00:00,  4.19it/s, avg_loss=0.22, current_loss=0.232]\n"
     ]
    },
    {
     "name": "stdout",
     "output_type": "stream",
     "text": [
      "Epoch 838/1000 - Average Loss: 0.22028\n"
     ]
    },
    {
     "name": "stderr",
     "output_type": "stream",
     "text": [
      "Epoch 839/1000: 100%|████████████████████████████████| 4/4 [00:00<00:00,  4.33it/s, avg_loss=0.221, current_loss=0.216]\n"
     ]
    },
    {
     "name": "stdout",
     "output_type": "stream",
     "text": [
      "Epoch 839/1000 - Average Loss: 0.22085\n"
     ]
    },
    {
     "name": "stderr",
     "output_type": "stream",
     "text": [
      "Epoch 840/1000: 100%|█████████████████████████████████| 4/4 [00:01<00:00,  3.98it/s, avg_loss=0.22, current_loss=0.214]\n"
     ]
    },
    {
     "name": "stdout",
     "output_type": "stream",
     "text": [
      "Epoch 840/1000 - Average Loss: 0.22039\n"
     ]
    },
    {
     "name": "stderr",
     "output_type": "stream",
     "text": [
      "Epoch 841/1000: 100%|█████████████████████████████████| 4/4 [00:01<00:00,  3.38it/s, avg_loss=0.22, current_loss=0.216]\n"
     ]
    },
    {
     "name": "stdout",
     "output_type": "stream",
     "text": [
      "Epoch 841/1000 - Average Loss: 0.22037\n"
     ]
    },
    {
     "name": "stderr",
     "output_type": "stream",
     "text": [
      "Epoch 842/1000: 100%|█████████████████████████████████| 4/4 [00:01<00:00,  3.59it/s, avg_loss=0.22, current_loss=0.217]\n"
     ]
    },
    {
     "name": "stdout",
     "output_type": "stream",
     "text": [
      "Epoch 842/1000 - Average Loss: 0.22023\n"
     ]
    },
    {
     "name": "stderr",
     "output_type": "stream",
     "text": [
      "Epoch 843/1000: 100%|█████████████████████████████████| 4/4 [00:01<00:00,  3.41it/s, avg_loss=0.22, current_loss=0.202]\n"
     ]
    },
    {
     "name": "stdout",
     "output_type": "stream",
     "text": [
      "Epoch 843/1000 - Average Loss: 0.22019\n"
     ]
    },
    {
     "name": "stderr",
     "output_type": "stream",
     "text": [
      "Epoch 844/1000: 100%|█████████████████████████████████| 4/4 [00:01<00:00,  3.51it/s, avg_loss=0.22, current_loss=0.216]\n"
     ]
    },
    {
     "name": "stdout",
     "output_type": "stream",
     "text": [
      "Epoch 844/1000 - Average Loss: 0.22027\n"
     ]
    },
    {
     "name": "stderr",
     "output_type": "stream",
     "text": [
      "Epoch 845/1000: 100%|█████████████████████████████████| 4/4 [00:01<00:00,  3.64it/s, avg_loss=0.22, current_loss=0.229]\n"
     ]
    },
    {
     "name": "stdout",
     "output_type": "stream",
     "text": [
      "Epoch 845/1000 - Average Loss: 0.21990\n"
     ]
    },
    {
     "name": "stderr",
     "output_type": "stream",
     "text": [
      "Epoch 846/1000: 100%|█████████████████████████████████| 4/4 [00:01<00:00,  3.74it/s, avg_loss=0.22, current_loss=0.224]\n"
     ]
    },
    {
     "name": "stdout",
     "output_type": "stream",
     "text": [
      "Epoch 846/1000 - Average Loss: 0.21971\n"
     ]
    },
    {
     "name": "stderr",
     "output_type": "stream",
     "text": [
      "Epoch 847/1000: 100%|█████████████████████████████████| 4/4 [00:00<00:00,  4.20it/s, avg_loss=0.22, current_loss=0.213]\n"
     ]
    },
    {
     "name": "stdout",
     "output_type": "stream",
     "text": [
      "Epoch 847/1000 - Average Loss: 0.21970\n"
     ]
    },
    {
     "name": "stderr",
     "output_type": "stream",
     "text": [
      "Epoch 848/1000: 100%|█████████████████████████████████| 4/4 [00:01<00:00,  3.98it/s, avg_loss=0.22, current_loss=0.203]\n"
     ]
    },
    {
     "name": "stdout",
     "output_type": "stream",
     "text": [
      "Epoch 848/1000 - Average Loss: 0.22006\n"
     ]
    },
    {
     "name": "stderr",
     "output_type": "stream",
     "text": [
      "Epoch 849/1000: 100%|██████████████████████████████████| 4/4 [00:00<00:00,  4.37it/s, avg_loss=0.22, current_loss=0.22]\n"
     ]
    },
    {
     "name": "stdout",
     "output_type": "stream",
     "text": [
      "Epoch 849/1000 - Average Loss: 0.22015\n"
     ]
    },
    {
     "name": "stderr",
     "output_type": "stream",
     "text": [
      "Epoch 850/1000: 100%|████████████████████████████████| 4/4 [00:00<00:00,  4.45it/s, avg_loss=0.221, current_loss=0.222]\n"
     ]
    },
    {
     "name": "stdout",
     "output_type": "stream",
     "text": [
      "Epoch 850/1000 - Average Loss: 0.22054\n"
     ]
    },
    {
     "name": "stderr",
     "output_type": "stream",
     "text": [
      "Epoch 851/1000: 100%|█████████████████████████████████| 4/4 [00:00<00:00,  4.12it/s, avg_loss=0.221, current_loss=0.21]\n"
     ]
    },
    {
     "name": "stdout",
     "output_type": "stream",
     "text": [
      "Epoch 851/1000 - Average Loss: 0.22075\n"
     ]
    },
    {
     "name": "stderr",
     "output_type": "stream",
     "text": [
      "Epoch 852/1000: 100%|█████████████████████████████████| 4/4 [00:00<00:00,  4.08it/s, avg_loss=0.22, current_loss=0.228]\n"
     ]
    },
    {
     "name": "stdout",
     "output_type": "stream",
     "text": [
      "Epoch 852/1000 - Average Loss: 0.22035\n"
     ]
    },
    {
     "name": "stderr",
     "output_type": "stream",
     "text": [
      "Epoch 853/1000: 100%|█████████████████████████████████| 4/4 [00:00<00:00,  4.50it/s, avg_loss=0.22, current_loss=0.217]\n"
     ]
    },
    {
     "name": "stdout",
     "output_type": "stream",
     "text": [
      "Epoch 853/1000 - Average Loss: 0.22014\n"
     ]
    },
    {
     "name": "stderr",
     "output_type": "stream",
     "text": [
      "Epoch 854/1000: 100%|█████████████████████████████████| 4/4 [00:00<00:00,  4.27it/s, avg_loss=0.22, current_loss=0.225]\n"
     ]
    },
    {
     "name": "stdout",
     "output_type": "stream",
     "text": [
      "Epoch 854/1000 - Average Loss: 0.21995\n"
     ]
    },
    {
     "name": "stderr",
     "output_type": "stream",
     "text": [
      "Epoch 855/1000: 100%|█████████████████████████████████| 4/4 [00:00<00:00,  4.36it/s, avg_loss=0.22, current_loss=0.211]\n"
     ]
    },
    {
     "name": "stdout",
     "output_type": "stream",
     "text": [
      "Epoch 855/1000 - Average Loss: 0.22034\n"
     ]
    },
    {
     "name": "stderr",
     "output_type": "stream",
     "text": [
      "Epoch 856/1000: 100%|█████████████████████████████████| 4/4 [00:00<00:00,  4.22it/s, avg_loss=0.22, current_loss=0.222]\n"
     ]
    },
    {
     "name": "stdout",
     "output_type": "stream",
     "text": [
      "Epoch 856/1000 - Average Loss: 0.21982\n"
     ]
    },
    {
     "name": "stderr",
     "output_type": "stream",
     "text": [
      "Epoch 857/1000: 100%|█████████████████████████████████| 4/4 [00:00<00:00,  4.27it/s, avg_loss=0.22, current_loss=0.238]\n"
     ]
    },
    {
     "name": "stdout",
     "output_type": "stream",
     "text": [
      "Epoch 857/1000 - Average Loss: 0.22036\n"
     ]
    },
    {
     "name": "stderr",
     "output_type": "stream",
     "text": [
      "Epoch 858/1000: 100%|█████████████████████████████████| 4/4 [00:00<00:00,  4.36it/s, avg_loss=0.22, current_loss=0.217]\n"
     ]
    },
    {
     "name": "stdout",
     "output_type": "stream",
     "text": [
      "Epoch 858/1000 - Average Loss: 0.21997\n"
     ]
    },
    {
     "name": "stderr",
     "output_type": "stream",
     "text": [
      "Epoch 859/1000: 100%|█████████████████████████████████| 4/4 [00:00<00:00,  4.41it/s, avg_loss=0.22, current_loss=0.222]\n"
     ]
    },
    {
     "name": "stdout",
     "output_type": "stream",
     "text": [
      "Epoch 859/1000 - Average Loss: 0.22037\n"
     ]
    },
    {
     "name": "stderr",
     "output_type": "stream",
     "text": [
      "Epoch 860/1000: 100%|████████████████████████████████| 4/4 [00:00<00:00,  4.36it/s, avg_loss=0.221, current_loss=0.214]\n"
     ]
    },
    {
     "name": "stdout",
     "output_type": "stream",
     "text": [
      "Epoch 860/1000 - Average Loss: 0.22051\n"
     ]
    },
    {
     "name": "stderr",
     "output_type": "stream",
     "text": [
      "Epoch 861/1000: 100%|████████████████████████████████| 4/4 [00:00<00:00,  4.21it/s, avg_loss=0.221, current_loss=0.213]\n"
     ]
    },
    {
     "name": "stdout",
     "output_type": "stream",
     "text": [
      "Epoch 861/1000 - Average Loss: 0.22057\n"
     ]
    },
    {
     "name": "stderr",
     "output_type": "stream",
     "text": [
      "Epoch 862/1000: 100%|████████████████████████████████| 4/4 [00:00<00:00,  4.34it/s, avg_loss=0.221, current_loss=0.225]\n"
     ]
    },
    {
     "name": "stdout",
     "output_type": "stream",
     "text": [
      "Epoch 862/1000 - Average Loss: 0.22058\n"
     ]
    },
    {
     "name": "stderr",
     "output_type": "stream",
     "text": [
      "Epoch 863/1000: 100%|████████████████████████████████| 4/4 [00:00<00:00,  4.50it/s, avg_loss=0.221, current_loss=0.219]\n"
     ]
    },
    {
     "name": "stdout",
     "output_type": "stream",
     "text": [
      "Epoch 863/1000 - Average Loss: 0.22073\n"
     ]
    },
    {
     "name": "stderr",
     "output_type": "stream",
     "text": [
      "Epoch 864/1000: 100%|████████████████████████████████| 4/4 [00:00<00:00,  4.53it/s, avg_loss=0.221, current_loss=0.213]\n"
     ]
    },
    {
     "name": "stdout",
     "output_type": "stream",
     "text": [
      "Epoch 864/1000 - Average Loss: 0.22059\n"
     ]
    },
    {
     "name": "stderr",
     "output_type": "stream",
     "text": [
      "Epoch 865/1000: 100%|█████████████████████████████████| 4/4 [00:01<00:00,  3.88it/s, avg_loss=0.22, current_loss=0.223]\n"
     ]
    },
    {
     "name": "stdout",
     "output_type": "stream",
     "text": [
      "Epoch 865/1000 - Average Loss: 0.22014\n"
     ]
    },
    {
     "name": "stderr",
     "output_type": "stream",
     "text": [
      "Epoch 866/1000: 100%|█████████████████████████████████| 4/4 [00:01<00:00,  3.38it/s, avg_loss=0.22, current_loss=0.211]\n"
     ]
    },
    {
     "name": "stdout",
     "output_type": "stream",
     "text": [
      "Epoch 866/1000 - Average Loss: 0.21997\n"
     ]
    },
    {
     "name": "stderr",
     "output_type": "stream",
     "text": [
      "Epoch 867/1000: 100%|█████████████████████████████████| 4/4 [00:01<00:00,  3.60it/s, avg_loss=0.22, current_loss=0.224]\n"
     ]
    },
    {
     "name": "stdout",
     "output_type": "stream",
     "text": [
      "Epoch 867/1000 - Average Loss: 0.21990\n"
     ]
    },
    {
     "name": "stderr",
     "output_type": "stream",
     "text": [
      "Epoch 868/1000: 100%|██████████████████████████████████| 4/4 [00:01<00:00,  3.60it/s, avg_loss=0.22, current_loss=0.23]\n"
     ]
    },
    {
     "name": "stdout",
     "output_type": "stream",
     "text": [
      "Epoch 868/1000 - Average Loss: 0.21962\n"
     ]
    },
    {
     "name": "stderr",
     "output_type": "stream",
     "text": [
      "Epoch 869/1000: 100%|██████████████████████████████████| 4/4 [00:00<00:00,  4.34it/s, avg_loss=0.22, current_loss=0.21]\n"
     ]
    },
    {
     "name": "stdout",
     "output_type": "stream",
     "text": [
      "Epoch 869/1000 - Average Loss: 0.21995\n"
     ]
    },
    {
     "name": "stderr",
     "output_type": "stream",
     "text": [
      "Epoch 870/1000: 100%|█████████████████████████████████| 4/4 [00:00<00:00,  4.95it/s, avg_loss=0.22, current_loss=0.218]\n"
     ]
    },
    {
     "name": "stdout",
     "output_type": "stream",
     "text": [
      "Epoch 870/1000 - Average Loss: 0.21972\n"
     ]
    },
    {
     "name": "stderr",
     "output_type": "stream",
     "text": [
      "Epoch 871/1000: 100%|█████████████████████████████████| 4/4 [00:01<00:00,  3.57it/s, avg_loss=0.22, current_loss=0.212]\n"
     ]
    },
    {
     "name": "stdout",
     "output_type": "stream",
     "text": [
      "Epoch 871/1000 - Average Loss: 0.21967\n"
     ]
    },
    {
     "name": "stderr",
     "output_type": "stream",
     "text": [
      "Epoch 872/1000: 100%|█████████████████████████████████| 4/4 [00:00<00:00,  4.41it/s, avg_loss=0.22, current_loss=0.226]\n"
     ]
    },
    {
     "name": "stdout",
     "output_type": "stream",
     "text": [
      "Epoch 872/1000 - Average Loss: 0.21964\n"
     ]
    },
    {
     "name": "stderr",
     "output_type": "stream",
     "text": [
      "Epoch 873/1000: 100%|█████████████████████████████████| 4/4 [00:01<00:00,  3.86it/s, avg_loss=0.22, current_loss=0.225]\n"
     ]
    },
    {
     "name": "stdout",
     "output_type": "stream",
     "text": [
      "Epoch 873/1000 - Average Loss: 0.22014\n"
     ]
    },
    {
     "name": "stderr",
     "output_type": "stream",
     "text": [
      "Epoch 874/1000: 100%|█████████████████████████████████| 4/4 [00:01<00:00,  3.90it/s, avg_loss=0.22, current_loss=0.221]\n"
     ]
    },
    {
     "name": "stdout",
     "output_type": "stream",
     "text": [
      "Epoch 874/1000 - Average Loss: 0.22031\n"
     ]
    },
    {
     "name": "stderr",
     "output_type": "stream",
     "text": [
      "Epoch 875/1000: 100%|██████████████████████████████████| 4/4 [00:00<00:00,  4.72it/s, avg_loss=0.22, current_loss=0.22]\n"
     ]
    },
    {
     "name": "stdout",
     "output_type": "stream",
     "text": [
      "Epoch 875/1000 - Average Loss: 0.21998\n"
     ]
    },
    {
     "name": "stderr",
     "output_type": "stream",
     "text": [
      "Epoch 876/1000: 100%|█████████████████████████████████| 4/4 [00:00<00:00,  4.15it/s, avg_loss=0.22, current_loss=0.234]\n"
     ]
    },
    {
     "name": "stdout",
     "output_type": "stream",
     "text": [
      "Epoch 876/1000 - Average Loss: 0.21988\n"
     ]
    },
    {
     "name": "stderr",
     "output_type": "stream",
     "text": [
      "Epoch 877/1000: 100%|████████████████████████████████| 4/4 [00:01<00:00,  3.54it/s, avg_loss=0.221, current_loss=0.225]\n"
     ]
    },
    {
     "name": "stdout",
     "output_type": "stream",
     "text": [
      "Epoch 877/1000 - Average Loss: 0.22096\n"
     ]
    },
    {
     "name": "stderr",
     "output_type": "stream",
     "text": [
      "Epoch 878/1000: 100%|████████████████████████████████| 4/4 [00:01<00:00,  3.81it/s, avg_loss=0.221, current_loss=0.232]\n"
     ]
    },
    {
     "name": "stdout",
     "output_type": "stream",
     "text": [
      "Epoch 878/1000 - Average Loss: 0.22066\n"
     ]
    },
    {
     "name": "stderr",
     "output_type": "stream",
     "text": [
      "Epoch 879/1000: 100%|█████████████████████████████████| 4/4 [00:01<00:00,  3.87it/s, avg_loss=0.22, current_loss=0.221]\n"
     ]
    },
    {
     "name": "stdout",
     "output_type": "stream",
     "text": [
      "Epoch 879/1000 - Average Loss: 0.21966\n"
     ]
    },
    {
     "name": "stderr",
     "output_type": "stream",
     "text": [
      "Epoch 880/1000: 100%|████████████████████████████████| 4/4 [00:01<00:00,  3.30it/s, avg_loss=0.219, current_loss=0.232]\n"
     ]
    },
    {
     "name": "stdout",
     "output_type": "stream",
     "text": [
      "Epoch 880/1000 - Average Loss: 0.21933\n"
     ]
    },
    {
     "name": "stderr",
     "output_type": "stream",
     "text": [
      "Epoch 881/1000: 100%|█████████████████████████████████| 4/4 [00:01<00:00,  3.61it/s, avg_loss=0.22, current_loss=0.241]\n"
     ]
    },
    {
     "name": "stdout",
     "output_type": "stream",
     "text": [
      "Epoch 881/1000 - Average Loss: 0.21951\n"
     ]
    },
    {
     "name": "stderr",
     "output_type": "stream",
     "text": [
      "Epoch 882/1000: 100%|█████████████████████████████████| 4/4 [00:01<00:00,  3.26it/s, avg_loss=0.22, current_loss=0.212]\n"
     ]
    },
    {
     "name": "stdout",
     "output_type": "stream",
     "text": [
      "Epoch 882/1000 - Average Loss: 0.21981\n"
     ]
    },
    {
     "name": "stderr",
     "output_type": "stream",
     "text": [
      "Epoch 883/1000: 100%|████████████████████████████████| 4/4 [00:01<00:00,  3.34it/s, avg_loss=0.219, current_loss=0.215]\n"
     ]
    },
    {
     "name": "stdout",
     "output_type": "stream",
     "text": [
      "Epoch 883/1000 - Average Loss: 0.21942\n"
     ]
    },
    {
     "name": "stderr",
     "output_type": "stream",
     "text": [
      "Epoch 884/1000: 100%|████████████████████████████████| 4/4 [00:01<00:00,  3.33it/s, avg_loss=0.219, current_loss=0.216]\n"
     ]
    },
    {
     "name": "stdout",
     "output_type": "stream",
     "text": [
      "Epoch 884/1000 - Average Loss: 0.21928\n"
     ]
    },
    {
     "name": "stderr",
     "output_type": "stream",
     "text": [
      "Epoch 885/1000: 100%|████████████████████████████████| 4/4 [00:01<00:00,  3.38it/s, avg_loss=0.219, current_loss=0.222]\n"
     ]
    },
    {
     "name": "stdout",
     "output_type": "stream",
     "text": [
      "Epoch 885/1000 - Average Loss: 0.21920\n"
     ]
    },
    {
     "name": "stderr",
     "output_type": "stream",
     "text": [
      "Epoch 886/1000: 100%|████████████████████████████████| 4/4 [00:01<00:00,  3.43it/s, avg_loss=0.219, current_loss=0.224]\n"
     ]
    },
    {
     "name": "stdout",
     "output_type": "stream",
     "text": [
      "Epoch 886/1000 - Average Loss: 0.21941\n"
     ]
    },
    {
     "name": "stderr",
     "output_type": "stream",
     "text": [
      "Epoch 887/1000: 100%|█████████████████████████████████| 4/4 [00:01<00:00,  3.37it/s, avg_loss=0.22, current_loss=0.226]\n"
     ]
    },
    {
     "name": "stdout",
     "output_type": "stream",
     "text": [
      "Epoch 887/1000 - Average Loss: 0.21977\n"
     ]
    },
    {
     "name": "stderr",
     "output_type": "stream",
     "text": [
      "Epoch 888/1000: 100%|█████████████████████████████████| 4/4 [00:01<00:00,  3.40it/s, avg_loss=0.22, current_loss=0.234]\n"
     ]
    },
    {
     "name": "stdout",
     "output_type": "stream",
     "text": [
      "Epoch 888/1000 - Average Loss: 0.21965\n"
     ]
    },
    {
     "name": "stderr",
     "output_type": "stream",
     "text": [
      "Epoch 889/1000: 100%|█████████████████████████████████| 4/4 [00:01<00:00,  3.45it/s, avg_loss=0.22, current_loss=0.217]\n"
     ]
    },
    {
     "name": "stdout",
     "output_type": "stream",
     "text": [
      "Epoch 889/1000 - Average Loss: 0.21954\n"
     ]
    },
    {
     "name": "stderr",
     "output_type": "stream",
     "text": [
      "Epoch 890/1000: 100%|████████████████████████████████| 4/4 [00:00<00:00,  4.11it/s, avg_loss=0.219, current_loss=0.227]\n"
     ]
    },
    {
     "name": "stdout",
     "output_type": "stream",
     "text": [
      "Epoch 890/1000 - Average Loss: 0.21940\n"
     ]
    },
    {
     "name": "stderr",
     "output_type": "stream",
     "text": [
      "Epoch 891/1000: 100%|██████████████████████████████████| 4/4 [00:01<00:00,  3.70it/s, avg_loss=0.22, current_loss=0.22]\n"
     ]
    },
    {
     "name": "stdout",
     "output_type": "stream",
     "text": [
      "Epoch 891/1000 - Average Loss: 0.21969\n"
     ]
    },
    {
     "name": "stderr",
     "output_type": "stream",
     "text": [
      "Epoch 892/1000: 100%|████████████████████████████████| 4/4 [00:00<00:00,  4.26it/s, avg_loss=0.219, current_loss=0.215]\n"
     ]
    },
    {
     "name": "stdout",
     "output_type": "stream",
     "text": [
      "Epoch 892/1000 - Average Loss: 0.21917\n"
     ]
    },
    {
     "name": "stderr",
     "output_type": "stream",
     "text": [
      "Epoch 893/1000: 100%|█████████████████████████████████| 4/4 [00:01<00:00,  3.75it/s, avg_loss=0.22, current_loss=0.213]\n"
     ]
    },
    {
     "name": "stdout",
     "output_type": "stream",
     "text": [
      "Epoch 893/1000 - Average Loss: 0.21955\n"
     ]
    },
    {
     "name": "stderr",
     "output_type": "stream",
     "text": [
      "Epoch 894/1000: 100%|████████████████████████████████| 4/4 [00:00<00:00,  4.30it/s, avg_loss=0.219, current_loss=0.223]\n"
     ]
    },
    {
     "name": "stdout",
     "output_type": "stream",
     "text": [
      "Epoch 894/1000 - Average Loss: 0.21940\n"
     ]
    },
    {
     "name": "stderr",
     "output_type": "stream",
     "text": [
      "Epoch 895/1000: 100%|████████████████████████████████| 4/4 [00:01<00:00,  3.52it/s, avg_loss=0.219, current_loss=0.226]\n"
     ]
    },
    {
     "name": "stdout",
     "output_type": "stream",
     "text": [
      "Epoch 895/1000 - Average Loss: 0.21928\n"
     ]
    },
    {
     "name": "stderr",
     "output_type": "stream",
     "text": [
      "Epoch 896/1000: 100%|████████████████████████████████| 4/4 [00:00<00:00,  4.32it/s, avg_loss=0.219, current_loss=0.201]\n"
     ]
    },
    {
     "name": "stdout",
     "output_type": "stream",
     "text": [
      "Epoch 896/1000 - Average Loss: 0.21914\n"
     ]
    },
    {
     "name": "stderr",
     "output_type": "stream",
     "text": [
      "Epoch 897/1000: 100%|████████████████████████████████| 4/4 [00:00<00:00,  4.29it/s, avg_loss=0.219, current_loss=0.217]\n"
     ]
    },
    {
     "name": "stdout",
     "output_type": "stream",
     "text": [
      "Epoch 897/1000 - Average Loss: 0.21931\n"
     ]
    },
    {
     "name": "stderr",
     "output_type": "stream",
     "text": [
      "Epoch 898/1000: 100%|████████████████████████████████| 4/4 [00:00<00:00,  4.46it/s, avg_loss=0.219, current_loss=0.221]\n"
     ]
    },
    {
     "name": "stdout",
     "output_type": "stream",
     "text": [
      "Epoch 898/1000 - Average Loss: 0.21941\n"
     ]
    },
    {
     "name": "stderr",
     "output_type": "stream",
     "text": [
      "Epoch 899/1000: 100%|████████████████████████████████| 4/4 [00:01<00:00,  3.63it/s, avg_loss=0.219, current_loss=0.209]\n"
     ]
    },
    {
     "name": "stdout",
     "output_type": "stream",
     "text": [
      "Epoch 899/1000 - Average Loss: 0.21914\n"
     ]
    },
    {
     "name": "stderr",
     "output_type": "stream",
     "text": [
      "Epoch 900/1000: 100%|████████████████████████████████| 4/4 [00:00<00:00,  4.06it/s, avg_loss=0.219, current_loss=0.202]\n"
     ]
    },
    {
     "name": "stdout",
     "output_type": "stream",
     "text": [
      "Epoch 900/1000 - Average Loss: 0.21914\n"
     ]
    },
    {
     "name": "stderr",
     "output_type": "stream",
     "text": [
      "Epoch 901/1000: 100%|████████████████████████████████| 4/4 [00:00<00:00,  4.12it/s, avg_loss=0.219, current_loss=0.213]\n"
     ]
    },
    {
     "name": "stdout",
     "output_type": "stream",
     "text": [
      "Epoch 901/1000 - Average Loss: 0.21920\n"
     ]
    },
    {
     "name": "stderr",
     "output_type": "stream",
     "text": [
      "Epoch 902/1000: 100%|█████████████████████████████████| 4/4 [00:00<00:00,  4.22it/s, avg_loss=0.22, current_loss=0.217]\n"
     ]
    },
    {
     "name": "stdout",
     "output_type": "stream",
     "text": [
      "Epoch 902/1000 - Average Loss: 0.21973\n"
     ]
    },
    {
     "name": "stderr",
     "output_type": "stream",
     "text": [
      "Epoch 903/1000: 100%|████████████████████████████████| 4/4 [00:00<00:00,  4.70it/s, avg_loss=0.219, current_loss=0.214]\n"
     ]
    },
    {
     "name": "stdout",
     "output_type": "stream",
     "text": [
      "Epoch 903/1000 - Average Loss: 0.21949\n"
     ]
    },
    {
     "name": "stderr",
     "output_type": "stream",
     "text": [
      "Epoch 904/1000: 100%|████████████████████████████████| 4/4 [00:00<00:00,  4.05it/s, avg_loss=0.219, current_loss=0.228]\n"
     ]
    },
    {
     "name": "stdout",
     "output_type": "stream",
     "text": [
      "Epoch 904/1000 - Average Loss: 0.21930\n"
     ]
    },
    {
     "name": "stderr",
     "output_type": "stream",
     "text": [
      "Epoch 905/1000: 100%|█████████████████████████████████| 4/4 [00:00<00:00,  4.49it/s, avg_loss=0.22, current_loss=0.214]\n"
     ]
    },
    {
     "name": "stdout",
     "output_type": "stream",
     "text": [
      "Epoch 905/1000 - Average Loss: 0.21962\n"
     ]
    },
    {
     "name": "stderr",
     "output_type": "stream",
     "text": [
      "Epoch 906/1000: 100%|██████████████████████████████████| 4/4 [00:00<00:00,  4.68it/s, avg_loss=0.22, current_loss=0.22]\n"
     ]
    },
    {
     "name": "stdout",
     "output_type": "stream",
     "text": [
      "Epoch 906/1000 - Average Loss: 0.21970\n"
     ]
    },
    {
     "name": "stderr",
     "output_type": "stream",
     "text": [
      "Epoch 907/1000: 100%|█████████████████████████████████| 4/4 [00:00<00:00,  4.42it/s, avg_loss=0.22, current_loss=0.216]\n"
     ]
    },
    {
     "name": "stdout",
     "output_type": "stream",
     "text": [
      "Epoch 907/1000 - Average Loss: 0.21961\n"
     ]
    },
    {
     "name": "stderr",
     "output_type": "stream",
     "text": [
      "Epoch 908/1000: 100%|████████████████████████████████| 4/4 [00:00<00:00,  4.66it/s, avg_loss=0.219, current_loss=0.207]\n"
     ]
    },
    {
     "name": "stdout",
     "output_type": "stream",
     "text": [
      "Epoch 908/1000 - Average Loss: 0.21947\n"
     ]
    },
    {
     "name": "stderr",
     "output_type": "stream",
     "text": [
      "Epoch 909/1000: 100%|████████████████████████████████| 4/4 [00:01<00:00,  3.71it/s, avg_loss=0.219, current_loss=0.226]\n"
     ]
    },
    {
     "name": "stdout",
     "output_type": "stream",
     "text": [
      "Epoch 909/1000 - Average Loss: 0.21916\n"
     ]
    },
    {
     "name": "stderr",
     "output_type": "stream",
     "text": [
      "Epoch 910/1000: 100%|████████████████████████████████| 4/4 [00:00<00:00,  4.05it/s, avg_loss=0.219, current_loss=0.216]\n"
     ]
    },
    {
     "name": "stdout",
     "output_type": "stream",
     "text": [
      "Epoch 910/1000 - Average Loss: 0.21880\n"
     ]
    },
    {
     "name": "stderr",
     "output_type": "stream",
     "text": [
      "Epoch 911/1000: 100%|████████████████████████████████| 4/4 [00:00<00:00,  5.00it/s, avg_loss=0.219, current_loss=0.209]\n"
     ]
    },
    {
     "name": "stdout",
     "output_type": "stream",
     "text": [
      "Epoch 911/1000 - Average Loss: 0.21880\n"
     ]
    },
    {
     "name": "stderr",
     "output_type": "stream",
     "text": [
      "Epoch 912/1000: 100%|████████████████████████████████| 4/4 [00:00<00:00,  4.22it/s, avg_loss=0.219, current_loss=0.234]\n"
     ]
    },
    {
     "name": "stdout",
     "output_type": "stream",
     "text": [
      "Epoch 912/1000 - Average Loss: 0.21897\n"
     ]
    },
    {
     "name": "stderr",
     "output_type": "stream",
     "text": [
      "Epoch 913/1000: 100%|████████████████████████████████| 4/4 [00:00<00:00,  4.35it/s, avg_loss=0.219, current_loss=0.225]\n"
     ]
    },
    {
     "name": "stdout",
     "output_type": "stream",
     "text": [
      "Epoch 913/1000 - Average Loss: 0.21944\n"
     ]
    },
    {
     "name": "stderr",
     "output_type": "stream",
     "text": [
      "Epoch 914/1000: 100%|████████████████████████████████| 4/4 [00:01<00:00,  3.47it/s, avg_loss=0.219, current_loss=0.227]\n"
     ]
    },
    {
     "name": "stdout",
     "output_type": "stream",
     "text": [
      "Epoch 914/1000 - Average Loss: 0.21935\n"
     ]
    },
    {
     "name": "stderr",
     "output_type": "stream",
     "text": [
      "Epoch 915/1000: 100%|████████████████████████████████| 4/4 [00:01<00:00,  3.92it/s, avg_loss=0.219, current_loss=0.221]\n"
     ]
    },
    {
     "name": "stdout",
     "output_type": "stream",
     "text": [
      "Epoch 915/1000 - Average Loss: 0.21926\n"
     ]
    },
    {
     "name": "stderr",
     "output_type": "stream",
     "text": [
      "Epoch 916/1000: 100%|████████████████████████████████| 4/4 [00:00<00:00,  4.00it/s, avg_loss=0.219, current_loss=0.215]\n"
     ]
    },
    {
     "name": "stdout",
     "output_type": "stream",
     "text": [
      "Epoch 916/1000 - Average Loss: 0.21890\n"
     ]
    },
    {
     "name": "stderr",
     "output_type": "stream",
     "text": [
      "Epoch 917/1000: 100%|████████████████████████████████| 4/4 [00:01<00:00,  3.83it/s, avg_loss=0.219, current_loss=0.223]\n"
     ]
    },
    {
     "name": "stdout",
     "output_type": "stream",
     "text": [
      "Epoch 917/1000 - Average Loss: 0.21910\n"
     ]
    },
    {
     "name": "stderr",
     "output_type": "stream",
     "text": [
      "Epoch 918/1000: 100%|████████████████████████████████| 4/4 [00:00<00:00,  4.12it/s, avg_loss=0.219, current_loss=0.222]\n"
     ]
    },
    {
     "name": "stdout",
     "output_type": "stream",
     "text": [
      "Epoch 918/1000 - Average Loss: 0.21937\n"
     ]
    },
    {
     "name": "stderr",
     "output_type": "stream",
     "text": [
      "Epoch 919/1000: 100%|█████████████████████████████████| 4/4 [00:00<00:00,  4.00it/s, avg_loss=0.219, current_loss=0.23]\n"
     ]
    },
    {
     "name": "stdout",
     "output_type": "stream",
     "text": [
      "Epoch 919/1000 - Average Loss: 0.21905\n"
     ]
    },
    {
     "name": "stderr",
     "output_type": "stream",
     "text": [
      "Epoch 920/1000: 100%|█████████████████████████████████| 4/4 [00:00<00:00,  4.22it/s, avg_loss=0.22, current_loss=0.213]\n"
     ]
    },
    {
     "name": "stdout",
     "output_type": "stream",
     "text": [
      "Epoch 920/1000 - Average Loss: 0.21984\n"
     ]
    },
    {
     "name": "stderr",
     "output_type": "stream",
     "text": [
      "Epoch 921/1000: 100%|████████████████████████████████| 4/4 [00:00<00:00,  4.12it/s, avg_loss=0.219, current_loss=0.231]\n"
     ]
    },
    {
     "name": "stdout",
     "output_type": "stream",
     "text": [
      "Epoch 921/1000 - Average Loss: 0.21913\n"
     ]
    },
    {
     "name": "stderr",
     "output_type": "stream",
     "text": [
      "Epoch 922/1000: 100%|████████████████████████████████| 4/4 [00:00<00:00,  4.23it/s, avg_loss=0.219, current_loss=0.226]\n"
     ]
    },
    {
     "name": "stdout",
     "output_type": "stream",
     "text": [
      "Epoch 922/1000 - Average Loss: 0.21880\n"
     ]
    },
    {
     "name": "stderr",
     "output_type": "stream",
     "text": [
      "Epoch 923/1000: 100%|████████████████████████████████| 4/4 [00:00<00:00,  4.50it/s, avg_loss=0.219, current_loss=0.229]\n"
     ]
    },
    {
     "name": "stdout",
     "output_type": "stream",
     "text": [
      "Epoch 923/1000 - Average Loss: 0.21895\n"
     ]
    },
    {
     "name": "stderr",
     "output_type": "stream",
     "text": [
      "Epoch 924/1000: 100%|████████████████████████████████| 4/4 [00:00<00:00,  4.53it/s, avg_loss=0.219, current_loss=0.216]\n"
     ]
    },
    {
     "name": "stdout",
     "output_type": "stream",
     "text": [
      "Epoch 924/1000 - Average Loss: 0.21896\n"
     ]
    },
    {
     "name": "stderr",
     "output_type": "stream",
     "text": [
      "Epoch 925/1000: 100%|█████████████████████████████████| 4/4 [00:00<00:00,  4.05it/s, avg_loss=0.219, current_loss=0.22]\n"
     ]
    },
    {
     "name": "stdout",
     "output_type": "stream",
     "text": [
      "Epoch 925/1000 - Average Loss: 0.21877\n"
     ]
    },
    {
     "name": "stderr",
     "output_type": "stream",
     "text": [
      "Epoch 926/1000: 100%|████████████████████████████████| 4/4 [00:00<00:00,  4.64it/s, avg_loss=0.219, current_loss=0.221]\n"
     ]
    },
    {
     "name": "stdout",
     "output_type": "stream",
     "text": [
      "Epoch 926/1000 - Average Loss: 0.21921\n"
     ]
    },
    {
     "name": "stderr",
     "output_type": "stream",
     "text": [
      "Epoch 927/1000: 100%|████████████████████████████████| 4/4 [00:01<00:00,  3.77it/s, avg_loss=0.219, current_loss=0.212]\n"
     ]
    },
    {
     "name": "stdout",
     "output_type": "stream",
     "text": [
      "Epoch 927/1000 - Average Loss: 0.21877\n"
     ]
    },
    {
     "name": "stderr",
     "output_type": "stream",
     "text": [
      "Epoch 928/1000: 100%|█████████████████████████████████| 4/4 [00:00<00:00,  4.24it/s, avg_loss=0.219, current_loss=0.22]\n"
     ]
    },
    {
     "name": "stdout",
     "output_type": "stream",
     "text": [
      "Epoch 928/1000 - Average Loss: 0.21866\n"
     ]
    },
    {
     "name": "stderr",
     "output_type": "stream",
     "text": [
      "Epoch 929/1000: 100%|████████████████████████████████| 4/4 [00:01<00:00,  3.96it/s, avg_loss=0.219, current_loss=0.221]\n"
     ]
    },
    {
     "name": "stdout",
     "output_type": "stream",
     "text": [
      "Epoch 929/1000 - Average Loss: 0.21875\n"
     ]
    },
    {
     "name": "stderr",
     "output_type": "stream",
     "text": [
      "Epoch 930/1000: 100%|████████████████████████████████| 4/4 [00:00<00:00,  4.50it/s, avg_loss=0.219, current_loss=0.229]\n"
     ]
    },
    {
     "name": "stdout",
     "output_type": "stream",
     "text": [
      "Epoch 930/1000 - Average Loss: 0.21876\n"
     ]
    },
    {
     "name": "stderr",
     "output_type": "stream",
     "text": [
      "Epoch 931/1000: 100%|████████████████████████████████| 4/4 [00:00<00:00,  4.31it/s, avg_loss=0.219, current_loss=0.224]\n"
     ]
    },
    {
     "name": "stdout",
     "output_type": "stream",
     "text": [
      "Epoch 931/1000 - Average Loss: 0.21863\n"
     ]
    },
    {
     "name": "stderr",
     "output_type": "stream",
     "text": [
      "Epoch 932/1000: 100%|████████████████████████████████| 4/4 [00:00<00:00,  4.36it/s, avg_loss=0.219, current_loss=0.214]\n"
     ]
    },
    {
     "name": "stdout",
     "output_type": "stream",
     "text": [
      "Epoch 932/1000 - Average Loss: 0.21892\n"
     ]
    },
    {
     "name": "stderr",
     "output_type": "stream",
     "text": [
      "Epoch 933/1000: 100%|████████████████████████████████| 4/4 [00:00<00:00,  4.10it/s, avg_loss=0.219, current_loss=0.214]\n"
     ]
    },
    {
     "name": "stdout",
     "output_type": "stream",
     "text": [
      "Epoch 933/1000 - Average Loss: 0.21921\n"
     ]
    },
    {
     "name": "stderr",
     "output_type": "stream",
     "text": [
      "Epoch 934/1000: 100%|████████████████████████████████| 4/4 [00:00<00:00,  4.51it/s, avg_loss=0.219, current_loss=0.219]\n"
     ]
    },
    {
     "name": "stdout",
     "output_type": "stream",
     "text": [
      "Epoch 934/1000 - Average Loss: 0.21906\n"
     ]
    },
    {
     "name": "stderr",
     "output_type": "stream",
     "text": [
      "Epoch 935/1000: 100%|████████████████████████████████| 4/4 [00:00<00:00,  4.14it/s, avg_loss=0.219, current_loss=0.234]\n"
     ]
    },
    {
     "name": "stdout",
     "output_type": "stream",
     "text": [
      "Epoch 935/1000 - Average Loss: 0.21871\n"
     ]
    },
    {
     "name": "stderr",
     "output_type": "stream",
     "text": [
      "Epoch 936/1000: 100%|████████████████████████████████| 4/4 [00:00<00:00,  4.05it/s, avg_loss=0.219, current_loss=0.229]\n"
     ]
    },
    {
     "name": "stdout",
     "output_type": "stream",
     "text": [
      "Epoch 936/1000 - Average Loss: 0.21899\n"
     ]
    },
    {
     "name": "stderr",
     "output_type": "stream",
     "text": [
      "Epoch 937/1000: 100%|████████████████████████████████| 4/4 [00:00<00:00,  4.29it/s, avg_loss=0.219, current_loss=0.213]\n"
     ]
    },
    {
     "name": "stdout",
     "output_type": "stream",
     "text": [
      "Epoch 937/1000 - Average Loss: 0.21866\n"
     ]
    },
    {
     "name": "stderr",
     "output_type": "stream",
     "text": [
      "Epoch 938/1000: 100%|█████████████████████████████████| 4/4 [00:01<00:00,  3.89it/s, avg_loss=0.219, current_loss=0.22]\n"
     ]
    },
    {
     "name": "stdout",
     "output_type": "stream",
     "text": [
      "Epoch 938/1000 - Average Loss: 0.21874\n"
     ]
    },
    {
     "name": "stderr",
     "output_type": "stream",
     "text": [
      "Epoch 939/1000: 100%|████████████████████████████████| 4/4 [00:01<00:00,  3.81it/s, avg_loss=0.219, current_loss=0.219]\n"
     ]
    },
    {
     "name": "stdout",
     "output_type": "stream",
     "text": [
      "Epoch 939/1000 - Average Loss: 0.21896\n"
     ]
    },
    {
     "name": "stderr",
     "output_type": "stream",
     "text": [
      "Epoch 940/1000: 100%|████████████████████████████████| 4/4 [00:01<00:00,  3.39it/s, avg_loss=0.219, current_loss=0.212]\n"
     ]
    },
    {
     "name": "stdout",
     "output_type": "stream",
     "text": [
      "Epoch 940/1000 - Average Loss: 0.21881\n"
     ]
    },
    {
     "name": "stderr",
     "output_type": "stream",
     "text": [
      "Epoch 941/1000: 100%|████████████████████████████████| 4/4 [00:00<00:00,  4.13it/s, avg_loss=0.219, current_loss=0.227]\n"
     ]
    },
    {
     "name": "stdout",
     "output_type": "stream",
     "text": [
      "Epoch 941/1000 - Average Loss: 0.21888\n"
     ]
    },
    {
     "name": "stderr",
     "output_type": "stream",
     "text": [
      "Epoch 942/1000: 100%|████████████████████████████████| 4/4 [00:01<00:00,  3.93it/s, avg_loss=0.219, current_loss=0.229]\n"
     ]
    },
    {
     "name": "stdout",
     "output_type": "stream",
     "text": [
      "Epoch 942/1000 - Average Loss: 0.21911\n"
     ]
    },
    {
     "name": "stderr",
     "output_type": "stream",
     "text": [
      "Epoch 943/1000: 100%|████████████████████████████████| 4/4 [00:00<00:00,  4.35it/s, avg_loss=0.219, current_loss=0.225]\n"
     ]
    },
    {
     "name": "stdout",
     "output_type": "stream",
     "text": [
      "Epoch 943/1000 - Average Loss: 0.21896\n"
     ]
    },
    {
     "name": "stderr",
     "output_type": "stream",
     "text": [
      "Epoch 944/1000: 100%|████████████████████████████████| 4/4 [00:00<00:00,  4.70it/s, avg_loss=0.219, current_loss=0.217]\n"
     ]
    },
    {
     "name": "stdout",
     "output_type": "stream",
     "text": [
      "Epoch 944/1000 - Average Loss: 0.21917\n"
     ]
    },
    {
     "name": "stderr",
     "output_type": "stream",
     "text": [
      "Epoch 945/1000: 100%|████████████████████████████████| 4/4 [00:00<00:00,  4.33it/s, avg_loss=0.219, current_loss=0.222]\n"
     ]
    },
    {
     "name": "stdout",
     "output_type": "stream",
     "text": [
      "Epoch 945/1000 - Average Loss: 0.21856\n"
     ]
    },
    {
     "name": "stderr",
     "output_type": "stream",
     "text": [
      "Epoch 946/1000: 100%|████████████████████████████████| 4/4 [00:00<00:00,  4.25it/s, avg_loss=0.218, current_loss=0.231]\n"
     ]
    },
    {
     "name": "stdout",
     "output_type": "stream",
     "text": [
      "Epoch 946/1000 - Average Loss: 0.21839\n"
     ]
    },
    {
     "name": "stderr",
     "output_type": "stream",
     "text": [
      "Epoch 947/1000: 100%|████████████████████████████████| 4/4 [00:00<00:00,  4.55it/s, avg_loss=0.219, current_loss=0.207]\n"
     ]
    },
    {
     "name": "stdout",
     "output_type": "stream",
     "text": [
      "Epoch 947/1000 - Average Loss: 0.21883\n"
     ]
    },
    {
     "name": "stderr",
     "output_type": "stream",
     "text": [
      "Epoch 948/1000: 100%|█████████████████████████████████| 4/4 [00:00<00:00,  4.32it/s, avg_loss=0.219, current_loss=0.22]\n"
     ]
    },
    {
     "name": "stdout",
     "output_type": "stream",
     "text": [
      "Epoch 948/1000 - Average Loss: 0.21871\n"
     ]
    },
    {
     "name": "stderr",
     "output_type": "stream",
     "text": [
      "Epoch 949/1000: 100%|████████████████████████████████| 4/4 [00:01<00:00,  3.78it/s, avg_loss=0.219, current_loss=0.223]\n"
     ]
    },
    {
     "name": "stdout",
     "output_type": "stream",
     "text": [
      "Epoch 949/1000 - Average Loss: 0.21869\n"
     ]
    },
    {
     "name": "stderr",
     "output_type": "stream",
     "text": [
      "Epoch 950/1000: 100%|████████████████████████████████| 4/4 [00:00<00:00,  4.34it/s, avg_loss=0.219, current_loss=0.215]\n"
     ]
    },
    {
     "name": "stdout",
     "output_type": "stream",
     "text": [
      "Epoch 950/1000 - Average Loss: 0.21893\n"
     ]
    },
    {
     "name": "stderr",
     "output_type": "stream",
     "text": [
      "Epoch 951/1000: 100%|████████████████████████████████| 4/4 [00:01<00:00,  3.41it/s, avg_loss=0.218, current_loss=0.215]\n"
     ]
    },
    {
     "name": "stdout",
     "output_type": "stream",
     "text": [
      "Epoch 951/1000 - Average Loss: 0.21849\n"
     ]
    },
    {
     "name": "stderr",
     "output_type": "stream",
     "text": [
      "Epoch 952/1000: 100%|████████████████████████████████| 4/4 [00:01<00:00,  3.91it/s, avg_loss=0.218, current_loss=0.222]\n"
     ]
    },
    {
     "name": "stdout",
     "output_type": "stream",
     "text": [
      "Epoch 952/1000 - Average Loss: 0.21840\n"
     ]
    },
    {
     "name": "stderr",
     "output_type": "stream",
     "text": [
      "Epoch 953/1000: 100%|████████████████████████████████| 4/4 [00:01<00:00,  4.00it/s, avg_loss=0.219, current_loss=0.214]\n"
     ]
    },
    {
     "name": "stdout",
     "output_type": "stream",
     "text": [
      "Epoch 953/1000 - Average Loss: 0.21857\n"
     ]
    },
    {
     "name": "stderr",
     "output_type": "stream",
     "text": [
      "Epoch 954/1000: 100%|████████████████████████████████| 4/4 [00:00<00:00,  4.50it/s, avg_loss=0.218, current_loss=0.213]\n"
     ]
    },
    {
     "name": "stdout",
     "output_type": "stream",
     "text": [
      "Epoch 954/1000 - Average Loss: 0.21787\n"
     ]
    },
    {
     "name": "stderr",
     "output_type": "stream",
     "text": [
      "Epoch 955/1000: 100%|████████████████████████████████| 4/4 [00:00<00:00,  4.05it/s, avg_loss=0.218, current_loss=0.236]\n"
     ]
    },
    {
     "name": "stdout",
     "output_type": "stream",
     "text": [
      "Epoch 955/1000 - Average Loss: 0.21799\n"
     ]
    },
    {
     "name": "stderr",
     "output_type": "stream",
     "text": [
      "Epoch 956/1000: 100%|████████████████████████████████| 4/4 [00:01<00:00,  3.54it/s, avg_loss=0.219, current_loss=0.219]\n"
     ]
    },
    {
     "name": "stdout",
     "output_type": "stream",
     "text": [
      "Epoch 956/1000 - Average Loss: 0.21868\n"
     ]
    },
    {
     "name": "stderr",
     "output_type": "stream",
     "text": [
      "Epoch 957/1000: 100%|████████████████████████████████| 4/4 [00:01<00:00,  3.98it/s, avg_loss=0.218, current_loss=0.237]\n"
     ]
    },
    {
     "name": "stdout",
     "output_type": "stream",
     "text": [
      "Epoch 957/1000 - Average Loss: 0.21837\n"
     ]
    },
    {
     "name": "stderr",
     "output_type": "stream",
     "text": [
      "Epoch 958/1000: 100%|████████████████████████████████| 4/4 [00:00<00:00,  4.59it/s, avg_loss=0.219, current_loss=0.228]\n"
     ]
    },
    {
     "name": "stdout",
     "output_type": "stream",
     "text": [
      "Epoch 958/1000 - Average Loss: 0.21850\n"
     ]
    },
    {
     "name": "stderr",
     "output_type": "stream",
     "text": [
      "Epoch 959/1000: 100%|████████████████████████████████| 4/4 [00:00<00:00,  4.30it/s, avg_loss=0.219, current_loss=0.232]\n"
     ]
    },
    {
     "name": "stdout",
     "output_type": "stream",
     "text": [
      "Epoch 959/1000 - Average Loss: 0.21888\n"
     ]
    },
    {
     "name": "stderr",
     "output_type": "stream",
     "text": [
      "Epoch 960/1000: 100%|████████████████████████████████| 4/4 [00:00<00:00,  4.36it/s, avg_loss=0.219, current_loss=0.212]\n"
     ]
    },
    {
     "name": "stdout",
     "output_type": "stream",
     "text": [
      "Epoch 960/1000 - Average Loss: 0.21869\n"
     ]
    },
    {
     "name": "stderr",
     "output_type": "stream",
     "text": [
      "Epoch 961/1000: 100%|████████████████████████████████| 4/4 [00:00<00:00,  4.17it/s, avg_loss=0.218, current_loss=0.227]\n"
     ]
    },
    {
     "name": "stdout",
     "output_type": "stream",
     "text": [
      "Epoch 961/1000 - Average Loss: 0.21823\n"
     ]
    },
    {
     "name": "stderr",
     "output_type": "stream",
     "text": [
      "Epoch 962/1000: 100%|████████████████████████████████| 4/4 [00:00<00:00,  4.40it/s, avg_loss=0.218, current_loss=0.221]\n"
     ]
    },
    {
     "name": "stdout",
     "output_type": "stream",
     "text": [
      "Epoch 962/1000 - Average Loss: 0.21814\n"
     ]
    },
    {
     "name": "stderr",
     "output_type": "stream",
     "text": [
      "Epoch 963/1000: 100%|████████████████████████████████| 4/4 [00:00<00:00,  4.46it/s, avg_loss=0.218, current_loss=0.226]\n"
     ]
    },
    {
     "name": "stdout",
     "output_type": "stream",
     "text": [
      "Epoch 963/1000 - Average Loss: 0.21826\n"
     ]
    },
    {
     "name": "stderr",
     "output_type": "stream",
     "text": [
      "Epoch 964/1000: 100%|████████████████████████████████| 4/4 [00:00<00:00,  4.27it/s, avg_loss=0.218, current_loss=0.216]\n"
     ]
    },
    {
     "name": "stdout",
     "output_type": "stream",
     "text": [
      "Epoch 964/1000 - Average Loss: 0.21830\n"
     ]
    },
    {
     "name": "stderr",
     "output_type": "stream",
     "text": [
      "Epoch 965/1000: 100%|████████████████████████████████| 4/4 [00:00<00:00,  4.39it/s, avg_loss=0.219, current_loss=0.221]\n"
     ]
    },
    {
     "name": "stdout",
     "output_type": "stream",
     "text": [
      "Epoch 965/1000 - Average Loss: 0.21858\n"
     ]
    },
    {
     "name": "stderr",
     "output_type": "stream",
     "text": [
      "Epoch 966/1000: 100%|████████████████████████████████| 4/4 [00:00<00:00,  4.37it/s, avg_loss=0.219, current_loss=0.229]\n"
     ]
    },
    {
     "name": "stdout",
     "output_type": "stream",
     "text": [
      "Epoch 966/1000 - Average Loss: 0.21873\n"
     ]
    },
    {
     "name": "stderr",
     "output_type": "stream",
     "text": [
      "Epoch 967/1000: 100%|█████████████████████████████████| 4/4 [00:00<00:00,  4.58it/s, avg_loss=0.218, current_loss=0.21]\n"
     ]
    },
    {
     "name": "stdout",
     "output_type": "stream",
     "text": [
      "Epoch 967/1000 - Average Loss: 0.21847\n"
     ]
    },
    {
     "name": "stderr",
     "output_type": "stream",
     "text": [
      "Epoch 968/1000: 100%|████████████████████████████████| 4/4 [00:00<00:00,  4.02it/s, avg_loss=0.218, current_loss=0.224]\n"
     ]
    },
    {
     "name": "stdout",
     "output_type": "stream",
     "text": [
      "Epoch 968/1000 - Average Loss: 0.21833\n"
     ]
    },
    {
     "name": "stderr",
     "output_type": "stream",
     "text": [
      "Epoch 969/1000: 100%|████████████████████████████████| 4/4 [00:00<00:00,  4.31it/s, avg_loss=0.218, current_loss=0.208]\n"
     ]
    },
    {
     "name": "stdout",
     "output_type": "stream",
     "text": [
      "Epoch 969/1000 - Average Loss: 0.21828\n"
     ]
    },
    {
     "name": "stderr",
     "output_type": "stream",
     "text": [
      "Epoch 970/1000: 100%|████████████████████████████████| 4/4 [00:00<00:00,  4.54it/s, avg_loss=0.218, current_loss=0.213]\n"
     ]
    },
    {
     "name": "stdout",
     "output_type": "stream",
     "text": [
      "Epoch 970/1000 - Average Loss: 0.21804\n"
     ]
    },
    {
     "name": "stderr",
     "output_type": "stream",
     "text": [
      "Epoch 971/1000: 100%|████████████████████████████████| 4/4 [00:00<00:00,  4.39it/s, avg_loss=0.218, current_loss=0.215]\n"
     ]
    },
    {
     "name": "stdout",
     "output_type": "stream",
     "text": [
      "Epoch 971/1000 - Average Loss: 0.21830\n"
     ]
    },
    {
     "name": "stderr",
     "output_type": "stream",
     "text": [
      "Epoch 972/1000: 100%|████████████████████████████████| 4/4 [00:00<00:00,  4.21it/s, avg_loss=0.218, current_loss=0.208]\n"
     ]
    },
    {
     "name": "stdout",
     "output_type": "stream",
     "text": [
      "Epoch 972/1000 - Average Loss: 0.21789\n"
     ]
    },
    {
     "name": "stderr",
     "output_type": "stream",
     "text": [
      "Epoch 973/1000: 100%|█████████████████████████████████| 4/4 [00:00<00:00,  4.33it/s, avg_loss=0.218, current_loss=0.22]\n"
     ]
    },
    {
     "name": "stdout",
     "output_type": "stream",
     "text": [
      "Epoch 973/1000 - Average Loss: 0.21840\n"
     ]
    },
    {
     "name": "stderr",
     "output_type": "stream",
     "text": [
      "Epoch 974/1000: 100%|████████████████████████████████| 4/4 [00:00<00:00,  4.35it/s, avg_loss=0.219, current_loss=0.229]\n"
     ]
    },
    {
     "name": "stdout",
     "output_type": "stream",
     "text": [
      "Epoch 974/1000 - Average Loss: 0.21878\n"
     ]
    },
    {
     "name": "stderr",
     "output_type": "stream",
     "text": [
      "Epoch 975/1000: 100%|█████████████████████████████████| 4/4 [00:00<00:00,  4.15it/s, avg_loss=0.219, current_loss=0.23]\n"
     ]
    },
    {
     "name": "stdout",
     "output_type": "stream",
     "text": [
      "Epoch 975/1000 - Average Loss: 0.21854\n"
     ]
    },
    {
     "name": "stderr",
     "output_type": "stream",
     "text": [
      "Epoch 976/1000: 100%|████████████████████████████████| 4/4 [00:00<00:00,  4.16it/s, avg_loss=0.218, current_loss=0.223]\n"
     ]
    },
    {
     "name": "stdout",
     "output_type": "stream",
     "text": [
      "Epoch 976/1000 - Average Loss: 0.21841\n"
     ]
    },
    {
     "name": "stderr",
     "output_type": "stream",
     "text": [
      "Epoch 977/1000: 100%|█████████████████████████████████| 4/4 [00:00<00:00,  4.59it/s, avg_loss=0.219, current_loss=0.23]\n"
     ]
    },
    {
     "name": "stdout",
     "output_type": "stream",
     "text": [
      "Epoch 977/1000 - Average Loss: 0.21871\n"
     ]
    },
    {
     "name": "stderr",
     "output_type": "stream",
     "text": [
      "Epoch 978/1000: 100%|████████████████████████████████| 4/4 [00:00<00:00,  4.14it/s, avg_loss=0.218, current_loss=0.206]\n"
     ]
    },
    {
     "name": "stdout",
     "output_type": "stream",
     "text": [
      "Epoch 978/1000 - Average Loss: 0.21834\n"
     ]
    },
    {
     "name": "stderr",
     "output_type": "stream",
     "text": [
      "Epoch 979/1000: 100%|████████████████████████████████| 4/4 [00:00<00:00,  4.26it/s, avg_loss=0.218, current_loss=0.213]\n"
     ]
    },
    {
     "name": "stdout",
     "output_type": "stream",
     "text": [
      "Epoch 979/1000 - Average Loss: 0.21788\n"
     ]
    },
    {
     "name": "stderr",
     "output_type": "stream",
     "text": [
      "Epoch 980/1000: 100%|████████████████████████████████| 4/4 [00:00<00:00,  4.15it/s, avg_loss=0.218, current_loss=0.212]\n"
     ]
    },
    {
     "name": "stdout",
     "output_type": "stream",
     "text": [
      "Epoch 980/1000 - Average Loss: 0.21801\n"
     ]
    },
    {
     "name": "stderr",
     "output_type": "stream",
     "text": [
      "Epoch 981/1000: 100%|████████████████████████████████| 4/4 [00:00<00:00,  4.23it/s, avg_loss=0.219, current_loss=0.212]\n"
     ]
    },
    {
     "name": "stdout",
     "output_type": "stream",
     "text": [
      "Epoch 981/1000 - Average Loss: 0.21867\n"
     ]
    },
    {
     "name": "stderr",
     "output_type": "stream",
     "text": [
      "Epoch 982/1000: 100%|████████████████████████████████| 4/4 [00:00<00:00,  4.47it/s, avg_loss=0.218, current_loss=0.225]\n"
     ]
    },
    {
     "name": "stdout",
     "output_type": "stream",
     "text": [
      "Epoch 982/1000 - Average Loss: 0.21838\n"
     ]
    },
    {
     "name": "stderr",
     "output_type": "stream",
     "text": [
      "Epoch 983/1000: 100%|████████████████████████████████| 4/4 [00:00<00:00,  4.41it/s, avg_loss=0.218, current_loss=0.224]\n"
     ]
    },
    {
     "name": "stdout",
     "output_type": "stream",
     "text": [
      "Epoch 983/1000 - Average Loss: 0.21845\n"
     ]
    },
    {
     "name": "stderr",
     "output_type": "stream",
     "text": [
      "Epoch 984/1000: 100%|████████████████████████████████| 4/4 [00:00<00:00,  4.34it/s, avg_loss=0.219, current_loss=0.235]\n"
     ]
    },
    {
     "name": "stdout",
     "output_type": "stream",
     "text": [
      "Epoch 984/1000 - Average Loss: 0.21850\n"
     ]
    },
    {
     "name": "stderr",
     "output_type": "stream",
     "text": [
      "Epoch 985/1000: 100%|████████████████████████████████| 4/4 [00:00<00:00,  4.12it/s, avg_loss=0.219, current_loss=0.227]\n"
     ]
    },
    {
     "name": "stdout",
     "output_type": "stream",
     "text": [
      "Epoch 985/1000 - Average Loss: 0.21878\n"
     ]
    },
    {
     "name": "stderr",
     "output_type": "stream",
     "text": [
      "Epoch 986/1000: 100%|████████████████████████████████| 4/4 [00:00<00:00,  4.41it/s, avg_loss=0.219, current_loss=0.211]\n"
     ]
    },
    {
     "name": "stdout",
     "output_type": "stream",
     "text": [
      "Epoch 986/1000 - Average Loss: 0.21851\n"
     ]
    },
    {
     "name": "stderr",
     "output_type": "stream",
     "text": [
      "Epoch 987/1000: 100%|████████████████████████████████| 4/4 [00:00<00:00,  4.77it/s, avg_loss=0.218, current_loss=0.219]\n"
     ]
    },
    {
     "name": "stdout",
     "output_type": "stream",
     "text": [
      "Epoch 987/1000 - Average Loss: 0.21816\n"
     ]
    },
    {
     "name": "stderr",
     "output_type": "stream",
     "text": [
      "Epoch 988/1000: 100%|████████████████████████████████| 4/4 [00:00<00:00,  4.27it/s, avg_loss=0.218, current_loss=0.224]\n"
     ]
    },
    {
     "name": "stdout",
     "output_type": "stream",
     "text": [
      "Epoch 988/1000 - Average Loss: 0.21783\n"
     ]
    },
    {
     "name": "stderr",
     "output_type": "stream",
     "text": [
      "Epoch 989/1000: 100%|████████████████████████████████| 4/4 [00:00<00:00,  4.13it/s, avg_loss=0.218, current_loss=0.201]\n"
     ]
    },
    {
     "name": "stdout",
     "output_type": "stream",
     "text": [
      "Epoch 989/1000 - Average Loss: 0.21777\n"
     ]
    },
    {
     "name": "stderr",
     "output_type": "stream",
     "text": [
      "Epoch 990/1000: 100%|████████████████████████████████| 4/4 [00:01<00:00,  3.98it/s, avg_loss=0.218, current_loss=0.218]\n"
     ]
    },
    {
     "name": "stdout",
     "output_type": "stream",
     "text": [
      "Epoch 990/1000 - Average Loss: 0.21757\n"
     ]
    },
    {
     "name": "stderr",
     "output_type": "stream",
     "text": [
      "Epoch 991/1000: 100%|████████████████████████████████| 4/4 [00:01<00:00,  3.82it/s, avg_loss=0.218, current_loss=0.217]\n"
     ]
    },
    {
     "name": "stdout",
     "output_type": "stream",
     "text": [
      "Epoch 991/1000 - Average Loss: 0.21789\n"
     ]
    },
    {
     "name": "stderr",
     "output_type": "stream",
     "text": [
      "Epoch 992/1000: 100%|████████████████████████████████| 4/4 [00:00<00:00,  4.41it/s, avg_loss=0.218, current_loss=0.212]\n"
     ]
    },
    {
     "name": "stdout",
     "output_type": "stream",
     "text": [
      "Epoch 992/1000 - Average Loss: 0.21794\n"
     ]
    },
    {
     "name": "stderr",
     "output_type": "stream",
     "text": [
      "Epoch 993/1000: 100%|████████████████████████████████| 4/4 [00:00<00:00,  4.04it/s, avg_loss=0.218, current_loss=0.219]\n"
     ]
    },
    {
     "name": "stdout",
     "output_type": "stream",
     "text": [
      "Epoch 993/1000 - Average Loss: 0.21792\n"
     ]
    },
    {
     "name": "stderr",
     "output_type": "stream",
     "text": [
      "Epoch 994/1000: 100%|████████████████████████████████| 4/4 [00:00<00:00,  4.18it/s, avg_loss=0.218, current_loss=0.212]\n"
     ]
    },
    {
     "name": "stdout",
     "output_type": "stream",
     "text": [
      "Epoch 994/1000 - Average Loss: 0.21806\n"
     ]
    },
    {
     "name": "stderr",
     "output_type": "stream",
     "text": [
      "Epoch 995/1000: 100%|████████████████████████████████| 4/4 [00:00<00:00,  4.67it/s, avg_loss=0.218, current_loss=0.221]\n"
     ]
    },
    {
     "name": "stdout",
     "output_type": "stream",
     "text": [
      "Epoch 995/1000 - Average Loss: 0.21834\n"
     ]
    },
    {
     "name": "stderr",
     "output_type": "stream",
     "text": [
      "Epoch 996/1000: 100%|████████████████████████████████| 4/4 [00:00<00:00,  4.06it/s, avg_loss=0.218, current_loss=0.223]\n"
     ]
    },
    {
     "name": "stdout",
     "output_type": "stream",
     "text": [
      "Epoch 996/1000 - Average Loss: 0.21794\n"
     ]
    },
    {
     "name": "stderr",
     "output_type": "stream",
     "text": [
      "Epoch 997/1000: 100%|████████████████████████████████| 4/4 [00:00<00:00,  4.08it/s, avg_loss=0.218, current_loss=0.223]\n"
     ]
    },
    {
     "name": "stdout",
     "output_type": "stream",
     "text": [
      "Epoch 997/1000 - Average Loss: 0.21782\n"
     ]
    },
    {
     "name": "stderr",
     "output_type": "stream",
     "text": [
      "Epoch 998/1000: 100%|████████████████████████████████| 4/4 [00:00<00:00,  4.69it/s, avg_loss=0.218, current_loss=0.218]\n"
     ]
    },
    {
     "name": "stdout",
     "output_type": "stream",
     "text": [
      "Epoch 998/1000 - Average Loss: 0.21802\n"
     ]
    },
    {
     "name": "stderr",
     "output_type": "stream",
     "text": [
      "Epoch 999/1000: 100%|████████████████████████████████| 4/4 [00:00<00:00,  4.41it/s, avg_loss=0.218, current_loss=0.218]\n"
     ]
    },
    {
     "name": "stdout",
     "output_type": "stream",
     "text": [
      "Epoch 999/1000 - Average Loss: 0.21799\n"
     ]
    },
    {
     "name": "stderr",
     "output_type": "stream",
     "text": [
      "Epoch 1000/1000: 100%|███████████████████████████████| 4/4 [00:00<00:00,  4.16it/s, avg_loss=0.218, current_loss=0.219]"
     ]
    },
    {
     "name": "stdout",
     "output_type": "stream",
     "text": [
      "Epoch 1000/1000 - Average Loss: 0.21763\n"
     ]
    },
    {
     "name": "stderr",
     "output_type": "stream",
     "text": [
      "\n"
     ]
    }
   ],
   "source": [
    "train_model(model, dataloader, optimizer, num_epochs=1000)"
   ]
  },
  {
   "cell_type": "code",
   "execution_count": null,
   "id": "2b67ae5a-bce8-49ba-843e-74c6d0d6bf9a",
   "metadata": {},
   "outputs": [],
   "source": [
    "eval_model(model, dataloader)"
   ]
  },
  {
   "cell_type": "code",
   "execution_count": 69,
   "id": "d261b5c4-cd04-4415-88af-f1ecec3d162f",
   "metadata": {},
   "outputs": [
    {
     "name": "stderr",
     "output_type": "stream",
     "text": [
      "\n",
      "Evaluating:   0%|                                                                              | 0/399 [00:00<?, ?it/s]\u001b[A\n",
      "Evaluating:   0%|                                          | 0/399 [00:00<?, ?it/s, avg_loss=0.271, current_loss=0.271]\u001b[A\n",
      "Evaluating:   0%|                                          | 0/399 [00:00<?, ?it/s, avg_loss=0.268, current_loss=0.265]\u001b[A\n",
      "Evaluating:   0%|                                           | 0/399 [00:00<?, ?it/s, avg_loss=0.26, current_loss=0.242]\u001b[A\n",
      "Evaluating:   0%|                                          | 0/399 [00:00<?, ?it/s, avg_loss=0.263, current_loss=0.272]\u001b[A\n",
      "Evaluating:   1%|▎                                 | 4/399 [00:00<00:10, 37.58it/s, avg_loss=0.263, current_loss=0.272]\u001b[A\n",
      "Evaluating:   1%|▎                                  | 4/399 [00:00<00:10, 37.58it/s, avg_loss=0.264, current_loss=0.27]\u001b[A\n",
      "Evaluating:   1%|▎                                 | 4/399 [00:00<00:10, 37.58it/s, avg_loss=0.265, current_loss=0.266]\u001b[A\n",
      "Evaluating:   1%|▎                                 | 4/399 [00:00<00:10, 37.58it/s, avg_loss=0.262, current_loss=0.247]\u001b[A\n",
      "Evaluating:   1%|▎                                  | 4/399 [00:00<00:10, 37.58it/s, avg_loss=0.26, current_loss=0.245]\u001b[A\n",
      "Evaluating:   2%|▋                                  | 8/399 [00:00<00:13, 30.05it/s, avg_loss=0.26, current_loss=0.245]\u001b[A\n",
      "Evaluating:   2%|▋                                 | 8/399 [00:00<00:13, 30.05it/s, avg_loss=0.263, current_loss=0.285]\u001b[A\n",
      "Evaluating:   2%|▋                                 | 8/399 [00:00<00:13, 30.05it/s, avg_loss=0.263, current_loss=0.265]\u001b[A\n",
      "Evaluating:   2%|▋                                  | 8/399 [00:00<00:13, 30.05it/s, avg_loss=0.264, current_loss=0.28]\u001b[A\n",
      "Evaluating:   2%|▋                                 | 8/399 [00:00<00:13, 30.05it/s, avg_loss=0.264, current_loss=0.264]\u001b[A\n",
      "Evaluating:   3%|▉                                | 12/399 [00:00<00:11, 33.54it/s, avg_loss=0.264, current_loss=0.264]\u001b[A\n",
      "Evaluating:   3%|▉                                | 12/399 [00:00<00:11, 33.54it/s, avg_loss=0.265, current_loss=0.266]\u001b[A\n",
      "Evaluating:   3%|▉                                | 12/399 [00:00<00:11, 33.54it/s, avg_loss=0.265, current_loss=0.266]\u001b[A\n",
      "Evaluating:   3%|▉                                | 12/399 [00:00<00:11, 33.54it/s, avg_loss=0.264, current_loss=0.254]\u001b[A\n",
      "Evaluating:   3%|▉                                | 12/399 [00:00<00:11, 33.54it/s, avg_loss=0.265, current_loss=0.273]\u001b[A\n",
      "Evaluating:   4%|█▎                               | 16/399 [00:00<00:12, 29.77it/s, avg_loss=0.265, current_loss=0.273]\u001b[A\n",
      "Evaluating:   4%|█▎                               | 16/399 [00:00<00:12, 29.77it/s, avg_loss=0.264, current_loss=0.259]\u001b[A\n",
      "Evaluating:   4%|█▎                               | 16/399 [00:00<00:12, 29.77it/s, avg_loss=0.264, current_loss=0.262]\u001b[A\n",
      "Evaluating:   4%|█▎                               | 16/399 [00:00<00:12, 29.77it/s, avg_loss=0.264, current_loss=0.264]\u001b[A\n",
      "Evaluating:   4%|█▎                               | 16/399 [00:00<00:12, 29.77it/s, avg_loss=0.265, current_loss=0.276]\u001b[A\n",
      "Evaluating:   5%|█▋                               | 20/399 [00:00<00:11, 32.14it/s, avg_loss=0.265, current_loss=0.276]\u001b[A\n",
      "Evaluating:   5%|█▋                               | 20/399 [00:00<00:11, 32.14it/s, avg_loss=0.265, current_loss=0.273]\u001b[A\n",
      "Evaluating:   5%|█▋                               | 20/399 [00:00<00:11, 32.14it/s, avg_loss=0.264, current_loss=0.238]\u001b[A\n",
      "Evaluating:   5%|█▋                               | 20/399 [00:00<00:11, 32.14it/s, avg_loss=0.265, current_loss=0.279]\u001b[A\n",
      "Evaluating:   5%|█▋                               | 20/399 [00:00<00:11, 32.14it/s, avg_loss=0.264, current_loss=0.255]\u001b[A\n",
      "Evaluating:   6%|█▉                               | 24/399 [00:00<00:12, 29.75it/s, avg_loss=0.264, current_loss=0.255]\u001b[A\n",
      "Evaluating:   6%|█▉                               | 24/399 [00:00<00:12, 29.75it/s, avg_loss=0.264, current_loss=0.253]\u001b[A\n",
      "Evaluating:   6%|██                                | 24/399 [00:00<00:12, 29.75it/s, avg_loss=0.264, current_loss=0.27]\u001b[A\n",
      "Evaluating:   6%|█▉                               | 24/399 [00:00<00:12, 29.75it/s, avg_loss=0.264, current_loss=0.258]\u001b[A\n",
      "Evaluating:   6%|█▉                               | 24/399 [00:00<00:12, 29.75it/s, avg_loss=0.263, current_loss=0.253]\u001b[A\n",
      "Evaluating:   7%|██▎                              | 28/399 [00:00<00:12, 28.59it/s, avg_loss=0.263, current_loss=0.253]\u001b[A\n",
      "Evaluating:   7%|██▎                              | 28/399 [00:00<00:12, 28.59it/s, avg_loss=0.264, current_loss=0.268]\u001b[A\n",
      "Evaluating:   7%|██▎                              | 28/399 [00:00<00:12, 28.59it/s, avg_loss=0.263, current_loss=0.252]\u001b[A\n",
      "Evaluating:   7%|██▎                              | 28/399 [00:01<00:12, 28.59it/s, avg_loss=0.264, current_loss=0.277]\u001b[A\n",
      "Evaluating:   7%|██▎                              | 28/399 [00:01<00:12, 28.59it/s, avg_loss=0.264, current_loss=0.269]\u001b[A\n",
      "Evaluating:   8%|██▋                              | 32/399 [00:01<00:11, 31.10it/s, avg_loss=0.264, current_loss=0.269]\u001b[A\n",
      "Evaluating:   8%|██▋                              | 32/399 [00:01<00:11, 31.10it/s, avg_loss=0.264, current_loss=0.267]\u001b[A\n",
      "Evaluating:   8%|██▋                              | 32/399 [00:01<00:11, 31.10it/s, avg_loss=0.264, current_loss=0.267]\u001b[A\n",
      "Evaluating:   8%|██▋                              | 32/399 [00:01<00:11, 31.10it/s, avg_loss=0.264, current_loss=0.264]\u001b[A\n",
      "Evaluating:   8%|██▋                              | 32/399 [00:01<00:11, 31.10it/s, avg_loss=0.264, current_loss=0.271]\u001b[A\n",
      "Evaluating:   9%|██▉                              | 36/399 [00:01<00:11, 32.83it/s, avg_loss=0.264, current_loss=0.271]\u001b[A\n",
      "Evaluating:   9%|██▉                              | 36/399 [00:01<00:11, 32.83it/s, avg_loss=0.264, current_loss=0.264]\u001b[A\n",
      "Evaluating:   9%|██▉                              | 36/399 [00:01<00:11, 32.83it/s, avg_loss=0.263, current_loss=0.236]\u001b[A\n",
      "Evaluating:   9%|██▉                              | 36/399 [00:01<00:11, 32.83it/s, avg_loss=0.263, current_loss=0.253]\u001b[A\n",
      "Evaluating:   9%|██▉                              | 36/399 [00:01<00:11, 32.83it/s, avg_loss=0.263, current_loss=0.255]\u001b[A\n",
      "Evaluating:  10%|███▎                             | 40/399 [00:01<00:10, 34.46it/s, avg_loss=0.263, current_loss=0.255]\u001b[A\n",
      "Evaluating:  10%|███▎                             | 40/399 [00:01<00:10, 34.46it/s, avg_loss=0.263, current_loss=0.275]\u001b[A\n",
      "Evaluating:  10%|███▎                             | 40/399 [00:01<00:10, 34.46it/s, avg_loss=0.263, current_loss=0.257]\u001b[A\n",
      "Evaluating:  10%|███▎                             | 40/399 [00:01<00:10, 34.46it/s, avg_loss=0.263, current_loss=0.269]\u001b[A\n",
      "Evaluating:  10%|███▎                             | 40/399 [00:01<00:10, 34.46it/s, avg_loss=0.263, current_loss=0.252]\u001b[A\n",
      "Evaluating:  11%|███▋                             | 44/399 [00:01<00:11, 32.27it/s, avg_loss=0.263, current_loss=0.252]\u001b[A\n",
      "Evaluating:  11%|███▋                             | 44/399 [00:01<00:11, 32.27it/s, avg_loss=0.263, current_loss=0.248]\u001b[A\n",
      "Evaluating:  11%|███▋                             | 44/399 [00:01<00:11, 32.27it/s, avg_loss=0.263, current_loss=0.267]\u001b[A\n",
      "Evaluating:  11%|███▋                             | 44/399 [00:01<00:11, 32.27it/s, avg_loss=0.263, current_loss=0.269]\u001b[A\n",
      "Evaluating:  11%|███▋                             | 44/399 [00:01<00:11, 32.27it/s, avg_loss=0.263, current_loss=0.259]\u001b[A\n",
      "Evaluating:  12%|███▉                             | 48/399 [00:01<00:10, 33.87it/s, avg_loss=0.263, current_loss=0.259]\u001b[A\n",
      "Evaluating:  12%|████                              | 48/399 [00:01<00:10, 33.87it/s, avg_loss=0.263, current_loss=0.26]\u001b[A\n",
      "Evaluating:  12%|███▉                             | 48/399 [00:01<00:10, 33.87it/s, avg_loss=0.263, current_loss=0.263]\u001b[A\n",
      "Evaluating:  12%|███▉                             | 48/399 [00:01<00:10, 33.87it/s, avg_loss=0.263, current_loss=0.264]\u001b[A\n",
      "Evaluating:  12%|████                              | 48/399 [00:01<00:10, 33.87it/s, avg_loss=0.263, current_loss=0.26]\u001b[A\n",
      "Evaluating:  13%|████▍                             | 52/399 [00:01<00:10, 34.61it/s, avg_loss=0.263, current_loss=0.26]\u001b[A\n",
      "Evaluating:  13%|████▎                            | 52/399 [00:01<00:10, 34.61it/s, avg_loss=0.263, current_loss=0.264]\u001b[A\n",
      "Evaluating:  13%|████▎                            | 52/399 [00:01<00:10, 34.61it/s, avg_loss=0.263, current_loss=0.273]\u001b[A\n",
      "Evaluating:  13%|████▎                            | 52/399 [00:01<00:10, 34.61it/s, avg_loss=0.263, current_loss=0.251]\u001b[A\n",
      "Evaluating:  13%|████▎                            | 52/399 [00:01<00:10, 34.61it/s, avg_loss=0.262, current_loss=0.246]\u001b[A\n",
      "Evaluating:  13%|████▎                            | 52/399 [00:01<00:10, 34.61it/s, avg_loss=0.262, current_loss=0.265]\u001b[A\n",
      "Evaluating:  14%|████▋                            | 57/399 [00:01<00:09, 36.99it/s, avg_loss=0.262, current_loss=0.265]\u001b[A\n",
      "Evaluating:  14%|████▋                            | 57/399 [00:01<00:09, 36.99it/s, avg_loss=0.262, current_loss=0.262]\u001b[A\n",
      "Evaluating:  14%|████▋                            | 57/399 [00:01<00:09, 36.99it/s, avg_loss=0.262, current_loss=0.253]\u001b[A\n",
      "Evaluating:  14%|████▋                            | 57/399 [00:01<00:09, 36.99it/s, avg_loss=0.262, current_loss=0.274]\u001b[A\n",
      "Evaluating:  14%|████▋                            | 57/399 [00:01<00:09, 36.99it/s, avg_loss=0.262, current_loss=0.258]\u001b[A\n",
      "Evaluating:  15%|█████                            | 61/399 [00:01<00:09, 37.11it/s, avg_loss=0.262, current_loss=0.258]\u001b[A\n",
      "Evaluating:  15%|█████                            | 61/399 [00:01<00:09, 37.11it/s, avg_loss=0.262, current_loss=0.247]\u001b[A\n",
      "Evaluating:  15%|█████                            | 61/399 [00:01<00:09, 37.11it/s, avg_loss=0.262, current_loss=0.265]\u001b[A\n",
      "Evaluating:  15%|█████                            | 61/399 [00:01<00:09, 37.11it/s, avg_loss=0.262, current_loss=0.234]\u001b[A\n",
      "Evaluating:  15%|█████▏                            | 61/399 [00:01<00:09, 37.11it/s, avg_loss=0.262, current_loss=0.26]\u001b[A\n",
      "Evaluating:  16%|█████▌                            | 65/399 [00:01<00:08, 37.89it/s, avg_loss=0.262, current_loss=0.26]\u001b[A\n",
      "Evaluating:  16%|█████▍                           | 65/399 [00:01<00:08, 37.89it/s, avg_loss=0.262, current_loss=0.255]\u001b[A\n",
      "Evaluating:  16%|█████▍                           | 65/399 [00:01<00:08, 37.89it/s, avg_loss=0.261, current_loss=0.252]\u001b[A\n",
      "Evaluating:  16%|█████▍                           | 65/399 [00:02<00:08, 37.89it/s, avg_loss=0.261, current_loss=0.259]\u001b[A\n",
      "Evaluating:  16%|█████▍                           | 65/399 [00:02<00:08, 37.89it/s, avg_loss=0.262, current_loss=0.275]\u001b[A\n",
      "Evaluating:  17%|█████▋                           | 69/399 [00:02<00:08, 37.46it/s, avg_loss=0.262, current_loss=0.275]\u001b[A\n",
      "Evaluating:  17%|█████▋                           | 69/399 [00:02<00:08, 37.46it/s, avg_loss=0.262, current_loss=0.255]\u001b[A\n",
      "Evaluating:  17%|█████▋                           | 69/399 [00:02<00:08, 37.46it/s, avg_loss=0.261, current_loss=0.251]\u001b[A\n",
      "Evaluating:  17%|█████▋                           | 69/399 [00:02<00:08, 37.46it/s, avg_loss=0.261, current_loss=0.265]\u001b[A\n",
      "Evaluating:  17%|█████▋                           | 69/399 [00:02<00:08, 37.46it/s, avg_loss=0.262, current_loss=0.266]\u001b[A\n",
      "Evaluating:  18%|██████                           | 73/399 [00:02<00:08, 37.34it/s, avg_loss=0.262, current_loss=0.266]\u001b[A\n",
      "Evaluating:  18%|██████                           | 73/399 [00:02<00:08, 37.34it/s, avg_loss=0.261, current_loss=0.259]\u001b[A\n",
      "Evaluating:  18%|██████                           | 73/399 [00:02<00:08, 37.34it/s, avg_loss=0.261, current_loss=0.252]\u001b[A\n",
      "Evaluating:  18%|██████▏                           | 73/399 [00:02<00:08, 37.34it/s, avg_loss=0.261, current_loss=0.26]\u001b[A\n",
      "Evaluating:  18%|██████                           | 73/399 [00:02<00:08, 37.34it/s, avg_loss=0.261, current_loss=0.266]\u001b[A\n",
      "Evaluating:  19%|██████▎                          | 77/399 [00:02<00:08, 37.87it/s, avg_loss=0.261, current_loss=0.266]\u001b[A\n",
      "Evaluating:  19%|██████▎                          | 77/399 [00:02<00:08, 37.87it/s, avg_loss=0.261, current_loss=0.267]\u001b[A\n",
      "Evaluating:  19%|██████▎                          | 77/399 [00:02<00:08, 37.87it/s, avg_loss=0.261, current_loss=0.251]\u001b[A\n",
      "Evaluating:  19%|██████▎                          | 77/399 [00:02<00:08, 37.87it/s, avg_loss=0.261, current_loss=0.269]\u001b[A\n",
      "Evaluating:  19%|██████▎                          | 77/399 [00:02<00:08, 37.87it/s, avg_loss=0.262, current_loss=0.268]\u001b[A\n",
      "Evaluating:  20%|██████▋                          | 81/399 [00:02<00:08, 37.92it/s, avg_loss=0.262, current_loss=0.268]\u001b[A\n",
      "Evaluating:  20%|██████▋                          | 81/399 [00:02<00:08, 37.92it/s, avg_loss=0.262, current_loss=0.269]\u001b[A\n",
      "Evaluating:  20%|██████▉                           | 81/399 [00:02<00:08, 37.92it/s, avg_loss=0.262, current_loss=0.29]\u001b[A\n",
      "Evaluating:  20%|██████▋                          | 81/399 [00:02<00:08, 37.92it/s, avg_loss=0.262, current_loss=0.274]\u001b[A\n",
      "Evaluating:  20%|██████▋                          | 81/399 [00:02<00:08, 37.92it/s, avg_loss=0.262, current_loss=0.261]\u001b[A\n",
      "Evaluating:  21%|███████                          | 85/399 [00:02<00:09, 33.73it/s, avg_loss=0.262, current_loss=0.261]\u001b[A\n",
      "Evaluating:  21%|███████                          | 85/399 [00:02<00:09, 33.73it/s, avg_loss=0.262, current_loss=0.261]\u001b[A\n",
      "Evaluating:  21%|███████                          | 85/399 [00:02<00:09, 33.73it/s, avg_loss=0.262, current_loss=0.269]\u001b[A\n",
      "Evaluating:  21%|███████▏                          | 85/399 [00:02<00:09, 33.73it/s, avg_loss=0.262, current_loss=0.26]\u001b[A\n",
      "Evaluating:  21%|███████                          | 85/399 [00:02<00:09, 33.73it/s, avg_loss=0.262, current_loss=0.244]\u001b[A\n",
      "Evaluating:  21%|███████                          | 85/399 [00:02<00:09, 33.73it/s, avg_loss=0.262, current_loss=0.251]\u001b[A\n",
      "Evaluating:  23%|███████▍                         | 90/399 [00:02<00:08, 35.36it/s, avg_loss=0.262, current_loss=0.251]\u001b[A\n",
      "Evaluating:  23%|███████▋                          | 90/399 [00:02<00:08, 35.36it/s, avg_loss=0.262, current_loss=0.25]\u001b[A\n",
      "Evaluating:  23%|███████▍                         | 90/399 [00:02<00:08, 35.36it/s, avg_loss=0.262, current_loss=0.261]\u001b[A\n",
      "Evaluating:  23%|███████▍                         | 90/399 [00:02<00:08, 35.36it/s, avg_loss=0.262, current_loss=0.259]\u001b[A\n",
      "Evaluating:  23%|███████▍                         | 90/399 [00:02<00:08, 35.36it/s, avg_loss=0.262, current_loss=0.265]\u001b[A\n",
      "Evaluating:  24%|███████▊                         | 94/399 [00:02<00:08, 35.39it/s, avg_loss=0.262, current_loss=0.265]\u001b[A\n",
      "Evaluating:  24%|███████▊                         | 94/399 [00:02<00:08, 35.39it/s, avg_loss=0.262, current_loss=0.261]\u001b[A\n",
      "Evaluating:  24%|███████▊                         | 94/399 [00:02<00:08, 35.39it/s, avg_loss=0.261, current_loss=0.242]\u001b[A\n",
      "Evaluating:  24%|███████▊                         | 94/399 [00:02<00:08, 35.39it/s, avg_loss=0.261, current_loss=0.257]\u001b[A\n",
      "Evaluating:  24%|███████▊                         | 94/399 [00:02<00:08, 35.39it/s, avg_loss=0.261, current_loss=0.262]\u001b[A\n",
      "Evaluating:  25%|████████                         | 98/399 [00:02<00:08, 34.13it/s, avg_loss=0.261, current_loss=0.262]\u001b[A\n",
      "Evaluating:  25%|████████                         | 98/399 [00:02<00:08, 34.13it/s, avg_loss=0.261, current_loss=0.252]\u001b[A\n",
      "Evaluating:  25%|████████                         | 98/399 [00:02<00:08, 34.13it/s, avg_loss=0.261, current_loss=0.272]\u001b[A\n",
      "Evaluating:  25%|████████                         | 98/399 [00:02<00:08, 34.13it/s, avg_loss=0.261, current_loss=0.262]\u001b[A\n",
      "Evaluating:  25%|████████                         | 98/399 [00:02<00:08, 34.13it/s, avg_loss=0.261, current_loss=0.255]\u001b[A\n",
      "Evaluating:  26%|████████▏                       | 102/399 [00:02<00:08, 34.69it/s, avg_loss=0.261, current_loss=0.255]\u001b[A\n",
      "Evaluating:  26%|████████▏                       | 102/399 [00:03<00:08, 34.69it/s, avg_loss=0.262, current_loss=0.284]\u001b[A\n",
      "Evaluating:  26%|████████▏                       | 102/399 [00:03<00:08, 34.69it/s, avg_loss=0.262, current_loss=0.272]\u001b[A\n",
      "Evaluating:  26%|████████▏                       | 102/399 [00:03<00:08, 34.69it/s, avg_loss=0.262, current_loss=0.251]\u001b[A\n",
      "Evaluating:  26%|████████▏                       | 102/399 [00:03<00:08, 34.69it/s, avg_loss=0.261, current_loss=0.252]\u001b[A\n",
      "Evaluating:  27%|████████▌                       | 106/399 [00:03<00:08, 35.82it/s, avg_loss=0.261, current_loss=0.252]\u001b[A\n",
      "Evaluating:  27%|████████▌                       | 106/399 [00:03<00:08, 35.82it/s, avg_loss=0.262, current_loss=0.273]\u001b[A\n",
      "Evaluating:  27%|████████▌                       | 106/399 [00:03<00:08, 35.82it/s, avg_loss=0.262, current_loss=0.258]\u001b[A\n",
      "Evaluating:  27%|████████▊                        | 106/399 [00:03<00:08, 35.82it/s, avg_loss=0.262, current_loss=0.26]\u001b[A\n",
      "Evaluating:  27%|████████▌                       | 106/399 [00:03<00:08, 35.82it/s, avg_loss=0.261, current_loss=0.255]\u001b[A\n",
      "Evaluating:  28%|████████▊                       | 110/399 [00:03<00:08, 34.12it/s, avg_loss=0.261, current_loss=0.255]\u001b[A\n",
      "Evaluating:  28%|████████▊                       | 110/399 [00:03<00:08, 34.12it/s, avg_loss=0.261, current_loss=0.255]\u001b[A\n",
      "Evaluating:  28%|████████▊                       | 110/399 [00:03<00:08, 34.12it/s, avg_loss=0.261, current_loss=0.255]\u001b[A\n",
      "Evaluating:  28%|████████▊                       | 110/399 [00:03<00:08, 34.12it/s, avg_loss=0.261, current_loss=0.273]\u001b[A\n",
      "Evaluating:  28%|████████▊                       | 110/399 [00:03<00:08, 34.12it/s, avg_loss=0.261, current_loss=0.261]\u001b[A\n",
      "Evaluating:  29%|█████████▏                      | 114/399 [00:03<00:08, 33.22it/s, avg_loss=0.261, current_loss=0.261]\u001b[A\n",
      "Evaluating:  29%|█████████▏                      | 114/399 [00:03<00:08, 33.22it/s, avg_loss=0.261, current_loss=0.256]\u001b[A\n",
      "Evaluating:  29%|█████████▏                      | 114/399 [00:03<00:08, 33.22it/s, avg_loss=0.261, current_loss=0.246]\u001b[A\n",
      "Evaluating:  29%|█████████▏                      | 114/399 [00:03<00:08, 33.22it/s, avg_loss=0.261, current_loss=0.282]\u001b[A\n",
      "Evaluating:  29%|█████████▏                      | 114/399 [00:03<00:08, 33.22it/s, avg_loss=0.261, current_loss=0.253]\u001b[A\n",
      "Evaluating:  30%|█████████▍                      | 118/399 [00:03<00:09, 30.12it/s, avg_loss=0.261, current_loss=0.253]\u001b[A\n",
      "Evaluating:  30%|█████████▍                      | 118/399 [00:03<00:09, 30.12it/s, avg_loss=0.261, current_loss=0.257]\u001b[A\n",
      "Evaluating:  30%|█████████▊                       | 118/399 [00:03<00:09, 30.12it/s, avg_loss=0.261, current_loss=0.25]\u001b[A\n",
      "Evaluating:  30%|█████████▍                      | 118/399 [00:03<00:09, 30.12it/s, avg_loss=0.261, current_loss=0.235]\u001b[A\n",
      "Evaluating:  30%|█████████▍                      | 118/399 [00:03<00:09, 30.12it/s, avg_loss=0.261, current_loss=0.251]\u001b[A\n",
      "Evaluating:  31%|█████████▊                      | 122/399 [00:03<00:08, 32.06it/s, avg_loss=0.261, current_loss=0.251]\u001b[A\n",
      "Evaluating:  31%|█████████▊                      | 122/399 [00:03<00:08, 32.06it/s, avg_loss=0.261, current_loss=0.275]\u001b[A\n",
      "Evaluating:  31%|█████████▊                      | 122/399 [00:03<00:08, 32.06it/s, avg_loss=0.261, current_loss=0.274]\u001b[A\n",
      "Evaluating:  31%|█████████▊                      | 122/399 [00:03<00:08, 32.06it/s, avg_loss=0.261, current_loss=0.274]\u001b[A\n",
      "Evaluating:  31%|█████████▊                      | 122/399 [00:03<00:08, 32.06it/s, avg_loss=0.261, current_loss=0.273]\u001b[A\n",
      "Evaluating:  31%|█████████▊                      | 122/399 [00:03<00:08, 32.06it/s, avg_loss=0.261, current_loss=0.255]\u001b[A\n",
      "Evaluating:  32%|██████████▏                     | 127/399 [00:03<00:07, 34.50it/s, avg_loss=0.261, current_loss=0.255]\u001b[A\n",
      "Evaluating:  32%|██████████▏                     | 127/399 [00:03<00:07, 34.50it/s, avg_loss=0.261, current_loss=0.255]\u001b[A\n",
      "Evaluating:  32%|██████████▏                     | 127/399 [00:03<00:07, 34.50it/s, avg_loss=0.261, current_loss=0.249]\u001b[A\n",
      "Evaluating:  32%|██████████▏                     | 127/399 [00:03<00:07, 34.50it/s, avg_loss=0.261, current_loss=0.271]\u001b[A\n",
      "Evaluating:  32%|██████████▏                     | 127/399 [00:03<00:07, 34.50it/s, avg_loss=0.261, current_loss=0.266]\u001b[A\n",
      "Evaluating:  33%|██████████▌                     | 131/399 [00:03<00:07, 35.38it/s, avg_loss=0.261, current_loss=0.266]\u001b[A\n",
      "Evaluating:  33%|██████████▌                     | 131/399 [00:03<00:07, 35.38it/s, avg_loss=0.261, current_loss=0.259]\u001b[A\n",
      "Evaluating:  33%|██████████▌                     | 131/399 [00:03<00:07, 35.38it/s, avg_loss=0.261, current_loss=0.263]\u001b[A\n",
      "Evaluating:  33%|██████████▌                     | 131/399 [00:03<00:07, 35.38it/s, avg_loss=0.261, current_loss=0.261]\u001b[A\n",
      "Evaluating:  33%|██████████▌                     | 131/399 [00:03<00:07, 35.38it/s, avg_loss=0.261, current_loss=0.263]\u001b[A\n",
      "Evaluating:  34%|██████████▊                     | 135/399 [00:03<00:08, 32.83it/s, avg_loss=0.261, current_loss=0.263]\u001b[A\n",
      "Evaluating:  34%|██████████▊                     | 135/399 [00:04<00:08, 32.83it/s, avg_loss=0.261, current_loss=0.263]\u001b[A\n",
      "Evaluating:  34%|██████████▊                     | 135/399 [00:04<00:08, 32.83it/s, avg_loss=0.261, current_loss=0.281]\u001b[A\n",
      "Evaluating:  34%|██████████▊                     | 135/399 [00:04<00:08, 32.83it/s, avg_loss=0.261, current_loss=0.257]\u001b[A\n",
      "Evaluating:  34%|██████████▊                     | 135/399 [00:04<00:08, 32.83it/s, avg_loss=0.261, current_loss=0.266]\u001b[A\n",
      "Evaluating:  35%|███████████▏                    | 139/399 [00:04<00:07, 34.25it/s, avg_loss=0.261, current_loss=0.266]\u001b[A\n",
      "Evaluating:  35%|███████████▏                    | 139/399 [00:04<00:07, 34.25it/s, avg_loss=0.261, current_loss=0.244]\u001b[A\n",
      "Evaluating:  35%|███████████▏                    | 139/399 [00:04<00:07, 34.25it/s, avg_loss=0.261, current_loss=0.262]\u001b[A\n",
      "Evaluating:  35%|███████████▏                    | 139/399 [00:04<00:07, 34.25it/s, avg_loss=0.261, current_loss=0.271]\u001b[A\n",
      "Evaluating:  35%|███████████▏                    | 139/399 [00:04<00:07, 34.25it/s, avg_loss=0.261, current_loss=0.256]\u001b[A\n",
      "Evaluating:  36%|███████████▍                    | 143/399 [00:04<00:07, 35.56it/s, avg_loss=0.261, current_loss=0.256]\u001b[A\n",
      "Evaluating:  36%|███████████▍                    | 143/399 [00:04<00:07, 35.56it/s, avg_loss=0.261, current_loss=0.266]\u001b[A\n",
      "Evaluating:  36%|███████████▊                     | 143/399 [00:04<00:07, 35.56it/s, avg_loss=0.261, current_loss=0.25]\u001b[A\n",
      "Evaluating:  36%|███████████▍                    | 143/399 [00:04<00:07, 35.56it/s, avg_loss=0.261, current_loss=0.264]\u001b[A\n",
      "Evaluating:  36%|███████████▍                    | 143/399 [00:04<00:07, 35.56it/s, avg_loss=0.261, current_loss=0.271]\u001b[A\n",
      "Evaluating:  37%|███████████▊                    | 147/399 [00:04<00:07, 35.29it/s, avg_loss=0.261, current_loss=0.271]\u001b[A\n",
      "Evaluating:  37%|███████████▊                    | 147/399 [00:04<00:07, 35.29it/s, avg_loss=0.261, current_loss=0.265]\u001b[A\n",
      "Evaluating:  37%|███████████▊                    | 147/399 [00:04<00:07, 35.29it/s, avg_loss=0.261, current_loss=0.252]\u001b[A\n",
      "Evaluating:  37%|███████████▊                    | 147/399 [00:04<00:07, 35.29it/s, avg_loss=0.261, current_loss=0.271]\u001b[A\n",
      "Evaluating:  37%|███████████▊                    | 147/399 [00:04<00:07, 35.29it/s, avg_loss=0.261, current_loss=0.261]\u001b[A\n",
      "Evaluating:  38%|████████████                    | 151/399 [00:04<00:06, 35.98it/s, avg_loss=0.261, current_loss=0.261]\u001b[A\n",
      "Evaluating:  38%|████████████                    | 151/399 [00:04<00:06, 35.98it/s, avg_loss=0.261, current_loss=0.246]\u001b[A\n",
      "Evaluating:  38%|████████████                    | 151/399 [00:04<00:06, 35.98it/s, avg_loss=0.261, current_loss=0.273]\u001b[A\n",
      "Evaluating:  38%|████████████                    | 151/399 [00:04<00:06, 35.98it/s, avg_loss=0.261, current_loss=0.246]\u001b[A\n",
      "Evaluating:  38%|████████████                    | 151/399 [00:04<00:06, 35.98it/s, avg_loss=0.261, current_loss=0.252]\u001b[A\n",
      "Evaluating:  39%|████████████▍                   | 155/399 [00:04<00:07, 32.79it/s, avg_loss=0.261, current_loss=0.252]\u001b[A\n",
      "Evaluating:  39%|████████████▍                   | 155/399 [00:04<00:07, 32.79it/s, avg_loss=0.261, current_loss=0.259]\u001b[A\n",
      "Evaluating:  39%|████████████▍                   | 155/399 [00:04<00:07, 32.79it/s, avg_loss=0.261, current_loss=0.258]\u001b[A\n",
      "Evaluating:  39%|████████████▍                   | 155/399 [00:04<00:07, 32.79it/s, avg_loss=0.261, current_loss=0.256]\u001b[A\n",
      "Evaluating:  39%|████████████▍                   | 155/399 [00:04<00:07, 32.79it/s, avg_loss=0.261, current_loss=0.266]\u001b[A\n",
      "Evaluating:  40%|████████████▊                   | 159/399 [00:04<00:07, 34.21it/s, avg_loss=0.261, current_loss=0.266]\u001b[A\n",
      "Evaluating:  40%|█████████████▏                   | 159/399 [00:04<00:07, 34.21it/s, avg_loss=0.261, current_loss=0.27]\u001b[A\n",
      "Evaluating:  40%|████████████▊                   | 159/399 [00:04<00:07, 34.21it/s, avg_loss=0.261, current_loss=0.258]\u001b[A\n",
      "Evaluating:  40%|████████████▊                   | 159/399 [00:04<00:07, 34.21it/s, avg_loss=0.261, current_loss=0.263]\u001b[A\n",
      "Evaluating:  40%|████████████▊                   | 159/399 [00:04<00:07, 34.21it/s, avg_loss=0.261, current_loss=0.282]\u001b[A\n",
      "Evaluating:  41%|█████████████                   | 163/399 [00:04<00:06, 35.14it/s, avg_loss=0.261, current_loss=0.282]\u001b[A\n",
      "Evaluating:  41%|█████████████                   | 163/399 [00:04<00:06, 35.14it/s, avg_loss=0.261, current_loss=0.264]\u001b[A\n",
      "Evaluating:  41%|█████████████                   | 163/399 [00:04<00:06, 35.14it/s, avg_loss=0.261, current_loss=0.265]\u001b[A\n",
      "Evaluating:  41%|█████████████                   | 163/399 [00:04<00:06, 35.14it/s, avg_loss=0.261, current_loss=0.252]\u001b[A\n",
      "Evaluating:  41%|█████████████                   | 163/399 [00:04<00:06, 35.14it/s, avg_loss=0.261, current_loss=0.286]\u001b[A\n",
      "Evaluating:  41%|█████████████                   | 163/399 [00:04<00:06, 35.14it/s, avg_loss=0.261, current_loss=0.259]\u001b[A\n",
      "Evaluating:  42%|█████████████▍                  | 168/399 [00:04<00:06, 36.33it/s, avg_loss=0.261, current_loss=0.259]\u001b[A\n",
      "Evaluating:  42%|█████████████▍                  | 168/399 [00:04<00:06, 36.33it/s, avg_loss=0.261, current_loss=0.251]\u001b[A\n",
      "Evaluating:  42%|█████████████▍                  | 168/399 [00:04<00:06, 36.33it/s, avg_loss=0.261, current_loss=0.265]\u001b[A\n",
      "Evaluating:  42%|█████████████▍                  | 168/399 [00:05<00:06, 36.33it/s, avg_loss=0.261, current_loss=0.262]\u001b[A\n",
      "Evaluating:  42%|█████████████▉                   | 168/399 [00:05<00:06, 36.33it/s, avg_loss=0.261, current_loss=0.27]\u001b[A\n",
      "Evaluating:  43%|██████████████▏                  | 172/399 [00:05<00:06, 34.02it/s, avg_loss=0.261, current_loss=0.27]\u001b[A\n",
      "Evaluating:  43%|█████████████▊                  | 172/399 [00:05<00:06, 34.02it/s, avg_loss=0.262, current_loss=0.272]\u001b[A\n",
      "Evaluating:  43%|█████████████▊                  | 172/399 [00:05<00:06, 34.02it/s, avg_loss=0.262, current_loss=0.266]\u001b[A\n",
      "Evaluating:  43%|█████████████▊                  | 172/399 [00:05<00:06, 34.02it/s, avg_loss=0.262, current_loss=0.253]\u001b[A\n",
      "Evaluating:  43%|██████████████▏                  | 172/399 [00:05<00:06, 34.02it/s, avg_loss=0.262, current_loss=0.27]\u001b[A\n",
      "Evaluating:  44%|██████████████▌                  | 176/399 [00:05<00:06, 35.01it/s, avg_loss=0.262, current_loss=0.27]\u001b[AException ignored in: <function tqdm.__del__ at 0x00000195AC9DBF60>\n",
      "Traceback (most recent call last):\n",
      "  File \"C:\\Users\\sebik\\AppData\\Local\\Programs\\Python\\Python312\\Lib\\site-packages\\tqdm\\std.py\", line 1148, in __del__\n",
      "    self.close()\n",
      "  File \"C:\\Users\\sebik\\AppData\\Local\\Programs\\Python\\Python312\\Lib\\site-packages\\tqdm\\std.py\", line 1277, in close\n",
      "    if self.last_print_t < self.start_t + self.delay:\n",
      "       ^^^^^^^^^^^^^^^^^\n",
      "AttributeError: 'tqdm' object has no attribute 'last_print_t'\n",
      "\n",
      "Evaluating:  44%|██████████████                  | 176/399 [00:05<00:06, 35.01it/s, avg_loss=0.262, current_loss=0.262]\u001b[A\n",
      "Evaluating:  44%|██████████████                  | 176/399 [00:05<00:06, 35.01it/s, avg_loss=0.262, current_loss=0.256]\u001b[A\n",
      "Evaluating:  44%|██████████████                  | 176/399 [00:05<00:06, 35.01it/s, avg_loss=0.262, current_loss=0.265]\u001b[A\n",
      "Evaluating:  44%|██████████████                  | 176/399 [00:05<00:06, 35.01it/s, avg_loss=0.262, current_loss=0.253]\u001b[A\n",
      "Evaluating:  45%|██████████████▍                 | 180/399 [00:05<00:09, 23.78it/s, avg_loss=0.262, current_loss=0.253]\u001b[A\n",
      "Evaluating:  45%|██████████████▍                 | 180/399 [00:05<00:09, 23.78it/s, avg_loss=0.262, current_loss=0.264]\u001b[A\n",
      "Evaluating:  45%|██████████████▍                 | 180/399 [00:05<00:09, 23.78it/s, avg_loss=0.262, current_loss=0.268]\u001b[A\n",
      "Evaluating:  45%|██████████████▍                 | 180/399 [00:05<00:09, 23.78it/s, avg_loss=0.261, current_loss=0.244]\u001b[A\n",
      "Evaluating:  45%|██████████████▍                 | 180/399 [00:05<00:09, 23.78it/s, avg_loss=0.261, current_loss=0.251]\u001b[A\n",
      "Evaluating:  46%|██████████████▊                 | 184/399 [00:05<00:08, 24.92it/s, avg_loss=0.261, current_loss=0.251]\u001b[A\n",
      "Evaluating:  46%|██████████████▊                 | 184/399 [00:05<00:08, 24.92it/s, avg_loss=0.261, current_loss=0.265]\u001b[A\n",
      "Evaluating:  46%|██████████████▊                 | 184/399 [00:05<00:08, 24.92it/s, avg_loss=0.261, current_loss=0.253]\u001b[A\n",
      "Evaluating:  46%|██████████████▊                 | 184/399 [00:05<00:08, 24.92it/s, avg_loss=0.261, current_loss=0.244]\u001b[A\n",
      "Evaluating:  46%|██████████████▊                 | 184/399 [00:05<00:08, 24.92it/s, avg_loss=0.261, current_loss=0.259]\u001b[A\n",
      "Evaluating:  46%|███████████████▏                 | 184/399 [00:05<00:08, 24.92it/s, avg_loss=0.261, current_loss=0.26]\u001b[A\n",
      "Evaluating:  47%|███████████████▋                 | 189/399 [00:05<00:07, 29.52it/s, avg_loss=0.261, current_loss=0.26]\u001b[A\n",
      "Evaluating:  47%|███████████████▏                | 189/399 [00:05<00:07, 29.52it/s, avg_loss=0.261, current_loss=0.265]\u001b[A\n",
      "Evaluating:  47%|███████████████▏                | 189/399 [00:05<00:07, 29.52it/s, avg_loss=0.261, current_loss=0.282]\u001b[A\n",
      "Evaluating:  47%|███████████████▏                | 189/399 [00:05<00:07, 29.52it/s, avg_loss=0.262, current_loss=0.296]\u001b[A\n",
      "Evaluating:  47%|███████████████▏                | 189/399 [00:05<00:07, 29.52it/s, avg_loss=0.262, current_loss=0.264]\u001b[A\n",
      "Evaluating:  47%|███████████████▏                | 189/399 [00:05<00:07, 29.52it/s, avg_loss=0.262, current_loss=0.256]\u001b[A\n",
      "Evaluating:  49%|███████████████▌                | 194/399 [00:05<00:06, 32.94it/s, avg_loss=0.262, current_loss=0.256]\u001b[A\n",
      "Evaluating:  49%|███████████████▌                | 194/399 [00:05<00:06, 32.94it/s, avg_loss=0.262, current_loss=0.263]\u001b[A\n",
      "Evaluating:  49%|███████████████▌                | 194/399 [00:05<00:06, 32.94it/s, avg_loss=0.261, current_loss=0.241]\u001b[A\n",
      "Evaluating:  49%|███████████████▌                | 194/399 [00:05<00:06, 32.94it/s, avg_loss=0.261, current_loss=0.264]\u001b[A\n",
      "Evaluating:  49%|███████████████▌                | 194/399 [00:05<00:06, 32.94it/s, avg_loss=0.262, current_loss=0.275]\u001b[A\n",
      "Evaluating:  50%|███████████████▉                | 198/399 [00:05<00:05, 33.99it/s, avg_loss=0.262, current_loss=0.275]\u001b[A\n",
      "Evaluating:  50%|███████████████▉                | 198/399 [00:05<00:05, 33.99it/s, avg_loss=0.262, current_loss=0.265]\u001b[A\n",
      "Evaluating:  50%|████████████████▍                | 198/399 [00:05<00:05, 33.99it/s, avg_loss=0.262, current_loss=0.27]\u001b[A\n",
      "Evaluating:  50%|███████████████▉                | 198/399 [00:06<00:05, 33.99it/s, avg_loss=0.262, current_loss=0.244]\u001b[A\n",
      "Evaluating:  50%|███████████████▉                | 198/399 [00:06<00:05, 33.99it/s, avg_loss=0.262, current_loss=0.285]\u001b[A\n",
      "Evaluating:  51%|████████████████▏               | 202/399 [00:06<00:05, 34.47it/s, avg_loss=0.262, current_loss=0.285]\u001b[A\n",
      "Evaluating:  51%|████████████████▏               | 202/399 [00:06<00:05, 34.47it/s, avg_loss=0.262, current_loss=0.277]\u001b[A\n",
      "Evaluating:  51%|████████████████▏               | 202/399 [00:06<00:05, 34.47it/s, avg_loss=0.262, current_loss=0.239]\u001b[A\n",
      "Evaluating:  51%|████████████████▏               | 202/399 [00:06<00:05, 34.47it/s, avg_loss=0.262, current_loss=0.273]\u001b[A\n",
      "Evaluating:  51%|████████████████▏               | 202/399 [00:06<00:05, 34.47it/s, avg_loss=0.262, current_loss=0.261]\u001b[A\n",
      "Evaluating:  52%|████████████████▌               | 206/399 [00:06<00:05, 35.36it/s, avg_loss=0.262, current_loss=0.261]\u001b[A\n",
      "Evaluating:  52%|████████████████▌               | 206/399 [00:06<00:05, 35.36it/s, avg_loss=0.262, current_loss=0.271]\u001b[A\n",
      "Evaluating:  52%|████████████████▌               | 206/399 [00:06<00:05, 35.36it/s, avg_loss=0.262, current_loss=0.284]\u001b[A\n",
      "Evaluating:  52%|████████████████▌               | 206/399 [00:06<00:05, 35.36it/s, avg_loss=0.262, current_loss=0.262]\u001b[A\n",
      "Evaluating:  52%|████████████████▌               | 206/399 [00:06<00:05, 35.36it/s, avg_loss=0.262, current_loss=0.264]\u001b[A\n",
      "Evaluating:  52%|████████████████▌               | 206/399 [00:06<00:05, 35.36it/s, avg_loss=0.262, current_loss=0.268]\u001b[A\n",
      "Evaluating:  53%|████████████████▉               | 211/399 [00:06<00:04, 37.72it/s, avg_loss=0.262, current_loss=0.268]\u001b[A\n",
      "Evaluating:  53%|████████████████▉               | 211/399 [00:06<00:04, 37.72it/s, avg_loss=0.262, current_loss=0.271]\u001b[A\n",
      "Evaluating:  53%|████████████████▉               | 211/399 [00:06<00:04, 37.72it/s, avg_loss=0.262, current_loss=0.249]\u001b[A\n",
      "Evaluating:  53%|████████████████▉               | 211/399 [00:06<00:04, 37.72it/s, avg_loss=0.262, current_loss=0.275]\u001b[A\n",
      "Evaluating:  53%|████████████████▉               | 211/399 [00:06<00:04, 37.72it/s, avg_loss=0.262, current_loss=0.259]\u001b[A\n",
      "Evaluating:  53%|████████████████▉               | 211/399 [00:06<00:04, 37.72it/s, avg_loss=0.262, current_loss=0.263]\u001b[A\n",
      "Evaluating:  54%|█████████████████▎              | 216/399 [00:06<00:04, 40.16it/s, avg_loss=0.262, current_loss=0.263]\u001b[A\n",
      "Evaluating:  54%|█████████████████▎              | 216/399 [00:06<00:04, 40.16it/s, avg_loss=0.262, current_loss=0.272]\u001b[A\n",
      "Evaluating:  54%|█████████████████▎              | 216/399 [00:06<00:04, 40.16it/s, avg_loss=0.262, current_loss=0.251]\u001b[A\n",
      "Evaluating:  54%|█████████████████▎              | 216/399 [00:06<00:04, 40.16it/s, avg_loss=0.262, current_loss=0.264]\u001b[A\n",
      "Evaluating:  54%|█████████████████▎              | 216/399 [00:06<00:04, 40.16it/s, avg_loss=0.262, current_loss=0.266]\u001b[A\n",
      "Evaluating:  54%|█████████████████▎              | 216/399 [00:06<00:04, 40.16it/s, avg_loss=0.262, current_loss=0.273]\u001b[A\n",
      "Evaluating:  55%|█████████████████▋              | 221/399 [00:06<00:04, 41.06it/s, avg_loss=0.262, current_loss=0.273]\u001b[A\n",
      "Evaluating:  55%|█████████████████▋              | 221/399 [00:06<00:04, 41.06it/s, avg_loss=0.262, current_loss=0.267]\u001b[A\n",
      "Evaluating:  55%|█████████████████▋              | 221/399 [00:06<00:04, 41.06it/s, avg_loss=0.262, current_loss=0.261]\u001b[A\n",
      "Evaluating:  55%|█████████████████▋              | 221/399 [00:06<00:04, 41.06it/s, avg_loss=0.262, current_loss=0.267]\u001b[A\n",
      "Evaluating:  55%|██████████████████▎              | 221/399 [00:06<00:04, 41.06it/s, avg_loss=0.262, current_loss=0.26]\u001b[A\n",
      "Evaluating:  55%|█████████████████▋              | 221/399 [00:06<00:04, 41.06it/s, avg_loss=0.262, current_loss=0.271]\u001b[A\n",
      "Evaluating:  57%|██████████████████▏             | 226/399 [00:06<00:04, 39.58it/s, avg_loss=0.262, current_loss=0.271]\u001b[A\n",
      "Evaluating:  57%|██████████████████▏             | 226/399 [00:06<00:04, 39.58it/s, avg_loss=0.262, current_loss=0.262]\u001b[A\n",
      "Evaluating:  57%|██████████████████▏             | 226/399 [00:06<00:04, 39.58it/s, avg_loss=0.262, current_loss=0.255]\u001b[A\n",
      "Evaluating:  57%|██████████████████▏             | 226/399 [00:06<00:04, 39.58it/s, avg_loss=0.262, current_loss=0.267]\u001b[A\n",
      "Evaluating:  57%|██████████████████▏             | 226/399 [00:06<00:04, 39.58it/s, avg_loss=0.262, current_loss=0.254]\u001b[A\n",
      "Evaluating:  57%|██████████████████▏             | 226/399 [00:06<00:04, 39.58it/s, avg_loss=0.262, current_loss=0.272]\u001b[A\n",
      "Evaluating:  58%|██████████████████▌             | 231/399 [00:06<00:04, 39.43it/s, avg_loss=0.262, current_loss=0.272]\u001b[A\n",
      "Evaluating:  58%|██████████████████▌             | 231/399 [00:06<00:04, 39.43it/s, avg_loss=0.262, current_loss=0.256]\u001b[A\n",
      "Evaluating:  58%|██████████████████▌             | 231/399 [00:06<00:04, 39.43it/s, avg_loss=0.262, current_loss=0.257]\u001b[A\n",
      "Evaluating:  58%|██████████████████▌             | 231/399 [00:06<00:04, 39.43it/s, avg_loss=0.262, current_loss=0.285]\u001b[A\n",
      "Evaluating:  58%|██████████████████▌             | 231/399 [00:06<00:04, 39.43it/s, avg_loss=0.262, current_loss=0.265]\u001b[A\n",
      "Evaluating:  58%|██████████████████▌             | 231/399 [00:06<00:04, 39.43it/s, avg_loss=0.262, current_loss=0.273]\u001b[A\n",
      "Evaluating:  59%|██████████████████▉             | 236/399 [00:06<00:03, 41.10it/s, avg_loss=0.262, current_loss=0.273]\u001b[A\n",
      "Evaluating:  59%|██████████████████▉             | 236/399 [00:06<00:03, 41.10it/s, avg_loss=0.262, current_loss=0.278]\u001b[A\n",
      "Evaluating:  59%|███████████████████▌             | 236/399 [00:06<00:03, 41.10it/s, avg_loss=0.262, current_loss=0.25]\u001b[A\n",
      "Evaluating:  59%|██████████████████▉             | 236/399 [00:06<00:03, 41.10it/s, avg_loss=0.262, current_loss=0.272]\u001b[A\n",
      "Evaluating:  59%|██████████████████▉             | 236/399 [00:07<00:03, 41.10it/s, avg_loss=0.262, current_loss=0.258]\u001b[A\n",
      "Evaluating:  59%|███████████████████▌             | 236/399 [00:07<00:03, 41.10it/s, avg_loss=0.262, current_loss=0.28]\u001b[A\n",
      "Evaluating:  60%|███████████████████▉             | 241/399 [00:07<00:04, 36.18it/s, avg_loss=0.262, current_loss=0.28]\u001b[A\n",
      "Evaluating:  60%|███████████████████▎            | 241/399 [00:07<00:04, 36.18it/s, avg_loss=0.262, current_loss=0.243]\u001b[A\n",
      "Evaluating:  60%|███████████████████▎            | 241/399 [00:07<00:04, 36.18it/s, avg_loss=0.262, current_loss=0.265]\u001b[A\n",
      "Evaluating:  60%|███████████████████▎            | 241/399 [00:07<00:04, 36.18it/s, avg_loss=0.262, current_loss=0.257]\u001b[A\n",
      "Evaluating:  60%|███████████████████▎            | 241/399 [00:07<00:04, 36.18it/s, avg_loss=0.262, current_loss=0.274]\u001b[A\n",
      "Evaluating:  61%|███████████████████▋            | 245/399 [00:07<00:04, 35.75it/s, avg_loss=0.262, current_loss=0.274]\u001b[A\n",
      "Evaluating:  61%|███████████████████▋            | 245/399 [00:07<00:04, 35.75it/s, avg_loss=0.262, current_loss=0.281]\u001b[A\n",
      "Evaluating:  61%|███████████████████▋            | 245/399 [00:07<00:04, 35.75it/s, avg_loss=0.262, current_loss=0.257]\u001b[A\n",
      "Evaluating:  61%|███████████████████▋            | 245/399 [00:07<00:04, 35.75it/s, avg_loss=0.262, current_loss=0.268]\u001b[A\n",
      "Evaluating:  61%|███████████████████▋            | 245/399 [00:07<00:04, 35.75it/s, avg_loss=0.262, current_loss=0.283]\u001b[A\n",
      "Evaluating:  62%|███████████████████▉            | 249/399 [00:07<00:04, 36.08it/s, avg_loss=0.262, current_loss=0.283]\u001b[A\n",
      "Evaluating:  62%|███████████████████▉            | 249/399 [00:07<00:04, 36.08it/s, avg_loss=0.262, current_loss=0.269]\u001b[A\n",
      "Evaluating:  62%|████████████████████▌            | 249/399 [00:07<00:04, 36.08it/s, avg_loss=0.262, current_loss=0.25]\u001b[A\n",
      "Evaluating:  62%|███████████████████▉            | 249/399 [00:07<00:04, 36.08it/s, avg_loss=0.262, current_loss=0.283]\u001b[A\n",
      "Evaluating:  62%|███████████████████▉            | 249/399 [00:07<00:04, 36.08it/s, avg_loss=0.262, current_loss=0.278]\u001b[A\n",
      "Evaluating:  63%|████████████████████▎           | 253/399 [00:07<00:03, 36.56it/s, avg_loss=0.262, current_loss=0.278]\u001b[A\n",
      "Evaluating:  63%|████████████████████▎           | 253/399 [00:07<00:03, 36.56it/s, avg_loss=0.263, current_loss=0.275]\u001b[A\n",
      "Evaluating:  63%|████████████████████▎           | 253/399 [00:07<00:03, 36.56it/s, avg_loss=0.263, current_loss=0.277]\u001b[A\n",
      "Evaluating:  63%|████████████████████▎           | 253/399 [00:07<00:03, 36.56it/s, avg_loss=0.263, current_loss=0.256]\u001b[A\n",
      "Evaluating:  63%|████████████████████▎           | 253/399 [00:07<00:03, 36.56it/s, avg_loss=0.263, current_loss=0.271]\u001b[A\n",
      "Evaluating:  64%|████████████████████▌           | 257/399 [00:07<00:03, 37.06it/s, avg_loss=0.263, current_loss=0.271]\u001b[A\n",
      "Evaluating:  64%|████████████████████▌           | 257/399 [00:07<00:03, 37.06it/s, avg_loss=0.263, current_loss=0.258]\u001b[A\n",
      "Evaluating:  64%|████████████████████▌           | 257/399 [00:07<00:03, 37.06it/s, avg_loss=0.263, current_loss=0.267]\u001b[A\n",
      "Evaluating:  64%|████████████████████▌           | 257/399 [00:07<00:03, 37.06it/s, avg_loss=0.263, current_loss=0.276]\u001b[A\n",
      "Evaluating:  64%|████████████████████▌           | 257/399 [00:07<00:03, 37.06it/s, avg_loss=0.263, current_loss=0.265]\u001b[A\n",
      "Evaluating:  64%|████████████████████▌           | 257/399 [00:07<00:03, 37.06it/s, avg_loss=0.263, current_loss=0.284]\u001b[A\n",
      "Evaluating:  66%|█████████████████████           | 262/399 [00:07<00:03, 39.40it/s, avg_loss=0.263, current_loss=0.284]\u001b[A\n",
      "Evaluating:  66%|█████████████████████           | 262/399 [00:07<00:03, 39.40it/s, avg_loss=0.263, current_loss=0.255]\u001b[A\n",
      "Evaluating:  66%|█████████████████████           | 262/399 [00:07<00:03, 39.40it/s, avg_loss=0.263, current_loss=0.291]\u001b[A\n",
      "Evaluating:  66%|█████████████████████           | 262/399 [00:07<00:03, 39.40it/s, avg_loss=0.263, current_loss=0.247]\u001b[A\n",
      "Evaluating:  66%|█████████████████████           | 262/399 [00:07<00:03, 39.40it/s, avg_loss=0.263, current_loss=0.274]\u001b[A\n",
      "Evaluating:  67%|█████████████████████▎          | 266/399 [00:07<00:03, 36.23it/s, avg_loss=0.263, current_loss=0.274]\u001b[A\n",
      "Evaluating:  67%|█████████████████████▎          | 266/399 [00:07<00:03, 36.23it/s, avg_loss=0.263, current_loss=0.255]\u001b[A\n",
      "Evaluating:  67%|█████████████████████▎          | 266/399 [00:07<00:03, 36.23it/s, avg_loss=0.263, current_loss=0.264]\u001b[A\n",
      "Evaluating:  67%|█████████████████████▎          | 266/399 [00:07<00:03, 36.23it/s, avg_loss=0.263, current_loss=0.273]\u001b[A\n",
      "Evaluating:  67%|█████████████████████▎          | 266/399 [00:07<00:03, 36.23it/s, avg_loss=0.263, current_loss=0.257]\u001b[A\n",
      "Evaluating:  67%|█████████████████████▎          | 266/399 [00:07<00:03, 36.23it/s, avg_loss=0.263, current_loss=0.258]\u001b[A\n",
      "Evaluating:  68%|█████████████████████▋          | 271/399 [00:07<00:03, 38.78it/s, avg_loss=0.263, current_loss=0.258]\u001b[A\n",
      "Evaluating:  68%|█████████████████████▋          | 271/399 [00:07<00:03, 38.78it/s, avg_loss=0.263, current_loss=0.274]\u001b[A\n",
      "Evaluating:  68%|█████████████████████▋          | 271/399 [00:07<00:03, 38.78it/s, avg_loss=0.263, current_loss=0.263]\u001b[A\n",
      "Evaluating:  68%|█████████████████████▋          | 271/399 [00:07<00:03, 38.78it/s, avg_loss=0.263, current_loss=0.266]\u001b[A\n",
      "Evaluating:  68%|█████████████████████▋          | 271/399 [00:07<00:03, 38.78it/s, avg_loss=0.263, current_loss=0.255]\u001b[A\n",
      "Evaluating:  68%|█████████████████████▋          | 271/399 [00:07<00:03, 38.78it/s, avg_loss=0.263, current_loss=0.276]\u001b[A\n",
      "Evaluating:  69%|██████████████████████▏         | 276/399 [00:07<00:03, 40.77it/s, avg_loss=0.263, current_loss=0.276]\u001b[A\n",
      "Evaluating:  69%|██████████████████████▏         | 276/399 [00:07<00:03, 40.77it/s, avg_loss=0.263, current_loss=0.266]\u001b[A\n",
      "Evaluating:  69%|██████████████████████▏         | 276/399 [00:07<00:03, 40.77it/s, avg_loss=0.263, current_loss=0.249]\u001b[A\n",
      "Evaluating:  69%|██████████████████████▊          | 276/399 [00:07<00:03, 40.77it/s, avg_loss=0.263, current_loss=0.26]\u001b[A\n",
      "Evaluating:  69%|██████████████████████▏         | 276/399 [00:08<00:03, 40.77it/s, avg_loss=0.263, current_loss=0.263]\u001b[A\n",
      "Evaluating:  69%|██████████████████████▏         | 276/399 [00:08<00:03, 40.77it/s, avg_loss=0.263, current_loss=0.274]\u001b[A\n",
      "Evaluating:  70%|██████████████████████▌         | 281/399 [00:08<00:02, 41.96it/s, avg_loss=0.263, current_loss=0.274]\u001b[A\n",
      "Evaluating:  70%|██████████████████████▌         | 281/399 [00:08<00:02, 41.96it/s, avg_loss=0.263, current_loss=0.262]\u001b[A\n",
      "Evaluating:  70%|██████████████████████▌         | 281/399 [00:08<00:02, 41.96it/s, avg_loss=0.263, current_loss=0.272]\u001b[A\n",
      "Evaluating:  70%|██████████████████████▌         | 281/399 [00:08<00:02, 41.96it/s, avg_loss=0.263, current_loss=0.261]\u001b[A\n",
      "Evaluating:  70%|██████████████████████▌         | 281/399 [00:08<00:02, 41.96it/s, avg_loss=0.263, current_loss=0.253]\u001b[A\n",
      "Evaluating:  70%|██████████████████████▌         | 281/399 [00:08<00:02, 41.96it/s, avg_loss=0.263, current_loss=0.284]\u001b[A\n",
      "Evaluating:  72%|██████████████████████▉         | 286/399 [00:08<00:02, 42.80it/s, avg_loss=0.263, current_loss=0.284]\u001b[A\n",
      "Evaluating:  72%|██████████████████████▉         | 286/399 [00:08<00:02, 42.80it/s, avg_loss=0.263, current_loss=0.248]\u001b[A\n",
      "Evaluating:  72%|██████████████████████▉         | 286/399 [00:08<00:02, 42.80it/s, avg_loss=0.263, current_loss=0.269]\u001b[A\n",
      "Evaluating:  72%|███████████████████████▋         | 286/399 [00:08<00:02, 42.80it/s, avg_loss=0.263, current_loss=0.25]\u001b[A\n",
      "Evaluating:  72%|██████████████████████▉         | 286/399 [00:08<00:02, 42.80it/s, avg_loss=0.263, current_loss=0.248]\u001b[A\n",
      "Evaluating:  72%|██████████████████████▉         | 286/399 [00:08<00:02, 42.80it/s, avg_loss=0.263, current_loss=0.273]\u001b[A\n",
      "Evaluating:  73%|███████████████████████▎        | 291/399 [00:08<00:02, 44.20it/s, avg_loss=0.263, current_loss=0.273]\u001b[A\n",
      "Evaluating:  73%|███████████████████████▎        | 291/399 [00:08<00:02, 44.20it/s, avg_loss=0.263, current_loss=0.256]\u001b[A\n",
      "Evaluating:  73%|███████████████████████▎        | 291/399 [00:08<00:02, 44.20it/s, avg_loss=0.263, current_loss=0.267]\u001b[A\n",
      "Evaluating:  73%|███████████████████████▎        | 291/399 [00:08<00:02, 44.20it/s, avg_loss=0.263, current_loss=0.277]\u001b[A\n",
      "Evaluating:  73%|███████████████████████▎        | 291/399 [00:08<00:02, 44.20it/s, avg_loss=0.263, current_loss=0.261]\u001b[A\n",
      "Evaluating:  73%|████████████████████████         | 291/399 [00:08<00:02, 44.20it/s, avg_loss=0.263, current_loss=0.27]\u001b[A\n",
      "Evaluating:  74%|████████████████████████▍        | 296/399 [00:08<00:02, 44.26it/s, avg_loss=0.263, current_loss=0.27]\u001b[A\n",
      "Evaluating:  74%|███████████████████████▋        | 296/399 [00:08<00:02, 44.26it/s, avg_loss=0.263, current_loss=0.252]\u001b[A\n",
      "Evaluating:  74%|████████████████████████▍        | 296/399 [00:08<00:02, 44.26it/s, avg_loss=0.263, current_loss=0.25]\u001b[A\n",
      "Evaluating:  74%|███████████████████████▋        | 296/399 [00:08<00:02, 44.26it/s, avg_loss=0.263, current_loss=0.261]\u001b[A\n",
      "Evaluating:  74%|███████████████████████▋        | 296/399 [00:08<00:02, 44.26it/s, avg_loss=0.263, current_loss=0.268]\u001b[A\n",
      "Evaluating:  74%|███████████████████████▋        | 296/399 [00:08<00:02, 44.26it/s, avg_loss=0.263, current_loss=0.271]\u001b[A\n",
      "Evaluating:  75%|████████████████████████▏       | 301/399 [00:08<00:02, 42.94it/s, avg_loss=0.263, current_loss=0.271]\u001b[A\n",
      "Evaluating:  75%|████████████████████████▏       | 301/399 [00:08<00:02, 42.94it/s, avg_loss=0.263, current_loss=0.253]\u001b[A\n",
      "Evaluating:  75%|████████████████████████▏       | 301/399 [00:08<00:02, 42.94it/s, avg_loss=0.263, current_loss=0.247]\u001b[A\n",
      "Evaluating:  75%|████████████████████████▏       | 301/399 [00:08<00:02, 42.94it/s, avg_loss=0.263, current_loss=0.262]\u001b[A\n",
      "Evaluating:  75%|████████████████████████▏       | 301/399 [00:08<00:02, 42.94it/s, avg_loss=0.263, current_loss=0.287]\u001b[A\n",
      "Evaluating:  75%|████████████████████████▏       | 301/399 [00:08<00:02, 42.94it/s, avg_loss=0.263, current_loss=0.255]\u001b[A\n",
      "Evaluating:  77%|████████████████████████▌       | 306/399 [00:08<00:02, 42.29it/s, avg_loss=0.263, current_loss=0.255]\u001b[A\n",
      "Evaluating:  77%|████████████████████████▌       | 306/399 [00:08<00:02, 42.29it/s, avg_loss=0.263, current_loss=0.256]\u001b[A\n",
      "Evaluating:  77%|████████████████████████▌       | 306/399 [00:08<00:02, 42.29it/s, avg_loss=0.263, current_loss=0.262]\u001b[A\n",
      "Evaluating:  77%|████████████████████████▌       | 306/399 [00:08<00:02, 42.29it/s, avg_loss=0.263, current_loss=0.266]\u001b[A\n",
      "Evaluating:  77%|████████████████████████▌       | 306/399 [00:08<00:02, 42.29it/s, avg_loss=0.263, current_loss=0.258]\u001b[A\n",
      "Evaluating:  77%|████████████████████████▌       | 306/399 [00:08<00:02, 42.29it/s, avg_loss=0.263, current_loss=0.277]\u001b[A\n",
      "Evaluating:  78%|████████████████████████▉       | 311/399 [00:08<00:02, 40.79it/s, avg_loss=0.263, current_loss=0.277]\u001b[A\n",
      "Evaluating:  78%|████████████████████████▉       | 311/399 [00:08<00:02, 40.79it/s, avg_loss=0.263, current_loss=0.272]\u001b[A\n",
      "Evaluating:  78%|████████████████████████▉       | 311/399 [00:08<00:02, 40.79it/s, avg_loss=0.263, current_loss=0.272]\u001b[A\n",
      "Evaluating:  78%|████████████████████████▉       | 311/399 [00:08<00:02, 40.79it/s, avg_loss=0.263, current_loss=0.274]\u001b[A\n",
      "Evaluating:  78%|████████████████████████▉       | 311/399 [00:08<00:02, 40.79it/s, avg_loss=0.263, current_loss=0.258]\u001b[A\n",
      "Evaluating:  78%|████████████████████████▉       | 311/399 [00:08<00:02, 40.79it/s, avg_loss=0.263, current_loss=0.241]\u001b[A\n",
      "Evaluating:  79%|█████████████████████████▎      | 316/399 [00:08<00:01, 41.60it/s, avg_loss=0.263, current_loss=0.241]\u001b[A\n",
      "Evaluating:  79%|█████████████████████████▎      | 316/399 [00:08<00:01, 41.60it/s, avg_loss=0.263, current_loss=0.257]\u001b[A\n",
      "Evaluating:  79%|█████████████████████████▎      | 316/399 [00:08<00:01, 41.60it/s, avg_loss=0.263, current_loss=0.267]\u001b[A\n",
      "Evaluating:  79%|█████████████████████████▎      | 316/399 [00:08<00:01, 41.60it/s, avg_loss=0.263, current_loss=0.258]\u001b[A\n",
      "Evaluating:  79%|█████████████████████████▎      | 316/399 [00:08<00:01, 41.60it/s, avg_loss=0.263, current_loss=0.259]\u001b[A\n",
      "Evaluating:  79%|█████████████████████████▎      | 316/399 [00:08<00:01, 41.60it/s, avg_loss=0.263, current_loss=0.262]\u001b[A\n",
      "Evaluating:  80%|█████████████████████████▋      | 321/399 [00:08<00:01, 40.10it/s, avg_loss=0.263, current_loss=0.262]\u001b[A\n",
      "Evaluating:  80%|█████████████████████████▋      | 321/399 [00:09<00:01, 40.10it/s, avg_loss=0.263, current_loss=0.268]\u001b[A\n",
      "Evaluating:  80%|██████████████████████████▌      | 321/399 [00:09<00:01, 40.10it/s, avg_loss=0.263, current_loss=0.25]\u001b[A\n",
      "Evaluating:  80%|█████████████████████████▋      | 321/399 [00:09<00:01, 40.10it/s, avg_loss=0.263, current_loss=0.249]\u001b[A\n",
      "Evaluating:  80%|█████████████████████████▋      | 321/399 [00:09<00:01, 40.10it/s, avg_loss=0.263, current_loss=0.284]\u001b[A\n",
      "Evaluating:  80%|█████████████████████████▋      | 321/399 [00:09<00:01, 40.10it/s, avg_loss=0.263, current_loss=0.246]\u001b[A\n",
      "Evaluating:  82%|██████████████████████████▏     | 326/399 [00:09<00:01, 40.96it/s, avg_loss=0.263, current_loss=0.246]\u001b[A\n",
      "Evaluating:  82%|██████████████████████████▏     | 326/399 [00:09<00:01, 40.96it/s, avg_loss=0.263, current_loss=0.249]\u001b[A\n",
      "Evaluating:  82%|██████████████████████████▏     | 326/399 [00:09<00:01, 40.96it/s, avg_loss=0.263, current_loss=0.267]\u001b[A\n",
      "Evaluating:  82%|██████████████████████████▉      | 326/399 [00:09<00:01, 40.96it/s, avg_loss=0.263, current_loss=0.27]\u001b[A\n",
      "Evaluating:  82%|██████████████████████████▏     | 326/399 [00:09<00:01, 40.96it/s, avg_loss=0.263, current_loss=0.269]\u001b[A\n",
      "Evaluating:  82%|██████████████████████████▏     | 326/399 [00:09<00:01, 40.96it/s, avg_loss=0.263, current_loss=0.283]\u001b[A\n",
      "Evaluating:  83%|██████████████████████████▌     | 331/399 [00:09<00:01, 41.20it/s, avg_loss=0.263, current_loss=0.283]\u001b[A\n",
      "Evaluating:  83%|██████████████████████████▌     | 331/399 [00:09<00:01, 41.20it/s, avg_loss=0.263, current_loss=0.266]\u001b[A\n",
      "Evaluating:  83%|██████████████████████████▌     | 331/399 [00:09<00:01, 41.20it/s, avg_loss=0.263, current_loss=0.254]\u001b[A\n",
      "Evaluating:  83%|██████████████████████████▌     | 331/399 [00:09<00:01, 41.20it/s, avg_loss=0.263, current_loss=0.252]\u001b[A\n",
      "Evaluating:  83%|██████████████████████████▌     | 331/399 [00:09<00:01, 41.20it/s, avg_loss=0.263, current_loss=0.259]\u001b[A\n",
      "Evaluating:  83%|██████████████████████████▌     | 331/399 [00:09<00:01, 41.20it/s, avg_loss=0.263, current_loss=0.265]\u001b[A\n",
      "Evaluating:  84%|██████████████████████████▉     | 336/399 [00:09<00:01, 40.73it/s, avg_loss=0.263, current_loss=0.265]\u001b[A\n",
      "Evaluating:  84%|██████████████████████████▉     | 336/399 [00:09<00:01, 40.73it/s, avg_loss=0.263, current_loss=0.261]\u001b[A\n",
      "Evaluating:  84%|███████████████████████████▊     | 336/399 [00:09<00:01, 40.73it/s, avg_loss=0.263, current_loss=0.26]\u001b[A\n",
      "Evaluating:  84%|██████████████████████████▉     | 336/399 [00:09<00:01, 40.73it/s, avg_loss=0.263, current_loss=0.245]\u001b[A\n",
      "Evaluating:  84%|██████████████████████████▉     | 336/399 [00:09<00:01, 40.73it/s, avg_loss=0.263, current_loss=0.256]\u001b[A\n",
      "Evaluating:  84%|██████████████████████████▉     | 336/399 [00:09<00:01, 40.73it/s, avg_loss=0.263, current_loss=0.239]\u001b[A\n",
      "Evaluating:  85%|███████████████████████████▎    | 341/399 [00:09<00:01, 41.40it/s, avg_loss=0.263, current_loss=0.239]\u001b[A\n",
      "Evaluating:  85%|███████████████████████████▎    | 341/399 [00:09<00:01, 41.40it/s, avg_loss=0.263, current_loss=0.274]\u001b[A\n",
      "Evaluating:  85%|███████████████████████████▎    | 341/399 [00:09<00:01, 41.40it/s, avg_loss=0.263, current_loss=0.267]\u001b[A\n",
      "Evaluating:  85%|███████████████████████████▎    | 341/399 [00:09<00:01, 41.40it/s, avg_loss=0.263, current_loss=0.225]\u001b[A\n",
      "Evaluating:  85%|███████████████████████████▎    | 341/399 [00:09<00:01, 41.40it/s, avg_loss=0.263, current_loss=0.265]\u001b[A\n",
      "Evaluating:  85%|████████████████████████████▏    | 341/399 [00:09<00:01, 41.40it/s, avg_loss=0.263, current_loss=0.27]\u001b[A\n",
      "Evaluating:  87%|████████████████████████████▌    | 346/399 [00:09<00:01, 40.42it/s, avg_loss=0.263, current_loss=0.27]\u001b[A\n",
      "Evaluating:  87%|███████████████████████████▋    | 346/399 [00:09<00:01, 40.42it/s, avg_loss=0.263, current_loss=0.274]\u001b[A\n",
      "Evaluating:  87%|███████████████████████████▋    | 346/399 [00:09<00:01, 40.42it/s, avg_loss=0.263, current_loss=0.263]\u001b[A\n",
      "Evaluating:  87%|███████████████████████████▋    | 346/399 [00:09<00:01, 40.42it/s, avg_loss=0.263, current_loss=0.267]\u001b[A\n",
      "Evaluating:  87%|████████████████████████████▌    | 346/399 [00:09<00:01, 40.42it/s, avg_loss=0.263, current_loss=0.27]\u001b[A\n",
      "Evaluating:  87%|███████████████████████████▋    | 346/399 [00:09<00:01, 40.42it/s, avg_loss=0.263, current_loss=0.265]\u001b[A\n",
      "Evaluating:  88%|████████████████████████████▏   | 351/399 [00:09<00:01, 35.93it/s, avg_loss=0.263, current_loss=0.265]\u001b[A\n",
      "Evaluating:  88%|████████████████████████████▏   | 351/399 [00:09<00:01, 35.93it/s, avg_loss=0.263, current_loss=0.282]\u001b[A\n",
      "Evaluating:  88%|████████████████████████████▏   | 351/399 [00:09<00:01, 35.93it/s, avg_loss=0.263, current_loss=0.248]\u001b[A\n",
      "Evaluating:  88%|████████████████████████████▏   | 351/399 [00:09<00:01, 35.93it/s, avg_loss=0.263, current_loss=0.265]\u001b[A\n",
      "Evaluating:  88%|████████████████████████████▏   | 351/399 [00:09<00:01, 35.93it/s, avg_loss=0.263, current_loss=0.254]\u001b[A\n",
      "Evaluating:  88%|████████████████████████████▏   | 351/399 [00:09<00:01, 35.93it/s, avg_loss=0.263, current_loss=0.258]\u001b[A\n",
      "Evaluating:  89%|████████████████████████████▌   | 356/399 [00:09<00:01, 38.23it/s, avg_loss=0.263, current_loss=0.258]\u001b[A\n",
      "Evaluating:  89%|████████████████████████████▌   | 356/399 [00:09<00:01, 38.23it/s, avg_loss=0.263, current_loss=0.268]\u001b[A\n",
      "Evaluating:  89%|████████████████████████████▌   | 356/399 [00:09<00:01, 38.23it/s, avg_loss=0.263, current_loss=0.258]\u001b[A\n",
      "Evaluating:  89%|█████████████████████████████▍   | 356/399 [00:10<00:01, 38.23it/s, avg_loss=0.263, current_loss=0.27]\u001b[A\n",
      "Evaluating:  89%|████████████████████████████▌   | 356/399 [00:10<00:01, 38.23it/s, avg_loss=0.263, current_loss=0.253]\u001b[A\n",
      "Evaluating:  90%|████████████████████████████▊   | 360/399 [00:10<00:01, 34.71it/s, avg_loss=0.263, current_loss=0.253]\u001b[A\n",
      "Evaluating:  90%|████████████████████████████▊   | 360/399 [00:10<00:01, 34.71it/s, avg_loss=0.263, current_loss=0.272]\u001b[A\n",
      "Evaluating:  90%|████████████████████████████▊   | 360/399 [00:10<00:01, 34.71it/s, avg_loss=0.263, current_loss=0.273]\u001b[A\n",
      "Evaluating:  90%|████████████████████████████▊   | 360/399 [00:10<00:01, 34.71it/s, avg_loss=0.263, current_loss=0.264]\u001b[A\n",
      "Evaluating:  90%|████████████████████████████▊   | 360/399 [00:10<00:01, 34.71it/s, avg_loss=0.263, current_loss=0.255]\u001b[A\n",
      "Evaluating:  91%|█████████████████████████████▏  | 364/399 [00:10<00:01, 34.24it/s, avg_loss=0.263, current_loss=0.255]\u001b[A\n",
      "Evaluating:  91%|█████████████████████████████▏  | 364/399 [00:10<00:01, 34.24it/s, avg_loss=0.263, current_loss=0.259]\u001b[A\n",
      "Evaluating:  91%|█████████████████████████████▏  | 364/399 [00:10<00:01, 34.24it/s, avg_loss=0.263, current_loss=0.277]\u001b[A\n",
      "Evaluating:  91%|█████████████████████████████▏  | 364/399 [00:10<00:01, 34.24it/s, avg_loss=0.263, current_loss=0.249]\u001b[A\n",
      "Evaluating:  91%|██████████████████████████████   | 364/399 [00:10<00:01, 34.24it/s, avg_loss=0.263, current_loss=0.25]\u001b[A\n",
      "Evaluating:  91%|█████████████████████████████▏  | 364/399 [00:10<00:01, 34.24it/s, avg_loss=0.263, current_loss=0.257]\u001b[A\n",
      "Evaluating:  92%|█████████████████████████████▌  | 369/399 [00:10<00:00, 36.61it/s, avg_loss=0.263, current_loss=0.257]\u001b[A\n",
      "Evaluating:  92%|█████████████████████████████▌  | 369/399 [00:10<00:00, 36.61it/s, avg_loss=0.263, current_loss=0.272]\u001b[A\n",
      "Evaluating:  92%|█████████████████████████████▌  | 369/399 [00:10<00:00, 36.61it/s, avg_loss=0.263, current_loss=0.266]\u001b[A\n",
      "Evaluating:  92%|█████████████████████████████▌  | 369/399 [00:10<00:00, 36.61it/s, avg_loss=0.263, current_loss=0.249]\u001b[A\n",
      "Evaluating:  92%|██████████████████████████████▌  | 369/399 [00:10<00:00, 36.61it/s, avg_loss=0.263, current_loss=0.26]\u001b[A\n",
      "Evaluating:  92%|█████████████████████████████▌  | 369/399 [00:10<00:00, 36.61it/s, avg_loss=0.263, current_loss=0.242]\u001b[A\n",
      "Evaluating:  94%|█████████████████████████████▉  | 374/399 [00:10<00:00, 38.48it/s, avg_loss=0.263, current_loss=0.242]\u001b[A\n",
      "Evaluating:  94%|█████████████████████████████▉  | 374/399 [00:10<00:00, 38.48it/s, avg_loss=0.263, current_loss=0.254]\u001b[A\n",
      "Evaluating:  94%|█████████████████████████████▉  | 374/399 [00:10<00:00, 38.48it/s, avg_loss=0.263, current_loss=0.284]\u001b[A\n",
      "Evaluating:  94%|█████████████████████████████▉  | 374/399 [00:10<00:00, 38.48it/s, avg_loss=0.263, current_loss=0.276]\u001b[A\n",
      "Evaluating:  94%|██████████████████████████████▉  | 374/399 [00:10<00:00, 38.48it/s, avg_loss=0.263, current_loss=0.24]\u001b[A\n",
      "Evaluating:  95%|███████████████████████████████▎ | 378/399 [00:10<00:00, 37.36it/s, avg_loss=0.263, current_loss=0.24]\u001b[A\n",
      "Evaluating:  95%|██████████████████████████████▎ | 378/399 [00:10<00:00, 37.36it/s, avg_loss=0.263, current_loss=0.245]\u001b[A\n",
      "Evaluating:  95%|██████████████████████████████▎ | 378/399 [00:10<00:00, 37.36it/s, avg_loss=0.262, current_loss=0.262]\u001b[A\n",
      "Evaluating:  95%|██████████████████████████████▎ | 378/399 [00:10<00:00, 37.36it/s, avg_loss=0.263, current_loss=0.276]\u001b[A\n",
      "Evaluating:  95%|██████████████████████████████▎ | 378/399 [00:10<00:00, 37.36it/s, avg_loss=0.263, current_loss=0.266]\u001b[A\n",
      "Evaluating:  95%|██████████████████████████████▎ | 378/399 [00:10<00:00, 37.36it/s, avg_loss=0.263, current_loss=0.268]\u001b[A\n",
      "Evaluating:  96%|██████████████████████████████▋ | 383/399 [00:10<00:00, 38.73it/s, avg_loss=0.263, current_loss=0.268]\u001b[A\n",
      "Evaluating:  96%|███████████████████████████████▋ | 383/399 [00:10<00:00, 38.73it/s, avg_loss=0.263, current_loss=0.26]\u001b[A\n",
      "Evaluating:  96%|██████████████████████████████▋ | 383/399 [00:10<00:00, 38.73it/s, avg_loss=0.263, current_loss=0.265]\u001b[A\n",
      "Evaluating:  96%|██████████████████████████████▋ | 383/399 [00:10<00:00, 38.73it/s, avg_loss=0.263, current_loss=0.278]\u001b[A\n",
      "Evaluating:  96%|██████████████████████████████▋ | 383/399 [00:10<00:00, 38.73it/s, avg_loss=0.263, current_loss=0.255]\u001b[A\n",
      "Evaluating:  97%|███████████████████████████████ | 387/399 [00:10<00:00, 38.86it/s, avg_loss=0.263, current_loss=0.255]\u001b[A\n",
      "Evaluating:  97%|███████████████████████████████ | 387/399 [00:10<00:00, 38.86it/s, avg_loss=0.263, current_loss=0.255]\u001b[A\n",
      "Evaluating:  97%|███████████████████████████████ | 387/399 [00:10<00:00, 38.86it/s, avg_loss=0.263, current_loss=0.243]\u001b[A\n",
      "Evaluating:  97%|████████████████████████████████ | 387/399 [00:10<00:00, 38.86it/s, avg_loss=0.263, current_loss=0.27]\u001b[A\n",
      "Evaluating:  97%|███████████████████████████████ | 387/399 [00:10<00:00, 38.86it/s, avg_loss=0.262, current_loss=0.251]\u001b[A\n",
      "Evaluating:  98%|███████████████████████████████▎| 391/399 [00:10<00:00, 38.81it/s, avg_loss=0.262, current_loss=0.251]\u001b[A\n",
      "Evaluating:  98%|███████████████████████████████▎| 391/399 [00:10<00:00, 38.81it/s, avg_loss=0.262, current_loss=0.263]\u001b[A\n",
      "Evaluating:  98%|███████████████████████████████▎| 391/399 [00:10<00:00, 38.81it/s, avg_loss=0.262, current_loss=0.239]\u001b[A\n",
      "Evaluating:  98%|████████████████████████████████▎| 391/399 [00:10<00:00, 38.81it/s, avg_loss=0.262, current_loss=0.24]\u001b[A\n",
      "Evaluating:  98%|███████████████████████████████▎| 391/399 [00:10<00:00, 38.81it/s, avg_loss=0.262, current_loss=0.265]\u001b[A\n",
      "Evaluating:  98%|███████████████████████████████▎| 391/399 [00:10<00:00, 38.81it/s, avg_loss=0.262, current_loss=0.257]\u001b[A\n",
      "Evaluating:  99%|███████████████████████████████▊| 396/399 [00:10<00:00, 37.54it/s, avg_loss=0.262, current_loss=0.257]\u001b[A\n",
      "Evaluating:  99%|███████████████████████████████▊| 396/399 [00:11<00:00, 37.54it/s, avg_loss=0.262, current_loss=0.234]\u001b[A\n",
      "Evaluating:  99%|███████████████████████████████▊| 396/399 [00:11<00:00, 37.54it/s, avg_loss=0.262, current_loss=0.249]\u001b[A\n",
      "Evaluating: 100%|████████████████████████████████| 399/399 [00:11<00:00, 36.11it/s, avg_loss=0.262, current_loss=0.208]\u001b[A"
     ]
    },
    {
     "name": "stdout",
     "output_type": "stream",
     "text": [
      "Evaluating - Average Loss: 0.26226\n"
     ]
    },
    {
     "name": "stderr",
     "output_type": "stream",
     "text": [
      "\n"
     ]
    }
   ],
   "source": [
    "from Models import *\n",
    "eval_model(Stationary_Model().to(device), dataloader) # 0.00262"
   ]
  },
  {
   "cell_type": "code",
   "execution_count": 77,
   "id": "86f21820-ce37-4689-9288-de902b18f270",
   "metadata": {},
   "outputs": [
    {
     "name": "stdout",
     "output_type": "stream",
     "text": [
      "tensor([[[ 0.0177,  0.0076,  0.0145],\n",
      "         [ 0.0380, -0.0054, -0.0150],\n",
      "         [ 0.0084, -0.0430, -0.0192],\n",
      "         ...,\n",
      "         [ 0.0533, -0.0061, -0.0016],\n",
      "         [ 0.0430, -0.0043,  0.0008],\n",
      "         [-0.0049,  0.0170,  0.0106]],\n",
      "\n",
      "        [[ 0.0305, -0.0143,  0.0384],\n",
      "         [ 0.0234, -0.0359,  0.0153],\n",
      "         [ 0.0332, -0.0174,  0.0114],\n",
      "         ...,\n",
      "         [ 0.0533, -0.0061, -0.0016],\n",
      "         [ 0.0430, -0.0043,  0.0008],\n",
      "         [-0.0049,  0.0170,  0.0106]],\n",
      "\n",
      "        [[ 0.0356, -0.0230,  0.0304],\n",
      "         [ 0.0521, -0.0095,  0.0244],\n",
      "         [ 0.0305, -0.0032, -0.0018],\n",
      "         ...,\n",
      "         [ 0.0533, -0.0061, -0.0016],\n",
      "         [ 0.0430, -0.0043,  0.0008],\n",
      "         [-0.0049,  0.0170,  0.0106]],\n",
      "\n",
      "        ...,\n",
      "\n",
      "        [[ 0.0338, -0.0177, -0.0106],\n",
      "         [ 0.0272,  0.0040,  0.0302],\n",
      "         [ 0.0475,  0.0062,  0.0303],\n",
      "         ...,\n",
      "         [ 0.0533, -0.0061, -0.0016],\n",
      "         [ 0.0430, -0.0043,  0.0008],\n",
      "         [-0.0049,  0.0170,  0.0106]],\n",
      "\n",
      "        [[ 0.0533, -0.0238,  0.0017],\n",
      "         [ 0.0511, -0.0162, -0.0010],\n",
      "         [ 0.0321, -0.0002,  0.0148],\n",
      "         ...,\n",
      "         [ 0.0533, -0.0061, -0.0016],\n",
      "         [ 0.0430, -0.0043,  0.0008],\n",
      "         [-0.0049,  0.0170,  0.0106]],\n",
      "\n",
      "        [[ 0.0127,  0.0006,  0.0649],\n",
      "         [ 0.0086, -0.0039,  0.0346],\n",
      "         [-0.0048, -0.0181,  0.0152],\n",
      "         ...,\n",
      "         [ 0.0533, -0.0061, -0.0016],\n",
      "         [ 0.0430, -0.0043,  0.0008],\n",
      "         [-0.0049,  0.0170,  0.0106]]], device='cuda:0',\n",
      "       grad_fn=<PermuteBackward0>)\n"
     ]
    }
   ],
   "source": [
    "for currents, deltas, lengths in dataloader:\n",
    "        \n",
    "    # Move data to device\n",
    "    currents = currents.to(device)\n",
    "    deltas = deltas.to(device)\n",
    "    lengths = lengths.to(device)\n",
    "    \n",
    "    # Forward pass: predict deltas using currents.\n",
    "    pred_deltas = model(currents)\n",
    "    print(pred_deltas)\n",
    "    break"
   ]
  },
  {
   "cell_type": "code",
   "execution_count": 27,
   "id": "a88f1537-259d-4ac4-bf58-637a42c178be",
   "metadata": {},
   "outputs": [
    {
     "name": "stderr",
     "output_type": "stream",
     "text": [
      "[I 2025-04-25 11:50:37,903] A new study created in memory with name: no-name-663c8c93-9cfe-470a-a551-431c4a0c6214\n",
      "100%|████████████████████████████████████████████████████████████████████████████████| 640/640 [00:11<00:00, 55.65it/s]\n",
      "100%|████████████████████████████████████████████████████████████████████████████████| 157/157 [00:02<00:00, 57.20it/s]\n",
      "100%|████████████████████████████████████████████████████████████████████████████████| 640/640 [00:11<00:00, 56.01it/s]\n",
      "100%|████████████████████████████████████████████████████████████████████████████████| 157/157 [00:02<00:00, 58.66it/s]\n",
      "100%|████████████████████████████████████████████████████████████████████████████████| 640/640 [00:11<00:00, 54.77it/s]\n",
      "100%|████████████████████████████████████████████████████████████████████████████████| 157/157 [00:02<00:00, 53.06it/s]\n",
      "100%|████████████████████████████████████████████████████████████████████████████████| 640/640 [00:13<00:00, 49.07it/s]\n",
      "100%|████████████████████████████████████████████████████████████████████████████████| 157/157 [00:03<00:00, 47.07it/s]\n",
      "100%|████████████████████████████████████████████████████████████████████████████████| 640/640 [00:13<00:00, 46.67it/s]\n",
      "100%|████████████████████████████████████████████████████████████████████████████████| 157/157 [00:02<00:00, 65.22it/s]\n",
      "100%|████████████████████████████████████████████████████████████████████████████████| 640/640 [00:11<00:00, 56.91it/s]\n",
      "100%|████████████████████████████████████████████████████████████████████████████████| 157/157 [00:02<00:00, 60.32it/s]\n",
      "100%|████████████████████████████████████████████████████████████████████████████████| 640/640 [00:10<00:00, 59.35it/s]\n",
      "100%|████████████████████████████████████████████████████████████████████████████████| 157/157 [00:02<00:00, 60.89it/s]\n",
      "100%|████████████████████████████████████████████████████████████████████████████████| 640/640 [00:11<00:00, 58.05it/s]\n",
      "100%|████████████████████████████████████████████████████████████████████████████████| 157/157 [00:02<00:00, 63.12it/s]\n",
      "100%|████████████████████████████████████████████████████████████████████████████████| 640/640 [00:11<00:00, 54.68it/s]\n",
      "100%|████████████████████████████████████████████████████████████████████████████████| 157/157 [00:02<00:00, 53.28it/s]\n",
      "100%|████████████████████████████████████████████████████████████████████████████████| 640/640 [00:11<00:00, 54.39it/s]\n",
      "100%|████████████████████████████████████████████████████████████████████████████████| 157/157 [00:02<00:00, 61.99it/s]\n",
      "100%|████████████████████████████████████████████████████████████████████████████████| 640/640 [00:11<00:00, 57.45it/s]\n",
      "100%|████████████████████████████████████████████████████████████████████████████████| 157/157 [00:02<00:00, 62.67it/s]\n",
      "100%|████████████████████████████████████████████████████████████████████████████████| 640/640 [00:10<00:00, 59.09it/s]\n",
      "100%|████████████████████████████████████████████████████████████████████████████████| 157/157 [00:02<00:00, 62.79it/s]\n",
      "100%|████████████████████████████████████████████████████████████████████████████████| 640/640 [00:10<00:00, 58.54it/s]\n",
      "100%|████████████████████████████████████████████████████████████████████████████████| 157/157 [00:02<00:00, 62.74it/s]\n",
      "100%|████████████████████████████████████████████████████████████████████████████████| 640/640 [00:11<00:00, 55.31it/s]\n",
      "100%|████████████████████████████████████████████████████████████████████████████████| 157/157 [00:02<00:00, 61.41it/s]\n",
      "100%|████████████████████████████████████████████████████████████████████████████████| 640/640 [00:10<00:00, 59.24it/s]\n",
      "100%|████████████████████████████████████████████████████████████████████████████████| 157/157 [00:02<00:00, 60.52it/s]\n",
      "100%|████████████████████████████████████████████████████████████████████████████████| 640/640 [00:11<00:00, 55.61it/s]\n",
      "100%|████████████████████████████████████████████████████████████████████████████████| 157/157 [00:02<00:00, 55.10it/s]\n",
      "100%|████████████████████████████████████████████████████████████████████████████████| 640/640 [00:11<00:00, 57.27it/s]\n",
      "100%|████████████████████████████████████████████████████████████████████████████████| 157/157 [00:02<00:00, 61.82it/s]\n",
      " 48%|██████████████████████████████████████▊                                         | 310/640 [00:05<00:05, 57.29it/s]\n",
      "[W 2025-04-25 11:54:44,621] Trial 0 failed with parameters: {'lr': 0.0001505499224340741, 'weight_decay': 0.002960184249542081, 'optimizer': 'SGD', 'batch_size': 128, 'channels_1': 64, 'channels_2': 128, 'kernel_size_1': 1, 'kernel_size_2': 7, 'kernel_size_3': 1, 'coordinate_factor': 0.4724671401878715} because of the following error: KeyboardInterrupt().\n",
      "Traceback (most recent call last):\n",
      "  File \"C:\\Users\\sebik\\.conda\\envs\\thesis\\Lib\\site-packages\\optuna\\study\\_optimize.py\", line 197, in _run_trial\n",
      "    value_or_values = func(trial)\n",
      "  File \"C:\\Users\\sebik\\AppData\\Local\\Temp\\ipykernel_120400\\4247618629.py\", line 52, in cnn_objective\n",
      "    optimizer.step()\n",
      "    ~~~~~~~~~~~~~~^^\n",
      "  File \"C:\\Users\\sebik\\.conda\\envs\\thesis\\Lib\\site-packages\\torch\\optim\\optimizer.py\", line 485, in wrapper\n",
      "    out = func(*args, **kwargs)\n",
      "  File \"C:\\Users\\sebik\\.conda\\envs\\thesis\\Lib\\site-packages\\torch\\optim\\optimizer.py\", line 79, in _use_grad\n",
      "    ret = func(self, *args, **kwargs)\n",
      "  File \"C:\\Users\\sebik\\.conda\\envs\\thesis\\Lib\\site-packages\\torch\\optim\\sgd.py\", line 125, in step\n",
      "    sgd(\n",
      "    ~~~^\n",
      "        params,\n",
      "        ^^^^^^^\n",
      "    ...<12 lines>...\n",
      "        found_inf=getattr(self, \"found_inf\", None),\n",
      "        ^^^^^^^^^^^^^^^^^^^^^^^^^^^^^^^^^^^^^^^^^^^\n",
      "    )\n",
      "    ^\n",
      "  File \"C:\\Users\\sebik\\.conda\\envs\\thesis\\Lib\\site-packages\\torch\\optim\\sgd.py\", line 300, in sgd\n",
      "    func(\n",
      "    ~~~~^\n",
      "        params,\n",
      "        ^^^^^^^\n",
      "    ...<10 lines>...\n",
      "        found_inf=found_inf,\n",
      "        ^^^^^^^^^^^^^^^^^^^^\n",
      "    )\n",
      "    ^\n",
      "  File \"C:\\Users\\sebik\\.conda\\envs\\thesis\\Lib\\site-packages\\torch\\optim\\sgd.py\", line 415, in _multi_tensor_sgd\n",
      "    device_grads = torch._foreach_add(  # type: ignore[assignment]\n",
      "        device_grads, device_params, alpha=weight_decay\n",
      "    )\n",
      "KeyboardInterrupt\n",
      "[W 2025-04-25 11:54:44,628] Trial 0 failed with value None.\n"
     ]
    },
    {
     "ename": "KeyboardInterrupt",
     "evalue": "",
     "output_type": "error",
     "traceback": [
      "\u001b[31m---------------------------------------------------------------------------\u001b[39m",
      "\u001b[31mKeyboardInterrupt\u001b[39m                         Traceback (most recent call last)",
      "\u001b[36mCell\u001b[39m\u001b[36m \u001b[39m\u001b[32mIn[27]\u001b[39m\u001b[32m, line 5\u001b[39m\n\u001b[32m      1\u001b[39m study = optuna.create_study(\n\u001b[32m      2\u001b[39m         direction=\u001b[33m'\u001b[39m\u001b[33mminimize\u001b[39m\u001b[33m'\u001b[39m,\n\u001b[32m      3\u001b[39m         pruner=optuna.pruners.MedianPruner(n_startup_trials=\u001b[32m5\u001b[39m, n_warmup_steps=\u001b[32m2\u001b[39m)\n\u001b[32m      4\u001b[39m     )\n\u001b[32m----> \u001b[39m\u001b[32m5\u001b[39m \u001b[43mstudy\u001b[49m\u001b[43m.\u001b[49m\u001b[43moptimize\u001b[49m\u001b[43m(\u001b[49m\u001b[43mcnn_objective\u001b[49m\u001b[43m,\u001b[49m\u001b[43m \u001b[49m\u001b[43mn_trials\u001b[49m\u001b[43m=\u001b[49m\u001b[32;43m1\u001b[39;49m\u001b[43m)\u001b[49m\n",
      "\u001b[36mFile \u001b[39m\u001b[32m~\\.conda\\envs\\thesis\\Lib\\site-packages\\optuna\\study\\study.py:475\u001b[39m, in \u001b[36mStudy.optimize\u001b[39m\u001b[34m(self, func, n_trials, timeout, n_jobs, catch, callbacks, gc_after_trial, show_progress_bar)\u001b[39m\n\u001b[32m    373\u001b[39m \u001b[38;5;28;01mdef\u001b[39;00m\u001b[38;5;250m \u001b[39m\u001b[34moptimize\u001b[39m(\n\u001b[32m    374\u001b[39m     \u001b[38;5;28mself\u001b[39m,\n\u001b[32m    375\u001b[39m     func: ObjectiveFuncType,\n\u001b[32m   (...)\u001b[39m\u001b[32m    382\u001b[39m     show_progress_bar: \u001b[38;5;28mbool\u001b[39m = \u001b[38;5;28;01mFalse\u001b[39;00m,\n\u001b[32m    383\u001b[39m ) -> \u001b[38;5;28;01mNone\u001b[39;00m:\n\u001b[32m    384\u001b[39m \u001b[38;5;250m    \u001b[39m\u001b[33;03m\"\"\"Optimize an objective function.\u001b[39;00m\n\u001b[32m    385\u001b[39m \n\u001b[32m    386\u001b[39m \u001b[33;03m    Optimization is done by choosing a suitable set of hyperparameter values from a given\u001b[39;00m\n\u001b[32m   (...)\u001b[39m\u001b[32m    473\u001b[39m \u001b[33;03m            If nested invocation of this method occurs.\u001b[39;00m\n\u001b[32m    474\u001b[39m \u001b[33;03m    \"\"\"\u001b[39;00m\n\u001b[32m--> \u001b[39m\u001b[32m475\u001b[39m     \u001b[43m_optimize\u001b[49m\u001b[43m(\u001b[49m\n\u001b[32m    476\u001b[39m \u001b[43m        \u001b[49m\u001b[43mstudy\u001b[49m\u001b[43m=\u001b[49m\u001b[38;5;28;43mself\u001b[39;49m\u001b[43m,\u001b[49m\n\u001b[32m    477\u001b[39m \u001b[43m        \u001b[49m\u001b[43mfunc\u001b[49m\u001b[43m=\u001b[49m\u001b[43mfunc\u001b[49m\u001b[43m,\u001b[49m\n\u001b[32m    478\u001b[39m \u001b[43m        \u001b[49m\u001b[43mn_trials\u001b[49m\u001b[43m=\u001b[49m\u001b[43mn_trials\u001b[49m\u001b[43m,\u001b[49m\n\u001b[32m    479\u001b[39m \u001b[43m        \u001b[49m\u001b[43mtimeout\u001b[49m\u001b[43m=\u001b[49m\u001b[43mtimeout\u001b[49m\u001b[43m,\u001b[49m\n\u001b[32m    480\u001b[39m \u001b[43m        \u001b[49m\u001b[43mn_jobs\u001b[49m\u001b[43m=\u001b[49m\u001b[43mn_jobs\u001b[49m\u001b[43m,\u001b[49m\n\u001b[32m    481\u001b[39m \u001b[43m        \u001b[49m\u001b[43mcatch\u001b[49m\u001b[43m=\u001b[49m\u001b[38;5;28;43mtuple\u001b[39;49m\u001b[43m(\u001b[49m\u001b[43mcatch\u001b[49m\u001b[43m)\u001b[49m\u001b[43m \u001b[49m\u001b[38;5;28;43;01mif\u001b[39;49;00m\u001b[43m \u001b[49m\u001b[38;5;28;43misinstance\u001b[39;49m\u001b[43m(\u001b[49m\u001b[43mcatch\u001b[49m\u001b[43m,\u001b[49m\u001b[43m \u001b[49m\u001b[43mIterable\u001b[49m\u001b[43m)\u001b[49m\u001b[43m \u001b[49m\u001b[38;5;28;43;01melse\u001b[39;49;00m\u001b[43m \u001b[49m\u001b[43m(\u001b[49m\u001b[43mcatch\u001b[49m\u001b[43m,\u001b[49m\u001b[43m)\u001b[49m\u001b[43m,\u001b[49m\n\u001b[32m    482\u001b[39m \u001b[43m        \u001b[49m\u001b[43mcallbacks\u001b[49m\u001b[43m=\u001b[49m\u001b[43mcallbacks\u001b[49m\u001b[43m,\u001b[49m\n\u001b[32m    483\u001b[39m \u001b[43m        \u001b[49m\u001b[43mgc_after_trial\u001b[49m\u001b[43m=\u001b[49m\u001b[43mgc_after_trial\u001b[49m\u001b[43m,\u001b[49m\n\u001b[32m    484\u001b[39m \u001b[43m        \u001b[49m\u001b[43mshow_progress_bar\u001b[49m\u001b[43m=\u001b[49m\u001b[43mshow_progress_bar\u001b[49m\u001b[43m,\u001b[49m\n\u001b[32m    485\u001b[39m \u001b[43m    \u001b[49m\u001b[43m)\u001b[49m\n",
      "\u001b[36mFile \u001b[39m\u001b[32m~\\.conda\\envs\\thesis\\Lib\\site-packages\\optuna\\study\\_optimize.py:63\u001b[39m, in \u001b[36m_optimize\u001b[39m\u001b[34m(study, func, n_trials, timeout, n_jobs, catch, callbacks, gc_after_trial, show_progress_bar)\u001b[39m\n\u001b[32m     61\u001b[39m \u001b[38;5;28;01mtry\u001b[39;00m:\n\u001b[32m     62\u001b[39m     \u001b[38;5;28;01mif\u001b[39;00m n_jobs == \u001b[32m1\u001b[39m:\n\u001b[32m---> \u001b[39m\u001b[32m63\u001b[39m         \u001b[43m_optimize_sequential\u001b[49m\u001b[43m(\u001b[49m\n\u001b[32m     64\u001b[39m \u001b[43m            \u001b[49m\u001b[43mstudy\u001b[49m\u001b[43m,\u001b[49m\n\u001b[32m     65\u001b[39m \u001b[43m            \u001b[49m\u001b[43mfunc\u001b[49m\u001b[43m,\u001b[49m\n\u001b[32m     66\u001b[39m \u001b[43m            \u001b[49m\u001b[43mn_trials\u001b[49m\u001b[43m,\u001b[49m\n\u001b[32m     67\u001b[39m \u001b[43m            \u001b[49m\u001b[43mtimeout\u001b[49m\u001b[43m,\u001b[49m\n\u001b[32m     68\u001b[39m \u001b[43m            \u001b[49m\u001b[43mcatch\u001b[49m\u001b[43m,\u001b[49m\n\u001b[32m     69\u001b[39m \u001b[43m            \u001b[49m\u001b[43mcallbacks\u001b[49m\u001b[43m,\u001b[49m\n\u001b[32m     70\u001b[39m \u001b[43m            \u001b[49m\u001b[43mgc_after_trial\u001b[49m\u001b[43m,\u001b[49m\n\u001b[32m     71\u001b[39m \u001b[43m            \u001b[49m\u001b[43mreseed_sampler_rng\u001b[49m\u001b[43m=\u001b[49m\u001b[38;5;28;43;01mFalse\u001b[39;49;00m\u001b[43m,\u001b[49m\n\u001b[32m     72\u001b[39m \u001b[43m            \u001b[49m\u001b[43mtime_start\u001b[49m\u001b[43m=\u001b[49m\u001b[38;5;28;43;01mNone\u001b[39;49;00m\u001b[43m,\u001b[49m\n\u001b[32m     73\u001b[39m \u001b[43m            \u001b[49m\u001b[43mprogress_bar\u001b[49m\u001b[43m=\u001b[49m\u001b[43mprogress_bar\u001b[49m\u001b[43m,\u001b[49m\n\u001b[32m     74\u001b[39m \u001b[43m        \u001b[49m\u001b[43m)\u001b[49m\n\u001b[32m     75\u001b[39m     \u001b[38;5;28;01melse\u001b[39;00m:\n\u001b[32m     76\u001b[39m         \u001b[38;5;28;01mif\u001b[39;00m n_jobs == -\u001b[32m1\u001b[39m:\n",
      "\u001b[36mFile \u001b[39m\u001b[32m~\\.conda\\envs\\thesis\\Lib\\site-packages\\optuna\\study\\_optimize.py:160\u001b[39m, in \u001b[36m_optimize_sequential\u001b[39m\u001b[34m(study, func, n_trials, timeout, catch, callbacks, gc_after_trial, reseed_sampler_rng, time_start, progress_bar)\u001b[39m\n\u001b[32m    157\u001b[39m         \u001b[38;5;28;01mbreak\u001b[39;00m\n\u001b[32m    159\u001b[39m \u001b[38;5;28;01mtry\u001b[39;00m:\n\u001b[32m--> \u001b[39m\u001b[32m160\u001b[39m     frozen_trial = \u001b[43m_run_trial\u001b[49m\u001b[43m(\u001b[49m\u001b[43mstudy\u001b[49m\u001b[43m,\u001b[49m\u001b[43m \u001b[49m\u001b[43mfunc\u001b[49m\u001b[43m,\u001b[49m\u001b[43m \u001b[49m\u001b[43mcatch\u001b[49m\u001b[43m)\u001b[49m\n\u001b[32m    161\u001b[39m \u001b[38;5;28;01mfinally\u001b[39;00m:\n\u001b[32m    162\u001b[39m     \u001b[38;5;66;03m# The following line mitigates memory problems that can be occurred in some\u001b[39;00m\n\u001b[32m    163\u001b[39m     \u001b[38;5;66;03m# environments (e.g., services that use computing containers such as GitHub Actions).\u001b[39;00m\n\u001b[32m    164\u001b[39m     \u001b[38;5;66;03m# Please refer to the following PR for further details:\u001b[39;00m\n\u001b[32m    165\u001b[39m     \u001b[38;5;66;03m# https://github.com/optuna/optuna/pull/325.\u001b[39;00m\n\u001b[32m    166\u001b[39m     \u001b[38;5;28;01mif\u001b[39;00m gc_after_trial:\n",
      "\u001b[36mFile \u001b[39m\u001b[32m~\\.conda\\envs\\thesis\\Lib\\site-packages\\optuna\\study\\_optimize.py:248\u001b[39m, in \u001b[36m_run_trial\u001b[39m\u001b[34m(study, func, catch)\u001b[39m\n\u001b[32m    241\u001b[39m         \u001b[38;5;28;01massert\u001b[39;00m \u001b[38;5;28;01mFalse\u001b[39;00m, \u001b[33m\"\u001b[39m\u001b[33mShould not reach.\u001b[39m\u001b[33m\"\u001b[39m\n\u001b[32m    243\u001b[39m \u001b[38;5;28;01mif\u001b[39;00m (\n\u001b[32m    244\u001b[39m     frozen_trial.state == TrialState.FAIL\n\u001b[32m    245\u001b[39m     \u001b[38;5;129;01mand\u001b[39;00m func_err \u001b[38;5;129;01mis\u001b[39;00m \u001b[38;5;129;01mnot\u001b[39;00m \u001b[38;5;28;01mNone\u001b[39;00m\n\u001b[32m    246\u001b[39m     \u001b[38;5;129;01mand\u001b[39;00m \u001b[38;5;129;01mnot\u001b[39;00m \u001b[38;5;28misinstance\u001b[39m(func_err, catch)\n\u001b[32m    247\u001b[39m ):\n\u001b[32m--> \u001b[39m\u001b[32m248\u001b[39m     \u001b[38;5;28;01mraise\u001b[39;00m func_err\n\u001b[32m    249\u001b[39m \u001b[38;5;28;01mreturn\u001b[39;00m frozen_trial\n",
      "\u001b[36mFile \u001b[39m\u001b[32m~\\.conda\\envs\\thesis\\Lib\\site-packages\\optuna\\study\\_optimize.py:197\u001b[39m, in \u001b[36m_run_trial\u001b[39m\u001b[34m(study, func, catch)\u001b[39m\n\u001b[32m    195\u001b[39m \u001b[38;5;28;01mwith\u001b[39;00m get_heartbeat_thread(trial._trial_id, study._storage):\n\u001b[32m    196\u001b[39m     \u001b[38;5;28;01mtry\u001b[39;00m:\n\u001b[32m--> \u001b[39m\u001b[32m197\u001b[39m         value_or_values = \u001b[43mfunc\u001b[49m\u001b[43m(\u001b[49m\u001b[43mtrial\u001b[49m\u001b[43m)\u001b[49m\n\u001b[32m    198\u001b[39m     \u001b[38;5;28;01mexcept\u001b[39;00m exceptions.TrialPruned \u001b[38;5;28;01mas\u001b[39;00m e:\n\u001b[32m    199\u001b[39m         \u001b[38;5;66;03m# TODO(mamu): Handle multi-objective cases.\u001b[39;00m\n\u001b[32m    200\u001b[39m         state = TrialState.PRUNED\n",
      "\u001b[36mCell\u001b[39m\u001b[36m \u001b[39m\u001b[32mIn[26]\u001b[39m\u001b[32m, line 52\u001b[39m, in \u001b[36mcnn_objective\u001b[39m\u001b[34m(trial)\u001b[39m\n\u001b[32m     50\u001b[39m     loss = masked_mse_loss(pred_deltas, deltas, lengths)\n\u001b[32m     51\u001b[39m     loss.backward()\n\u001b[32m---> \u001b[39m\u001b[32m52\u001b[39m     \u001b[43moptimizer\u001b[49m\u001b[43m.\u001b[49m\u001b[43mstep\u001b[49m\u001b[43m(\u001b[49m\u001b[43m)\u001b[49m\n\u001b[32m     54\u001b[39m \u001b[38;5;66;03m# Intermediate evaluation\u001b[39;00m\n\u001b[32m     55\u001b[39m running_loss = \u001b[32m0\u001b[39m\n",
      "\u001b[36mFile \u001b[39m\u001b[32m~\\.conda\\envs\\thesis\\Lib\\site-packages\\torch\\optim\\optimizer.py:485\u001b[39m, in \u001b[36mOptimizer.profile_hook_step.<locals>.wrapper\u001b[39m\u001b[34m(*args, **kwargs)\u001b[39m\n\u001b[32m    480\u001b[39m         \u001b[38;5;28;01melse\u001b[39;00m:\n\u001b[32m    481\u001b[39m             \u001b[38;5;28;01mraise\u001b[39;00m \u001b[38;5;167;01mRuntimeError\u001b[39;00m(\n\u001b[32m    482\u001b[39m                 \u001b[33mf\u001b[39m\u001b[33m\"\u001b[39m\u001b[38;5;132;01m{\u001b[39;00mfunc\u001b[38;5;132;01m}\u001b[39;00m\u001b[33m must return None or a tuple of (new_args, new_kwargs), but got \u001b[39m\u001b[38;5;132;01m{\u001b[39;00mresult\u001b[38;5;132;01m}\u001b[39;00m\u001b[33m.\u001b[39m\u001b[33m\"\u001b[39m\n\u001b[32m    483\u001b[39m             )\n\u001b[32m--> \u001b[39m\u001b[32m485\u001b[39m out = \u001b[43mfunc\u001b[49m\u001b[43m(\u001b[49m\u001b[43m*\u001b[49m\u001b[43margs\u001b[49m\u001b[43m,\u001b[49m\u001b[43m \u001b[49m\u001b[43m*\u001b[49m\u001b[43m*\u001b[49m\u001b[43mkwargs\u001b[49m\u001b[43m)\u001b[49m\n\u001b[32m    486\u001b[39m \u001b[38;5;28mself\u001b[39m._optimizer_step_code()\n\u001b[32m    488\u001b[39m \u001b[38;5;66;03m# call optimizer step post hooks\u001b[39;00m\n",
      "\u001b[36mFile \u001b[39m\u001b[32m~\\.conda\\envs\\thesis\\Lib\\site-packages\\torch\\optim\\optimizer.py:79\u001b[39m, in \u001b[36m_use_grad_for_differentiable.<locals>._use_grad\u001b[39m\u001b[34m(self, *args, **kwargs)\u001b[39m\n\u001b[32m     77\u001b[39m     torch.set_grad_enabled(\u001b[38;5;28mself\u001b[39m.defaults[\u001b[33m\"\u001b[39m\u001b[33mdifferentiable\u001b[39m\u001b[33m\"\u001b[39m])\n\u001b[32m     78\u001b[39m     torch._dynamo.graph_break()\n\u001b[32m---> \u001b[39m\u001b[32m79\u001b[39m     ret = \u001b[43mfunc\u001b[49m\u001b[43m(\u001b[49m\u001b[38;5;28;43mself\u001b[39;49m\u001b[43m,\u001b[49m\u001b[43m \u001b[49m\u001b[43m*\u001b[49m\u001b[43margs\u001b[49m\u001b[43m,\u001b[49m\u001b[43m \u001b[49m\u001b[43m*\u001b[49m\u001b[43m*\u001b[49m\u001b[43mkwargs\u001b[49m\u001b[43m)\u001b[49m\n\u001b[32m     80\u001b[39m \u001b[38;5;28;01mfinally\u001b[39;00m:\n\u001b[32m     81\u001b[39m     torch._dynamo.graph_break()\n",
      "\u001b[36mFile \u001b[39m\u001b[32m~\\.conda\\envs\\thesis\\Lib\\site-packages\\torch\\optim\\sgd.py:125\u001b[39m, in \u001b[36mSGD.step\u001b[39m\u001b[34m(self, closure)\u001b[39m\n\u001b[32m    119\u001b[39m momentum_buffer_list: \u001b[38;5;28mlist\u001b[39m[Optional[Tensor]] = []\n\u001b[32m    121\u001b[39m has_sparse_grad = \u001b[38;5;28mself\u001b[39m._init_group(\n\u001b[32m    122\u001b[39m     group, params, grads, momentum_buffer_list\n\u001b[32m    123\u001b[39m )\n\u001b[32m--> \u001b[39m\u001b[32m125\u001b[39m \u001b[43msgd\u001b[49m\u001b[43m(\u001b[49m\n\u001b[32m    126\u001b[39m \u001b[43m    \u001b[49m\u001b[43mparams\u001b[49m\u001b[43m,\u001b[49m\n\u001b[32m    127\u001b[39m \u001b[43m    \u001b[49m\u001b[43mgrads\u001b[49m\u001b[43m,\u001b[49m\n\u001b[32m    128\u001b[39m \u001b[43m    \u001b[49m\u001b[43mmomentum_buffer_list\u001b[49m\u001b[43m,\u001b[49m\n\u001b[32m    129\u001b[39m \u001b[43m    \u001b[49m\u001b[43mweight_decay\u001b[49m\u001b[43m=\u001b[49m\u001b[43mgroup\u001b[49m\u001b[43m[\u001b[49m\u001b[33;43m\"\u001b[39;49m\u001b[33;43mweight_decay\u001b[39;49m\u001b[33;43m\"\u001b[39;49m\u001b[43m]\u001b[49m\u001b[43m,\u001b[49m\n\u001b[32m    130\u001b[39m \u001b[43m    \u001b[49m\u001b[43mmomentum\u001b[49m\u001b[43m=\u001b[49m\u001b[43mgroup\u001b[49m\u001b[43m[\u001b[49m\u001b[33;43m\"\u001b[39;49m\u001b[33;43mmomentum\u001b[39;49m\u001b[33;43m\"\u001b[39;49m\u001b[43m]\u001b[49m\u001b[43m,\u001b[49m\n\u001b[32m    131\u001b[39m \u001b[43m    \u001b[49m\u001b[43mlr\u001b[49m\u001b[43m=\u001b[49m\u001b[43mgroup\u001b[49m\u001b[43m[\u001b[49m\u001b[33;43m\"\u001b[39;49m\u001b[33;43mlr\u001b[39;49m\u001b[33;43m\"\u001b[39;49m\u001b[43m]\u001b[49m\u001b[43m,\u001b[49m\n\u001b[32m    132\u001b[39m \u001b[43m    \u001b[49m\u001b[43mdampening\u001b[49m\u001b[43m=\u001b[49m\u001b[43mgroup\u001b[49m\u001b[43m[\u001b[49m\u001b[33;43m\"\u001b[39;49m\u001b[33;43mdampening\u001b[39;49m\u001b[33;43m\"\u001b[39;49m\u001b[43m]\u001b[49m\u001b[43m,\u001b[49m\n\u001b[32m    133\u001b[39m \u001b[43m    \u001b[49m\u001b[43mnesterov\u001b[49m\u001b[43m=\u001b[49m\u001b[43mgroup\u001b[49m\u001b[43m[\u001b[49m\u001b[33;43m\"\u001b[39;49m\u001b[33;43mnesterov\u001b[39;49m\u001b[33;43m\"\u001b[39;49m\u001b[43m]\u001b[49m\u001b[43m,\u001b[49m\n\u001b[32m    134\u001b[39m \u001b[43m    \u001b[49m\u001b[43mmaximize\u001b[49m\u001b[43m=\u001b[49m\u001b[43mgroup\u001b[49m\u001b[43m[\u001b[49m\u001b[33;43m\"\u001b[39;49m\u001b[33;43mmaximize\u001b[39;49m\u001b[33;43m\"\u001b[39;49m\u001b[43m]\u001b[49m\u001b[43m,\u001b[49m\n\u001b[32m    135\u001b[39m \u001b[43m    \u001b[49m\u001b[43mhas_sparse_grad\u001b[49m\u001b[43m=\u001b[49m\u001b[43mhas_sparse_grad\u001b[49m\u001b[43m,\u001b[49m\n\u001b[32m    136\u001b[39m \u001b[43m    \u001b[49m\u001b[43mforeach\u001b[49m\u001b[43m=\u001b[49m\u001b[43mgroup\u001b[49m\u001b[43m[\u001b[49m\u001b[33;43m\"\u001b[39;49m\u001b[33;43mforeach\u001b[39;49m\u001b[33;43m\"\u001b[39;49m\u001b[43m]\u001b[49m\u001b[43m,\u001b[49m\n\u001b[32m    137\u001b[39m \u001b[43m    \u001b[49m\u001b[43mfused\u001b[49m\u001b[43m=\u001b[49m\u001b[43mgroup\u001b[49m\u001b[43m[\u001b[49m\u001b[33;43m\"\u001b[39;49m\u001b[33;43mfused\u001b[39;49m\u001b[33;43m\"\u001b[39;49m\u001b[43m]\u001b[49m\u001b[43m,\u001b[49m\n\u001b[32m    138\u001b[39m \u001b[43m    \u001b[49m\u001b[43mgrad_scale\u001b[49m\u001b[43m=\u001b[49m\u001b[38;5;28;43mgetattr\u001b[39;49m\u001b[43m(\u001b[49m\u001b[38;5;28;43mself\u001b[39;49m\u001b[43m,\u001b[49m\u001b[43m \u001b[49m\u001b[33;43m\"\u001b[39;49m\u001b[33;43mgrad_scale\u001b[39;49m\u001b[33;43m\"\u001b[39;49m\u001b[43m,\u001b[49m\u001b[43m \u001b[49m\u001b[38;5;28;43;01mNone\u001b[39;49;00m\u001b[43m)\u001b[49m\u001b[43m,\u001b[49m\n\u001b[32m    139\u001b[39m \u001b[43m    \u001b[49m\u001b[43mfound_inf\u001b[49m\u001b[43m=\u001b[49m\u001b[38;5;28;43mgetattr\u001b[39;49m\u001b[43m(\u001b[49m\u001b[38;5;28;43mself\u001b[39;49m\u001b[43m,\u001b[49m\u001b[43m \u001b[49m\u001b[33;43m\"\u001b[39;49m\u001b[33;43mfound_inf\u001b[39;49m\u001b[33;43m\"\u001b[39;49m\u001b[43m,\u001b[49m\u001b[43m \u001b[49m\u001b[38;5;28;43;01mNone\u001b[39;49;00m\u001b[43m)\u001b[49m\u001b[43m,\u001b[49m\n\u001b[32m    140\u001b[39m \u001b[43m\u001b[49m\u001b[43m)\u001b[49m\n\u001b[32m    142\u001b[39m \u001b[38;5;28;01mif\u001b[39;00m group[\u001b[33m\"\u001b[39m\u001b[33mmomentum\u001b[39m\u001b[33m\"\u001b[39m] != \u001b[32m0\u001b[39m:\n\u001b[32m    143\u001b[39m     \u001b[38;5;66;03m# update momentum_buffers in state\u001b[39;00m\n\u001b[32m    144\u001b[39m     \u001b[38;5;28;01mfor\u001b[39;00m p, momentum_buffer \u001b[38;5;129;01min\u001b[39;00m \u001b[38;5;28mzip\u001b[39m(params, momentum_buffer_list):\n",
      "\u001b[36mFile \u001b[39m\u001b[32m~\\.conda\\envs\\thesis\\Lib\\site-packages\\torch\\optim\\sgd.py:300\u001b[39m, in \u001b[36msgd\u001b[39m\u001b[34m(params, d_p_list, momentum_buffer_list, has_sparse_grad, foreach, fused, grad_scale, found_inf, weight_decay, momentum, lr, dampening, nesterov, maximize)\u001b[39m\n\u001b[32m    297\u001b[39m \u001b[38;5;28;01melse\u001b[39;00m:\n\u001b[32m    298\u001b[39m     func = _single_tensor_sgd\n\u001b[32m--> \u001b[39m\u001b[32m300\u001b[39m \u001b[43mfunc\u001b[49m\u001b[43m(\u001b[49m\n\u001b[32m    301\u001b[39m \u001b[43m    \u001b[49m\u001b[43mparams\u001b[49m\u001b[43m,\u001b[49m\n\u001b[32m    302\u001b[39m \u001b[43m    \u001b[49m\u001b[43md_p_list\u001b[49m\u001b[43m,\u001b[49m\n\u001b[32m    303\u001b[39m \u001b[43m    \u001b[49m\u001b[43mmomentum_buffer_list\u001b[49m\u001b[43m,\u001b[49m\n\u001b[32m    304\u001b[39m \u001b[43m    \u001b[49m\u001b[43mweight_decay\u001b[49m\u001b[43m=\u001b[49m\u001b[43mweight_decay\u001b[49m\u001b[43m,\u001b[49m\n\u001b[32m    305\u001b[39m \u001b[43m    \u001b[49m\u001b[43mmomentum\u001b[49m\u001b[43m=\u001b[49m\u001b[43mmomentum\u001b[49m\u001b[43m,\u001b[49m\n\u001b[32m    306\u001b[39m \u001b[43m    \u001b[49m\u001b[43mlr\u001b[49m\u001b[43m=\u001b[49m\u001b[43mlr\u001b[49m\u001b[43m,\u001b[49m\n\u001b[32m    307\u001b[39m \u001b[43m    \u001b[49m\u001b[43mdampening\u001b[49m\u001b[43m=\u001b[49m\u001b[43mdampening\u001b[49m\u001b[43m,\u001b[49m\n\u001b[32m    308\u001b[39m \u001b[43m    \u001b[49m\u001b[43mnesterov\u001b[49m\u001b[43m=\u001b[49m\u001b[43mnesterov\u001b[49m\u001b[43m,\u001b[49m\n\u001b[32m    309\u001b[39m \u001b[43m    \u001b[49m\u001b[43mhas_sparse_grad\u001b[49m\u001b[43m=\u001b[49m\u001b[43mhas_sparse_grad\u001b[49m\u001b[43m,\u001b[49m\n\u001b[32m    310\u001b[39m \u001b[43m    \u001b[49m\u001b[43mmaximize\u001b[49m\u001b[43m=\u001b[49m\u001b[43mmaximize\u001b[49m\u001b[43m,\u001b[49m\n\u001b[32m    311\u001b[39m \u001b[43m    \u001b[49m\u001b[43mgrad_scale\u001b[49m\u001b[43m=\u001b[49m\u001b[43mgrad_scale\u001b[49m\u001b[43m,\u001b[49m\n\u001b[32m    312\u001b[39m \u001b[43m    \u001b[49m\u001b[43mfound_inf\u001b[49m\u001b[43m=\u001b[49m\u001b[43mfound_inf\u001b[49m\u001b[43m,\u001b[49m\n\u001b[32m    313\u001b[39m \u001b[43m\u001b[49m\u001b[43m)\u001b[49m\n",
      "\u001b[36mFile \u001b[39m\u001b[32m~\\.conda\\envs\\thesis\\Lib\\site-packages\\torch\\optim\\sgd.py:415\u001b[39m, in \u001b[36m_multi_tensor_sgd\u001b[39m\u001b[34m(params, grads, momentum_buffer_list, grad_scale, found_inf, weight_decay, momentum, lr, dampening, nesterov, maximize, has_sparse_grad)\u001b[39m\n\u001b[32m    413\u001b[39m         torch._foreach_add_(device_grads, device_params, alpha=weight_decay)\n\u001b[32m    414\u001b[39m     \u001b[38;5;28;01melse\u001b[39;00m:\n\u001b[32m--> \u001b[39m\u001b[32m415\u001b[39m         device_grads = \u001b[43mtorch\u001b[49m\u001b[43m.\u001b[49m\u001b[43m_foreach_add\u001b[49m\u001b[43m(\u001b[49m\u001b[43m  \u001b[49m\u001b[38;5;66;43;03m# type: ignore[assignment]\u001b[39;49;00m\n\u001b[32m    416\u001b[39m \u001b[43m            \u001b[49m\u001b[43mdevice_grads\u001b[49m\u001b[43m,\u001b[49m\u001b[43m \u001b[49m\u001b[43mdevice_params\u001b[49m\u001b[43m,\u001b[49m\u001b[43m \u001b[49m\u001b[43malpha\u001b[49m\u001b[43m=\u001b[49m\u001b[43mweight_decay\u001b[49m\n\u001b[32m    417\u001b[39m \u001b[43m        \u001b[49m\u001b[43m)\u001b[49m\n\u001b[32m    419\u001b[39m \u001b[38;5;28;01mif\u001b[39;00m momentum != \u001b[32m0\u001b[39m:\n\u001b[32m    420\u001b[39m     bufs: \u001b[38;5;28mlist\u001b[39m[Tensor] = []\n",
      "\u001b[31mKeyboardInterrupt\u001b[39m: "
     ]
    }
   ],
   "source": [
    "study = optuna.create_study(\n",
    "        direction='minimize',\n",
    "        pruner=optuna.pruners.MedianPruner(n_startup_trials=5, n_warmup_steps=2)\n",
    "    )\n",
    "study.optimize(cnn_objective, n_trials=1)"
   ]
  },
  {
   "cell_type": "code",
   "execution_count": null,
   "id": "f540332f-34b3-40eb-84aa-09afc5a5ded6",
   "metadata": {},
   "outputs": [],
   "source": []
  }
 ],
 "metadata": {
  "kernelspec": {
   "display_name": "Python 3 (ipykernel)",
   "language": "python",
   "name": "python3"
  },
  "language_info": {
   "codemirror_mode": {
    "name": "ipython",
    "version": 3
   },
   "file_extension": ".py",
   "mimetype": "text/x-python",
   "name": "python",
   "nbconvert_exporter": "python",
   "pygments_lexer": "ipython3",
   "version": "3.13.2"
  }
 },
 "nbformat": 4,
 "nbformat_minor": 5
}
